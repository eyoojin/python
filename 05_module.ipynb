{
 "cells": [
  {
   "cell_type": "markdown",
   "id": "63a8e632-a603-4be1-b6ce-e952f91d6bc0",
   "metadata": {},
   "source": [
    "# 모듈"
   ]
  },
  {
   "cell_type": "code",
   "execution_count": 1,
   "id": "ed19efb9-817c-47c6-be79-3c2b81ba8be7",
   "metadata": {},
   "outputs": [],
   "source": [
    "import fact"
   ]
  },
  {
   "cell_type": "code",
   "execution_count": 2,
   "id": "5c1b55e3-7296-4612-b03c-118d76718ece",
   "metadata": {},
   "outputs": [
    {
     "data": {
      "text/plain": [
       "<module 'fact' from 'C:\\\\Users\\\\1-14\\\\Desktop\\\\DAMF2\\\\python\\\\fact.py'>"
      ]
     },
     "execution_count": 2,
     "metadata": {},
     "output_type": "execute_result"
    }
   ],
   "source": [
    "fact"
   ]
  },
  {
   "cell_type": "code",
   "execution_count": 3,
   "id": "4f86f28b-d3d8-496f-bf3b-724469c19da1",
   "metadata": {},
   "outputs": [
    {
     "data": {
      "text/plain": [
       "120"
      ]
     },
     "execution_count": 3,
     "metadata": {},
     "output_type": "execute_result"
    }
   ],
   "source": [
    "fact.factorial(5)"
   ]
  },
  {
   "cell_type": "code",
   "execution_count": 5,
   "id": "96ee1a52-e22b-4d9b-877e-0e20253eaa5e",
   "metadata": {},
   "outputs": [
    {
     "data": {
      "text/plain": [
       "3"
      ]
     },
     "execution_count": 5,
     "metadata": {},
     "output_type": "execute_result"
    }
   ],
   "source": [
    "fact.my_max(2, 3)"
   ]
  },
  {
   "cell_type": "markdown",
   "id": "c9d5823c-764b-4d3f-ba67-a233fbc7a41a",
   "metadata": {},
   "source": [
    "# 패키지\n",
    "\n",
    "```\n",
    "myPackage/\n",
    "    __init__.py\n",
    "    math/\n",
    "    __init__.py\n",
    "```\n",
    "\n",
    "- 패키지 안에 `__init__.py` 파일이 존재해야 패키지로 인식"
   ]
  },
  {
   "cell_type": "code",
   "execution_count": 6,
   "id": "a0223793-f997-435a-87f7-61918bb8193d",
   "metadata": {},
   "outputs": [],
   "source": [
    "import myPackage"
   ]
  },
  {
   "cell_type": "code",
   "execution_count": 7,
   "id": "5284b266-9e9b-4a25-afce-9f67386d997b",
   "metadata": {},
   "outputs": [
    {
     "name": "stdout",
     "output_type": "stream",
     "text": [
      "<module 'myPackage' from 'C:\\\\Users\\\\1-14\\\\Desktop\\\\DAMF2\\\\python\\\\myPackage\\\\__init__.py'>\n"
     ]
    }
   ],
   "source": [
    "print(myPackage)"
   ]
  },
  {
   "cell_type": "code",
   "execution_count": 17,
   "id": "d1b650f1-8d0c-4a92-9688-fd62b6507ad5",
   "metadata": {},
   "outputs": [
    {
     "data": {
      "text/plain": [
       "3"
      ]
     },
     "execution_count": 17,
     "metadata": {},
     "output_type": "execute_result"
    }
   ],
   "source": [
    "myPackage.math.fomula.my_max(2, 3)"
   ]
  },
  {
   "cell_type": "code",
   "execution_count": 9,
   "id": "bc31b164-b3e0-476e-adbf-a23bf8e7dba4",
   "metadata": {},
   "outputs": [],
   "source": [
    "from myPackage.math.fomula import my_max # from 경로 import 사용하고 싶은 함수나 폴더"
   ]
  },
  {
   "cell_type": "code",
   "execution_count": 10,
   "id": "33daf2e2-363e-40db-9355-a9f3c5fb50e2",
   "metadata": {},
   "outputs": [
    {
     "data": {
      "text/plain": [
       "3"
      ]
     },
     "execution_count": 10,
     "metadata": {},
     "output_type": "execute_result"
    }
   ],
   "source": [
    "my_max(2, 3)"
   ]
  },
  {
   "cell_type": "code",
   "execution_count": 11,
   "id": "4acd30f1-afec-4cf5-8c21-55b4c8b0681f",
   "metadata": {},
   "outputs": [
    {
     "data": {
      "text/plain": [
       "3"
      ]
     },
     "execution_count": 11,
     "metadata": {},
     "output_type": "execute_result"
    }
   ],
   "source": [
    "from myPackage.math import fomula \n",
    "fomula.my_max(2, 3)"
   ]
  },
  {
   "cell_type": "code",
   "execution_count": 12,
   "id": "a623945f-b5af-4f93-9d66-0e5f11526190",
   "metadata": {},
   "outputs": [
    {
     "name": "stdout",
     "output_type": "stream",
     "text": [
      "3.14\n"
     ]
    }
   ],
   "source": [
    "from myPackage.math.fomula import * # 모든 항목을 다 가지고 옴\n",
    "print(pi)"
   ]
  },
  {
   "cell_type": "code",
   "execution_count": 15,
   "id": "c73e3500-c3d0-4dd7-bfbe-2c798e176fcb",
   "metadata": {},
   "outputs": [
    {
     "name": "stdout",
     "output_type": "stream",
     "text": [
      "1234\n",
      "<module 'myPackage.math.fomula' from 'C:\\\\Users\\\\1-14\\\\Desktop\\\\DAMF2\\\\python\\\\myPackage\\\\math\\\\fomula.py'>\n"
     ]
    }
   ],
   "source": [
    "fomula = 1234\n",
    "from myPackage.math import fomula as f\n",
    "print(fomula)\n",
    "print(f)"
   ]
  },
  {
   "cell_type": "markdown",
   "id": "b90e34b7-3670-4170-89a6-d20c65fb32ec",
   "metadata": {},
   "source": [
    "## 파이썬 내장 패키지"
   ]
  },
  {
   "cell_type": "markdown",
   "id": "08535d3c-272d-4584-80d9-e808504d4a60",
   "metadata": {},
   "source": [
    "### math"
   ]
  },
  {
   "cell_type": "code",
   "execution_count": 18,
   "id": "bb308b74-caed-4348-8379-ef677be59f14",
   "metadata": {},
   "outputs": [],
   "source": [
    "import math"
   ]
  },
  {
   "cell_type": "code",
   "execution_count": 19,
   "id": "d04c5484-6af2-4785-8ef4-488f0e10313f",
   "metadata": {},
   "outputs": [
    {
     "data": {
      "text/plain": [
       "3.141592653589793"
      ]
     },
     "execution_count": 19,
     "metadata": {},
     "output_type": "execute_result"
    }
   ],
   "source": [
    "math.pi"
   ]
  },
  {
   "cell_type": "code",
   "execution_count": 20,
   "id": "211db9fc-9bf5-4b71-bdb8-8d52ebb7e659",
   "metadata": {},
   "outputs": [
    {
     "data": {
      "text/plain": [
       "2.718281828459045"
      ]
     },
     "execution_count": 20,
     "metadata": {},
     "output_type": "execute_result"
    }
   ],
   "source": [
    "math.e"
   ]
  },
  {
   "cell_type": "code",
   "execution_count": 21,
   "id": "d96feba4-bf79-4c29-9169-57629b341a42",
   "metadata": {},
   "outputs": [
    {
     "data": {
      "text/plain": [
       "3"
      ]
     },
     "execution_count": 21,
     "metadata": {},
     "output_type": "execute_result"
    }
   ],
   "source": [
    "math.ceil(math.e) # 올림"
   ]
  },
  {
   "cell_type": "code",
   "execution_count": 22,
   "id": "9711839c-bb6f-42eb-bed9-729c6e1a0e06",
   "metadata": {},
   "outputs": [
    {
     "data": {
      "text/plain": [
       "2"
      ]
     },
     "execution_count": 22,
     "metadata": {},
     "output_type": "execute_result"
    }
   ],
   "source": [
    "math.floor(math.e) # 내림"
   ]
  },
  {
   "cell_type": "code",
   "execution_count": 23,
   "id": "7cac9392-6f0b-4870-8885-8567e7966cfd",
   "metadata": {},
   "outputs": [
    {
     "data": {
      "text/plain": [
       "3.0"
      ]
     },
     "execution_count": 23,
     "metadata": {},
     "output_type": "execute_result"
    }
   ],
   "source": [
    "math.sqrt(9) # 루트"
   ]
  },
  {
   "cell_type": "code",
   "execution_count": 24,
   "id": "ef9b1e13-3f94-4e79-8eeb-20d0a68225a1",
   "metadata": {},
   "outputs": [
    {
     "data": {
      "text/plain": [
       "3628800"
      ]
     },
     "execution_count": 24,
     "metadata": {},
     "output_type": "execute_result"
    }
   ],
   "source": [
    "math.factorial(10)"
   ]
  },
  {
   "cell_type": "code",
   "execution_count": 25,
   "id": "20ac5abb-02e7-4b68-a27a-74fcbb42232c",
   "metadata": {},
   "outputs": [],
   "source": [
    "from math import sqrt, factorial # 이걸 자주 씀"
   ]
  },
  {
   "cell_type": "code",
   "execution_count": 26,
   "id": "999c152a-a1cd-46f2-bc4a-b840b747d6d4",
   "metadata": {},
   "outputs": [
    {
     "data": {
      "text/plain": [
       "4.0"
      ]
     },
     "execution_count": 26,
     "metadata": {},
     "output_type": "execute_result"
    }
   ],
   "source": [
    "sqrt(16)"
   ]
  },
  {
   "cell_type": "code",
   "execution_count": 27,
   "id": "ca6fcfad-d1fa-43b7-bf73-80c478aa8dd2",
   "metadata": {},
   "outputs": [
    {
     "data": {
      "text/plain": [
       "120"
      ]
     },
     "execution_count": 27,
     "metadata": {},
     "output_type": "execute_result"
    }
   ],
   "source": [
    "factorial(5)"
   ]
  },
  {
   "cell_type": "markdown",
   "id": "b7a0a297-d3de-43d7-a5ed-f6d83f59c6b6",
   "metadata": {},
   "source": [
    "### random"
   ]
  },
  {
   "cell_type": "code",
   "execution_count": 28,
   "id": "bbec9120-d837-4874-9c1c-459a6a8938da",
   "metadata": {},
   "outputs": [],
   "source": [
    "import random"
   ]
  },
  {
   "cell_type": "code",
   "execution_count": 35,
   "id": "c87ce823-1160-40cf-8a8a-dca7dfb2523f",
   "metadata": {},
   "outputs": [
    {
     "data": {
      "text/plain": [
       "0.5351030894256219"
      ]
     },
     "execution_count": 35,
     "metadata": {},
     "output_type": "execute_result"
    }
   ],
   "source": [
    "random.random() # 0 ~ 1 사이의 랜덤한 소수"
   ]
  },
  {
   "cell_type": "code",
   "execution_count": 36,
   "id": "f08770ad-e686-4663-be76-46ac4a4a1011",
   "metadata": {},
   "outputs": [
    {
     "data": {
      "text/plain": [
       "7"
      ]
     },
     "execution_count": 36,
     "metadata": {},
     "output_type": "execute_result"
    }
   ],
   "source": [
    "random.randint(1,10) # 지정한 범위의 자연수"
   ]
  },
  {
   "cell_type": "code",
   "execution_count": 41,
   "id": "f87ae76a-ca8c-4525-83ea-61f1329734d9",
   "metadata": {},
   "outputs": [
    {
     "data": {
      "text/plain": [
       "0.052363598850944326"
      ]
     },
     "execution_count": 41,
     "metadata": {},
     "output_type": "execute_result"
    }
   ],
   "source": [
    "random.seed(123) # 똑같은 값을 내고 싶을 때 seed를 고정\n",
    "random.random()"
   ]
  },
  {
   "cell_type": "code",
   "execution_count": 42,
   "id": "6c4c3b85-cdd8-4088-ac24-eb919f7d60d2",
   "metadata": {},
   "outputs": [],
   "source": [
    "numbers = [1, 2, 3, 4, 5]"
   ]
  },
  {
   "cell_type": "code",
   "execution_count": 50,
   "id": "c5df5b31-fb7a-4f8a-887c-81b7006cf672",
   "metadata": {},
   "outputs": [
    {
     "name": "stdout",
     "output_type": "stream",
     "text": [
      "[4, 5, 2, 3, 1]\n"
     ]
    }
   ],
   "source": [
    "random.shuffle(numbers) # 리스트를 무작위로 섞어줌\n",
    "print(numbers)"
   ]
  },
  {
   "cell_type": "code",
   "execution_count": 55,
   "id": "e312eb2d-173e-4e31-a55b-9f9abaa1835d",
   "metadata": {},
   "outputs": [
    {
     "data": {
      "text/plain": [
       "2"
      ]
     },
     "execution_count": 55,
     "metadata": {},
     "output_type": "execute_result"
    }
   ],
   "source": [
    "random.choice(numbers) # 복원추출"
   ]
  },
  {
   "cell_type": "code",
   "execution_count": 56,
   "id": "58248049-875d-4eb7-9933-2fb34ccdc7c1",
   "metadata": {},
   "outputs": [
    {
     "data": {
      "text/plain": [
       "[3, 1]"
      ]
     },
     "execution_count": 56,
     "metadata": {},
     "output_type": "execute_result"
    }
   ],
   "source": [
    "random.sample(numbers, 2) # 비복원추출"
   ]
  },
  {
   "cell_type": "markdown",
   "id": "8c85a584-e888-4233-a72a-2b9d0b032fe0",
   "metadata": {},
   "source": [
    "### datetime"
   ]
  },
  {
   "cell_type": "code",
   "execution_count": 59,
   "id": "42d33ff4-8ddf-4da4-ae90-ac7c26536032",
   "metadata": {},
   "outputs": [],
   "source": [
    "from datetime import datetime"
   ]
  },
  {
   "cell_type": "code",
   "execution_count": 60,
   "id": "b03ce15f-1cf9-4ff6-a5c3-a0a923f90323",
   "metadata": {},
   "outputs": [
    {
     "data": {
      "text/plain": [
       "datetime.datetime(2025, 2, 18, 14, 39, 17, 280008)"
      ]
     },
     "execution_count": 60,
     "metadata": {},
     "output_type": "execute_result"
    }
   ],
   "source": [
    "datetime.now()"
   ]
  },
  {
   "cell_type": "code",
   "execution_count": 61,
   "id": "e547ed1e-dd9b-4f63-ae00-eb00c7dcc8c1",
   "metadata": {},
   "outputs": [
    {
     "data": {
      "text/plain": [
       "datetime.datetime(2025, 2, 18, 14, 39, 56, 845876)"
      ]
     },
     "execution_count": 61,
     "metadata": {},
     "output_type": "execute_result"
    }
   ],
   "source": [
    "datetime.today()"
   ]
  },
  {
   "cell_type": "code",
   "execution_count": 64,
   "id": "7cc8b5e2-4c98-4495-9dd2-2d39f33e9cec",
   "metadata": {},
   "outputs": [
    {
     "name": "stderr",
     "output_type": "stream",
     "text": [
      "C:\\Users\\1-14\\AppData\\Local\\Temp\\ipykernel_3344\\2518267345.py:1: DeprecationWarning: datetime.datetime.utcnow() is deprecated and scheduled for removal in a future version. Use timezone-aware objects to represent datetimes in UTC: datetime.datetime.now(datetime.UTC).\n",
      "  datetime.utcnow() # 그리니치 천문대 기준 영국시간\n"
     ]
    },
    {
     "data": {
      "text/plain": [
       "datetime.datetime(2025, 2, 18, 5, 43, 39, 268736)"
      ]
     },
     "execution_count": 64,
     "metadata": {},
     "output_type": "execute_result"
    }
   ],
   "source": [
    "datetime.utcnow() # 그리니치 천문대 기준 영국시간"
   ]
  },
  {
   "cell_type": "code",
   "execution_count": 65,
   "id": "114a9223-6cfa-4ac0-9842-ad0b7418a15c",
   "metadata": {},
   "outputs": [],
   "source": [
    "now = datetime.now() # 데이트타임 객체"
   ]
  },
  {
   "cell_type": "code",
   "execution_count": 69,
   "id": "1c1d3535-4721-420f-80da-d35c017e212c",
   "metadata": {},
   "outputs": [
    {
     "data": {
      "text/plain": [
       "datetime.datetime(2025, 2, 18, 14, 44, 14, 703816)"
      ]
     },
     "execution_count": 69,
     "metadata": {},
     "output_type": "execute_result"
    }
   ],
   "source": [
    "now"
   ]
  },
  {
   "cell_type": "code",
   "execution_count": 70,
   "id": "ee0c8092-b48a-4f4b-9864-c53561fb579f",
   "metadata": {},
   "outputs": [
    {
     "data": {
      "text/plain": [
       "2025"
      ]
     },
     "execution_count": 70,
     "metadata": {},
     "output_type": "execute_result"
    }
   ],
   "source": [
    "now.year"
   ]
  },
  {
   "cell_type": "code",
   "execution_count": 71,
   "id": "632fbf00-436f-455b-9c6c-7c4638c8c0ad",
   "metadata": {},
   "outputs": [
    {
     "data": {
      "text/plain": [
       "2"
      ]
     },
     "execution_count": 71,
     "metadata": {},
     "output_type": "execute_result"
    }
   ],
   "source": [
    "now.month"
   ]
  },
  {
   "cell_type": "code",
   "execution_count": 73,
   "id": "ec2ec2cb-972a-4f64-a2b8-741d88211907",
   "metadata": {},
   "outputs": [
    {
     "data": {
      "text/plain": [
       "18"
      ]
     },
     "execution_count": 73,
     "metadata": {},
     "output_type": "execute_result"
    }
   ],
   "source": [
    "now.day"
   ]
  },
  {
   "cell_type": "code",
   "execution_count": 74,
   "id": "3a043e06-3bba-41ee-a407-b28d3f54b084",
   "metadata": {},
   "outputs": [
    {
     "data": {
      "text/plain": [
       "1"
      ]
     },
     "execution_count": 74,
     "metadata": {},
     "output_type": "execute_result"
    }
   ],
   "source": [
    "now.weekday() # 1 = monday"
   ]
  },
  {
   "cell_type": "code",
   "execution_count": 75,
   "id": "9e450bbf-759d-4ffb-bb70-d137d8acd9d1",
   "metadata": {},
   "outputs": [
    {
     "name": "stdout",
     "output_type": "stream",
     "text": [
      "2025-02-18 14:44:14.703816\n"
     ]
    }
   ],
   "source": [
    "print(now) # print하면 사람이 보기 편한 방식으로 나옴"
   ]
  },
  {
   "cell_type": "code",
   "execution_count": 77,
   "id": "cc90176c-c7d2-45c3-b485-f4441d667718",
   "metadata": {},
   "outputs": [
    {
     "data": {
      "text/plain": [
       "'2025년 02일 18일'"
      ]
     },
     "execution_count": 77,
     "metadata": {},
     "output_type": "execute_result"
    }
   ],
   "source": [
    "now.strftime('%Y년 %m일 %d일') # 내가 원하는 유형으로 포맷팅"
   ]
  },
  {
   "cell_type": "code",
   "execution_count": 79,
   "id": "b5a3bf2b-e642-4007-b321-cfc177a9bb44",
   "metadata": {},
   "outputs": [
    {
     "data": {
      "text/plain": [
       "'25/ Feb/ 18'"
      ]
     },
     "execution_count": 79,
     "metadata": {},
     "output_type": "execute_result"
    }
   ],
   "source": [
    "now.strftime('%y/ %b/ %d')"
   ]
  },
  {
   "cell_type": "code",
   "execution_count": 80,
   "id": "9649e084-2217-4d84-80db-4d811fe5cb9e",
   "metadata": {},
   "outputs": [
    {
     "name": "stdout",
     "output_type": "stream",
     "text": [
      "2025-12-25 00:00:00\n"
     ]
    }
   ],
   "source": [
    "x_mas = datetime(2025, 12, 25)\n",
    "print(x_mas)"
   ]
  },
  {
   "cell_type": "code",
   "execution_count": 81,
   "id": "3f54a564-0dad-4454-a5c9-7e8b7bf371cf",
   "metadata": {},
   "outputs": [],
   "source": [
    "from datetime import timedelta"
   ]
  },
  {
   "cell_type": "code",
   "execution_count": 84,
   "id": "2ceca94f-1ebc-4899-8c16-d6b6a9d8bbe0",
   "metadata": {},
   "outputs": [
    {
     "name": "stdout",
     "output_type": "stream",
     "text": [
      "2025-09-16 00:00:00\n"
     ]
    }
   ],
   "source": [
    "future = timedelta(days=-100) # 변화량을 수치화\n",
    "print(x_mas + future)"
   ]
  },
  {
   "cell_type": "code",
   "execution_count": 85,
   "id": "ee4d2e97-99a3-4694-8a9d-870c07d23652",
   "metadata": {},
   "outputs": [
    {
     "data": {
      "text/plain": [
       "datetime.timedelta(days=309, seconds=33345, microseconds=296184)"
      ]
     },
     "execution_count": 85,
     "metadata": {},
     "output_type": "execute_result"
    }
   ],
   "source": [
    "x_mas - now"
   ]
  },
  {
   "cell_type": "code",
   "execution_count": null,
   "id": "4675e35e-bc34-40b6-b455-87b6287bb0ea",
   "metadata": {},
   "outputs": [],
   "source": []
  },
  {
   "cell_type": "code",
   "execution_count": null,
   "id": "6313ec2d-e330-402e-ad96-2fc2780e5a84",
   "metadata": {},
   "outputs": [],
   "source": []
  },
  {
   "cell_type": "code",
   "execution_count": null,
   "id": "88914e06-fc30-414e-846c-30a98bc1ede8",
   "metadata": {},
   "outputs": [],
   "source": []
  },
  {
   "cell_type": "code",
   "execution_count": null,
   "id": "b89eff70-db4a-4a12-96c5-88f7f0217786",
   "metadata": {},
   "outputs": [],
   "source": []
  },
  {
   "cell_type": "code",
   "execution_count": null,
   "id": "7d1560d9-afda-4756-9ce3-30243b63efbf",
   "metadata": {},
   "outputs": [],
   "source": []
  },
  {
   "cell_type": "code",
   "execution_count": null,
   "id": "59a701da-ba66-4c5b-b502-30db32c64028",
   "metadata": {},
   "outputs": [],
   "source": []
  },
  {
   "cell_type": "code",
   "execution_count": null,
   "id": "d32d9905-4a5f-481d-8387-55bcda5a01ac",
   "metadata": {},
   "outputs": [],
   "source": []
  },
  {
   "cell_type": "code",
   "execution_count": null,
   "id": "29b2f8ce-be69-4095-88f9-8c78608548c5",
   "metadata": {},
   "outputs": [],
   "source": []
  }
 ],
 "metadata": {
  "kernelspec": {
   "display_name": "Python 3 (ipykernel)",
   "language": "python",
   "name": "python3"
  },
  "language_info": {
   "codemirror_mode": {
    "name": "ipython",
    "version": 3
   },
   "file_extension": ".py",
   "mimetype": "text/x-python",
   "name": "python",
   "nbconvert_exporter": "python",
   "pygments_lexer": "ipython3",
   "version": "3.13.2"
  }
 },
 "nbformat": 4,
 "nbformat_minor": 5
}
