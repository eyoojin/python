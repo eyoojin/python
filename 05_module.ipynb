{
 "cells": [
  {
   "cell_type": "markdown",
   "id": "63a8e632-a603-4be1-b6ce-e952f91d6bc0",
   "metadata": {},
   "source": [
    "# 모듈"
   ]
  },
  {
   "cell_type": "code",
   "execution_count": null,
   "id": "ed19efb9-817c-47c6-be79-3c2b81ba8be7",
   "metadata": {},
   "outputs": [],
   "source": [
    "import fact"
   ]
  },
  {
   "cell_type": "code",
   "execution_count": null,
   "id": "5c1b55e3-7296-4612-b03c-118d76718ece",
   "metadata": {},
   "outputs": [],
   "source": [
    "fact"
   ]
  },
  {
   "cell_type": "code",
   "execution_count": null,
   "id": "4f86f28b-d3d8-496f-bf3b-724469c19da1",
   "metadata": {},
   "outputs": [],
   "source": [
    "fact.factorial(5)"
   ]
  },
  {
   "cell_type": "code",
   "execution_count": null,
   "id": "96ee1a52-e22b-4d9b-877e-0e20253eaa5e",
   "metadata": {},
   "outputs": [],
   "source": [
    "fact.my_max(2, 3)"
   ]
  },
  {
   "cell_type": "markdown",
   "id": "c9d5823c-764b-4d3f-ba67-a233fbc7a41a",
   "metadata": {},
   "source": [
    "# 패키지\n",
    "\n",
    "```\n",
    "myPackage/\n",
    "    __init__.py\n",
    "    math/\n",
    "    __init__.py\n",
    "```\n",
    "\n",
    "- 패키지 안에 `__init__.py` 파일이 존재해야 패키지로 인식"
   ]
  },
  {
   "cell_type": "code",
   "execution_count": null,
   "id": "a0223793-f997-435a-87f7-61918bb8193d",
   "metadata": {},
   "outputs": [],
   "source": [
    "import myPackage"
   ]
  },
  {
   "cell_type": "code",
   "execution_count": null,
   "id": "5284b266-9e9b-4a25-afce-9f67386d997b",
   "metadata": {},
   "outputs": [],
   "source": [
    "print(myPackage)"
   ]
  },
  {
   "cell_type": "code",
   "execution_count": null,
   "id": "d1b650f1-8d0c-4a92-9688-fd62b6507ad5",
   "metadata": {},
   "outputs": [],
   "source": [
    "myPackage.math.fomula.my_max(2, 3)"
   ]
  },
  {
   "cell_type": "code",
   "execution_count": null,
   "id": "bc31b164-b3e0-476e-adbf-a23bf8e7dba4",
   "metadata": {},
   "outputs": [],
   "source": [
    "from myPackage.math.fomula import my_max # from 경로 import 사용하고 싶은 함수나 폴더"
   ]
  },
  {
   "cell_type": "code",
   "execution_count": null,
   "id": "33daf2e2-363e-40db-9355-a9f3c5fb50e2",
   "metadata": {},
   "outputs": [],
   "source": [
    "my_max(2, 3)"
   ]
  },
  {
   "cell_type": "code",
   "execution_count": null,
   "id": "4acd30f1-afec-4cf5-8c21-55b4c8b0681f",
   "metadata": {},
   "outputs": [],
   "source": [
    "from myPackage.math import fomula \n",
    "fomula.my_max(2, 3)"
   ]
  },
  {
   "cell_type": "code",
   "execution_count": null,
   "id": "a623945f-b5af-4f93-9d66-0e5f11526190",
   "metadata": {},
   "outputs": [],
   "source": [
    "from myPackage.math.fomula import * # 모든 항목을 다 가지고 옴\n",
    "print(pi)"
   ]
  },
  {
   "cell_type": "code",
   "execution_count": null,
   "id": "c73e3500-c3d0-4dd7-bfbe-2c798e176fcb",
   "metadata": {},
   "outputs": [],
   "source": [
    "fomula = 1234\n",
    "from myPackage.math import fomula as f\n",
    "print(fomula)\n",
    "print(f)"
   ]
  },
  {
   "cell_type": "markdown",
   "id": "b90e34b7-3670-4170-89a6-d20c65fb32ec",
   "metadata": {},
   "source": [
    "## 파이썬 내장 패키지"
   ]
  },
  {
   "cell_type": "markdown",
   "id": "08535d3c-272d-4584-80d9-e808504d4a60",
   "metadata": {},
   "source": [
    "### math"
   ]
  },
  {
   "cell_type": "code",
   "execution_count": null,
   "id": "bb308b74-caed-4348-8379-ef677be59f14",
   "metadata": {},
   "outputs": [],
   "source": [
    "import math"
   ]
  },
  {
   "cell_type": "code",
   "execution_count": null,
   "id": "d04c5484-6af2-4785-8ef4-488f0e10313f",
   "metadata": {},
   "outputs": [],
   "source": [
    "math.pi"
   ]
  },
  {
   "cell_type": "code",
   "execution_count": null,
   "id": "211db9fc-9bf5-4b71-bdb8-8d52ebb7e659",
   "metadata": {},
   "outputs": [],
   "source": [
    "math.e"
   ]
  },
  {
   "cell_type": "code",
   "execution_count": null,
   "id": "d96feba4-bf79-4c29-9169-57629b341a42",
   "metadata": {},
   "outputs": [],
   "source": [
    "math.ceil(math.e) # 올림"
   ]
  },
  {
   "cell_type": "code",
   "execution_count": null,
   "id": "9711839c-bb6f-42eb-bed9-729c6e1a0e06",
   "metadata": {},
   "outputs": [],
   "source": [
    "math.floor(math.e) # 내림"
   ]
  },
  {
   "cell_type": "code",
   "execution_count": null,
   "id": "7cac9392-6f0b-4870-8885-8567e7966cfd",
   "metadata": {},
   "outputs": [],
   "source": [
    "math.sqrt(9) # 루트"
   ]
  },
  {
   "cell_type": "code",
   "execution_count": null,
   "id": "ef9b1e13-3f94-4e79-8eeb-20d0a68225a1",
   "metadata": {},
   "outputs": [],
   "source": [
    "math.factorial(10)"
   ]
  },
  {
   "cell_type": "code",
   "execution_count": null,
   "id": "20ac5abb-02e7-4b68-a27a-74fcbb42232c",
   "metadata": {},
   "outputs": [],
   "source": [
    "from math import sqrt, factorial # 이걸 자주 씀"
   ]
  },
  {
   "cell_type": "code",
   "execution_count": null,
   "id": "999c152a-a1cd-46f2-bc4a-b840b747d6d4",
   "metadata": {},
   "outputs": [],
   "source": [
    "sqrt(16)"
   ]
  },
  {
   "cell_type": "code",
   "execution_count": null,
   "id": "ca6fcfad-d1fa-43b7-bf73-80c478aa8dd2",
   "metadata": {},
   "outputs": [],
   "source": [
    "factorial(5)"
   ]
  },
  {
   "cell_type": "markdown",
   "id": "b7a0a297-d3de-43d7-a5ed-f6d83f59c6b6",
   "metadata": {},
   "source": [
    "### random"
   ]
  },
  {
   "cell_type": "code",
   "execution_count": null,
   "id": "bbec9120-d837-4874-9c1c-459a6a8938da",
   "metadata": {},
   "outputs": [],
   "source": [
    "import random"
   ]
  },
  {
   "cell_type": "code",
   "execution_count": null,
   "id": "c87ce823-1160-40cf-8a8a-dca7dfb2523f",
   "metadata": {},
   "outputs": [],
   "source": [
    "random.random() # 0 ~ 1 사이의 랜덤한 소수"
   ]
  },
  {
   "cell_type": "code",
   "execution_count": null,
   "id": "f08770ad-e686-4663-be76-46ac4a4a1011",
   "metadata": {},
   "outputs": [],
   "source": [
    "random.randint(1,10) # 지정한 범위의 자연수"
   ]
  },
  {
   "cell_type": "code",
   "execution_count": null,
   "id": "f87ae76a-ca8c-4525-83ea-61f1329734d9",
   "metadata": {},
   "outputs": [],
   "source": [
    "random.seed(123) # 똑같은 값을 내고 싶을 때 seed를 고정\n",
    "random.random()"
   ]
  },
  {
   "cell_type": "code",
   "execution_count": null,
   "id": "6c4c3b85-cdd8-4088-ac24-eb919f7d60d2",
   "metadata": {},
   "outputs": [],
   "source": [
    "numbers = [1, 2, 3, 4, 5]"
   ]
  },
  {
   "cell_type": "code",
   "execution_count": null,
   "id": "c5df5b31-fb7a-4f8a-887c-81b7006cf672",
   "metadata": {},
   "outputs": [],
   "source": [
    "random.shuffle(numbers) # 리스트를 무작위로 섞어줌\n",
    "print(numbers)"
   ]
  },
  {
   "cell_type": "code",
   "execution_count": null,
   "id": "e312eb2d-173e-4e31-a55b-9f9abaa1835d",
   "metadata": {},
   "outputs": [],
   "source": [
    "random.choice(numbers) # 복원추출"
   ]
  },
  {
   "cell_type": "code",
   "execution_count": null,
   "id": "58248049-875d-4eb7-9933-2fb34ccdc7c1",
   "metadata": {},
   "outputs": [],
   "source": [
    "random.sample(numbers, 2) # 비복원추출"
   ]
  },
  {
   "cell_type": "markdown",
   "id": "8c85a584-e888-4233-a72a-2b9d0b032fe0",
   "metadata": {},
   "source": [
    "### datetime"
   ]
  },
  {
   "cell_type": "code",
   "execution_count": null,
   "id": "42d33ff4-8ddf-4da4-ae90-ac7c26536032",
   "metadata": {},
   "outputs": [],
   "source": [
    "from datetime import datetime"
   ]
  },
  {
   "cell_type": "code",
   "execution_count": null,
   "id": "b03ce15f-1cf9-4ff6-a5c3-a0a923f90323",
   "metadata": {},
   "outputs": [],
   "source": [
    "datetime.now()"
   ]
  },
  {
   "cell_type": "code",
   "execution_count": null,
   "id": "e547ed1e-dd9b-4f63-ae00-eb00c7dcc8c1",
   "metadata": {},
   "outputs": [],
   "source": [
    "datetime.today()"
   ]
  },
  {
   "cell_type": "code",
   "execution_count": null,
   "id": "7cc8b5e2-4c98-4495-9dd2-2d39f33e9cec",
   "metadata": {},
   "outputs": [],
   "source": [
    "datetime.utcnow() # 그리니치 천문대 기준 영국시간"
   ]
  },
  {
   "cell_type": "code",
   "execution_count": null,
   "id": "114a9223-6cfa-4ac0-9842-ad0b7418a15c",
   "metadata": {},
   "outputs": [],
   "source": [
    "now = datetime.now() # 데이트타임 객체"
   ]
  },
  {
   "cell_type": "code",
   "execution_count": null,
   "id": "1c1d3535-4721-420f-80da-d35c017e212c",
   "metadata": {},
   "outputs": [],
   "source": [
    "now"
   ]
  },
  {
   "cell_type": "code",
   "execution_count": null,
   "id": "ee0c8092-b48a-4f4b-9864-c53561fb579f",
   "metadata": {},
   "outputs": [],
   "source": [
    "now.year"
   ]
  },
  {
   "cell_type": "code",
   "execution_count": null,
   "id": "632fbf00-436f-455b-9c6c-7c4638c8c0ad",
   "metadata": {},
   "outputs": [],
   "source": [
    "now.month"
   ]
  },
  {
   "cell_type": "code",
   "execution_count": null,
   "id": "ec2ec2cb-972a-4f64-a2b8-741d88211907",
   "metadata": {},
   "outputs": [],
   "source": [
    "now.day"
   ]
  },
  {
   "cell_type": "code",
   "execution_count": null,
   "id": "3a043e06-3bba-41ee-a407-b28d3f54b084",
   "metadata": {},
   "outputs": [],
   "source": [
    "now.weekday() # 1 = monday"
   ]
  },
  {
   "cell_type": "code",
   "execution_count": null,
   "id": "9e450bbf-759d-4ffb-bb70-d137d8acd9d1",
   "metadata": {},
   "outputs": [],
   "source": [
    "print(now) # print하면 사람이 보기 편한 방식으로 나옴"
   ]
  },
  {
   "cell_type": "code",
   "execution_count": null,
   "id": "cc90176c-c7d2-45c3-b485-f4441d667718",
   "metadata": {},
   "outputs": [],
   "source": [
    "now.strftime('%Y년 %m일 %d일') # 내가 원하는 유형으로 포맷팅"
   ]
  },
  {
   "cell_type": "code",
   "execution_count": null,
   "id": "b5a3bf2b-e642-4007-b321-cfc177a9bb44",
   "metadata": {},
   "outputs": [],
   "source": [
    "now.strftime('%y/ %b/ %d')"
   ]
  },
  {
   "cell_type": "code",
   "execution_count": null,
   "id": "9649e084-2217-4d84-80db-4d811fe5cb9e",
   "metadata": {},
   "outputs": [],
   "source": [
    "x_mas = datetime(2025, 12, 25)\n",
    "print(x_mas)"
   ]
  },
  {
   "cell_type": "code",
   "execution_count": null,
   "id": "3f54a564-0dad-4454-a5c9-7e8b7bf371cf",
   "metadata": {},
   "outputs": [],
   "source": [
    "from datetime import timedelta"
   ]
  },
  {
   "cell_type": "code",
   "execution_count": null,
   "id": "2ceca94f-1ebc-4899-8c16-d6b6a9d8bbe0",
   "metadata": {},
   "outputs": [],
   "source": [
    "future = timedelta(days=-100) # 변화량을 수치화\n",
    "print(x_mas + future)"
   ]
  },
  {
   "cell_type": "code",
   "execution_count": null,
   "id": "ee4d2e97-99a3-4694-8a9d-870c07d23652",
   "metadata": {},
   "outputs": [],
   "source": [
    "x_mas - now"
   ]
  },
  {
   "cell_type": "markdown",
   "id": "f384746a-9033-4d3f-9658-2bffbe61471c",
   "metadata": {},
   "source": [
    "# 외부 라이브러리"
   ]
  },
  {
   "cell_type": "markdown",
   "id": "c6207fde-040e-4cb9-a4d3-08e6a6ad3352",
   "metadata": {},
   "source": [
    "## requests"
   ]
  },
  {
   "cell_type": "code",
   "execution_count": null,
   "id": "7082bea0-9d10-4899-bb9f-e24317eedc8f",
   "metadata": {},
   "outputs": [],
   "source": [
    "import requests"
   ]
  },
  {
   "cell_type": "code",
   "execution_count": null,
   "id": "8ca2f027-29dc-4671-b90a-23041fc3b2dc",
   "metadata": {},
   "outputs": [],
   "source": [
    "r = requests.get('http://api.github.com/events')"
   ]
  },
  {
   "cell_type": "code",
   "execution_count": null,
   "id": "88914e06-fc30-414e-846c-30a98bc1ede8",
   "metadata": {
    "scrolled": true
   },
   "outputs": [],
   "source": [
    "print(r.text) # 상위개념에서 내부에 접근할 때 . 사용"
   ]
  },
  {
   "cell_type": "code",
   "execution_count": null,
   "id": "04d82542-eed1-4df1-a059-f34b39623878",
   "metadata": {
    "scrolled": true
   },
   "outputs": [],
   "source": [
    "r = requests.get('http://naver.com')\n",
    "print(r.text)"
   ]
  },
  {
   "cell_type": "code",
   "execution_count": null,
   "id": "f5789101-3916-41ae-a445-e1d585c3ada1",
   "metadata": {
    "scrolled": true
   },
   "outputs": [],
   "source": [
    "payload = {'key1': 'value1', 'key2': 'value2'}\n",
    "r = requests.get('https://httpbin.org/get', params=payload)\n",
    "print(r.url)\n",
    "print(r.text)"
   ]
  },
  {
   "cell_type": "code",
   "execution_count": null,
   "id": "6ab1c85a-6767-4849-b9b1-51cea534666a",
   "metadata": {},
   "outputs": [],
   "source": [
    "payload = {'query': '파이썬'}\n",
    "r = requests.get('https://search.naver.com/search.naver', params=payload)\n",
    "print(r.url)"
   ]
  },
  {
   "cell_type": "code",
   "execution_count": null,
   "id": "09580427-e139-4dfa-a32b-14f5ed434680",
   "metadata": {},
   "outputs": [],
   "source": [
    "r = requests.get('http://api.github.com/events')\n",
    "print(type(r.text)) # json 타입의 구조\n",
    "print(r.text['message']) # str이라 []접근 불가"
   ]
  },
  {
   "cell_type": "code",
   "execution_count": null,
   "id": "3b2d5774-c34d-4c51-8cb7-eaf166c8791d",
   "metadata": {},
   "outputs": [],
   "source": [
    "r = requests.get('http://api.github.com/events')\n",
    "print(type(r.json())) \n",
    "print(r.json()['message']) "
   ]
  },
  {
   "cell_type": "code",
   "execution_count": null,
   "id": "e87e5efd-6bc9-4c70-a99f-616451e74469",
   "metadata": {},
   "outputs": [],
   "source": [
    "# interface: 어떤 물건과 동작하기 위한 접점 ex. 스마트폰의 터치, 키보드의 마우스, TV의 리모컨"
   ]
  },
  {
   "cell_type": "code",
   "execution_count": null,
   "id": "0d551c9f-d4b7-4e88-89ab-70014d7bb28c",
   "metadata": {},
   "outputs": [],
   "source": [
    "lotto_url = 'https://www.dhlottery.co.kr/common.do'\n",
    "\n",
    "payload = {\n",
    "    'method': 'getLottoNumber',\n",
    "    'drwNo':1159,\n",
    "}\n",
    "\n",
    "r = requests.get(lotto_url, params=payload)\n",
    "# print(r. url)\n",
    "# print(r.text) # json => str\n",
    "print(r.json()) # dict # json -> dict로 바꿔주는 함수\n",
    "\n",
    "lotto_dict = r.json()\n",
    "print(lotto_dict['drwNoDate'])\n",
    "print(lotto_dict['drwtNo1'])\n",
    "print(lotto_dict['drwtNo2'])\n",
    "print(lotto_dict['drwtNo3'])\n",
    "print(lotto_dict['drwtNo4'])\n",
    "print(lotto_dict['drwtNo5'])\n",
    "print(lotto_dict['drwtNo6']) # 한땀한땀"
   ]
  },
  {
   "cell_type": "code",
   "execution_count": null,
   "id": "69f5bf0c-7a81-4c1b-8062-a37ae268bdca",
   "metadata": {},
   "outputs": [],
   "source": [
    "lotto_url = 'https://www.dhlottery.co.kr/common.do'\n",
    "\n",
    "payload = {\n",
    "    'method': 'getLottoNumber',\n",
    "    'drwNo':1158, # 회차를 바꾸면 당첨번호를 가져올 수 있음\n",
    "}\n",
    "\n",
    "r = requests.get(lotto_url, params=payload)\n",
    "\n",
    "lotto_dict = r.json()\n",
    "\n",
    "print(lotto_dict['drwNoDate'])\n",
    "for i in range(1, 7):\n",
    "    print(lotto_dict[f'drwtNo{i}']) # 반복문 활용해서 정보 가져오기"
   ]
  },
  {
   "cell_type": "markdown",
   "id": "3a6c72a9-5945-4482-890d-405135412c7c",
   "metadata": {},
   "source": [
    "### 페어프로그래밍 (로또)\n",
    "\n",
    "1. 로또 5000원 구매하기\n",
    "    - 랜덤으로 6개 숫자로 이루어진 5세트의 로또 번호를 생성\n",
    "2. 최신회차 당첨번호 수집\n",
    "3. 등수 확인\n",
    "    - 최신회차의 당첨번호와 생성된 번호를 비교하여 몇등인지 출력\n",
    "    - 1, 3, 4, 5, 꽝 우선 작성 후 2등\n",
    "4. 추가 기능 구현\n",
    "    - 참고링크(https://parkminkyu.github.io/newLotto/lottoWin.html)"
   ]
  },
  {
   "cell_type": "code",
   "execution_count": null,
   "id": "560c8ea3-96ee-458d-8362-579f4d13673f",
   "metadata": {},
   "outputs": [],
   "source": [
    "import random"
   ]
  },
  {
   "cell_type": "code",
   "execution_count": null,
   "id": "025cf3ed-3a6d-418d-ad86-253100717bb3",
   "metadata": {},
   "outputs": [],
   "source": [
    "print(lotto_dict['bnusNo'])\n",
    "\n",
    "print(lotto_dict['drwNoDate'])\n",
    "lotto_win = [3, 9, 27, 28, 38, 39]\n",
    "\n",
    "num1 = [1, 2, 3, 4, 5, 6]\n",
    "num2 = [2, 8, 9, 1, 3, 4]\n",
    "\n",
    "temp1 = []\n",
    "temp2 = []\n",
    "temp3 = []\n",
    "temp4 = []\n",
    "temp5 = []\n",
    "\n",
    "for i in range(1, 6):\n",
    "    if f'num{i}' in lotto_win:\n",
    "        f'temp{i}'.append(i)\n",
    "\n",
    "print(temp2)\n",
    "    \n",
    "print(lotto_dict[f'drwtNo{i}'])"
   ]
  },
  {
   "cell_type": "code",
   "execution_count": null,
   "id": "6a3e1356-999f-417b-9e59-9f74924c0135",
   "metadata": {},
   "outputs": [],
   "source": [
    "number = list(range(1, 46))\n",
    "my_dict = {\n",
    "    'num1': 1,\n",
    "    'num2': 2,\n",
    "    'num3': 3,\n",
    "    'num4': 4,\n",
    "    'num5': 5,\n",
    "}\n",
    "for i in range(1, 6):\n",
    "    my_dict[f'num{i}'] = random.sample(number, 6)\n",
    "    \n",
    "lotto_win = []\n",
    "for i in range(1, 7):\n",
    "    lotto_win.append(lotto_dict[f'drwtNo{i}'])\n",
    "    \n",
    "print(lotto_win)\n",
    "print(my_dict)\n",
    "\n",
    "result = []\n",
    "for i in range(1, 6):\n",
    "   if my_dict[f'num{i}'] in lotto_win:\n",
    "\n",
    "# my_dict속의 key: num1의 value를 lotto_win이랑 비교하려고 했는데 자료를 따로따로 하는 법을 찾지 못했다,..\n",
    "       "
   ]
  },
  {
   "cell_type": "code",
   "execution_count": null,
   "id": "4d9de291-d001-4b53-af1d-610011e8e523",
   "metadata": {},
   "outputs": [],
   "source": [
    "result = my_dict[f'num{i}'].count(3) + my_dict[f'num{i}'].count(9) + my_dict[f'num{i}'].count(27) + my_dict[f'num{i}'].count(28) + my_dict[f'num{i}'].count(38) + my_dict[f'num{i}'].count(39)\n"
   ]
  },
  {
   "cell_type": "code",
   "execution_count": 53,
   "id": "f8a5c0ee-9dc6-402c-9c74-84f1ca08ee44",
   "metadata": {},
   "outputs": [
    {
     "name": "stdout",
     "output_type": "stream",
     "text": [
      "{1: [18, 21, 29, 31, 35, 39], 2: [2, 9, 13, 22, 24, 28], 3: [3, 4, 23, 27, 32, 39], 4: [2, 11, 16, 20, 22, 40], 5: [15, 20, 24, 34, 37, 42]}\n"
     ]
    }
   ],
   "source": [
    "# 1. 로또 번호 생성\n",
    "import random\n",
    "\n",
    "my_numbers = {}\n",
    "\n",
    "for i in range(1, 6):\n",
    "    random_numbers = random.sample(range(1, 46), 6)\n",
    "    random_numbers.sort() # 보기 편하게\n",
    "    my_numbers[i] = random_numbers\n",
    "\n",
    "print(my_numbers)"
   ]
  },
  {
   "cell_type": "code",
   "execution_count": 2,
   "id": "7a2a018e-6087-44e4-9e2e-5de6f249f358",
   "metadata": {},
   "outputs": [
    {
     "name": "stdout",
     "output_type": "stream",
     "text": [
      "[39, 28, 38, 9, 27, 3]\n"
     ]
    }
   ],
   "source": [
    "# 2. 최신 회차 당첨 번호 수집\n",
    "import requests\n",
    "\n",
    "LOTTO_URL = 'https://www.dhlottery.co.kr/common.do' # 변하지 않는 숫자 = 대문자\n",
    "\n",
    "payload = {\n",
    "    'method': 'getLottoNumber',\n",
    "    'drwNo':1159,\n",
    "}\n",
    "\n",
    "# response\n",
    "res = requests.get(LOTTO_URL, params=payload)\n",
    "lotto_dict = res.json()\n",
    "\n",
    "lucky_numbers = []\n",
    "bonus_number = lotto_dict['bnusNo']\n",
    "\n",
    "for k, v in lotto_dict.items(): # dict 전체를 돌며 확인\n",
    "    if 'drwtNo' in k:\n",
    "        lucky_numbers.append(v)\n",
    "\n",
    "print(lucky_numbers)"
   ]
  },
  {
   "cell_type": "code",
   "execution_count": 38,
   "id": "6bbb3f1f-b278-4c29-a07b-2224d5356d14",
   "metadata": {},
   "outputs": [
    {
     "name": "stdout",
     "output_type": "stream",
     "text": [
      "{1: [8, 12, 21, 25, 32, 36], 2: [9, 16, 22, 23, 24, 27], 3: [6, 13, 18, 24, 26, 34], 4: [3, 5, 9, 19, 20, 33], 5: [6, 8, 13, 37, 41, 45]}\n",
      "[39, 28, 38, 9, 27, 3]\n",
      "7\n"
     ]
    }
   ],
   "source": [
    "print(my_numbers)\n",
    "print(lucky_numbers)\n",
    "print(bonus_number)"
   ]
  },
  {
   "cell_type": "code",
   "execution_count": null,
   "id": "a3abf803-32c9-47b0-81c9-a9f3ac325f17",
   "metadata": {},
   "outputs": [],
   "source": [
    "# 3. 등수 확인하기-1\n",
    "\n",
    "for key, value in my_numbers.items():\n",
    "    for i in value:\n",
    "        for j in range(6):\n",
    "            if i == lucky_numbers[j]:"
   ]
  },
  {
   "cell_type": "code",
   "execution_count": 54,
   "id": "df380661-100f-471f-9532-28cb3bf57cba",
   "metadata": {},
   "outputs": [
    {
     "name": "stdout",
     "output_type": "stream",
     "text": [
      "u_u\n",
      "u_u\n",
      "5th\n",
      "u_u\n",
      "u_u\n"
     ]
    }
   ],
   "source": [
    "# 3. 등수 확인하기-2\n",
    "\n",
    "for my_number in my_numbers.values():\n",
    "    my_number_set = set(my_number)\n",
    "    lucky_numbers_set = set(lucky_numbers)\n",
    "    \n",
    "    match_count = len(my_number_set & lucky_numbers_set)\n",
    "\n",
    "    if match_count == 6:\n",
    "        print('1st')\n",
    "    elif match_count == 5 and bonus_number in my_number:\n",
    "        print('2nd')\n",
    "    elif match_count == 5:\n",
    "        print('3rd')\n",
    "    elif match_count == 4:\n",
    "        print('4th')\n",
    "    elif match_count == 3:\n",
    "        print('5th')\n",
    "    else:\n",
    "        print('u_u')"
   ]
  },
  {
   "cell_type": "code",
   "execution_count": null,
   "id": "c5c09da7-8372-43e3-8c23-135fe71c8e01",
   "metadata": {},
   "outputs": [],
   "source": []
  },
  {
   "cell_type": "code",
   "execution_count": null,
   "id": "dfc08bce-5c45-4343-b5bd-b84ed11aa876",
   "metadata": {},
   "outputs": [],
   "source": []
  },
  {
   "cell_type": "code",
   "execution_count": null,
   "id": "8b84490f-f023-4012-967c-a69e1f6c6e35",
   "metadata": {},
   "outputs": [],
   "source": []
  },
  {
   "cell_type": "code",
   "execution_count": null,
   "id": "373eeaf0-1fbb-4859-8070-00e55f0efecf",
   "metadata": {},
   "outputs": [],
   "source": []
  },
  {
   "cell_type": "code",
   "execution_count": null,
   "id": "9f559f92-0e89-413e-aacc-23c79d9d4a6b",
   "metadata": {},
   "outputs": [],
   "source": []
  },
  {
   "cell_type": "code",
   "execution_count": null,
   "id": "5f678a6a-1919-486a-96b2-75fc92aa9588",
   "metadata": {},
   "outputs": [],
   "source": []
  },
  {
   "cell_type": "code",
   "execution_count": null,
   "id": "ae2b3539-13ae-43fe-b368-eef4881d23ee",
   "metadata": {},
   "outputs": [],
   "source": []
  },
  {
   "cell_type": "code",
   "execution_count": null,
   "id": "c68a1e12-b92d-4c69-becc-adad07542b29",
   "metadata": {},
   "outputs": [],
   "source": []
  },
  {
   "cell_type": "code",
   "execution_count": null,
   "id": "29b2f8ce-be69-4095-88f9-8c78608548c5",
   "metadata": {},
   "outputs": [],
   "source": []
  }
 ],
 "metadata": {
  "kernelspec": {
   "display_name": "Python 3 (ipykernel)",
   "language": "python",
   "name": "python3"
  },
  "language_info": {
   "codemirror_mode": {
    "name": "ipython",
    "version": 3
   },
   "file_extension": ".py",
   "mimetype": "text/x-python",
   "name": "python",
   "nbconvert_exporter": "python",
   "pygments_lexer": "ipython3",
   "version": "3.13.2"
  }
 },
 "nbformat": 4,
 "nbformat_minor": 5
}
