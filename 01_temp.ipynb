{
 "cells": [
  {
   "cell_type": "code",
   "execution_count": 1,
   "id": "727a0249-412d-4f73-bb1a-5f81faf4ecd1",
   "metadata": {},
   "outputs": [],
   "source": [
    "a = 100"
   ]
  },
  {
   "cell_type": "code",
   "execution_count": 2,
   "id": "1ad70b6f-069a-409b-89b1-b15e837a06ed",
   "metadata": {},
   "outputs": [
    {
     "data": {
      "text/plain": [
       "100"
      ]
     },
     "execution_count": 2,
     "metadata": {},
     "output_type": "execute_result"
    }
   ],
   "source": [
    "a"
   ]
  },
  {
   "cell_type": "code",
   "execution_count": 3,
   "id": "651ce7ea-6321-4b2b-aff7-c687d204b26a",
   "metadata": {},
   "outputs": [
    {
     "name": "stdout",
     "output_type": "stream",
     "text": [
      "100\n"
     ]
    }
   ],
   "source": [
    "print(a)"
   ]
  },
  {
   "cell_type": "code",
   "execution_count": 4,
   "id": "9ef8c35f-a39d-43ca-9a71-a8239aa89fe0",
   "metadata": {},
   "outputs": [
    {
     "data": {
      "text/plain": [
       "['False',\n",
       " 'None',\n",
       " 'True',\n",
       " 'and',\n",
       " 'as',\n",
       " 'assert',\n",
       " 'async',\n",
       " 'await',\n",
       " 'break',\n",
       " 'class',\n",
       " 'continue',\n",
       " 'def',\n",
       " 'del',\n",
       " 'elif',\n",
       " 'else',\n",
       " 'except',\n",
       " 'finally',\n",
       " 'for',\n",
       " 'from',\n",
       " 'global',\n",
       " 'if',\n",
       " 'import',\n",
       " 'in',\n",
       " 'is',\n",
       " 'lambda',\n",
       " 'nonlocal',\n",
       " 'not',\n",
       " 'or',\n",
       " 'pass',\n",
       " 'raise',\n",
       " 'return',\n",
       " 'try',\n",
       " 'while',\n",
       " 'with',\n",
       " 'yield']"
      ]
     },
     "execution_count": 4,
     "metadata": {},
     "output_type": "execute_result"
    }
   ],
   "source": [
    "import keyword\n",
    "keyword.kwlist"
   ]
  },
  {
   "cell_type": "code",
   "execution_count": 5,
   "id": "3e347398-c739-4555-a065-69403b5067d3",
   "metadata": {},
   "outputs": [
    {
     "data": {
      "text/plain": [
       "100"
      ]
     },
     "execution_count": 5,
     "metadata": {},
     "output_type": "execute_result"
    }
   ],
   "source": [
    "a"
   ]
  },
  {
   "cell_type": "code",
   "execution_count": 6,
   "id": "c1b6281e-2704-4c93-8545-554f5aa7f74c",
   "metadata": {},
   "outputs": [
    {
     "data": {
      "text/plain": [
       "int"
      ]
     },
     "execution_count": 6,
     "metadata": {},
     "output_type": "execute_result"
    }
   ],
   "source": [
    "type(a)"
   ]
  },
  {
   "cell_type": "code",
   "execution_count": 7,
   "id": "401b3659-be51-46f1-9baa-df7ba2c42ba7",
   "metadata": {},
   "outputs": [
    {
     "data": {
      "text/plain": [
       "float"
      ]
     },
     "execution_count": 7,
     "metadata": {},
     "output_type": "execute_result"
    }
   ],
   "source": [
    "b = 1.1\n",
    "type(b)"
   ]
  },
  {
   "cell_type": "code",
   "execution_count": 10,
   "id": "9d9e7629-3d15-47c1-ac36-43fae673b03b",
   "metadata": {},
   "outputs": [],
   "source": [
    "c = 1 + 1j"
   ]
  },
  {
   "cell_type": "code",
   "execution_count": 11,
   "id": "339205f7-8199-49df-a087-af6b65b1d647",
   "metadata": {},
   "outputs": [
    {
     "data": {
      "text/plain": [
       "complex"
      ]
     },
     "execution_count": 11,
     "metadata": {},
     "output_type": "execute_result"
    }
   ],
   "source": [
    "type(c)"
   ]
  },
  {
   "cell_type": "code",
   "execution_count": 12,
   "id": "d6bd6ade-1d3b-447f-8e24-f73dd342d3c4",
   "metadata": {},
   "outputs": [
    {
     "data": {
      "text/plain": [
       "bool"
      ]
     },
     "execution_count": 12,
     "metadata": {},
     "output_type": "execute_result"
    }
   ],
   "source": [
    "a = True\n",
    "type(a)"
   ]
  },
  {
   "cell_type": "code",
   "execution_count": 13,
   "id": "5b37c765-1ee3-4b26-99a6-58b96db81a37",
   "metadata": {},
   "outputs": [],
   "source": [
    "b = False"
   ]
  },
  {
   "cell_type": "code",
   "execution_count": 14,
   "id": "ade43458-5a50-425e-8231-f34febc6dba4",
   "metadata": {},
   "outputs": [
    {
     "data": {
      "text/plain": [
       "bool"
      ]
     },
     "execution_count": 14,
     "metadata": {},
     "output_type": "execute_result"
    }
   ],
   "source": [
    "type(b)"
   ]
  },
  {
   "cell_type": "code",
   "execution_count": 15,
   "id": "15ee9edc-a869-4128-a488-ca8d2020c691",
   "metadata": {},
   "outputs": [
    {
     "data": {
      "text/plain": [
       "int"
      ]
     },
     "execution_count": 15,
     "metadata": {},
     "output_type": "execute_result"
    }
   ],
   "source": [
    "type(0)"
   ]
  },
  {
   "cell_type": "code",
   "execution_count": 16,
   "id": "66a04a2d-0393-4fcb-8eb5-9bf53c4b3d66",
   "metadata": {},
   "outputs": [
    {
     "data": {
      "text/plain": [
       "complex"
      ]
     },
     "execution_count": 16,
     "metadata": {},
     "output_type": "execute_result"
    }
   ],
   "source": [
    "type(1 + 1j)"
   ]
  },
  {
   "cell_type": "code",
   "execution_count": 17,
   "id": "3430aae4-f158-4d72-8511-2bd2f29f4bd5",
   "metadata": {},
   "outputs": [],
   "source": [
    "a = '안녕'"
   ]
  },
  {
   "cell_type": "code",
   "execution_count": 18,
   "id": "7dac792e-534c-4d16-96c2-34f9b7e17885",
   "metadata": {},
   "outputs": [
    {
     "data": {
      "text/plain": [
       "'안녕'"
      ]
     },
     "execution_count": 18,
     "metadata": {},
     "output_type": "execute_result"
    }
   ],
   "source": [
    "a"
   ]
  },
  {
   "cell_type": "code",
   "execution_count": 20,
   "id": "263d49d4-e149-4823-865e-b2260bfc1a92",
   "metadata": {},
   "outputs": [],
   "source": [
    "a = 10\n",
    "b = '홍길동은'\n",
    "c = '살입니다'"
   ]
  },
  {
   "cell_type": "code",
   "execution_count": 21,
   "id": "d4380cd5-9aa7-4d66-9bef-1ef98556f31f",
   "metadata": {},
   "outputs": [
    {
     "ename": "TypeError",
     "evalue": "can only concatenate str (not \"int\") to str",
     "output_type": "error",
     "traceback": [
      "\u001b[1;31m---------------------------------------------------------------------------\u001b[0m",
      "\u001b[1;31mTypeError\u001b[0m                                 Traceback (most recent call last)",
      "Cell \u001b[1;32mIn[21], line 1\u001b[0m\n\u001b[1;32m----> 1\u001b[0m \u001b[38;5;28mprint\u001b[39m(\u001b[43mb\u001b[49m\u001b[43m \u001b[49m\u001b[38;5;241;43m+\u001b[39;49m\u001b[43m \u001b[49m\u001b[43ma\u001b[49m \u001b[38;5;241m+\u001b[39m c)\n",
      "\u001b[1;31mTypeError\u001b[0m: can only concatenate str (not \"int\") to str"
     ]
    }
   ],
   "source": [
    "print(b + a + c)"
   ]
  },
  {
   "cell_type": "code",
   "execution_count": 22,
   "id": "b50410d3-e249-4dd3-8b27-5cfa0dbcd358",
   "metadata": {},
   "outputs": [
    {
     "name": "stdout",
     "output_type": "stream",
     "text": [
      "홍길동은 10 살입니다\n"
     ]
    }
   ],
   "source": [
    "print(b, a, c)"
   ]
  },
  {
   "cell_type": "code",
   "execution_count": 23,
   "id": "a5f6c12b-5b44-442e-8fe9-075fc3a83e5d",
   "metadata": {},
   "outputs": [
    {
     "ename": "TypeError",
     "evalue": "unsupported operand type(s) for +: 'int' and 'str'",
     "output_type": "error",
     "traceback": [
      "\u001b[1;31m---------------------------------------------------------------------------\u001b[0m",
      "\u001b[1;31mTypeError\u001b[0m                                 Traceback (most recent call last)",
      "Cell \u001b[1;32mIn[23], line 1\u001b[0m\n\u001b[1;32m----> 1\u001b[0m \u001b[38;5;28mprint\u001b[39m(b, \u001b[43ma\u001b[49m\u001b[43m \u001b[49m\u001b[38;5;241;43m+\u001b[39;49m\u001b[43m \u001b[49m\u001b[43mc\u001b[49m)\n",
      "\u001b[1;31mTypeError\u001b[0m: unsupported operand type(s) for +: 'int' and 'str'"
     ]
    }
   ],
   "source": [
    "print(b, a + c)"
   ]
  },
  {
   "cell_type": "code",
   "execution_count": 24,
   "id": "91655fff-4459-42db-90ba-eb1f032a23e7",
   "metadata": {},
   "outputs": [
    {
     "name": "stdout",
     "output_type": "stream",
     "text": [
      "홍길동은10살입니다\n"
     ]
    }
   ],
   "source": [
    "print(b + str(a) + c)"
   ]
  },
  {
   "cell_type": "code",
   "execution_count": 27,
   "id": "4a14cc30-5b5d-4146-9b82-4840bb3cbbff",
   "metadata": {},
   "outputs": [
    {
     "name": "stdout",
     "output_type": "stream",
     "text": [
      "홍길동은 100살입니다\n"
     ]
    }
   ],
   "source": [
    "print(b, str(a) + c)"
   ]
  },
  {
   "cell_type": "code",
   "execution_count": 28,
   "id": "fdfa6bab-cfca-43a8-96a3-9e328729b79f",
   "metadata": {},
   "outputs": [],
   "source": [
    "a = 100"
   ]
  },
  {
   "cell_type": "code",
   "execution_count": 29,
   "id": "a4a06442-7f14-4ca3-af2d-d04a444f38b1",
   "metadata": {},
   "outputs": [],
   "source": [
    "a = 160"
   ]
  },
  {
   "cell_type": "code",
   "execution_count": 30,
   "id": "ee0380d0-011d-4c83-92dd-e0b96c7d1a9b",
   "metadata": {},
   "outputs": [
    {
     "name": "stdout",
     "output_type": "stream",
     "text": [
      "홍길동은 160cm입니다.\n"
     ]
    }
   ],
   "source": [
    "print('홍길동은 %scm입니다.' % a)"
   ]
  },
  {
   "cell_type": "code",
   "execution_count": 31,
   "id": "bbf1a0a4-ca8a-459d-b338-ffe1b959edb2",
   "metadata": {},
   "outputs": [
    {
     "name": "stdout",
     "output_type": "stream",
     "text": [
      "홍길동은 160cm입니다.\n"
     ]
    }
   ],
   "source": [
    "print('홍길동은 {}cm입니다.'.format(a))"
   ]
  },
  {
   "cell_type": "code",
   "execution_count": 32,
   "id": "8aa149e7-74a7-48d7-be50-245008ec2b97",
   "metadata": {},
   "outputs": [
    {
     "name": "stdout",
     "output_type": "stream",
     "text": [
      "홍길동은 160cm입니다.\n"
     ]
    }
   ],
   "source": [
    "print(f'홍길동은 {a}cm입니다.')"
   ]
  },
  {
   "cell_type": "code",
   "execution_count": 33,
   "id": "640a0521-312d-49a6-b7e8-badeba83b9d5",
   "metadata": {},
   "outputs": [],
   "source": [
    "a = 1024\n",
    "b = 789"
   ]
  },
  {
   "cell_type": "code",
   "execution_count": 34,
   "id": "d9dd6c52-d8d3-4b85-b60f-7a6935a604a7",
   "metadata": {},
   "outputs": [
    {
     "name": "stdout",
     "output_type": "stream",
     "text": [
      "1813\n"
     ]
    }
   ],
   "source": [
    "print(a + b)"
   ]
  },
  {
   "cell_type": "code",
   "execution_count": 35,
   "id": "cc768619-9b4b-41da-bafb-6cfa3114b28e",
   "metadata": {},
   "outputs": [
    {
     "name": "stdout",
     "output_type": "stream",
     "text": [
      "235\n"
     ]
    }
   ],
   "source": [
    "print(a - b)"
   ]
  },
  {
   "cell_type": "code",
   "execution_count": 36,
   "id": "1c14a5ac-c187-4249-9643-40f7b51e5f5d",
   "metadata": {},
   "outputs": [
    {
     "name": "stdout",
     "output_type": "stream",
     "text": [
      "807936\n"
     ]
    }
   ],
   "source": [
    "print(a * b)"
   ]
  },
  {
   "cell_type": "code",
   "execution_count": 37,
   "id": "2fbfe022-f0df-4dbe-83ae-7143c5af08b5",
   "metadata": {},
   "outputs": [
    {
     "name": "stdout",
     "output_type": "stream",
     "text": [
      "1.2978453738910012\n"
     ]
    }
   ],
   "source": [
    "print(a / b)"
   ]
  },
  {
   "cell_type": "code",
   "execution_count": 38,
   "id": "17b4636e-f730-4e9f-95b6-6276ea7d1dd0",
   "metadata": {},
   "outputs": [
    {
     "name": "stdout",
     "output_type": "stream",
     "text": [
      "133864613621373828728931130527969658443427956497700250383841697250370687557016305961101911059062237199992757373672265699841751152089433691146756813240781179374960199349115621773941242658923382460590111760870332285843661434006815353450605234566143785088857797475191743590589951173809660758256267305272757534110938993868848073971696205481835765137060961937920513568674163310470778119182720251603919240647717392261382342521995953695697736370952293472807638473917610129083916604492158741534912922406021425938852153138037624312433804943630626323979967645236239682874506597594332269848921602159846838640773677183330317082380708760586097696065568136323652178387185058057402782488868470799053926311528214194189748075448594755443688321095523170017326223689877229196206501336144131301316549842679263111875632145085371174973687277122011633259838753302069112634298176984742816966736759250210850394412755184954942399667369201267491695530028793551073028657216771957619684377154351690725211289747957817299285653493731131557680566823957422895026808958321528092434589944586431688203898162977614760184258110025851771159547372061118701733605595323456958973566511486353606873194482687200278333720828276244406958255967928037887769188083056654770123076658461732183260161383106693007431226483802780130764370059246985152410492615895718829928195208582907142718463687440903776934867926958644948223576651888792680368914828169771837117846785646924486020291883046462837860148601124919559459862390172799248372820096166764265691362107500316501580504241477298198377938518703384770753583250205741177450209820382753994753817904639383446461574704618165936216147958142834848014455292474324582884887695575613884251046745751923776263400682513947526580787550317521927947853313453883677193285812584774884454605157903872690403869212003257207687475593347769676491330653516608848454227057844389435354139495692906602007224166833389984030992763937092579896304602226438639573531656787913220316981668558250690445817536165454658401594188534295555022987519182509283276190577142014103151566464477198799090874698682815957987725033929971003731619632632958903326583208080081559405032499068357578387818667053367576093661038069604412222002980581291306309221300075608389908207252403586364482798822203356003728517374238057500668723543400916090775413580882393441028729802461187500704297690116275664249067374725765889544845226592436224\n"
     ]
    }
   ],
   "source": [
    "print(a ** b)"
   ]
  },
  {
   "cell_type": "code",
   "execution_count": 39,
   "id": "bbe7010c-5b88-4e05-911d-3950e0095e3e",
   "metadata": {},
   "outputs": [
    {
     "name": "stdout",
     "output_type": "stream",
     "text": [
      "1\n"
     ]
    }
   ],
   "source": [
    "print(a // b)"
   ]
  },
  {
   "cell_type": "code",
   "execution_count": 40,
   "id": "ac477fc2-d5ac-4e16-b176-65e1d2bc1131",
   "metadata": {},
   "outputs": [
    {
     "name": "stdout",
     "output_type": "stream",
     "text": [
      "235\n"
     ]
    }
   ],
   "source": [
    "print(a % b)"
   ]
  },
  {
   "cell_type": "code",
   "execution_count": 41,
   "id": "389d3c0e-e634-49ff-bf0f-41a922ef52f7",
   "metadata": {},
   "outputs": [
    {
     "data": {
      "text/plain": [
       "(1, 235)"
      ]
     },
     "execution_count": 41,
     "metadata": {},
     "output_type": "execute_result"
    }
   ],
   "source": [
    "divmod(a, b)"
   ]
  },
  {
   "cell_type": "code",
   "execution_count": 42,
   "id": "77a7d87b-cbd5-4eca-8ac3-5177f23326cf",
   "metadata": {},
   "outputs": [
    {
     "name": "stdout",
     "output_type": "stream",
     "text": [
      "(1, 235)\n"
     ]
    }
   ],
   "source": [
    "print(divmod(a, b))"
   ]
  },
  {
   "cell_type": "code",
   "execution_count": 43,
   "id": "0dbc76dd-00d1-4a0b-8434-2cad7cc7095f",
   "metadata": {},
   "outputs": [
    {
     "name": "stdout",
     "output_type": "stream",
     "text": [
      "(1, 235)\n"
     ]
    }
   ],
   "source": [
    "result = divmod(a, b)\n",
    "print(result)"
   ]
  },
  {
   "cell_type": "code",
   "execution_count": 44,
   "id": "10d615d8-dfe7-407b-aa81-ea8d74831157",
   "metadata": {},
   "outputs": [
    {
     "data": {
      "text/plain": [
       "True"
      ]
     },
     "execution_count": 44,
     "metadata": {},
     "output_type": "execute_result"
    }
   ],
   "source": [
    "a > b"
   ]
  },
  {
   "cell_type": "code",
   "execution_count": 45,
   "id": "09c5e256-e90b-4f0f-94a4-1b0b60397426",
   "metadata": {},
   "outputs": [
    {
     "name": "stdout",
     "output_type": "stream",
     "text": [
      "True\n"
     ]
    }
   ],
   "source": [
    "print(a > b)"
   ]
  },
  {
   "cell_type": "code",
   "execution_count": 47,
   "id": "32334aea-fa6d-4756-b41b-9816c8f28188",
   "metadata": {},
   "outputs": [
    {
     "data": {
      "text/plain": [
       "False"
      ]
     },
     "execution_count": 47,
     "metadata": {},
     "output_type": "execute_result"
    }
   ],
   "source": [
    "a < b"
   ]
  },
  {
   "cell_type": "code",
   "execution_count": 48,
   "id": "7d22bd40-b0b8-4736-8169-0c5c39ade7f2",
   "metadata": {},
   "outputs": [
    {
     "name": "stdout",
     "output_type": "stream",
     "text": [
      "False\n"
     ]
    }
   ],
   "source": [
    "print('안녕' == '안녕 ')"
   ]
  },
  {
   "cell_type": "code",
   "execution_count": 49,
   "id": "1de89552-a32a-4567-b3a3-18e5aca9a28a",
   "metadata": {},
   "outputs": [
    {
     "data": {
      "text/plain": [
       "False"
      ]
     },
     "execution_count": 49,
     "metadata": {},
     "output_type": "execute_result"
    }
   ],
   "source": [
    "'안녕' == '안녕 '"
   ]
  },
  {
   "cell_type": "code",
   "execution_count": 50,
   "id": "b3426a37-afcd-4be3-8e9f-497c61e20d77",
   "metadata": {},
   "outputs": [],
   "source": [
    "a = True\n",
    "b = False"
   ]
  },
  {
   "cell_type": "code",
   "execution_count": 51,
   "id": "9e4b6acf-861f-447e-a925-43fcd7b4338f",
   "metadata": {},
   "outputs": [
    {
     "data": {
      "text/plain": [
       "bool"
      ]
     },
     "execution_count": 51,
     "metadata": {},
     "output_type": "execute_result"
    }
   ],
   "source": [
    "type(a)"
   ]
  },
  {
   "cell_type": "code",
   "execution_count": 52,
   "id": "7c18da59-978c-4fb6-93a1-8bde2c7813da",
   "metadata": {},
   "outputs": [
    {
     "name": "stdout",
     "output_type": "stream",
     "text": [
      "False\n"
     ]
    }
   ],
   "source": [
    "print(a and b)"
   ]
  },
  {
   "cell_type": "code",
   "execution_count": 53,
   "id": "0b1de29a-8c14-4cfb-9167-85457f2a3570",
   "metadata": {},
   "outputs": [
    {
     "name": "stdout",
     "output_type": "stream",
     "text": [
      "True\n"
     ]
    }
   ],
   "source": [
    "print(a and a)"
   ]
  },
  {
   "cell_type": "code",
   "execution_count": 54,
   "id": "ffd54042-2fed-4982-91ad-4fb2284e3345",
   "metadata": {},
   "outputs": [
    {
     "name": "stdout",
     "output_type": "stream",
     "text": [
      "False\n",
      "False\n"
     ]
    }
   ],
   "source": [
    "print(b and a)\n",
    "print(b and b)"
   ]
  },
  {
   "cell_type": "code",
   "execution_count": 55,
   "id": "b878e1e6-f859-4430-b3a4-caf569936ffa",
   "metadata": {},
   "outputs": [
    {
     "name": "stdout",
     "output_type": "stream",
     "text": [
      "True\n",
      "True\n",
      "True\n",
      "False\n"
     ]
    }
   ],
   "source": [
    "print(a or a)\n",
    "print(a or b)\n",
    "print(b or a)\n",
    "print(b or b)"
   ]
  },
  {
   "cell_type": "code",
   "execution_count": 56,
   "id": "75493b69-5a33-4cbb-a429-dfbdc57b59e4",
   "metadata": {},
   "outputs": [
    {
     "name": "stdout",
     "output_type": "stream",
     "text": [
      "False\n"
     ]
    }
   ],
   "source": [
    "print(not a)"
   ]
  },
  {
   "cell_type": "code",
   "execution_count": 57,
   "id": "be306c6a-88fc-40d6-8b71-123de0bc2030",
   "metadata": {},
   "outputs": [
    {
     "name": "stdout",
     "output_type": "stream",
     "text": [
      "False\n"
     ]
    }
   ],
   "source": [
    "print(not True)"
   ]
  },
  {
   "cell_type": "code",
   "execution_count": 58,
   "id": "6f521c5c-9bc7-42d8-a196-040cd490c220",
   "metadata": {},
   "outputs": [
    {
     "name": "stdout",
     "output_type": "stream",
     "text": [
      "True\n"
     ]
    }
   ],
   "source": [
    "print(not False)"
   ]
  },
  {
   "cell_type": "code",
   "execution_count": 59,
   "id": "f4fcd7fd-85b6-4a45-85cb-b4bd56cba516",
   "metadata": {},
   "outputs": [
    {
     "name": "stdout",
     "output_type": "stream",
     "text": [
      "2\n"
     ]
    }
   ],
   "source": [
    "print('1' and '2')"
   ]
  },
  {
   "cell_type": "code",
   "execution_count": 60,
   "id": "e0d0e982-7f12-4fe5-a97a-8febc974cbfc",
   "metadata": {},
   "outputs": [
    {
     "name": "stdout",
     "output_type": "stream",
     "text": [
      "0\n",
      "2\n"
     ]
    }
   ],
   "source": [
    "print('1' and '0')\n",
    "print('0' and '2')"
   ]
  },
  {
   "cell_type": "code",
   "execution_count": 61,
   "id": "50a4cb20-45dd-4e85-8779-85103a282ba4",
   "metadata": {},
   "outputs": [
    {
     "name": "stdout",
     "output_type": "stream",
     "text": [
      "0\n"
     ]
    }
   ],
   "source": [
    "print(0 and '2')"
   ]
  },
  {
   "cell_type": "code",
   "execution_count": 62,
   "id": "afe048fd-1e7b-4cca-a819-9067e8fc0d56",
   "metadata": {},
   "outputs": [
    {
     "name": "stdout",
     "output_type": "stream",
     "text": [
      "0\n"
     ]
    }
   ],
   "source": [
    "print('0')"
   ]
  },
  {
   "cell_type": "code",
   "execution_count": 67,
   "id": "f607cdd2-3bbf-418f-a1aa-a38dcf6371b7",
   "metadata": {},
   "outputs": [],
   "source": [
    "a = 2\n",
    "b = 3"
   ]
  },
  {
   "cell_type": "code",
   "execution_count": 64,
   "id": "888c48ef-0610-404c-9888-88b152ba5bd7",
   "metadata": {},
   "outputs": [],
   "source": [
    "a = a + b"
   ]
  },
  {
   "cell_type": "code",
   "execution_count": 68,
   "id": "143765f9-39a0-45e8-bd8c-0331411d3b1c",
   "metadata": {},
   "outputs": [],
   "source": [
    "a += b"
   ]
  },
  {
   "cell_type": "code",
   "execution_count": 70,
   "id": "2966592e-4e86-49e0-8738-dfe5f5f30d2c",
   "metadata": {},
   "outputs": [
    {
     "name": "stdout",
     "output_type": "stream",
     "text": [
      "5\n"
     ]
    }
   ],
   "source": [
    "print(a)"
   ]
  },
  {
   "cell_type": "code",
   "execution_count": 71,
   "id": "4180dad9-a1b8-47cf-bad0-e5ff132387f5",
   "metadata": {},
   "outputs": [],
   "source": [
    "a = ['안녕', '하세요']"
   ]
  },
  {
   "cell_type": "code",
   "execution_count": 72,
   "id": "8a7aedf4-e179-4424-abb8-959ba350cdfe",
   "metadata": {},
   "outputs": [
    {
     "name": "stdout",
     "output_type": "stream",
     "text": [
      "['안녕', '하세요']\n"
     ]
    }
   ],
   "source": [
    "print(a)"
   ]
  },
  {
   "cell_type": "code",
   "execution_count": 73,
   "id": "9ae9d9bf-e7e2-4edc-bc26-bd80f572b84e",
   "metadata": {},
   "outputs": [],
   "source": [
    "b = ['반갑습니다']"
   ]
  },
  {
   "cell_type": "code",
   "execution_count": 74,
   "id": "c32a5010-f157-40cb-bddd-b00a800f7b37",
   "metadata": {},
   "outputs": [
    {
     "name": "stdout",
     "output_type": "stream",
     "text": [
      "['안녕', '하세요', '반갑습니다']\n"
     ]
    }
   ],
   "source": [
    "print(a + b)"
   ]
  },
  {
   "cell_type": "code",
   "execution_count": 75,
   "id": "f8403eca-0393-43f0-acb6-42e610387fb5",
   "metadata": {},
   "outputs": [
    {
     "ename": "NameError",
     "evalue": "name '안녕' is not defined",
     "output_type": "error",
     "traceback": [
      "\u001b[1;31m---------------------------------------------------------------------------\u001b[0m",
      "\u001b[1;31mNameError\u001b[0m                                 Traceback (most recent call last)",
      "Cell \u001b[1;32mIn[75], line 1\u001b[0m\n\u001b[1;32m----> 1\u001b[0m a \u001b[38;5;241m=\u001b[39m [\u001b[43m안녕\u001b[49m, 하세요]\n",
      "\u001b[1;31mNameError\u001b[0m: name '안녕' is not defined"
     ]
    }
   ],
   "source": [
    "a = [안녕, 하세요]"
   ]
  },
  {
   "cell_type": "code",
   "execution_count": 76,
   "id": "c213c05b-0379-4f67-898b-29bc3e331a55",
   "metadata": {},
   "outputs": [
    {
     "name": "stdout",
     "output_type": "stream",
     "text": [
      "True\n"
     ]
    }
   ],
   "source": [
    "print('안녕' in a)"
   ]
  },
  {
   "cell_type": "code",
   "execution_count": 77,
   "id": "267abdaf-46bc-4c41-a263-dcaaa55b4cc7",
   "metadata": {},
   "outputs": [
    {
     "name": "stdout",
     "output_type": "stream",
     "text": [
      "False\n"
     ]
    }
   ],
   "source": [
    "print('안' in a)"
   ]
  },
  {
   "cell_type": "code",
   "execution_count": 78,
   "id": "78f24268-1b0b-426c-b9dc-503317ed6ded",
   "metadata": {},
   "outputs": [],
   "source": [
    "a = 1\n",
    "b = '반'"
   ]
  },
  {
   "cell_type": "code",
   "execution_count": 79,
   "id": "5ee26b52-8b27-4e17-afa9-a0811afd6fab",
   "metadata": {},
   "outputs": [
    {
     "name": "stdout",
     "output_type": "stream",
     "text": [
      "1 반\n"
     ]
    }
   ],
   "source": [
    "print(a, b)"
   ]
  },
  {
   "cell_type": "code",
   "execution_count": null,
   "id": "cb7a3ade-37d0-4734-a732-087c22958063",
   "metadata": {},
   "outputs": [],
   "source": []
  }
 ],
 "metadata": {
  "kernelspec": {
   "display_name": "Python 3 (ipykernel)",
   "language": "python",
   "name": "python3"
  },
  "language_info": {
   "codemirror_mode": {
    "name": "ipython",
    "version": 3
   },
   "file_extension": ".py",
   "mimetype": "text/x-python",
   "name": "python",
   "nbconvert_exporter": "python",
   "pygments_lexer": "ipython3",
   "version": "3.13.2"
  }
 },
 "nbformat": 4,
 "nbformat_minor": 5
}
