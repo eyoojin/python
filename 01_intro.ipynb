{
 "cells": [
  {
   "cell_type": "markdown",
   "id": "313a5840-ee29-4b80-941a-142b30ca988a",
   "metadata": {},
   "source": [
    "# 01. intro\n",
    "\n",
    "## shortcut\n",
    "\n",
    "- ctrl + enter: 현재 셀 실행\n",
    "- shift + enter: 현재 셀 실행 & 아래로 이동\n",
    "- alt + enter: 현재 셀 실행 & 아래에 새로운 셀 추가\n",
    "---\n",
    "- esc + m: code 셀을 markdown 셀로 바꾸기"
   ]
  },
  {
   "cell_type": "markdown",
   "id": "f857e4d6-91f9-432f-8c69-d32396c86d88",
   "metadata": {},
   "source": [
    "## 주의사항\n",
    "\n",
    "1. Apple / apple 대소문자 주의\n",
    "2. git add. / git add . 띄어쓰기 주의\n",
    "3. message / massage 오타 주의"
   ]
  },
  {
   "cell_type": "markdown",
   "id": "0af446a9-84c9-470f-9b69-713fc7bd0f66",
   "metadata": {},
   "source": [
    "## 01. 변수\n",
    "\n",
    "```\n",
    "var_name = value\n",
    "```\n",
    "- 변수 이름은 어떤 이름이든 사용 가능\n",
    "- 다만 영어, 숫자, _를 이용해서 선언\n",
    "- 키워드는 불가능"
   ]
  },
  {
   "cell_type": "code",
   "execution_count": 4,
   "id": "be1cdf5b-65c1-488b-87a2-b3753e51c925",
   "metadata": {},
   "outputs": [],
   "source": [
    "a = 100 # a라는 상자 안에 숫자 1을 넣음 # 결과값 미출력"
   ]
  },
  {
   "cell_type": "code",
   "execution_count": 6,
   "id": "63c7dbbc-f36f-4f37-93ea-879e72db5db1",
   "metadata": {},
   "outputs": [
    {
     "data": {
      "text/plain": [
       "100"
      ]
     },
     "execution_count": 6,
     "metadata": {},
     "output_type": "execute_result"
    }
   ],
   "source": [
    "a # 아래에 결과값 자동출력"
   ]
  },
  {
   "cell_type": "code",
   "execution_count": 7,
   "id": "bdc33ccf-ba3c-4584-be10-7eb64a153940",
   "metadata": {},
   "outputs": [
    {
     "data": {
      "text/plain": [
       "['False',\n",
       " 'None',\n",
       " 'True',\n",
       " 'and',\n",
       " 'as',\n",
       " 'assert',\n",
       " 'async',\n",
       " 'await',\n",
       " 'break',\n",
       " 'class',\n",
       " 'continue',\n",
       " 'def',\n",
       " 'del',\n",
       " 'elif',\n",
       " 'else',\n",
       " 'except',\n",
       " 'finally',\n",
       " 'for',\n",
       " 'from',\n",
       " 'global',\n",
       " 'if',\n",
       " 'import',\n",
       " 'in',\n",
       " 'is',\n",
       " 'lambda',\n",
       " 'nonlocal',\n",
       " 'not',\n",
       " 'or',\n",
       " 'pass',\n",
       " 'raise',\n",
       " 'return',\n",
       " 'try',\n",
       " 'while',\n",
       " 'with',\n",
       " 'yield']"
      ]
     },
     "execution_count": 7,
     "metadata": {},
     "output_type": "execute_result"
    }
   ],
   "source": [
    "import keyword \n",
    "keyword.kwlist"
   ]
  },
  {
   "cell_type": "code",
   "execution_count": 8,
   "id": "d9a4ab98-5e0b-43eb-87b6-777cacfc83b4",
   "metadata": {},
   "outputs": [],
   "source": [
    "seoul_dust_rate = 150 # 단어와 단어를 연결하는 경우 _ 사용"
   ]
  },
  {
   "cell_type": "markdown",
   "id": "8c8aae3b-fb82-4c39-8911-213b9cbc29ee",
   "metadata": {},
   "source": [
    "## 1.1 number"
   ]
  },
  {
   "cell_type": "code",
   "execution_count": 9,
   "id": "3fdca1f2-c2a3-420b-98b6-a13ce610964e",
   "metadata": {},
   "outputs": [],
   "source": [
    "a = 10000 # 100이었던 a에 10000을 덮어씌우기 # 상자가 데이터의 형태에 따라 모양이 바뀜 # 숫자/글자 다 넣을 수 있음"
   ]
  },
  {
   "cell_type": "code",
   "execution_count": 10,
   "id": "7213fb72-78ac-43d9-9c5f-9e9549fb713d",
   "metadata": {},
   "outputs": [
    {
     "data": {
      "text/plain": [
       "10000"
      ]
     },
     "execution_count": 10,
     "metadata": {},
     "output_type": "execute_result"
    }
   ],
   "source": [
    "a"
   ]
  },
  {
   "cell_type": "code",
   "execution_count": 11,
   "id": "557b56eb-8c7b-4f32-95ef-2a22e3f1ac24",
   "metadata": {},
   "outputs": [
    {
     "data": {
      "text/plain": [
       "int"
      ]
     },
     "execution_count": 11,
     "metadata": {},
     "output_type": "execute_result"
    }
   ],
   "source": [
    "type(a) # a의 type 확인 # int: 정수(integer)"
   ]
  },
  {
   "cell_type": "code",
   "execution_count": 12,
   "id": "6dc56f6a-60d9-4c15-bba4-cbe49e5f61d7",
   "metadata": {},
   "outputs": [],
   "source": [
    "b = 1.1"
   ]
  },
  {
   "cell_type": "code",
   "execution_count": 13,
   "id": "90a3fd64-bc47-44d5-9550-ff89144b73a1",
   "metadata": {},
   "outputs": [
    {
     "data": {
      "text/plain": [
       "1.1"
      ]
     },
     "execution_count": 13,
     "metadata": {},
     "output_type": "execute_result"
    }
   ],
   "source": [
    "b"
   ]
  },
  {
   "cell_type": "code",
   "execution_count": 14,
   "id": "9fa745ee-8a6b-48fe-9478-1968baa6628b",
   "metadata": {},
   "outputs": [
    {
     "data": {
      "text/plain": [
       "float"
      ]
     },
     "execution_count": 14,
     "metadata": {},
     "output_type": "execute_result"
    }
   ],
   "source": [
    "type(b) # float: 실수"
   ]
  },
  {
   "cell_type": "code",
   "execution_count": 15,
   "id": "dbb78154-c10d-46f7-a9e4-049dc70cabd2",
   "metadata": {},
   "outputs": [],
   "source": [
    "c = 1 +1j"
   ]
  },
  {
   "cell_type": "code",
   "execution_count": 16,
   "id": "dc441bf5-161f-4716-8633-3143bfa8a7e9",
   "metadata": {},
   "outputs": [
    {
     "data": {
      "text/plain": [
       "(1+1j)"
      ]
     },
     "execution_count": 16,
     "metadata": {},
     "output_type": "execute_result"
    }
   ],
   "source": [
    "c"
   ]
  },
  {
   "cell_type": "code",
   "execution_count": 17,
   "id": "5de27fdb-41ae-451c-93f1-ee61fd360e77",
   "metadata": {},
   "outputs": [
    {
     "data": {
      "text/plain": [
       "complex"
      ]
     },
     "execution_count": 17,
     "metadata": {},
     "output_type": "execute_result"
    }
   ],
   "source": [
    "type(c) # complex: 복소수, 복합적인 숫자"
   ]
  },
  {
   "cell_type": "markdown",
   "id": "f429af29-5e15-4501-a40a-fdd0dfa249ba",
   "metadata": {},
   "source": [
    "## 1.2 boolean"
   ]
  },
  {
   "cell_type": "code",
   "execution_count": 18,
   "id": "b3827b29-8456-4918-addc-5e6639468d06",
   "metadata": {},
   "outputs": [],
   "source": [
    "a = True # 참 또는 거짓 # 꼭 대문자로!"
   ]
  },
  {
   "cell_type": "code",
   "execution_count": 19,
   "id": "6fe7ddd1-7dbf-4dce-a399-9ca168db12d9",
   "metadata": {},
   "outputs": [
    {
     "data": {
      "text/plain": [
       "True"
      ]
     },
     "execution_count": 19,
     "metadata": {},
     "output_type": "execute_result"
    }
   ],
   "source": [
    "a"
   ]
  },
  {
   "cell_type": "code",
   "execution_count": 20,
   "id": "7ef4d4ca-857d-4234-ab99-b4af3d55d7c7",
   "metadata": {},
   "outputs": [
    {
     "data": {
      "text/plain": [
       "bool"
      ]
     },
     "execution_count": 20,
     "metadata": {},
     "output_type": "execute_result"
    }
   ],
   "source": [
    "type(a) # bool: boolean"
   ]
  },
  {
   "cell_type": "code",
   "execution_count": 21,
   "id": "0e9e8863-21fb-4913-bd56-cb74d9f7c0f9",
   "metadata": {},
   "outputs": [],
   "source": [
    "b = False"
   ]
  },
  {
   "cell_type": "code",
   "execution_count": 22,
   "id": "50468ec8-64df-4aa9-9764-10ddba90d406",
   "metadata": {},
   "outputs": [
    {
     "data": {
      "text/plain": [
       "False"
      ]
     },
     "execution_count": 22,
     "metadata": {},
     "output_type": "execute_result"
    }
   ],
   "source": [
    "b"
   ]
  },
  {
   "cell_type": "markdown",
   "id": "ebdd54a5-e057-4b0d-a819-ac17162a7ed7",
   "metadata": {},
   "source": [
    "## 1.3 string\n",
    "\n",
    "- `'`,`\"`를 이용하여 표현\n",
    "---\n",
    "- 문자열\n",
    "- 어디로 가느냐에 따라 모양이 달라질 수 있음"
   ]
  },
  {
   "cell_type": "code",
   "execution_count": 23,
   "id": "77b258d8-723c-4410-ab15-11b0d0cf8f57",
   "metadata": {},
   "outputs": [],
   "source": [
    "a = 'hello' # '로 시작하면 '로 끝나야"
   ]
  },
  {
   "cell_type": "code",
   "execution_count": 26,
   "id": "0626b6e1-d379-4b65-a36c-7415ef09754f",
   "metadata": {},
   "outputs": [],
   "source": [
    "b = \"hi\" # \"로 시작하면 \"로 끝나야"
   ]
  },
  {
   "cell_type": "code",
   "execution_count": 24,
   "id": "491270ff-9fbe-447c-b672-3e7bd4378745",
   "metadata": {},
   "outputs": [
    {
     "data": {
      "text/plain": [
       "'hello'"
      ]
     },
     "execution_count": 24,
     "metadata": {},
     "output_type": "execute_result"
    }
   ],
   "source": [
    "a"
   ]
  },
  {
   "cell_type": "code",
   "execution_count": 27,
   "id": "dcfb2002-3c2b-4281-9035-841b2b36662b",
   "metadata": {},
   "outputs": [
    {
     "data": {
      "text/plain": [
       "'hi'"
      ]
     },
     "execution_count": 27,
     "metadata": {},
     "output_type": "execute_result"
    }
   ],
   "source": [
    "b # \"로 써도 결과값은 '로 나옴"
   ]
  },
  {
   "cell_type": "code",
   "execution_count": 30,
   "id": "8494740b-9675-4b0a-a85c-1ea4335899f8",
   "metadata": {},
   "outputs": [
    {
     "name": "stdout",
     "output_type": "stream",
     "text": [
      "hello my name is \"Yoojin\"\n"
     ]
    }
   ],
   "source": [
    "print('hello my name is \"Yoojin\"') # 중간에 들어오는 문자열을 출력 # Yoojin을 강조하고 싶다면 겉을 감싼 '와 다르게 \"사용해야"
   ]
  },
  {
   "cell_type": "code",
   "execution_count": 36,
   "id": "1688504f-00ab-4dac-a454-054cec09fb0b",
   "metadata": {},
   "outputs": [
    {
     "name": "stdout",
     "output_type": "stream",
     "text": [
      "hello \n",
      "my name is 'Yoojin'\n"
     ]
    }
   ],
   "source": [
    "print('hello \\n my name is \\'Yoojin\\'') # 역슬래시를 만나면 특별한 취급 # 중간에 enter 쳐도 줄 안 나눠짐 오류남 # \\n: 줄바꿈, new line"
   ]
  },
  {
   "cell_type": "code",
   "execution_count": 33,
   "id": "5b41589f-e582-40ba-9d0e-36f34d770f49",
   "metadata": {},
   "outputs": [],
   "source": [
    "a = ''' \n",
    "hello\n",
    "world\n",
    "hi\n",
    "''' # '''안의 것은 모두 문자로 인식"
   ]
  },
  {
   "cell_type": "code",
   "execution_count": 34,
   "id": "1b67bf2a-d4e8-4412-989a-0d26b99ec756",
   "metadata": {},
   "outputs": [
    {
     "data": {
      "text/plain": [
       "' \\nhello\\nworld\\nhi\\n'"
      ]
     },
     "execution_count": 34,
     "metadata": {},
     "output_type": "execute_result"
    }
   ],
   "source": [
    "a"
   ]
  },
  {
   "cell_type": "code",
   "execution_count": 39,
   "id": "582ded11-47e4-4e6e-8508-22de0054ce0d",
   "metadata": {},
   "outputs": [],
   "source": [
    "a = 10\n",
    "b = '홍길동은 a살입니다.'"
   ]
  },
  {
   "cell_type": "markdown",
   "id": "6809ee1d-1e10-441e-babd-e1caabc12309",
   "metadata": {},
   "source": [
    "### string interpolation\n",
    "\n",
    "- %-formatting\n",
    "- str.format()\n",
    "- f-string\n",
    "---\n",
    "- 문자열 사이에 변수를 넣는 법"
   ]
  },
  {
   "cell_type": "code",
   "execution_count": 41,
   "id": "f95e9ae5-055a-4a80-bb43-d5bdd9408bdc",
   "metadata": {},
   "outputs": [],
   "source": [
    "age = 10"
   ]
  },
  {
   "cell_type": "code",
   "execution_count": 42,
   "id": "75566563-a2ff-4cd6-8051-891a108e0a9e",
   "metadata": {},
   "outputs": [
    {
     "name": "stdout",
     "output_type": "stream",
     "text": [
      "홍길동은 10살입니다.\n"
     ]
    }
   ],
   "source": [
    "print('홍길동은 %s살입니다.' % age)"
   ]
  },
  {
   "cell_type": "code",
   "execution_count": 43,
   "id": "7cead034-957e-462d-b5b4-8a3632378dc1",
   "metadata": {},
   "outputs": [
    {
     "name": "stdout",
     "output_type": "stream",
     "text": [
      "홍길동은 10살입니다.\n"
     ]
    }
   ],
   "source": [
    "print('홍길동은 {}살입니다.'.format(age))"
   ]
  },
  {
   "cell_type": "code",
   "execution_count": 44,
   "id": "3107a5f3-cd16-4376-ab3f-38bea1f2efa6",
   "metadata": {},
   "outputs": [
    {
     "name": "stdout",
     "output_type": "stream",
     "text": [
      "홍길동은 10살입니다.\n"
     ]
    }
   ],
   "source": [
    "print(f'홍길동은 {a}살입니다.')"
   ]
  },
  {
   "cell_type": "markdown",
   "id": "b499af26-6945-4fa8-9677-347057461558",
   "metadata": {},
   "source": [
    "## 02. 연산자"
   ]
  },
  {
   "cell_type": "markdown",
   "id": "71325caf-0646-4464-be66-d704ee99cb4e",
   "metadata": {},
   "source": [
    "## 2.1 산술연산자"
   ]
  },
  {
   "cell_type": "code",
   "execution_count": 47,
   "id": "b9c51cbf-6e64-4151-8427-801da25111c3",
   "metadata": {},
   "outputs": [],
   "source": [
    "a = 5\n",
    "b = 2"
   ]
  },
  {
   "cell_type": "code",
   "execution_count": 46,
   "id": "6ada3fc5-be9d-44fa-bea2-7a28ef6c63f7",
   "metadata": {},
   "outputs": [
    {
     "name": "stdout",
     "output_type": "stream",
     "text": [
      "7\n",
      "-3\n",
      "10\n",
      "0.4\n"
     ]
    }
   ],
   "source": [
    "print(a + b)\n",
    "print(a - b)\n",
    "print(a * b)\n",
    "print(a / b)"
   ]
  },
  {
   "cell_type": "code",
   "execution_count": 49,
   "id": "a1e056f6-1b61-42b2-8c7c-bf49428dd42a",
   "metadata": {},
   "outputs": [
    {
     "name": "stdout",
     "output_type": "stream",
     "text": [
      "25\n",
      "2\n",
      "1\n"
     ]
    }
   ],
   "source": [
    "print(a ** b) # 제곱수\n",
    "print(a // b) # 몫\n",
    "print(a % b) # 나머지"
   ]
  },
  {
   "cell_type": "code",
   "execution_count": 52,
   "id": "d248ef6d-0c0f-4436-93ce-43e6c7b04910",
   "metadata": {},
   "outputs": [
    {
     "name": "stdout",
     "output_type": "stream",
     "text": [
      "(2, 1)\n"
     ]
    }
   ],
   "source": [
    "result = divmod(a, b) # 몫과 나머지를 한번에 계산\n",
    "print(result)"
   ]
  },
  {
   "cell_type": "markdown",
   "id": "790a3870-67fb-45fa-bfa0-c718e4a509db",
   "metadata": {},
   "source": [
    "## 2.2 비교연산자"
   ]
  },
  {
   "cell_type": "code",
   "execution_count": 53,
   "id": "545e6bff-011d-4a50-a1e5-19e0ae6fe763",
   "metadata": {},
   "outputs": [],
   "source": [
    "a = 5\n",
    "b = 10"
   ]
  },
  {
   "cell_type": "code",
   "execution_count": 55,
   "id": "e8732c5f-687d-4beb-910c-1a30a321144a",
   "metadata": {},
   "outputs": [
    {
     "name": "stdout",
     "output_type": "stream",
     "text": [
      "False\n",
      "True\n",
      "False\n",
      "True\n"
     ]
    }
   ],
   "source": [
    "print(a > b) # a가 b보다 큰가요? 맞으면 T 틀리면 F\n",
    "print(a < b)\n",
    "print(a >= b)\n",
    "print(a <= b)"
   ]
  },
  {
   "cell_type": "code",
   "execution_count": 57,
   "id": "75ff6b32-832f-4d54-92b2-5edaa292fb98",
   "metadata": {},
   "outputs": [
    {
     "name": "stdout",
     "output_type": "stream",
     "text": [
      "False\n",
      "True\n"
     ]
    }
   ],
   "source": [
    "print(a == b) # a랑 b가 같나요?\n",
    "print(a != b) # a랑 b가 다른가요?"
   ]
  },
  {
   "cell_type": "code",
   "execution_count": 58,
   "id": "bb6f592c-9258-43ba-81b3-d26ccc51afe8",
   "metadata": {},
   "outputs": [
    {
     "name": "stdout",
     "output_type": "stream",
     "text": [
      "True\n",
      "False\n"
     ]
    }
   ],
   "source": [
    "print('hi' == 'hi')\n",
    "print('hi' == 'Hi')"
   ]
  },
  {
   "cell_type": "markdown",
   "id": "270c3e39-9a5a-4750-9c4d-ada31ce7d6a3",
   "metadata": {},
   "source": [
    "## 2.3 논리연산자\n",
    "\n",
    "- and: 양쪽 모두 True일 때, True를 반환\n",
    "- or: 양쪽 모두 False일 때, False를 반환 (둘 중에 하나라도 True면 True)\n",
    "- not: 상태를 부정"
   ]
  },
  {
   "cell_type": "code",
   "execution_count": 59,
   "id": "37909b7c-bdbb-4ea9-bad0-a3d9b28d0194",
   "metadata": {},
   "outputs": [
    {
     "name": "stdout",
     "output_type": "stream",
     "text": [
      "True\n",
      "False\n",
      "False\n",
      "False\n"
     ]
    }
   ],
   "source": [
    "print(True and True)\n",
    "print(True and False)\n",
    "print(False and True)\n",
    "print(False and False)"
   ]
  },
  {
   "cell_type": "code",
   "execution_count": 60,
   "id": "8c6df7df-d10a-4d3c-9565-438293dbdd25",
   "metadata": {},
   "outputs": [
    {
     "name": "stdout",
     "output_type": "stream",
     "text": [
      "True\n",
      "True\n",
      "True\n",
      "False\n"
     ]
    }
   ],
   "source": [
    "print(True or True)\n",
    "print(True or False)\n",
    "print(False or True)\n",
    "print(False or False)"
   ]
  },
  {
   "cell_type": "code",
   "execution_count": 67,
   "id": "20fdb68e-e98c-4537-ac9f-0b5070186fcb",
   "metadata": {},
   "outputs": [
    {
     "name": "stdout",
     "output_type": "stream",
     "text": [
      "False\n"
     ]
    }
   ],
   "source": [
    "a = True\n",
    "print(not a)"
   ]
  },
  {
   "cell_type": "markdown",
   "id": "47cf01a1-7932-4c4a-b06a-30642d032be0",
   "metadata": {},
   "source": [
    "### 단축평가"
   ]
  },
  {
   "cell_type": "code",
   "execution_count": 72,
   "id": "256d9eb9-e192-4498-9d1d-aa5f2b7748c1",
   "metadata": {},
   "outputs": [
    {
     "name": "stdout",
     "output_type": "stream",
     "text": [
      "5\n",
      "0\n",
      "0\n",
      "0\n"
     ]
    }
   ],
   "source": [
    "print(3 and 5) # 앞이 T인 경우 뒤를 반환\n",
    "print(3 and 0)\n",
    "print(0 and 5) # 앞이 F인 경우 앞을 반환\n",
    "print(0 and 0)"
   ]
  },
  {
   "cell_type": "code",
   "execution_count": 66,
   "id": "78f25959-12d8-486a-8fdd-6c174bc77dda",
   "metadata": {},
   "outputs": [
    {
     "name": "stdout",
     "output_type": "stream",
     "text": [
      "3\n",
      "3\n",
      "5\n",
      "0\n"
     ]
    }
   ],
   "source": [
    "print(3 or 5) # 앞이 T인 경우 앞을 반환\n",
    "print(3 or 0)\n",
    "print(0 or 5) # 앞이 F인 경우 뒤를 반환\n",
    "print(0 or 0)"
   ]
  },
  {
   "cell_type": "markdown",
   "id": "ac85ee30-45fa-477d-bc04-714f9d318c0c",
   "metadata": {},
   "source": [
    "## 2.4 복합연산자"
   ]
  },
  {
   "cell_type": "code",
   "execution_count": 69,
   "id": "c68163b1-17d7-486a-be04-d09629eb6cf7",
   "metadata": {},
   "outputs": [],
   "source": [
    "a = 2\n",
    "b = 3"
   ]
  },
  {
   "cell_type": "code",
   "execution_count": 70,
   "id": "83911699-a4b3-4283-ac21-f723399caf1a",
   "metadata": {},
   "outputs": [],
   "source": [
    "a = a + b # =: 오른쪽의 값을 왼쪽에 할당 # 결과: 5\n",
    "a = a - b\n",
    "a = a * b\n",
    "a = a / b"
   ]
  },
  {
   "cell_type": "code",
   "execution_count": 71,
   "id": "2f1d9578-5a5a-4e85-86e9-b75592040460",
   "metadata": {},
   "outputs": [
    {
     "data": {
      "text/plain": [
       "5"
      ]
     },
     "execution_count": 71,
     "metadata": {},
     "output_type": "execute_result"
    }
   ],
   "source": [
    "a += b\n",
    "a -+ b\n",
    "a *= b\n",
    "a /= b\n",
    "a //= b \n",
    "a %= b\n",
    "a **= b"
   ]
  },
  {
   "cell_type": "markdown",
   "id": "5dfbf2e4-1e68-45ec-9c51-6d1e599f0e43",
   "metadata": {},
   "source": [
    "## 2.5 기타연산자"
   ]
  },
  {
   "cell_type": "code",
   "execution_count": 73,
   "id": "9f150d50-7f3e-47a9-99a0-3cfb21fbe73d",
   "metadata": {},
   "outputs": [],
   "source": [
    "a = 'hi'\n",
    "b = 'hello'"
   ]
  },
  {
   "cell_type": "code",
   "execution_count": 74,
   "id": "9ed92fc8-d238-46b8-ba2d-e8753c3b037b",
   "metadata": {},
   "outputs": [
    {
     "name": "stdout",
     "output_type": "stream",
     "text": [
      "hihello\n"
     ]
    }
   ],
   "source": [
    "# concatenation\n",
    "print(a + b) # 연결\n",
    "print(a + 1) # error: 앞이 string이므로 concatenation으로 인식\n",
    "print(1 + b) # error: 앞이 int이므로 plus로 인식"
   ]
  },
  {
   "cell_type": "code",
   "execution_count": 75,
   "id": "60f46e8e-346e-4456-a1d9-589c00b52282",
   "metadata": {},
   "outputs": [],
   "source": [
    "a = [1, 2, 3]\n",
    "b = [2, 3, 4]"
   ]
  },
  {
   "cell_type": "code",
   "execution_count": 76,
   "id": "6c082a05-56c2-4e42-9794-651e26ffcc04",
   "metadata": {},
   "outputs": [
    {
     "name": "stdout",
     "output_type": "stream",
     "text": [
      "[1, 2, 3, 2, 3, 4]\n"
     ]
    }
   ],
   "source": [
    "print(a + b) # concatenation"
   ]
  },
  {
   "cell_type": "code",
   "execution_count": 79,
   "id": "7ce7db96-863d-4686-97d4-ecf12d133317",
   "metadata": {},
   "outputs": [
    {
     "name": "stdout",
     "output_type": "stream",
     "text": [
      "True\n",
      "False\n"
     ]
    }
   ],
   "source": [
    "print(1 in a) # 1이라는 데이터가 a에 포함되어 있나요? # containment\n",
    "print(10 in a)"
   ]
  },
  {
   "cell_type": "code",
   "execution_count": 83,
   "id": "a5703c4b-d736-40d8-bc62-ee630474a40a",
   "metadata": {},
   "outputs": [],
   "source": [
    "a = 100\n",
    "b = 100"
   ]
  },
  {
   "cell_type": "code",
   "execution_count": 84,
   "id": "e83f8e6a-cd85-424f-9485-85c63ca54741",
   "metadata": {},
   "outputs": [
    {
     "name": "stdout",
     "output_type": "stream",
     "text": [
      "True\n",
      "True\n"
     ]
    }
   ],
   "source": [
    "print(a == b) # a와 b의 값이 같은지 # 위와 아래는 비슷하긴 한데...\n",
    "print(a is b) # a가 b인가요? # a와 b가 본질적으로 같은 객체인지 # 500인 경우 F, 100인 경우 T => 256까지는 자주 쓰는 숫자이므로 이미 메모리를 차지하고 있음"
   ]
  },
  {
   "cell_type": "markdown",
   "id": "7eded3a3-9cdb-4649-aaf1-1be38daea0ee",
   "metadata": {},
   "source": [
    "### 연산자 우선순위\n",
    "\n",
    "0. ()를 통해서 그룹\n",
    "1. **\n",
    "2. 산술연산자(*, /)\n",
    "3. 산술연산자(+, -)\n",
    "4. 비교연산자, in, is\n",
    "5. not\n",
    "6. and\n",
    "7. or"
   ]
  },
  {
   "cell_type": "code",
   "execution_count": 85,
   "id": "cb66c005-6f3a-47cd-aaa3-ecd06bb6e863",
   "metadata": {},
   "outputs": [
    {
     "name": "stdout",
     "output_type": "stream",
     "text": [
      "-81\n",
      "81\n"
     ]
    }
   ],
   "source": [
    "print(-3 ** 4) # -81\n",
    "print((-3) ** 4) # 81"
   ]
  },
  {
   "cell_type": "markdown",
   "id": "fd6f1788-4e4f-4799-b239-e9a4076fa3fa",
   "metadata": {},
   "source": [
    "## 03. 형변환"
   ]
  },
  {
   "cell_type": "markdown",
   "id": "add172b2-9f24-4221-81c3-2487846ab798",
   "metadata": {},
   "source": [
    "## 3.1 암시적 형변환\n",
    "\n",
    "---\n",
    "- 자동으로 바뀜\n",
    "- T,F를 숫자로/ 1,0을 T,F로"
   ]
  },
  {
   "cell_type": "code",
   "execution_count": 86,
   "id": "1851ab2b-0407-4dcd-b30a-2fbdc5fc1210",
   "metadata": {},
   "outputs": [],
   "source": [
    "a = True # 1 \n",
    "b = False # 0\n",
    "c = 1"
   ]
  },
  {
   "cell_type": "code",
   "execution_count": 88,
   "id": "2cf8970f-68df-4bd4-a36a-7e5548612c99",
   "metadata": {},
   "outputs": [
    {
     "name": "stdout",
     "output_type": "stream",
     "text": [
      "1\n",
      "2\n"
     ]
    }
   ],
   "source": [
    "print(a + b) \n",
    "print(a + c)"
   ]
  },
  {
   "cell_type": "markdown",
   "id": "21cc61f8-178b-41a2-b6d2-c38dbc899752",
   "metadata": {},
   "source": [
    "## 3.2 명시적 형변환\n",
    "\n",
    "- int()\n",
    "- float()\n",
    "- str()\n",
    "- bool()"
   ]
  },
  {
   "cell_type": "code",
   "execution_count": 89,
   "id": "ca21a05d-11b6-43a3-a423-6d67a8c35462",
   "metadata": {},
   "outputs": [],
   "source": [
    "a = 1\n",
    "b = '반'"
   ]
  },
  {
   "cell_type": "code",
   "execution_count": 90,
   "id": "b40eb6f7-f20b-49be-b455-1a6d57aa7beb",
   "metadata": {},
   "outputs": [
    {
     "ename": "TypeError",
     "evalue": "unsupported operand type(s) for +: 'int' and 'str'",
     "output_type": "error",
     "traceback": [
      "\u001b[1;31m---------------------------------------------------------------------------\u001b[0m",
      "\u001b[1;31mTypeError\u001b[0m                                 Traceback (most recent call last)",
      "Cell \u001b[1;32mIn[90], line 1\u001b[0m\n\u001b[1;32m----> 1\u001b[0m \u001b[38;5;28mprint\u001b[39m(\u001b[43ma\u001b[49m\u001b[43m \u001b[49m\u001b[38;5;241;43m+\u001b[39;49m\u001b[43m \u001b[49m\u001b[43mb\u001b[49m)\n",
      "\u001b[1;31mTypeError\u001b[0m: unsupported operand type(s) for +: 'int' and 'str'"
     ]
    }
   ],
   "source": [
    "print(a + b) # error"
   ]
  },
  {
   "cell_type": "code",
   "execution_count": 91,
   "id": "1ea6cbb1-1a41-4b1d-b698-b9f9f992c78f",
   "metadata": {},
   "outputs": [
    {
     "name": "stdout",
     "output_type": "stream",
     "text": [
      "1반\n"
     ]
    }
   ],
   "source": [
    "print(str(a) + b) # 1반 # 대부분의 경우 str로 변환 가능"
   ]
  },
  {
   "cell_type": "code",
   "execution_count": 93,
   "id": "6df81d9d-8373-4298-9ea7-c1d535b44aeb",
   "metadata": {},
   "outputs": [
    {
     "name": "stdout",
     "output_type": "stream",
     "text": [
      "3\n",
      "<class 'str'>\n",
      "3\n",
      "<class 'int'>\n"
     ]
    }
   ],
   "source": [
    "a = '3'\n",
    "print(a)\n",
    "print(type(a))\n",
    "\n",
    "b = int(a) # a라는 글자를 숫자로 바꿀거야\n",
    "print(b)\n",
    "print(type(b))"
   ]
  },
  {
   "cell_type": "code",
   "execution_count": 94,
   "id": "c1aa9eb4-376b-40a8-92af-2fdb8a84aa80",
   "metadata": {},
   "outputs": [
    {
     "ename": "ValueError",
     "evalue": "invalid literal for int() with base 10: 'apple'",
     "output_type": "error",
     "traceback": [
      "\u001b[1;31m---------------------------------------------------------------------------\u001b[0m",
      "\u001b[1;31mValueError\u001b[0m                                Traceback (most recent call last)",
      "Cell \u001b[1;32mIn[94], line 2\u001b[0m\n\u001b[0;32m      1\u001b[0m c \u001b[38;5;241m=\u001b[39m \u001b[38;5;124m'\u001b[39m\u001b[38;5;124mapple\u001b[39m\u001b[38;5;124m'\u001b[39m\n\u001b[1;32m----> 2\u001b[0m d \u001b[38;5;241m=\u001b[39m \u001b[38;5;28;43mint\u001b[39;49m\u001b[43m(\u001b[49m\u001b[43mc\u001b[49m\u001b[43m)\u001b[49m \u001b[38;5;66;03m# error: 숫자로 바꿀 수 있는 형태여야 가능\u001b[39;00m\n",
      "\u001b[1;31mValueError\u001b[0m: invalid literal for int() with base 10: 'apple'"
     ]
    }
   ],
   "source": [
    "c = 'apple'\n",
    "d = int(c) # error: 숫자로 바꿀 수 있는 형태여야 가능"
   ]
  },
  {
   "cell_type": "code",
   "execution_count": 97,
   "id": "bfaa607a-deec-4002-ac73-0684a3f12b56",
   "metadata": {},
   "outputs": [
    {
     "name": "stdout",
     "output_type": "stream",
     "text": [
      "True\n",
      "False\n",
      "True\n"
     ]
    }
   ],
   "source": [
    "a = 1\n",
    "b = 0 # 0만 False, 0이 아닌 나머지 데이터는 True\n",
    "c = -123\n",
    "print(bool(a))\n",
    "print(bool(b))\n",
    "print(bool(c))"
   ]
  },
  {
   "cell_type": "code",
   "execution_count": 98,
   "id": "3ce90bd2-dc49-4a90-8982-dab1cda9a7cf",
   "metadata": {},
   "outputs": [
    {
     "name": "stdout",
     "output_type": "stream",
     "text": [
      "False\n",
      "True\n"
     ]
    }
   ],
   "source": [
    "print(bool([])) # 데이터가 하나도 없으면 False\n",
    "print(bool([1, 2, 3])) # 하나라도 있으면 True"
   ]
  },
  {
   "cell_type": "markdown",
   "id": "cd5635cd-996d-4e19-9e30-3436e6d66986",
   "metadata": {},
   "source": [
    "## 오늘 배운 것\n",
    "1. 숫자, 글자, 참과 거짓\n",
    "2. ~을 연산하기\n",
    "\n",
    "- Jupyter notebook: 내가 마지막으로 실행한 것이 누적됨"
   ]
  }
 ],
 "metadata": {
  "kernelspec": {
   "display_name": "Python 3 (ipykernel)",
   "language": "python",
   "name": "python3"
  },
  "language_info": {
   "codemirror_mode": {
    "name": "ipython",
    "version": 3
   },
   "file_extension": ".py",
   "mimetype": "text/x-python",
   "name": "python",
   "nbconvert_exporter": "python",
   "pygments_lexer": "ipython3",
   "version": "3.13.2"
  }
 },
 "nbformat": 4,
 "nbformat_minor": 5
}
