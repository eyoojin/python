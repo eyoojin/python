{
 "cells": [
  {
   "cell_type": "markdown",
   "id": "313a5840-ee29-4b80-941a-142b30ca988a",
   "metadata": {},
   "source": [
    "# 01. intro\n",
    "\n",
    "## shortcut\n",
    "\n",
    "- ctrl + enter: 현재 셀 실행\n",
    "- shift + enter: 현재 셀 실행 & 아래로 이동\n",
    "- alt + enter: 현재 셀 실행 & 아래에 새로운 셀 추가\n",
    "---\n",
    "- esc + m: code 셀을 markdown 셀로 바꾸기"
   ]
  },
  {
   "cell_type": "markdown",
   "id": "f857e4d6-91f9-432f-8c69-d32396c86d88",
   "metadata": {},
   "source": [
    "## 주의사항\n",
    "\n",
    "1. Apple / apple 대소문자 주의\n",
    "2. git add. / git add . 띄어쓰기 주의\n",
    "3. message / massage 오타 주의"
   ]
  },
  {
   "cell_type": "markdown",
   "id": "0af446a9-84c9-470f-9b69-713fc7bd0f66",
   "metadata": {},
   "source": [
    "## 01. 변수\n",
    "\n",
    "```\n",
    "var_name = value\n",
    "```\n",
    "- 변수 이름은 어떤 이름이든 사용 가능\n",
    "- 다만 영어, 숫자, _를 이용해서 선언\n",
    "- 키워드는 불가능"
   ]
  },
  {
   "cell_type": "code",
   "execution_count": 4,
   "id": "be1cdf5b-65c1-488b-87a2-b3753e51c925",
   "metadata": {},
   "outputs": [],
   "source": [
    "a = 100 # a라는 상자 안에 숫자 1을 넣음 # 결과값 미출력"
   ]
  },
  {
   "cell_type": "code",
   "execution_count": 6,
   "id": "63c7dbbc-f36f-4f37-93ea-879e72db5db1",
   "metadata": {},
   "outputs": [
    {
     "data": {
      "text/plain": [
       "100"
      ]
     },
     "execution_count": 6,
     "metadata": {},
     "output_type": "execute_result"
    }
   ],
   "source": [
    "a # 아래에 결과값 자동출력"
   ]
  },
  {
   "cell_type": "code",
   "execution_count": 7,
   "id": "bdc33ccf-ba3c-4584-be10-7eb64a153940",
   "metadata": {},
   "outputs": [
    {
     "data": {
      "text/plain": [
       "['False',\n",
       " 'None',\n",
       " 'True',\n",
       " 'and',\n",
       " 'as',\n",
       " 'assert',\n",
       " 'async',\n",
       " 'await',\n",
       " 'break',\n",
       " 'class',\n",
       " 'continue',\n",
       " 'def',\n",
       " 'del',\n",
       " 'elif',\n",
       " 'else',\n",
       " 'except',\n",
       " 'finally',\n",
       " 'for',\n",
       " 'from',\n",
       " 'global',\n",
       " 'if',\n",
       " 'import',\n",
       " 'in',\n",
       " 'is',\n",
       " 'lambda',\n",
       " 'nonlocal',\n",
       " 'not',\n",
       " 'or',\n",
       " 'pass',\n",
       " 'raise',\n",
       " 'return',\n",
       " 'try',\n",
       " 'while',\n",
       " 'with',\n",
       " 'yield']"
      ]
     },
     "execution_count": 7,
     "metadata": {},
     "output_type": "execute_result"
    }
   ],
   "source": [
    "import keyword \n",
    "keyword.kwlist"
   ]
  },
  {
   "cell_type": "code",
   "execution_count": 8,
   "id": "d9a4ab98-5e0b-43eb-87b6-777cacfc83b4",
   "metadata": {},
   "outputs": [],
   "source": [
    "seoul_dust_rate = 150 # 단어와 단어를 연결하는 경우 _ 사용"
   ]
  },
  {
   "cell_type": "markdown",
   "id": "8c8aae3b-fb82-4c39-8911-213b9cbc29ee",
   "metadata": {},
   "source": [
    "## 1.1 number"
   ]
  },
  {
   "cell_type": "code",
   "execution_count": 9,
   "id": "3fdca1f2-c2a3-420b-98b6-a13ce610964e",
   "metadata": {},
   "outputs": [],
   "source": [
    "a = 10000 # 100이었던 a에 10000을 덮어씌우기 # 상자가 데이터의 형태에 따라 모양이 바뀜 # 숫자/글자 다 넣을 수 있음"
   ]
  },
  {
   "cell_type": "code",
   "execution_count": 10,
   "id": "7213fb72-78ac-43d9-9c5f-9e9549fb713d",
   "metadata": {},
   "outputs": [
    {
     "data": {
      "text/plain": [
       "10000"
      ]
     },
     "execution_count": 10,
     "metadata": {},
     "output_type": "execute_result"
    }
   ],
   "source": [
    "a"
   ]
  },
  {
   "cell_type": "code",
   "execution_count": 11,
   "id": "557b56eb-8c7b-4f32-95ef-2a22e3f1ac24",
   "metadata": {},
   "outputs": [
    {
     "data": {
      "text/plain": [
       "int"
      ]
     },
     "execution_count": 11,
     "metadata": {},
     "output_type": "execute_result"
    }
   ],
   "source": [
    "type(a) # a의 type 확인 # int: 정수(integer)"
   ]
  },
  {
   "cell_type": "code",
   "execution_count": 12,
   "id": "6dc56f6a-60d9-4c15-bba4-cbe49e5f61d7",
   "metadata": {},
   "outputs": [],
   "source": [
    "b = 1.1"
   ]
  },
  {
   "cell_type": "code",
   "execution_count": 13,
   "id": "90a3fd64-bc47-44d5-9550-ff89144b73a1",
   "metadata": {},
   "outputs": [
    {
     "data": {
      "text/plain": [
       "1.1"
      ]
     },
     "execution_count": 13,
     "metadata": {},
     "output_type": "execute_result"
    }
   ],
   "source": [
    "b"
   ]
  },
  {
   "cell_type": "code",
   "execution_count": 14,
   "id": "9fa745ee-8a6b-48fe-9478-1968baa6628b",
   "metadata": {},
   "outputs": [
    {
     "data": {
      "text/plain": [
       "float"
      ]
     },
     "execution_count": 14,
     "metadata": {},
     "output_type": "execute_result"
    }
   ],
   "source": [
    "type(b) # float: 실수"
   ]
  },
  {
   "cell_type": "code",
   "execution_count": 15,
   "id": "dbb78154-c10d-46f7-a9e4-049dc70cabd2",
   "metadata": {},
   "outputs": [],
   "source": [
    "c = 1 +1j"
   ]
  },
  {
   "cell_type": "code",
   "execution_count": 16,
   "id": "dc441bf5-161f-4716-8633-3143bfa8a7e9",
   "metadata": {},
   "outputs": [
    {
     "data": {
      "text/plain": [
       "(1+1j)"
      ]
     },
     "execution_count": 16,
     "metadata": {},
     "output_type": "execute_result"
    }
   ],
   "source": [
    "c"
   ]
  },
  {
   "cell_type": "code",
   "execution_count": 17,
   "id": "5de27fdb-41ae-451c-93f1-ee61fd360e77",
   "metadata": {},
   "outputs": [
    {
     "data": {
      "text/plain": [
       "complex"
      ]
     },
     "execution_count": 17,
     "metadata": {},
     "output_type": "execute_result"
    }
   ],
   "source": [
    "type(c) # complex: 복소수, 복합적인 숫자"
   ]
  },
  {
   "cell_type": "markdown",
   "id": "f429af29-5e15-4501-a40a-fdd0dfa249ba",
   "metadata": {},
   "source": [
    "## 1.2 boolean"
   ]
  },
  {
   "cell_type": "code",
   "execution_count": 18,
   "id": "b3827b29-8456-4918-addc-5e6639468d06",
   "metadata": {},
   "outputs": [],
   "source": [
    "a = True # 참 또는 거짓 # 꼭 대문자로!"
   ]
  },
  {
   "cell_type": "code",
   "execution_count": 19,
   "id": "6fe7ddd1-7dbf-4dce-a399-9ca168db12d9",
   "metadata": {},
   "outputs": [
    {
     "data": {
      "text/plain": [
       "True"
      ]
     },
     "execution_count": 19,
     "metadata": {},
     "output_type": "execute_result"
    }
   ],
   "source": [
    "a"
   ]
  },
  {
   "cell_type": "code",
   "execution_count": 20,
   "id": "7ef4d4ca-857d-4234-ab99-b4af3d55d7c7",
   "metadata": {},
   "outputs": [
    {
     "data": {
      "text/plain": [
       "bool"
      ]
     },
     "execution_count": 20,
     "metadata": {},
     "output_type": "execute_result"
    }
   ],
   "source": [
    "type(a) # bool: boolean"
   ]
  },
  {
   "cell_type": "code",
   "execution_count": 21,
   "id": "0e9e8863-21fb-4913-bd56-cb74d9f7c0f9",
   "metadata": {},
   "outputs": [],
   "source": [
    "b = False"
   ]
  },
  {
   "cell_type": "code",
   "execution_count": 22,
   "id": "50468ec8-64df-4aa9-9764-10ddba90d406",
   "metadata": {},
   "outputs": [
    {
     "data": {
      "text/plain": [
       "False"
      ]
     },
     "execution_count": 22,
     "metadata": {},
     "output_type": "execute_result"
    }
   ],
   "source": [
    "b"
   ]
  },
  {
   "cell_type": "markdown",
   "id": "ebdd54a5-e057-4b0d-a819-ac17162a7ed7",
   "metadata": {},
   "source": [
    "## 1.3 string\n",
    "\n",
    "- `'`,`\"`를 이용하여 표현\n",
    "---\n",
    "- 문자열\n",
    "- 어디로 가느냐에 따라 모양이 달라질 수 있음"
   ]
  },
  {
   "cell_type": "code",
   "execution_count": 23,
   "id": "77b258d8-723c-4410-ab15-11b0d0cf8f57",
   "metadata": {},
   "outputs": [],
   "source": [
    "a = 'hello' # '로 시작하면 '로 끝나야"
   ]
  },
  {
   "cell_type": "code",
   "execution_count": 26,
   "id": "0626b6e1-d379-4b65-a36c-7415ef09754f",
   "metadata": {},
   "outputs": [],
   "source": [
    "b = \"hi\" # \"로 시작하면 \"로 끝나야"
   ]
  },
  {
   "cell_type": "code",
   "execution_count": 24,
   "id": "491270ff-9fbe-447c-b672-3e7bd4378745",
   "metadata": {},
   "outputs": [
    {
     "data": {
      "text/plain": [
       "'hello'"
      ]
     },
     "execution_count": 24,
     "metadata": {},
     "output_type": "execute_result"
    }
   ],
   "source": [
    "a"
   ]
  },
  {
   "cell_type": "code",
   "execution_count": 27,
   "id": "dcfb2002-3c2b-4281-9035-841b2b36662b",
   "metadata": {},
   "outputs": [
    {
     "data": {
      "text/plain": [
       "'hi'"
      ]
     },
     "execution_count": 27,
     "metadata": {},
     "output_type": "execute_result"
    }
   ],
   "source": [
    "b # \"로 써도 결과값은 '로 나옴"
   ]
  },
  {
   "cell_type": "code",
   "execution_count": 30,
   "id": "8494740b-9675-4b0a-a85c-1ea4335899f8",
   "metadata": {},
   "outputs": [
    {
     "name": "stdout",
     "output_type": "stream",
     "text": [
      "hello my name is \"Yoojin\"\n"
     ]
    }
   ],
   "source": [
    "print('hello my name is \"Yoojin\"') # 중간에 들어오는 문자열을 출력 # Yoojin을 강조하고 싶다면 겉을 감싼 '와 다르게 \"사용해야"
   ]
  },
  {
   "cell_type": "code",
   "execution_count": 36,
   "id": "1688504f-00ab-4dac-a454-054cec09fb0b",
   "metadata": {},
   "outputs": [
    {
     "name": "stdout",
     "output_type": "stream",
     "text": [
      "hello \n",
      "my name is 'Yoojin'\n"
     ]
    }
   ],
   "source": [
    "print('hello \\n my name is \\'Yoojin\\'') # 역슬래시를 만나면 특별한 취급 # 중간에 enter 쳐도 줄 안 나눠짐 오류남 # \\n: 줄바꿈, new line"
   ]
  },
  {
   "cell_type": "code",
   "execution_count": 33,
   "id": "5b41589f-e582-40ba-9d0e-36f34d770f49",
   "metadata": {},
   "outputs": [],
   "source": [
    "a = ''' \n",
    "hello\n",
    "world\n",
    "hi\n",
    "''' # '''안의 것은 모두 문자로 인식"
   ]
  },
  {
   "cell_type": "code",
   "execution_count": 34,
   "id": "1b67bf2a-d4e8-4412-989a-0d26b99ec756",
   "metadata": {},
   "outputs": [
    {
     "data": {
      "text/plain": [
       "' \\nhello\\nworld\\nhi\\n'"
      ]
     },
     "execution_count": 34,
     "metadata": {},
     "output_type": "execute_result"
    }
   ],
   "source": [
    "a"
   ]
  },
  {
   "cell_type": "code",
   "execution_count": 39,
   "id": "582ded11-47e4-4e6e-8508-22de0054ce0d",
   "metadata": {},
   "outputs": [],
   "source": [
    "a = 10\n",
    "b = '홍길동은 a살입니다.'"
   ]
  },
  {
   "cell_type": "markdown",
   "id": "6809ee1d-1e10-441e-babd-e1caabc12309",
   "metadata": {},
   "source": [
    "### string interpolation\n",
    "\n",
    "- %-formatting\n",
    "- str.format()\n",
    "- f-string\n",
    "---\n",
    "- 문자열 사이에 변수를 넣는 법"
   ]
  },
  {
   "cell_type": "code",
   "execution_count": 41,
   "id": "f95e9ae5-055a-4a80-bb43-d5bdd9408bdc",
   "metadata": {},
   "outputs": [],
   "source": [
    "age = 10"
   ]
  },
  {
   "cell_type": "code",
   "execution_count": 42,
   "id": "75566563-a2ff-4cd6-8051-891a108e0a9e",
   "metadata": {},
   "outputs": [
    {
     "name": "stdout",
     "output_type": "stream",
     "text": [
      "홍길동은 10살입니다.\n"
     ]
    }
   ],
   "source": [
    "print('홍길동은 %s살입니다.' % age)"
   ]
  },
  {
   "cell_type": "code",
   "execution_count": 43,
   "id": "7cead034-957e-462d-b5b4-8a3632378dc1",
   "metadata": {},
   "outputs": [
    {
     "name": "stdout",
     "output_type": "stream",
     "text": [
      "홍길동은 10살입니다.\n"
     ]
    }
   ],
   "source": [
    "print('홍길동은 {}살입니다.'.format(age))"
   ]
  },
  {
   "cell_type": "code",
   "execution_count": 44,
   "id": "3107a5f3-cd16-4376-ab3f-38bea1f2efa6",
   "metadata": {},
   "outputs": [
    {
     "name": "stdout",
     "output_type": "stream",
     "text": [
      "홍길동은 10살입니다.\n"
     ]
    }
   ],
   "source": [
    "print(f'홍길동은 {a}살입니다.')"
   ]
  },
  {
   "cell_type": "markdown",
   "id": "b499af26-6945-4fa8-9677-347057461558",
   "metadata": {},
   "source": [
    "## 02. 연산자"
   ]
  },
  {
   "cell_type": "markdown",
   "id": "71325caf-0646-4464-be66-d704ee99cb4e",
   "metadata": {},
   "source": [
    "## 2.1 산술연산자"
   ]
  },
  {
   "cell_type": "code",
   "execution_count": 47,
   "id": "b9c51cbf-6e64-4151-8427-801da25111c3",
   "metadata": {},
   "outputs": [],
   "source": [
    "a = 5\n",
    "b = 2"
   ]
  },
  {
   "cell_type": "code",
   "execution_count": 46,
   "id": "6ada3fc5-be9d-44fa-bea2-7a28ef6c63f7",
   "metadata": {},
   "outputs": [
    {
     "name": "stdout",
     "output_type": "stream",
     "text": [
      "7\n",
      "-3\n",
      "10\n",
      "0.4\n"
     ]
    }
   ],
   "source": [
    "print(a + b)\n",
    "print(a - b)\n",
    "print(a * b)\n",
    "print(a / b)"
   ]
  },
  {
   "cell_type": "code",
   "execution_count": 49,
   "id": "a1e056f6-1b61-42b2-8c7c-bf49428dd42a",
   "metadata": {},
   "outputs": [
    {
     "name": "stdout",
     "output_type": "stream",
     "text": [
      "25\n",
      "2\n",
      "1\n"
     ]
    }
   ],
   "source": [
    "print(a ** b) # 제곱수\n",
    "print(a // b) # 몫\n",
    "print(a % b) # 나머지"
   ]
  },
  {
   "cell_type": "code",
   "execution_count": 52,
   "id": "d248ef6d-0c0f-4436-93ce-43e6c7b04910",
   "metadata": {},
   "outputs": [
    {
     "name": "stdout",
     "output_type": "stream",
     "text": [
      "(2, 1)\n"
     ]
    }
   ],
   "source": [
    "result = divmod(a, b) # 몫과 나머지를 한번에 계산\n",
    "print(result)"
   ]
  },
  {
   "cell_type": "markdown",
   "id": "790a3870-67fb-45fa-bfa0-c718e4a509db",
   "metadata": {},
   "source": [
    "## 2.2 비교연산자"
   ]
  },
  {
   "cell_type": "code",
   "execution_count": 53,
   "id": "545e6bff-011d-4a50-a1e5-19e0ae6fe763",
   "metadata": {},
   "outputs": [],
   "source": [
    "a = 5\n",
    "b = 10"
   ]
  },
  {
   "cell_type": "code",
   "execution_count": 55,
   "id": "e8732c5f-687d-4beb-910c-1a30a321144a",
   "metadata": {},
   "outputs": [
    {
     "name": "stdout",
     "output_type": "stream",
     "text": [
      "False\n",
      "True\n",
      "False\n",
      "True\n"
     ]
    }
   ],
   "source": [
    "print(a > b) # a가 b보다 큰가요? 맞으면 T 틀리면 F\n",
    "print(a < b)\n",
    "print(a >= b)\n",
    "print(a <= b)"
   ]
  },
  {
   "cell_type": "code",
   "execution_count": 57,
   "id": "75ff6b32-832f-4d54-92b2-5edaa292fb98",
   "metadata": {},
   "outputs": [
    {
     "name": "stdout",
     "output_type": "stream",
     "text": [
      "False\n",
      "True\n"
     ]
    }
   ],
   "source": [
    "print(a == b) # a랑 b가 같나요?\n",
    "print(a != b) # a랑 b가 다른가요?"
   ]
  },
  {
   "cell_type": "code",
   "execution_count": 58,
   "id": "bb6f592c-9258-43ba-81b3-d26ccc51afe8",
   "metadata": {},
   "outputs": [
    {
     "name": "stdout",
     "output_type": "stream",
     "text": [
      "True\n",
      "False\n"
     ]
    }
   ],
   "source": [
    "print('hi' == 'hi')\n",
    "print('hi' == 'Hi')"
   ]
  },
  {
   "cell_type": "markdown",
   "id": "270c3e39-9a5a-4750-9c4d-ada31ce7d6a3",
   "metadata": {},
   "source": [
    "## 2.3 논리연산자\n",
    "\n",
    "- and: 양쪽 모두 True일 때, True를 반환\n",
    "- or: 양쪽 모두 False일 때, False를 반환 (둘 중에 하나라도 True면 True)\n",
    "- not: 상태를 부정"
   ]
  },
  {
   "cell_type": "code",
   "execution_count": 59,
   "id": "37909b7c-bdbb-4ea9-bad0-a3d9b28d0194",
   "metadata": {},
   "outputs": [
    {
     "name": "stdout",
     "output_type": "stream",
     "text": [
      "True\n",
      "False\n",
      "False\n",
      "False\n"
     ]
    }
   ],
   "source": [
    "print(True and True)\n",
    "print(True and False)\n",
    "print(False and True)\n",
    "print(False and False)"
   ]
  },
  {
   "cell_type": "code",
   "execution_count": 60,
   "id": "8c6df7df-d10a-4d3c-9565-438293dbdd25",
   "metadata": {},
   "outputs": [
    {
     "name": "stdout",
     "output_type": "stream",
     "text": [
      "True\n",
      "True\n",
      "True\n",
      "False\n"
     ]
    }
   ],
   "source": [
    "print(True or True)\n",
    "print(True or False)\n",
    "print(False or True)\n",
    "print(False or False)"
   ]
  },
  {
   "cell_type": "code",
   "execution_count": 67,
   "id": "20fdb68e-e98c-4537-ac9f-0b5070186fcb",
   "metadata": {},
   "outputs": [
    {
     "name": "stdout",
     "output_type": "stream",
     "text": [
      "False\n"
     ]
    }
   ],
   "source": [
    "a = True\n",
    "print(not a)"
   ]
  },
  {
   "cell_type": "markdown",
   "id": "47cf01a1-7932-4c4a-b06a-30642d032be0",
   "metadata": {},
   "source": [
    "### 단축평가"
   ]
  },
  {
   "cell_type": "code",
   "execution_count": 72,
   "id": "256d9eb9-e192-4498-9d1d-aa5f2b7748c1",
   "metadata": {},
   "outputs": [
    {
     "name": "stdout",
     "output_type": "stream",
     "text": [
      "5\n",
      "0\n",
      "0\n",
      "0\n"
     ]
    }
   ],
   "source": [
    "print(3 and 5) # 앞이 T인 경우 뒤를 반환\n",
    "print(3 and 0)\n",
    "print(0 and 5) # 앞이 F인 경우 앞을 반환\n",
    "print(0 and 0)"
   ]
  },
  {
   "cell_type": "code",
   "execution_count": 66,
   "id": "78f25959-12d8-486a-8fdd-6c174bc77dda",
   "metadata": {},
   "outputs": [
    {
     "name": "stdout",
     "output_type": "stream",
     "text": [
      "3\n",
      "3\n",
      "5\n",
      "0\n"
     ]
    }
   ],
   "source": [
    "print(3 or 5) # 앞이 T인 경우 앞을 반환\n",
    "print(3 or 0)\n",
    "print(0 or 5) # 앞이 F인 경우 뒤를 반환\n",
    "print(0 or 0)"
   ]
  },
  {
   "cell_type": "markdown",
   "id": "ac85ee30-45fa-477d-bc04-714f9d318c0c",
   "metadata": {},
   "source": [
    "## 2.4 복합연산자"
   ]
  },
  {
   "cell_type": "code",
   "execution_count": 69,
   "id": "c68163b1-17d7-486a-be04-d09629eb6cf7",
   "metadata": {},
   "outputs": [],
   "source": [
    "a = 2\n",
    "b = 3"
   ]
  },
  {
   "cell_type": "code",
   "execution_count": 70,
   "id": "83911699-a4b3-4283-ac21-f723399caf1a",
   "metadata": {},
   "outputs": [],
   "source": [
    "a = a + b # =: 오른쪽의 값을 왼쪽에 할당 # 결과: 5\n",
    "a = a - b\n",
    "a = a * b\n",
    "a = a / b"
   ]
  },
  {
   "cell_type": "code",
   "execution_count": 71,
   "id": "2f1d9578-5a5a-4e85-86e9-b75592040460",
   "metadata": {},
   "outputs": [
    {
     "data": {
      "text/plain": [
       "5"
      ]
     },
     "execution_count": 71,
     "metadata": {},
     "output_type": "execute_result"
    }
   ],
   "source": [
    "a += b\n",
    "a -+ b\n",
    "a *= b\n",
    "a /= b\n",
    "a //= b \n",
    "a %= b\n",
    "a **= b"
   ]
  },
  {
   "cell_type": "markdown",
   "id": "5dfbf2e4-1e68-45ec-9c51-6d1e599f0e43",
   "metadata": {},
   "source": [
    "## 2.5 기타연산자"
   ]
  },
  {
   "cell_type": "code",
   "execution_count": 73,
   "id": "9f150d50-7f3e-47a9-99a0-3cfb21fbe73d",
   "metadata": {},
   "outputs": [],
   "source": [
    "a = 'hi'\n",
    "b = 'hello'"
   ]
  },
  {
   "cell_type": "code",
   "execution_count": 74,
   "id": "9ed92fc8-d238-46b8-ba2d-e8753c3b037b",
   "metadata": {},
   "outputs": [
    {
     "name": "stdout",
     "output_type": "stream",
     "text": [
      "hihello\n"
     ]
    }
   ],
   "source": [
    "# concatenation\n",
    "print(a + b) # 연결\n",
    "print(a + 1) # error: 앞이 string이므로 concatenation으로 인식\n",
    "print(1 + b) # error: 앞이 int이므로 plus로 인식"
   ]
  },
  {
   "cell_type": "code",
   "execution_count": 75,
   "id": "60f46e8e-346e-4456-a1d9-589c00b52282",
   "metadata": {},
   "outputs": [],
   "source": [
    "a = [1, 2, 3]\n",
    "b = [2, 3, 4]"
   ]
  },
  {
   "cell_type": "code",
   "execution_count": 76,
   "id": "6c082a05-56c2-4e42-9794-651e26ffcc04",
   "metadata": {},
   "outputs": [
    {
     "name": "stdout",
     "output_type": "stream",
     "text": [
      "[1, 2, 3, 2, 3, 4]\n"
     ]
    }
   ],
   "source": [
    "print(a + b) # concatenation"
   ]
  },
  {
   "cell_type": "code",
   "execution_count": 79,
   "id": "7ce7db96-863d-4686-97d4-ecf12d133317",
   "metadata": {},
   "outputs": [
    {
     "name": "stdout",
     "output_type": "stream",
     "text": [
      "True\n",
      "False\n"
     ]
    }
   ],
   "source": [
    "print(1 in a) # 1이라는 데이터가 a에 포함되어 있나요? # containment\n",
    "print(10 in a)"
   ]
  },
  {
   "cell_type": "code",
   "execution_count": 5,
   "id": "a5703c4b-d736-40d8-bc62-ee630474a40a",
   "metadata": {},
   "outputs": [],
   "source": [
    "a = 257\n",
    "b = 257"
   ]
  },
  {
   "cell_type": "code",
   "execution_count": 6,
   "id": "e83f8e6a-cd85-424f-9485-85c63ca54741",
   "metadata": {},
   "outputs": [
    {
     "name": "stdout",
     "output_type": "stream",
     "text": [
      "True\n",
      "False\n"
     ]
    }
   ],
   "source": [
    "print(a == b) # a와 b의 값이 같은지 # 위와 아래는 비슷하긴 한데...\n",
    "print(a is b) # a가 b인가요? # a와 b가 본질적으로 같은 객체인지 = 메모리를 차지하는 위치가 같은지\n",
    "# 500인 경우 F, 100인 경우 T => 256까지는 자주 쓰는 숫자이므로 이미 메모리를 차지하고 있음"
   ]
  },
  {
   "cell_type": "markdown",
   "id": "7eded3a3-9cdb-4649-aaf1-1be38daea0ee",
   "metadata": {},
   "source": [
    "### 연산자 우선순위\n",
    "\n",
    "0. ()를 통해서 그룹\n",
    "1. **\n",
    "2. 산술연산자(*, /)\n",
    "3. 산술연산자(+, -)\n",
    "4. 비교연산자, in, is\n",
    "5. not\n",
    "6. and\n",
    "7. or"
   ]
  },
  {
   "cell_type": "code",
   "execution_count": 85,
   "id": "cb66c005-6f3a-47cd-aaa3-ecd06bb6e863",
   "metadata": {},
   "outputs": [
    {
     "name": "stdout",
     "output_type": "stream",
     "text": [
      "-81\n",
      "81\n"
     ]
    }
   ],
   "source": [
    "print(-3 ** 4)\n",
    "print((-3) ** 4)"
   ]
  },
  {
   "cell_type": "markdown",
   "id": "fd6f1788-4e4f-4799-b239-e9a4076fa3fa",
   "metadata": {},
   "source": [
    "## 03. 형변환"
   ]
  },
  {
   "cell_type": "markdown",
   "id": "add172b2-9f24-4221-81c3-2487846ab798",
   "metadata": {},
   "source": [
    "## 3.1 암시적 형변환\n",
    "\n",
    "---\n",
    "- 자동으로 바뀜\n",
    "- T,F를 숫자로/ 1,0을 T,F로"
   ]
  },
  {
   "cell_type": "code",
   "execution_count": 86,
   "id": "1851ab2b-0407-4dcd-b30a-2fbdc5fc1210",
   "metadata": {},
   "outputs": [],
   "source": [
    "a = True # 1 \n",
    "b = False # 0\n",
    "c = 1"
   ]
  },
  {
   "cell_type": "code",
   "execution_count": 88,
   "id": "2cf8970f-68df-4bd4-a36a-7e5548612c99",
   "metadata": {},
   "outputs": [
    {
     "name": "stdout",
     "output_type": "stream",
     "text": [
      "1\n",
      "2\n"
     ]
    }
   ],
   "source": [
    "print(a + b) \n",
    "print(a + c)"
   ]
  },
  {
   "cell_type": "markdown",
   "id": "21cc61f8-178b-41a2-b6d2-c38dbc899752",
   "metadata": {},
   "source": [
    "## 3.2 명시적 형변환\n",
    "\n",
    "- int()\n",
    "- float()\n",
    "- str()\n",
    "- bool()"
   ]
  },
  {
   "cell_type": "code",
   "execution_count": 89,
   "id": "ca21a05d-11b6-43a3-a423-6d67a8c35462",
   "metadata": {},
   "outputs": [],
   "source": [
    "a = 1\n",
    "b = '반'"
   ]
  },
  {
   "cell_type": "code",
   "execution_count": 90,
   "id": "b40eb6f7-f20b-49be-b455-1a6d57aa7beb",
   "metadata": {},
   "outputs": [
    {
     "ename": "TypeError",
     "evalue": "unsupported operand type(s) for +: 'int' and 'str'",
     "output_type": "error",
     "traceback": [
      "\u001b[1;31m---------------------------------------------------------------------------\u001b[0m",
      "\u001b[1;31mTypeError\u001b[0m                                 Traceback (most recent call last)",
      "Cell \u001b[1;32mIn[90], line 1\u001b[0m\n\u001b[1;32m----> 1\u001b[0m \u001b[38;5;28mprint\u001b[39m(\u001b[43ma\u001b[49m\u001b[43m \u001b[49m\u001b[38;5;241;43m+\u001b[39;49m\u001b[43m \u001b[49m\u001b[43mb\u001b[49m)\n",
      "\u001b[1;31mTypeError\u001b[0m: unsupported operand type(s) for +: 'int' and 'str'"
     ]
    }
   ],
   "source": [
    "print(a + b) # error"
   ]
  },
  {
   "cell_type": "code",
   "execution_count": 91,
   "id": "1ea6cbb1-1a41-4b1d-b698-b9f9f992c78f",
   "metadata": {},
   "outputs": [
    {
     "name": "stdout",
     "output_type": "stream",
     "text": [
      "1반\n"
     ]
    }
   ],
   "source": [
    "print(str(a) + b) # 대부분의 경우 str로 변환 가능"
   ]
  },
  {
   "cell_type": "code",
   "execution_count": 93,
   "id": "6df81d9d-8373-4298-9ea7-c1d535b44aeb",
   "metadata": {},
   "outputs": [
    {
     "name": "stdout",
     "output_type": "stream",
     "text": [
      "3\n",
      "<class 'str'>\n",
      "3\n",
      "<class 'int'>\n"
     ]
    }
   ],
   "source": [
    "a = '3'\n",
    "print(a)\n",
    "print(type(a))\n",
    "\n",
    "b = int(a) # a라는 글자를 숫자로 바꿀거야\n",
    "print(b)\n",
    "print(type(b))"
   ]
  },
  {
   "cell_type": "code",
   "execution_count": 94,
   "id": "c1aa9eb4-376b-40a8-92af-2fdb8a84aa80",
   "metadata": {},
   "outputs": [
    {
     "ename": "ValueError",
     "evalue": "invalid literal for int() with base 10: 'apple'",
     "output_type": "error",
     "traceback": [
      "\u001b[1;31m---------------------------------------------------------------------------\u001b[0m",
      "\u001b[1;31mValueError\u001b[0m                                Traceback (most recent call last)",
      "Cell \u001b[1;32mIn[94], line 2\u001b[0m\n\u001b[0;32m      1\u001b[0m c \u001b[38;5;241m=\u001b[39m \u001b[38;5;124m'\u001b[39m\u001b[38;5;124mapple\u001b[39m\u001b[38;5;124m'\u001b[39m\n\u001b[1;32m----> 2\u001b[0m d \u001b[38;5;241m=\u001b[39m \u001b[38;5;28;43mint\u001b[39;49m\u001b[43m(\u001b[49m\u001b[43mc\u001b[49m\u001b[43m)\u001b[49m \u001b[38;5;66;03m# error: 숫자로 바꿀 수 있는 형태여야 가능\u001b[39;00m\n",
      "\u001b[1;31mValueError\u001b[0m: invalid literal for int() with base 10: 'apple'"
     ]
    }
   ],
   "source": [
    "c = 'apple'\n",
    "d = int(c) # error: 숫자로 바꿀 수 있는 형태여야 가능"
   ]
  },
  {
   "cell_type": "code",
   "execution_count": 97,
   "id": "bfaa607a-deec-4002-ac73-0684a3f12b56",
   "metadata": {},
   "outputs": [
    {
     "name": "stdout",
     "output_type": "stream",
     "text": [
      "True\n",
      "False\n",
      "True\n"
     ]
    }
   ],
   "source": [
    "a = 1\n",
    "b = 0 # 0만 False, 0이 아닌 나머지 데이터는 True\n",
    "c = -123\n",
    "print(bool(a))\n",
    "print(bool(b))\n",
    "print(bool(c))"
   ]
  },
  {
   "cell_type": "code",
   "execution_count": 1,
   "id": "3ce90bd2-dc49-4a90-8982-dab1cda9a7cf",
   "metadata": {},
   "outputs": [
    {
     "name": "stdout",
     "output_type": "stream",
     "text": [
      "False\n",
      "True\n"
     ]
    }
   ],
   "source": [
    "print(bool([])) # 데이터가 하나도 없으면 False\n",
    "print(bool([1, 2, 3])) # 하나라도 있으면 True"
   ]
  },
  {
   "cell_type": "markdown",
   "id": "d31d9550-cd55-43f2-83e0-5cab0c869057",
   "metadata": {},
   "source": [
    "## a vs print(a)"
   ]
  },
  {
   "cell_type": "code",
   "execution_count": 3,
   "id": "00ea5c3e-22b2-4eb4-bd2e-a0a3046c6ddf",
   "metadata": {},
   "outputs": [
    {
     "data": {
      "text/plain": [
       "False"
      ]
     },
     "execution_count": 3,
     "metadata": {},
     "output_type": "execute_result"
    }
   ],
   "source": [
    "1 < 2\n",
    "5 == 1\n",
    "1 > 2 # 셀의 마지막 값을 자동으로 output으로 출력해주는 편의 기능"
   ]
  },
  {
   "cell_type": "code",
   "execution_count": 5,
   "id": "fb56e11a-dc7e-4c08-81dd-cbe814c791ca",
   "metadata": {},
   "outputs": [
    {
     "name": "stdout",
     "output_type": "stream",
     "text": [
      "True\n",
      "False\n",
      "False\n"
     ]
    }
   ],
   "source": [
    "print(1 < 2)\n",
    "print(5 == 1)\n",
    "print(1 > 2) # 내 의도대로 출력"
   ]
  },
  {
   "cell_type": "code",
   "execution_count": 7,
   "id": "47b07db6-aca4-46c5-8b76-a65d3745d226",
   "metadata": {},
   "outputs": [
    {
     "name": "stdout",
     "output_type": "stream",
     "text": [
      "(2, 1)\n"
     ]
    },
    {
     "ename": "NameError",
     "evalue": "name 'a' is not defined",
     "output_type": "error",
     "traceback": [
      "\u001b[1;31m---------------------------------------------------------------------------\u001b[0m",
      "\u001b[1;31mNameError\u001b[0m                                 Traceback (most recent call last)",
      "Cell \u001b[1;32mIn[7], line 3\u001b[0m\n\u001b[0;32m      1\u001b[0m result \u001b[38;5;241m=\u001b[39m \u001b[38;5;28mdivmod\u001b[39m(\u001b[38;5;241m5\u001b[39m, \u001b[38;5;241m2\u001b[39m)\n\u001b[0;32m      2\u001b[0m \u001b[38;5;28mprint\u001b[39m(result) \u001b[38;5;66;03m# result의 값을 여러곳에서 활용 가능함\u001b[39;00m\n\u001b[1;32m----> 3\u001b[0m \u001b[38;5;28mprint\u001b[39m(\u001b[43ma\u001b[49m, result)\n",
      "\u001b[1;31mNameError\u001b[0m: name 'a' is not defined"
     ]
    }
   ],
   "source": [
    "result = divmod(5, 2)\n",
    "print(result) # result의 값을 여러곳에서 활용 가능"
   ]
  },
  {
   "cell_type": "markdown",
   "id": "cd5635cd-996d-4e19-9e30-3436e6d66986",
   "metadata": {},
   "source": [
    "## 250212\n",
    "1. 숫자, 글자, 참과 거짓\n",
    "2. ~을 연산하기\n",
    "\n",
    "- Jupyter notebook: 내가 마지막으로 실행한 것이 누적됨"
   ]
  },
  {
   "cell_type": "markdown",
   "id": "7cd59877-f82d-4ce0-bf4c-ba0d2bc29bf9",
   "metadata": {},
   "source": [
    "## 04. 시퀀스 자료형\n",
    "\n",
    "- 시퀀스는 데이터의 **순서대로** 나열된 자료 구조\n",
    "    - 순서대로 나열되었다는 것은 정렬된 것과 다름\n",
    "\n",
    "1. List\n",
    "2. Tuple\n",
    "3. Range\n",
    "4. String"
   ]
  },
  {
   "cell_type": "markdown",
   "id": "f79cf5fb-00a2-48dd-a552-e3a99f665708",
   "metadata": {},
   "source": [
    "## 4.1 List(리스트, 배열)\n",
    "\n",
    "- 선언: `var_name = [value1, value2, value3, ...]`\n",
    "- 접근: `var_name[index]` #. index: 숫자 데이터, 0, 1, 2, 3번째..."
   ]
  },
  {
   "cell_type": "code",
   "execution_count": 3,
   "id": "0b98d86a-995b-42c7-bf0c-27db27f79870",
   "metadata": {},
   "outputs": [
    {
     "name": "stdout",
     "output_type": "stream",
     "text": [
      "[]\n",
      "<class 'list'>\n"
     ]
    }
   ],
   "source": [
    "l = [] # 변수 이름은 영어로 함\n",
    "print(l)\n",
    "print(type(l)) # 괄호가 열렸으면 무조건 닫고 안으로 들어갈 것"
   ]
  },
  {
   "cell_type": "code",
   "execution_count": 8,
   "id": "d4ea9f38-726d-408e-b91c-509ba47ee134",
   "metadata": {},
   "outputs": [
    {
     "name": "stdout",
     "output_type": "stream",
     "text": [
      "['서울', '대전', '부산']\n",
      "서울\n",
      "대전\n",
      "부산\n"
     ]
    },
    {
     "ename": "IndexError",
     "evalue": "list index out of range",
     "output_type": "error",
     "traceback": [
      "\u001b[1;31m---------------------------------------------------------------------------\u001b[0m",
      "\u001b[1;31mIndexError\u001b[0m                                Traceback (most recent call last)",
      "Cell \u001b[1;32mIn[8], line 6\u001b[0m\n\u001b[0;32m      4\u001b[0m \u001b[38;5;28mprint\u001b[39m(location[\u001b[38;5;241m1\u001b[39m])\n\u001b[0;32m      5\u001b[0m \u001b[38;5;28mprint\u001b[39m(location[\u001b[38;5;241m2\u001b[39m])\n\u001b[1;32m----> 6\u001b[0m \u001b[38;5;28mprint\u001b[39m(\u001b[43mlocation\u001b[49m\u001b[43m[\u001b[49m\u001b[38;5;241;43m3\u001b[39;49m\u001b[43m]\u001b[49m) \u001b[38;5;66;03m# error: 내가 가지고 있는 숫자의 범위까지만 가져올 수 있음\u001b[39;00m\n\u001b[0;32m      8\u001b[0m location[\u001b[38;5;241m1\u001b[39m] \u001b[38;5;241m=\u001b[39m \u001b[38;5;124m'\u001b[39m\u001b[38;5;124m대구\u001b[39m\u001b[38;5;124m'\u001b[39m\n\u001b[0;32m      9\u001b[0m \u001b[38;5;28mprint\u001b[39m(location)\n",
      "\u001b[1;31mIndexError\u001b[0m: list index out of range"
     ]
    }
   ],
   "source": [
    "location = ['서울', '대전', '부산']\n",
    "print(location)\n",
    "print(location[0])\n",
    "print(location[1])\n",
    "print(location[2])\n",
    "print(location[3]) # error: 내가 가지고 있는 숫자의 범위까지만 가져올 수 있음"
   ]
  },
  {
   "cell_type": "code",
   "execution_count": 9,
   "id": "e1214dbe-2bde-4cf1-9c9b-c0e2bd74d457",
   "metadata": {},
   "outputs": [
    {
     "name": "stdout",
     "output_type": "stream",
     "text": [
      "['서울', '대구', '부산']\n"
     ]
    }
   ],
   "source": [
    "location[1] = '대구' # 재할당\n",
    "print(location)"
   ]
  },
  {
   "cell_type": "markdown",
   "id": "c65ac83e-df48-40e4-b841-9ed3f27c868d",
   "metadata": {},
   "source": [
    "## 4.2 Tuple(튜플)\n",
    "\n",
    "- 선언: `var_name = (value1, value2, value3, ...)`\n",
    "- 접근: `var_name[index]` #. 순서가 있는 것은 대괄호로 인덱스 접근\n",
    "- 수정불가능하다(immutable) #. 불변하다"
   ]
  },
  {
   "cell_type": "code",
   "execution_count": 10,
   "id": "2f39c3ea-816b-43dd-a34f-ae2e5cfc3d90",
   "metadata": {},
   "outputs": [
    {
     "name": "stdout",
     "output_type": "stream",
     "text": [
      "('서울', '대전', '대구')\n",
      "서울\n"
     ]
    }
   ],
   "source": [
    "location = ('서울', '대전', '대구')\n",
    "print(location)\n",
    "print(location[0])"
   ]
  },
  {
   "cell_type": "code",
   "execution_count": 11,
   "id": "bda1e266-3a6d-4bd5-9205-c7fa5159eb79",
   "metadata": {},
   "outputs": [
    {
     "ename": "NameError",
     "evalue": "name 'locaion' is not defined",
     "output_type": "error",
     "traceback": [
      "\u001b[1;31m---------------------------------------------------------------------------\u001b[0m",
      "\u001b[1;31mNameError\u001b[0m                                 Traceback (most recent call last)",
      "Cell \u001b[1;32mIn[11], line 1\u001b[0m\n\u001b[1;32m----> 1\u001b[0m \u001b[43mlocaion\u001b[49m[\u001b[38;5;241m2\u001b[39m] \u001b[38;5;241m=\u001b[39m \u001b[38;5;124m'\u001b[39m\u001b[38;5;124m부산\u001b[39m\u001b[38;5;124m'\u001b[39m\n",
      "\u001b[1;31mNameError\u001b[0m: name 'locaion' is not defined"
     ]
    }
   ],
   "source": [
    "locaion[2] = '부산' # error: 튜플을 한번 만들어두면 변하지 않음"
   ]
  },
  {
   "cell_type": "code",
   "execution_count": 12,
   "id": "e00cfb15-7e59-473b-82aa-d12a32299f42",
   "metadata": {},
   "outputs": [
    {
     "name": "stdout",
     "output_type": "stream",
     "text": [
      "(2, 1)\n",
      "<class 'tuple'>\n"
     ]
    }
   ],
   "source": [
    "result = divmod(5, 2)\n",
    "print(result)\n",
    "print(type(result))"
   ]
  },
  {
   "cell_type": "code",
   "execution_count": 13,
   "id": "383b6262-6173-413e-81f7-673cba3b0e25",
   "metadata": {},
   "outputs": [
    {
     "name": "stdout",
     "output_type": "stream",
     "text": [
      "2 1\n"
     ]
    }
   ],
   "source": [
    "x = 1\n",
    "y = 2\n",
    "\n",
    "(x, y) = (y, x) # 변수값 편하게 바꿀 때 사용\n",
    "print(x, y)"
   ]
  },
  {
   "cell_type": "markdown",
   "id": "f0d32228-4da3-4e9c-866d-3d20549ca796",
   "metadata": {},
   "source": [
    "## 4.3 Range\n",
    "\n",
    "- 선언\n",
    "    - range(n): 0부터 n-1까지 범위 *0 이상 45 미만*\n",
    "    - range(n. m): n부터 m-1까지 범위 \n",
    "    - range(n, m, s): n부터 m-1까지 s만큼 증가하는 범위 *s를 더한다*"
   ]
  },
  {
   "cell_type": "code",
   "execution_count": 15,
   "id": "35782837-0311-4730-8ed3-231be7d90499",
   "metadata": {},
   "outputs": [
    {
     "name": "stdout",
     "output_type": "stream",
     "text": [
      "range(0, 45)\n",
      "[0, 1, 2, 3, 4, 5, 6, 7, 8, 9, 10, 11, 12, 13, 14, 15, 16, 17, 18, 19, 20, 21, 22, 23, 24, 25, 26, 27, 28, 29, 30, 31, 32, 33, 34, 35, 36, 37, 38, 39, 40, 41, 42, 43, 44]\n"
     ]
    }
   ],
   "source": [
    "lotto = range(45)\n",
    "print(lotto)\n",
    "print(list(lotto)) # 형변환"
   ]
  },
  {
   "cell_type": "code",
   "execution_count": 16,
   "id": "8d8e67b6-9ff6-4662-9098-afcef1945197",
   "metadata": {},
   "outputs": [
    {
     "name": "stdout",
     "output_type": "stream",
     "text": [
      "range(1, 46)\n",
      "[1, 2, 3, 4, 5, 6, 7, 8, 9, 10, 11, 12, 13, 14, 15, 16, 17, 18, 19, 20, 21, 22, 23, 24, 25, 26, 27, 28, 29, 30, 31, 32, 33, 34, 35, 36, 37, 38, 39, 40, 41, 42, 43, 44, 45]\n"
     ]
    }
   ],
   "source": [
    "lotto = range(1, 46)\n",
    "print(lotto)\n",
    "print(list(lotto))"
   ]
  },
  {
   "cell_type": "code",
   "execution_count": 17,
   "id": "96fbfe9f-927f-4362-8da8-692f10a7f8e0",
   "metadata": {},
   "outputs": [
    {
     "name": "stdout",
     "output_type": "stream",
     "text": [
      "[2, 4, 6, 8, 10, 12, 14, 16, 18, 20]\n"
     ]
    }
   ],
   "source": [
    "even = range(2, 21, 2) # even: 짝수\n",
    "print(list(even))"
   ]
  },
  {
   "cell_type": "code",
   "execution_count": 18,
   "id": "e8514f34-437e-4add-bf9a-f4dad4d45a09",
   "metadata": {},
   "outputs": [
    {
     "name": "stdout",
     "output_type": "stream",
     "text": [
      "[0, -2, -4, -6, -8, -10, -12, -14, -16, -18, -20]\n"
     ]
    }
   ],
   "source": [
    "numbers = range(0, -21, -2) # 음수도 가능\n",
    "print(list(numbers))"
   ]
  },
  {
   "cell_type": "markdown",
   "id": "5bc1c80e-be2d-4756-9ceb-251279d3cb2e",
   "metadata": {},
   "source": [
    "## 4.4 String\n",
    "\n",
    "- 기본 데이터 구조 참고"
   ]
  },
  {
   "cell_type": "code",
   "execution_count": 20,
   "id": "1a5dc4f4-8961-4205-8da2-f28aab497d01",
   "metadata": {},
   "outputs": [
    {
     "name": "stdout",
     "output_type": "stream",
     "text": [
      "h\n"
     ]
    }
   ],
   "source": [
    "s = 'hi my name is Jin' # 시퀀스 데이터: 순서대로 나열된 단어의 집합체라고 생각하면 됨\n",
    "# s = ['h', 'i', 'm', 'y', ...]\n",
    "\n",
    "print(s[0])"
   ]
  },
  {
   "cell_type": "markdown",
   "id": "50a91feb-95e0-4d3d-934b-7e11b990b154",
   "metadata": {},
   "source": [
    "## 4.5 시퀀스에서 활용 가능한 연산/함수"
   ]
  },
  {
   "cell_type": "code",
   "execution_count": 22,
   "id": "c1ea210e-826c-4eb7-8c9d-71511b59a6cf",
   "metadata": {},
   "outputs": [],
   "source": [
    "my_list = ['a', 'b', 'c', 'd', 'e']\n",
    "my_tuple = (6, 7, 8, 9, 10)\n",
    "my_range = range(5)\n",
    "my_string = '가나다라마'"
   ]
  },
  {
   "cell_type": "code",
   "execution_count": 24,
   "id": "dfe17b97-4d26-4a24-bb24-dd4eec274710",
   "metadata": {},
   "outputs": [
    {
     "name": "stdout",
     "output_type": "stream",
     "text": [
      "a\n",
      "6\n",
      "0\n",
      "가\n"
     ]
    }
   ],
   "source": [
    "# indexing\n",
    "print(my_list[0])\n",
    "print(my_tuple[0])\n",
    "print(my_range[0])\n",
    "print(my_string[0])"
   ]
  },
  {
   "cell_type": "code",
   "execution_count": 25,
   "id": "712c09a2-9b21-41e3-b018-392da40a483a",
   "metadata": {},
   "outputs": [
    {
     "name": "stdout",
     "output_type": "stream",
     "text": [
      "['a', 'b']\n",
      "(6, 7)\n",
      "range(0, 2)\n",
      "가나\n"
     ]
    }
   ],
   "source": [
    "# slicing\n",
    "# var_name[index1:index2] # 시작점과 끝점을 주면 글자를 잘라줌\n",
    "print(my_list[0:2])\n",
    "print(my_tuple[0:2])\n",
    "print(my_range[0:2])\n",
    "print(my_string[0:2])"
   ]
  },
  {
   "cell_type": "code",
   "execution_count": 26,
   "id": "dae36845-3ec7-4f81-899b-7cfa3fe1fa11",
   "metadata": {},
   "outputs": [
    {
     "name": "stdout",
     "output_type": "stream",
     "text": [
      "['c', 'd', 'e']\n",
      "(8, 9, 10)\n",
      "range(2, 5)\n",
      "다라마\n"
     ]
    }
   ],
   "source": [
    "print(my_list[2:5])  \n",
    "print(my_tuple[2:5])\n",
    "print(my_range[2:5])\n",
    "print(my_string[2:5])"
   ]
  },
  {
   "cell_type": "code",
   "execution_count": 30,
   "id": "86dea76a-cbab-4856-a56a-d19f138d5553",
   "metadata": {},
   "outputs": [
    {
     "name": "stdout",
     "output_type": "stream",
     "text": [
      "['d', 'e']\n",
      "['a', 'b', 'c']\n"
     ]
    }
   ],
   "source": [
    "# 인덱스 생략\n",
    "print(my_list[3:]) # n부터 끝까지\n",
    "print(my_list[:3]) # 앞에서부터 n까지"
   ]
  },
  {
   "cell_type": "code",
   "execution_count": 33,
   "id": "5ca7347e-fc5e-4a6b-915a-11c74871a254",
   "metadata": {},
   "outputs": [
    {
     "name": "stdout",
     "output_type": "stream",
     "text": [
      "e\n",
      "['b', 'c', 'd']\n"
     ]
    }
   ],
   "source": [
    "# 음수 인덱스\n",
    "print(my_list[-1]) # 맨뒤 찾을 때 주로 쓴다\n",
    "print(my_list[1:-1])"
   ]
  },
  {
   "cell_type": "code",
   "execution_count": 36,
   "id": "34a000fe-e984-4f10-851d-aab352884296",
   "metadata": {},
   "outputs": [
    {
     "name": "stdout",
     "output_type": "stream",
     "text": [
      "['a', 'c', 'e']\n"
     ]
    }
   ],
   "source": [
    "# step\n",
    "print(my_list[::2]) # 2칸씩 건너"
   ]
  },
  {
   "cell_type": "code",
   "execution_count": 41,
   "id": "f7cd5794-884e-48e2-b0eb-020a3c8ab8b1",
   "metadata": {},
   "outputs": [
    {
     "name": "stdout",
     "output_type": "stream",
     "text": [
      "False\n",
      "True\n",
      "True\n"
     ]
    }
   ],
   "source": [
    "# in\n",
    "# 데이터가 이 안에 들어있나요?\n",
    "print(1 in my_list)\n",
    "print('a' in my_list)\n",
    "\n",
    "print('z' not in my_list) # 들어있지 않나요?"
   ]
  },
  {
   "cell_type": "code",
   "execution_count": 44,
   "id": "9448229c-975b-4200-ac57-b397d986d5fb",
   "metadata": {},
   "outputs": [
    {
     "name": "stdout",
     "output_type": "stream",
     "text": [
      "['a', 'b', 'c', 'd', 'e', 1, 2, 3, 4, 5]\n",
      "(6, 7, 8, 9, 10, 1, 2, 3)\n"
     ]
    },
    {
     "ename": "TypeError",
     "evalue": "can only concatenate tuple (not \"list\") to tuple",
     "output_type": "error",
     "traceback": [
      "\u001b[1;31m---------------------------------------------------------------------------\u001b[0m",
      "\u001b[1;31mTypeError\u001b[0m                                 Traceback (most recent call last)",
      "Cell \u001b[1;32mIn[44], line 4\u001b[0m\n\u001b[0;32m      2\u001b[0m \u001b[38;5;28mprint\u001b[39m(my_list \u001b[38;5;241m+\u001b[39m [\u001b[38;5;241m1\u001b[39m, \u001b[38;5;241m2\u001b[39m, \u001b[38;5;241m3\u001b[39m, \u001b[38;5;241m4\u001b[39m, \u001b[38;5;241m5\u001b[39m]) \u001b[38;5;66;03m# 덧셈이 아니라 연결\u001b[39;00m\n\u001b[0;32m      3\u001b[0m \u001b[38;5;28mprint\u001b[39m(my_tuple \u001b[38;5;241m+\u001b[39m (\u001b[38;5;241m1\u001b[39m, \u001b[38;5;241m2\u001b[39m, \u001b[38;5;241m3\u001b[39m)) \u001b[38;5;66;03m# 튜플은 튜플끼리 리스트는 리스트끼리\u001b[39;00m\n\u001b[1;32m----> 4\u001b[0m \u001b[38;5;28mprint\u001b[39m(\u001b[43mmy_tuple\u001b[49m\u001b[43m \u001b[49m\u001b[38;5;241;43m+\u001b[39;49m\u001b[43m \u001b[49m\u001b[43m[\u001b[49m\u001b[38;5;241;43m1\u001b[39;49m\u001b[43m,\u001b[49m\u001b[43m \u001b[49m\u001b[38;5;241;43m2\u001b[39;49m\u001b[43m,\u001b[49m\u001b[43m \u001b[49m\u001b[38;5;241;43m3\u001b[39;49m\u001b[43m]\u001b[49m)\n",
      "\u001b[1;31mTypeError\u001b[0m: can only concatenate tuple (not \"list\") to tuple"
     ]
    }
   ],
   "source": [
    "# concetennation\n",
    "print(my_list + [1, 2, 3, 4, 5]) # 덧셈이 아니라 연결\n",
    "print(my_tuple + (1, 2, 3))\n",
    "print(my_tuple + [1, 2, 3]) # error: 튜플은 튜플끼리 리스트는 리스트끼리"
   ]
  },
  {
   "cell_type": "code",
   "execution_count": 47,
   "id": "4bfe7a57-c15f-4f72-9843-fb4ab19229f6",
   "metadata": {},
   "outputs": [
    {
     "name": "stdout",
     "output_type": "stream",
     "text": [
      "['a', 'b', 'c', 'd', 'e', 'a', 'b', 'c', 'd', 'e']\n",
      "aaaaa\n",
      "[0, 0, 0, 0, 0, 0, 0, 0, 0, 0]\n"
     ]
    }
   ],
   "source": [
    "# * \n",
    "print(my_list * 2) # 연결을 2번 했다\n",
    "print('a' * 5)\n",
    "\n",
    "# [0, 0, 0, 0, 0, 0, 0, 0, 0, 0]\n",
    "print([0] * 10) # 직접 쓰는 것보다 편함"
   ]
  },
  {
   "cell_type": "code",
   "execution_count": 48,
   "id": "fc902db8-efab-4fe0-9c56-0750818ae3fb",
   "metadata": {},
   "outputs": [
    {
     "data": {
      "text/plain": [
       "5"
      ]
     },
     "execution_count": 48,
     "metadata": {},
     "output_type": "execute_result"
    }
   ],
   "source": [
    "len(my_list) # length"
   ]
  },
  {
   "cell_type": "code",
   "execution_count": 49,
   "id": "0d160f39-136f-4d97-81da-0e4290f34cf7",
   "metadata": {},
   "outputs": [
    {
     "data": {
      "text/plain": [
       "'e'"
      ]
     },
     "execution_count": 49,
     "metadata": {},
     "output_type": "execute_result"
    }
   ],
   "source": [
    "max(my_list) # 영어도 숫자로 인식해서 큰 수를 선택"
   ]
  },
  {
   "cell_type": "code",
   "execution_count": 50,
   "id": "e1168050-ee11-4a72-920c-30aa32991d66",
   "metadata": {},
   "outputs": [
    {
     "data": {
      "text/plain": [
       "'a'"
      ]
     },
     "execution_count": 50,
     "metadata": {},
     "output_type": "execute_result"
    }
   ],
   "source": [
    "min(my_list)"
   ]
  },
  {
   "cell_type": "markdown",
   "id": "2e62feb8-076c-4def-be71-f0021f6203a8",
   "metadata": {},
   "source": [
    "## 05. 시퀀스형이 아닌 자료 구조"
   ]
  },
  {
   "cell_type": "markdown",
   "id": "4cbd1176-f6a7-4d33-aae3-58ca2262484f",
   "metadata": {},
   "source": [
    "## 5.1 Set\n",
    "\n",
    "- 수학에서의 집합과 비슷한 개념(중복값이 없음)\n",
    "- 선언: `var_name = {value1, value2, value3, ...}`\n",
    "- *순서가 아니기 때문에 접근이 의미가 없음*\n",
    "- *단일 데이터가 아니라 집합 전체를 본다*"
   ]
  },
  {
   "cell_type": "code",
   "execution_count": 53,
   "id": "23e0b76c-4cc4-4bd7-b3e6-7481a7f3b2d9",
   "metadata": {},
   "outputs": [],
   "source": [
    "my_set_a = {1, 2, 3, 4, 5}\n",
    "my_set_b = {1, 3, 5, 7, 9}"
   ]
  },
  {
   "cell_type": "code",
   "execution_count": 54,
   "id": "c9c53362-7fb3-4c42-8165-3a8092173394",
   "metadata": {},
   "outputs": [
    {
     "name": "stdout",
     "output_type": "stream",
     "text": [
      "{1, 2, 3, 4, 5}\n",
      "{1, 3, 5, 7, 9}\n"
     ]
    }
   ],
   "source": [
    "print(my_set_a)\n",
    "print(my_set_b)"
   ]
  },
  {
   "cell_type": "code",
   "execution_count": 57,
   "id": "53800ced-18fc-4df6-bc01-b0cd72013caa",
   "metadata": {},
   "outputs": [
    {
     "name": "stdout",
     "output_type": "stream",
     "text": [
      "{1, 2, 3, 4, 5}\n"
     ]
    }
   ],
   "source": [
    "my_set_a = {1, 2, 3, 4, 5, 5, 5, 5, 5}\n",
    "print(my_set_a) # 5를 아무리 많이 넣어도 하나로 인식"
   ]
  },
  {
   "cell_type": "code",
   "execution_count": 62,
   "id": "d08f6ea6-90e7-45e9-830d-e634197540d1",
   "metadata": {},
   "outputs": [
    {
     "name": "stdout",
     "output_type": "stream",
     "text": [
      "{2, 4}\n",
      "{1, 2, 3, 4, 5, 7, 9}\n",
      "{1, 3, 5}\n"
     ]
    }
   ],
   "source": [
    "print(my_set_a - my_set_b) # 차집합\n",
    "print(my_set_a | my_set_b) # 합집합\n",
    "print(my_set_a & my_set_b) # 교집합"
   ]
  },
  {
   "cell_type": "code",
   "execution_count": 63,
   "id": "5e89cd39-de16-4a0c-a2ef-c69243dade68",
   "metadata": {},
   "outputs": [
    {
     "name": "stdout",
     "output_type": "stream",
     "text": [
      "{'광주', '서울', '부산', '대구'}\n"
     ]
    }
   ],
   "source": [
    "location = ['서울', '대구', '부산', '광주', '부산', '광주', '부산']\n",
    "print(set(location)) # 형변환: 중복값을 없애기 위해 사용"
   ]
  },
  {
   "cell_type": "markdown",
   "id": "a550f2fc-2857-465d-bf9e-6348fbb69168",
   "metadata": {},
   "source": [
    "## 5.2 Dictionary\n",
    "\n",
    "- 선언: `var_name = {key1: value1, key2: value2, key3: value3, ...}`\n",
    "- 접근: `var_name = [key]` *value를 기준으로는 접근 불가능 무조건 key*"
   ]
  },
  {
   "cell_type": "code",
   "execution_count": 64,
   "id": "ac8f3cc1-e55f-4b33-b04b-ead7abbf5eab",
   "metadata": {},
   "outputs": [
    {
     "name": "stdout",
     "output_type": "stream",
     "text": [
      "02\n"
     ]
    }
   ],
   "source": [
    "my_dict = {'서울': '02', '경기': '031'}\n",
    "print(my_dict['서울'])"
   ]
  },
  {
   "cell_type": "code",
   "execution_count": 71,
   "id": "e5c05c0b-dea0-47e3-87b0-38482b610ded",
   "metadata": {},
   "outputs": [],
   "source": [
    "my_info = {\n",
    "    'name': 'Yoojin',\n",
    "    'location': 'seoul',\n",
    "    'age': 27,\n",
    "    'skill': ['python', 'git']\n",
    "} # 스트링, 숫자, 리스트 등 다 넣을 수 있음"
   ]
  },
  {
   "cell_type": "code",
   "execution_count": 77,
   "id": "54ee3963-7c22-4a44-ba87-0b4e18a9abcf",
   "metadata": {},
   "outputs": [
    {
     "name": "stdout",
     "output_type": "stream",
     "text": [
      "Yoojin\n",
      "27\n",
      "git\n"
     ]
    }
   ],
   "source": [
    "print(my_info['name'])\n",
    "print(my_info['age'])\n",
    "print(my_info['skill'][1]) # my_info['skill']: 여기까지 리스트, [1]: 인덱스"
   ]
  },
  {
   "cell_type": "markdown",
   "id": "40768e52-2789-42f7-91e2-8d213e95911d",
   "metadata": {},
   "source": [
    "## 정리\n",
    "\n",
    "**데이터 타입**\n",
    "1. Number\n",
    "2. Boolean\n",
    "3. String\n",
    "\n",
    "**자료 구조**\n",
    "- 시퀀스\n",
    "    1. [List]: mutable *수정 가능함*\n",
    "    2. (Tuple): immutable\n",
    "    3. range(): immutable\n",
    "    4. 'String': immutable\n",
    "- 시퀀스가 아닌 것\n",
    "    1. {Set}: mutable\n",
    "    2. {Dict: ionary}: mutable"
   ]
  },
  {
   "cell_type": "code",
   "execution_count": 78,
   "id": "f1c77db8-5351-48bd-8b7e-0f16ded50a54",
   "metadata": {},
   "outputs": [
    {
     "ename": "TypeError",
     "evalue": "'str' object does not support item assignment",
     "output_type": "error",
     "traceback": [
      "\u001b[1;31m---------------------------------------------------------------------------\u001b[0m",
      "\u001b[1;31mTypeError\u001b[0m                                 Traceback (most recent call last)",
      "Cell \u001b[1;32mIn[78], line 2\u001b[0m\n\u001b[0;32m      1\u001b[0m a \u001b[38;5;241m=\u001b[39m \u001b[38;5;124m'\u001b[39m\u001b[38;5;124mhello\u001b[39m\u001b[38;5;124m'\u001b[39m \n\u001b[1;32m----> 2\u001b[0m \u001b[43ma\u001b[49m\u001b[43m[\u001b[49m\u001b[38;5;241;43m0\u001b[39;49m\u001b[43m]\u001b[49m \u001b[38;5;241m=\u001b[39m \u001b[38;5;124m'\u001b[39m\u001b[38;5;124mH\u001b[39m\u001b[38;5;124m'\u001b[39m\n",
      "\u001b[1;31mTypeError\u001b[0m: 'str' object does not support item assignment"
     ]
    }
   ],
   "source": [
    "a = 'hello' \n",
    "a[0] = 'H' # error: 안의 세부내용을 바꿀 수 없음"
   ]
  },
  {
   "cell_type": "code",
   "execution_count": 80,
   "id": "949230a1-91ac-4c2a-be77-7b8916477998",
   "metadata": {},
   "outputs": [
    {
     "name": "stdout",
     "output_type": "stream",
     "text": [
      "(1, 2, 3)\n",
      "(4, 5, 6)\n"
     ]
    }
   ],
   "source": [
    "my_t = (1, 2, 3)\n",
    "print(my_t)\n",
    "my_t = (4, 5, 6)\n",
    "print(my_t) # 전체를 바꾸는 것은 가능"
   ]
  },
  {
   "cell_type": "code",
   "execution_count": null,
   "id": "bf506906-bf0f-49ab-8fb8-83d8b253a5c7",
   "metadata": {},
   "outputs": [],
   "source": []
  },
  {
   "cell_type": "code",
   "execution_count": null,
   "id": "7dc71e8f-9465-486b-8776-deeef69bc307",
   "metadata": {},
   "outputs": [],
   "source": []
  }
 ],
 "metadata": {
  "kernelspec": {
   "display_name": "Python 3 (ipykernel)",
   "language": "python",
   "name": "python3"
  },
  "language_info": {
   "codemirror_mode": {
    "name": "ipython",
    "version": 3
   },
   "file_extension": ".py",
   "mimetype": "text/x-python",
   "name": "python",
   "nbconvert_exporter": "python",
   "pygments_lexer": "ipython3",
   "version": "3.13.2"
  }
 },
 "nbformat": 4,
 "nbformat_minor": 5
}
