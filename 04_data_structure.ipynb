{
 "cells": [
  {
   "cell_type": "markdown",
   "id": "aa18df1e-f92b-41b4-882e-b03d1d76a30a",
   "metadata": {},
   "source": [
    "#  자료구조\n",
    "> 여러가지 자료구조가 가지고 있는 메소드(함수) 알아보기"
   ]
  },
  {
   "cell_type": "code",
   "execution_count": 3,
   "id": "3b2b409b-cd11-4bce-a3ef-adb6c83dcf00",
   "metadata": {},
   "outputs": [
    {
     "name": "stdout",
     "output_type": "stream",
     "text": [
      "['__add__', '__class__', '__contains__', '__delattr__', '__dir__', '__doc__', '__eq__', '__format__', '__ge__', '__getattribute__', '__getitem__', '__getnewargs__', '__getstate__', '__gt__', '__hash__', '__init__', '__init_subclass__', '__iter__', '__le__', '__len__', '__lt__', '__mod__', '__mul__', '__ne__', '__new__', '__reduce__', '__reduce_ex__', '__repr__', '__rmod__', '__rmul__', '__setattr__', '__sizeof__', '__str__', '__subclasshook__', 'capitalize', 'casefold', 'center', 'count', 'encode', 'endswith', 'expandtabs', 'find', 'format', 'format_map', 'index', 'isalnum', 'isalpha', 'isascii', 'isdecimal', 'isdigit', 'isidentifier', 'islower', 'isnumeric', 'isprintable', 'isspace', 'istitle', 'isupper', 'join', 'ljust', 'lower', 'lstrip', 'maketrans', 'partition', 'removeprefix', 'removesuffix', 'replace', 'rfind', 'rindex', 'rjust', 'rpartition', 'rsplit', 'rstrip', 'split', 'splitlines', 'startswith', 'strip', 'swapcase', 'title', 'translate', 'upper', 'zfill']\n"
     ]
    }
   ],
   "source": [
    "print(dir('hello'))"
   ]
  },
  {
   "cell_type": "markdown",
   "id": "dc698752-2cbb-4542-b3f5-8aa03223d3c9",
   "metadata": {},
   "source": [
    "## 문자열 메소드"
   ]
  },
  {
   "cell_type": "code",
   "execution_count": 6,
   "id": "7e4196c4-d52f-4d5f-a574-bf632046e35e",
   "metadata": {},
   "outputs": [],
   "source": [
    "a = 'hello my name is hong'"
   ]
  },
  {
   "cell_type": "code",
   "execution_count": 7,
   "id": "a9261f6e-b63e-4e8c-811f-fe568fccdf4d",
   "metadata": {},
   "outputs": [
    {
     "name": "stdout",
     "output_type": "stream",
     "text": [
      "hello my name is hong\n"
     ]
    }
   ],
   "source": [
    "print(a)"
   ]
  },
  {
   "cell_type": "code",
   "execution_count": 8,
   "id": "27472107-3709-4d0a-91ab-d26dd81d4aa5",
   "metadata": {},
   "outputs": [
    {
     "ename": "TypeError",
     "evalue": "'str' object does not support item assignment",
     "output_type": "error",
     "traceback": [
      "\u001b[1;31m---------------------------------------------------------------------------\u001b[0m",
      "\u001b[1;31mTypeError\u001b[0m                                 Traceback (most recent call last)",
      "Cell \u001b[1;32mIn[8], line 1\u001b[0m\n\u001b[1;32m----> 1\u001b[0m \u001b[43ma\u001b[49m\u001b[43m[\u001b[49m\u001b[38;5;241;43m0\u001b[39;49m\u001b[43m]\u001b[49m \u001b[38;5;241m=\u001b[39m \u001b[38;5;124m'\u001b[39m\u001b[38;5;124mH\u001b[39m\u001b[38;5;124m'\u001b[39m\n",
      "\u001b[1;31mTypeError\u001b[0m: 'str' object does not support item assignment"
     ]
    }
   ],
   "source": [
    "a[0] = 'H' # 스트링 데이터는 이뮤터블하다"
   ]
  },
  {
   "cell_type": "code",
   "execution_count": 9,
   "id": "e4fab176-a528-4ceb-b174-135148b5eb67",
   "metadata": {},
   "outputs": [
    {
     "data": {
      "text/plain": [
       "'Hello my name is hong'"
      ]
     },
     "execution_count": 9,
     "metadata": {},
     "output_type": "execute_result"
    }
   ],
   "source": [
    "a.capitalize() # 시작 단어를 대문자로"
   ]
  },
  {
   "cell_type": "code",
   "execution_count": 10,
   "id": "78069371-e45c-4548-8625-6510ebc223e2",
   "metadata": {},
   "outputs": [
    {
     "data": {
      "text/plain": [
       "'Hello my name is hong'"
      ]
     },
     "execution_count": 10,
     "metadata": {},
     "output_type": "execute_result"
    }
   ],
   "source": [
    "'hello my name is hong'.capitalize() # 원본의 데이터가 바뀌는 것은 아님, 함수의 결과값이 출력된 것"
   ]
  },
  {
   "cell_type": "code",
   "execution_count": 11,
   "id": "4f774bd2-bef8-4749-9c27-f97a938a0cf3",
   "metadata": {},
   "outputs": [],
   "source": [
    "a = a.capitalize() # 원본 변경"
   ]
  },
  {
   "cell_type": "code",
   "execution_count": 12,
   "id": "83cfda26-4f08-45ec-887b-ba829a4d2b0c",
   "metadata": {},
   "outputs": [
    {
     "data": {
      "text/plain": [
       "'Hello My Name Is Hong'"
      ]
     },
     "execution_count": 12,
     "metadata": {},
     "output_type": "execute_result"
    }
   ],
   "source": [
    "a.title() # 모든 단어의 첫글자를 대문자로"
   ]
  },
  {
   "cell_type": "code",
   "execution_count": 13,
   "id": "f1ea3dab-5e89-4b36-91e1-90b8da838d81",
   "metadata": {},
   "outputs": [
    {
     "data": {
      "text/plain": [
       "'hello my name is hong'"
      ]
     },
     "execution_count": 13,
     "metadata": {},
     "output_type": "execute_result"
    }
   ],
   "source": [
    "a.lower() # 모두 소문자로"
   ]
  },
  {
   "cell_type": "code",
   "execution_count": 14,
   "id": "e1c994c8-ccc5-47ca-81db-2a3ece6d6cbd",
   "metadata": {},
   "outputs": [
    {
     "data": {
      "text/plain": [
       "'HELLO MY NAME IS HONG'"
      ]
     },
     "execution_count": 14,
     "metadata": {},
     "output_type": "execute_result"
    }
   ],
   "source": [
    "a.upper() # 모두 대문자로"
   ]
  },
  {
   "cell_type": "code",
   "execution_count": 15,
   "id": "bf10df38-22d8-41b5-9f22-94f66d84b589",
   "metadata": {},
   "outputs": [
    {
     "data": {
      "text/plain": [
       "'my!name!is'"
      ]
     },
     "execution_count": 15,
     "metadata": {},
     "output_type": "execute_result"
    }
   ],
   "source": [
    "my_list = ['my', 'name', 'is']\n",
    "'!'.join(my_list) # join(시퀀스형 데이터)"
   ]
  },
  {
   "cell_type": "code",
   "execution_count": 16,
   "id": "8c946bb0-e372-4617-8c77-7a8d9cbf615e",
   "metadata": {},
   "outputs": [
    {
     "data": {
      "text/plain": [
       "'배?고?프?다'"
      ]
     },
     "execution_count": 16,
     "metadata": {},
     "output_type": "execute_result"
    }
   ],
   "source": [
    "'?'.join('배고프다')"
   ]
  },
  {
   "cell_type": "code",
   "execution_count": 18,
   "id": "023cd9f6-8777-4e8b-b7cb-48b1797a1894",
   "metadata": {},
   "outputs": [
    {
     "data": {
      "text/plain": [
       "'hello'"
      ]
     },
     "execution_count": 18,
     "metadata": {},
     "output_type": "execute_result"
    }
   ],
   "source": [
    "a = '        \\t      hello       \\n'\n",
    "a.strip() # 좌우의 여백으로 생각하는 모든 것을 지워줌"
   ]
  },
  {
   "cell_type": "code",
   "execution_count": 19,
   "id": "8887daa8-c265-4818-90dd-49235c624bf4",
   "metadata": {},
   "outputs": [
    {
     "data": {
      "text/plain": [
       "'hello???????'"
      ]
     },
     "execution_count": 19,
     "metadata": {},
     "output_type": "execute_result"
    }
   ],
   "source": [
    "a = '!!!!!!hello???????'\n",
    "a.strip('!') #strip(안에 들어오는 문자를 지워줌)\n",
    "\n",
    "# def strip(char=' ')"
   ]
  },
  {
   "cell_type": "code",
   "execution_count": 21,
   "id": "9d7b8d81-a506-4299-9c2e-6d0fbe04b012",
   "metadata": {},
   "outputs": [
    {
     "data": {
      "text/plain": [
       "'-------hello'"
      ]
     },
     "execution_count": 21,
     "metadata": {},
     "output_type": "execute_result"
    }
   ],
   "source": [
    "a = '-------hello--------'\n",
    "a.lstrip('-') # 왼쪽\n",
    "a.rstrip('-') # 오른쪽"
   ]
  },
  {
   "cell_type": "code",
   "execution_count": 26,
   "id": "3ad17906-ff76-4970-86e4-2ff1c9f83286",
   "metadata": {},
   "outputs": [
    {
     "data": {
      "text/plain": [
       "'w!!!ooooow'"
      ]
     },
     "execution_count": 26,
     "metadata": {},
     "output_type": "execute_result"
    }
   ],
   "source": [
    "a = 'woooooooow'\n",
    "\n",
    "a.replace('o', '!', 3) # count = 몇개 바꿀지"
   ]
  },
  {
   "cell_type": "code",
   "execution_count": 30,
   "id": "943a951f-ed7f-4bcb-aec4-ee0a5ab52795",
   "metadata": {},
   "outputs": [
    {
     "data": {
      "text/plain": [
       "-1"
      ]
     },
     "execution_count": 30,
     "metadata": {},
     "output_type": "execute_result"
    }
   ],
   "source": [
    "a = 'apple'\n",
    "a.find('a') # => 0번째\n",
    "a.find('l') # => 3\n",
    "a.find('p') # => 1 # 첫번째 것만 호출함\n",
    "a.find('z') # => -1: 없다는 뜻"
   ]
  },
  {
   "cell_type": "code",
   "execution_count": 32,
   "id": "dd60d0dd-58aa-4865-9700-b691c3c73427",
   "metadata": {},
   "outputs": [
    {
     "ename": "ValueError",
     "evalue": "substring not found",
     "output_type": "error",
     "traceback": [
      "\u001b[1;31m---------------------------------------------------------------------------\u001b[0m",
      "\u001b[1;31mValueError\u001b[0m                                Traceback (most recent call last)",
      "Cell \u001b[1;32mIn[32], line 5\u001b[0m\n\u001b[0;32m      3\u001b[0m a\u001b[38;5;241m.\u001b[39mindex(\u001b[38;5;124m'\u001b[39m\u001b[38;5;124ml\u001b[39m\u001b[38;5;124m'\u001b[39m)\n\u001b[0;32m      4\u001b[0m a\u001b[38;5;241m.\u001b[39mindex(\u001b[38;5;124m'\u001b[39m\u001b[38;5;124mp\u001b[39m\u001b[38;5;124m'\u001b[39m) \u001b[38;5;66;03m# 여기까지 똑같음\u001b[39;00m\n\u001b[1;32m----> 5\u001b[0m \u001b[43ma\u001b[49m\u001b[38;5;241;43m.\u001b[39;49m\u001b[43mindex\u001b[49m\u001b[43m(\u001b[49m\u001b[38;5;124;43m'\u001b[39;49m\u001b[38;5;124;43mz\u001b[39;49m\u001b[38;5;124;43m'\u001b[39;49m\u001b[43m)\u001b[49m \u001b[38;5;66;03m# error\u001b[39;00m\n",
      "\u001b[1;31mValueError\u001b[0m: substring not found"
     ]
    }
   ],
   "source": [
    "a = 'apple'\n",
    "a.index('a')\n",
    "a.index('l')\n",
    "a.index('p') # 여기까지 똑같음\n",
    "a.index('z') # error"
   ]
  },
  {
   "cell_type": "code",
   "execution_count": 33,
   "id": "50585b9f-e069-42f7-b324-d5b571d37d4f",
   "metadata": {},
   "outputs": [
    {
     "data": {
      "text/plain": [
       "['my', 'name', 'is', 'hong']"
      ]
     },
     "execution_count": 33,
     "metadata": {},
     "output_type": "execute_result"
    }
   ],
   "source": [
    "a = 'my name is hong'\n",
    "a.split() # 띄어쓰기를 기준으로 잘라서 리스트로 만들어줌"
   ]
  },
  {
   "cell_type": "code",
   "execution_count": 35,
   "id": "49b93285-7dc0-4f10-a51b-d176ca07ff7f",
   "metadata": {},
   "outputs": [
    {
     "data": {
      "text/plain": [
       "['my', 'name', 'is?hong']"
      ]
     },
     "execution_count": 35,
     "metadata": {},
     "output_type": "execute_result"
    }
   ],
   "source": [
    "a = 'my!name!is?hong'\n",
    "a.split('!') # !를 기준으로 자름"
   ]
  },
  {
   "cell_type": "code",
   "execution_count": 37,
   "id": "ee2dc053-9d54-41e6-99d5-d6e3876abe98",
   "metadata": {},
   "outputs": [
    {
     "data": {
      "text/plain": [
       "6"
      ]
     },
     "execution_count": 37,
     "metadata": {},
     "output_type": "execute_result"
    }
   ],
   "source": [
    "a = 'woooooow'\n",
    "a.count('o')"
   ]
  },
  {
   "cell_type": "markdown",
   "id": "c88d759f-0f52-4da0-8cb4-afbd3f1a7937",
   "metadata": {},
   "source": [
    "## 리스트 메소드"
   ]
  },
  {
   "cell_type": "code",
   "execution_count": 46,
   "id": "d589f30e-8c83-44b0-b261-4b41df504b77",
   "metadata": {},
   "outputs": [],
   "source": [
    "numbers = [2, 6, 1, 4, 8, 3, 2, 8]"
   ]
  },
  {
   "cell_type": "code",
   "execution_count": 47,
   "id": "664eb1a8-e49c-4640-9a10-5f4660320ac0",
   "metadata": {},
   "outputs": [
    {
     "name": "stdout",
     "output_type": "stream",
     "text": [
      "[2, 6, 1, 4, 8, 3, 2, 8, 10]\n"
     ]
    }
   ],
   "source": [
    "numbers.append(10) # 추가하다, 덧붙이다\n",
    "print(numbers)"
   ]
  },
  {
   "cell_type": "code",
   "execution_count": 48,
   "id": "a5af4787-907f-49cc-9a92-3fe49f59d6be",
   "metadata": {},
   "outputs": [],
   "source": [
    "a = [99, 100]"
   ]
  },
  {
   "cell_type": "code",
   "execution_count": 49,
   "id": "17794215-d271-4311-8caa-5d8631379be6",
   "metadata": {},
   "outputs": [
    {
     "name": "stdout",
     "output_type": "stream",
     "text": [
      "[2, 6, 1, 4, 8, 3, 2, 8, 10, 99, 100]\n"
     ]
    }
   ],
   "source": [
    "numbers.extend(a) # => numbers + a (concetenation)\n",
    "print(numbers)"
   ]
  },
  {
   "cell_type": "code",
   "execution_count": 52,
   "id": "6024d511-2c4e-487e-9f03-fe873f087c8d",
   "metadata": {},
   "outputs": [
    {
     "name": "stdout",
     "output_type": "stream",
     "text": [
      "[2, 6, 1, 55, 5, 4, 8, 3, 2, 8, 10, 99, 100]\n"
     ]
    }
   ],
   "source": [
    "numbers.insert(3, 55) # 위치를 지정해서 넣을 때 (~로, ~를)\n",
    "print(numbers)"
   ]
  },
  {
   "cell_type": "code",
   "execution_count": 53,
   "id": "8435633c-d496-422e-b464-b46c0f6f3b02",
   "metadata": {},
   "outputs": [
    {
     "name": "stdout",
     "output_type": "stream",
     "text": [
      "[2, 6, 1, 55, 5, 4, 3, 2, 8, 10, 99, 100]\n"
     ]
    }
   ],
   "source": [
    "# 첫번째 x를 찾아서 제거, 없으면 오류\n",
    "numbers.remove(8)\n",
    "print(numbers) # 첫번째 8민 삭제 # 두번 실행시 뒤의 8도 삭제 # error: 없는걸 삭제하려고 할 때"
   ]
  },
  {
   "cell_type": "code",
   "execution_count": 54,
   "id": "ac008df3-6379-4c8d-ab69-a7248f124146",
   "metadata": {},
   "outputs": [
    {
     "name": "stdout",
     "output_type": "stream",
     "text": [
      "[2, 6, 1, 55, 5, 4, 3, 2, 8, 10, 99]\n"
     ]
    }
   ],
   "source": [
    "numbers.pop() # 맨 마지막 데이터 제거\n",
    "print(numbers)"
   ]
  },
  {
   "cell_type": "code",
   "execution_count": null,
   "id": "78d9d7fe-d045-4ef7-b10b-bb9c4679fe6a",
   "metadata": {},
   "outputs": [],
   "source": [
    "# stack(후입선출) vs queue(선입선출)"
   ]
  },
  {
   "cell_type": "code",
   "execution_count": 55,
   "id": "d9c204be-0879-4c75-8b8c-305d93befe9b",
   "metadata": {},
   "outputs": [
    {
     "name": "stdout",
     "output_type": "stream",
     "text": [
      "[6, 1, 55, 5, 4, 3, 2, 8, 10, 99]\n"
     ]
    }
   ],
   "source": [
    "numbers.pop(0) # 원하는 위치의 데이터 제거 대부분 맨 첫번째 데이터를 뺌\n",
    "print(numbers)"
   ]
  },
  {
   "cell_type": "code",
   "execution_count": 56,
   "id": "60dcd0bf-0795-4ad7-93aa-85d83a576c87",
   "metadata": {},
   "outputs": [
    {
     "name": "stdout",
     "output_type": "stream",
     "text": [
      "[1, 2, 3, 4, 5, 6, 8, 10, 55, 99]\n"
     ]
    }
   ],
   "source": [
    "numbers.sort() # 오름차순 정렬\n",
    "print(numbers)"
   ]
  },
  {
   "cell_type": "code",
   "execution_count": 57,
   "id": "9b95b1ee-e701-49e4-9803-2fe53b0c0630",
   "metadata": {},
   "outputs": [
    {
     "name": "stdout",
     "output_type": "stream",
     "text": [
      "[99, 55, 10, 8, 6, 5, 4, 3, 2, 1]\n"
     ]
    }
   ],
   "source": [
    "numbers.sort(reverse=True) # 내림차순 정렬 # 원본을 바꿈\n",
    "print(numbers) "
   ]
  },
  {
   "cell_type": "code",
   "execution_count": 60,
   "id": "8c3ecef7-237a-4350-8f76-cc8ad3f726de",
   "metadata": {},
   "outputs": [
    {
     "name": "stdout",
     "output_type": "stream",
     "text": [
      "[1, 2, 4, 5, 7, 8]\n",
      "[5, 4, 2, 7, 8, 1]\n"
     ]
    }
   ],
   "source": [
    "a = [5, 4, 2, 7, 8, 1]\n",
    "print(sorted(a)) # 원본을 바꾸지 않고 계산한 결과만 알려줌\n",
    "print(a)"
   ]
  },
  {
   "cell_type": "code",
   "execution_count": 62,
   "id": "af2828ef-a9e4-45d5-b3c3-9f16ce72933f",
   "metadata": {},
   "outputs": [
    {
     "name": "stdout",
     "output_type": "stream",
     "text": [
      "['a', 'b', 'z', '나', '하']\n"
     ]
    }
   ],
   "source": [
    "my_list = ['a', '하', '나', 'b', 'z']\n",
    "my_list.sort()\n",
    "print(my_list) # 글자도 정렬(유니코드 기준)"
   ]
  },
  {
   "cell_type": "code",
   "execution_count": 64,
   "id": "8809b39c-f223-4ba2-913e-356001d41fed",
   "metadata": {},
   "outputs": [
    {
     "name": "stdout",
     "output_type": "stream",
     "text": [
      "[99, 55, 10, 8, 6, 5, 4, 3, 2, 1]\n",
      "[1, 2, 3, 4, 5, 6, 8, 10, 55, 99]\n"
     ]
    }
   ],
   "source": [
    "print(numbers)\n",
    "numbers.reverse() # 원본 데이터를 뒤집음\n",
    "print(numbers)"
   ]
  },
  {
   "cell_type": "code",
   "execution_count": 65,
   "id": "da2ebb7c-49af-4727-89ee-1c20516cb19d",
   "metadata": {},
   "outputs": [
    {
     "data": {
      "text/plain": [
       "1"
      ]
     },
     "execution_count": 65,
     "metadata": {},
     "output_type": "execute_result"
    }
   ],
   "source": [
    "numbers.count(10) # 같은 요소가 몇개 있는지"
   ]
  },
  {
   "cell_type": "markdown",
   "id": "f1ff9184-ceb9-4791-8178-8d30d14dde41",
   "metadata": {},
   "source": [
    "### list copy"
   ]
  },
  {
   "cell_type": "code",
   "execution_count": 67,
   "id": "58db301e-64d0-4cf3-982a-dd0e8deb98f6",
   "metadata": {},
   "outputs": [],
   "source": [
    "origin_list = [1, 2, 3]\n",
    "copy_list = origin_list"
   ]
  },
  {
   "cell_type": "code",
   "execution_count": 68,
   "id": "a3379314-1668-4b63-b3f1-6a02d73cc10a",
   "metadata": {},
   "outputs": [
    {
     "name": "stdout",
     "output_type": "stream",
     "text": [
      "[1, 2, 3]\n",
      "[1, 2, 3]\n"
     ]
    }
   ],
   "source": [
    "print(origin_list)\n",
    "print(copy_list)"
   ]
  },
  {
   "cell_type": "code",
   "execution_count": 69,
   "id": "50aeae79-0a24-4667-a6e7-6a5df681048d",
   "metadata": {},
   "outputs": [
    {
     "name": "stdout",
     "output_type": "stream",
     "text": [
      "[100, 2, 3]\n",
      "[100, 2, 3]\n"
     ]
    }
   ],
   "source": [
    "copy_list[0] = 100\n",
    "print(origin_list)\n",
    "print(copy_list)"
   ]
  },
  {
   "cell_type": "code",
   "execution_count": 73,
   "id": "c652e160-c994-4e64-af94-5d27b480d2e0",
   "metadata": {},
   "outputs": [
    {
     "name": "stdout",
     "output_type": "stream",
     "text": [
      "[1, 2, 3]\n",
      "[100, 2, 3]\n"
     ]
    }
   ],
   "source": [
    "origin_list = [1, 2, 3]\n",
    "copy_list = origin_list[:] # slicing\n",
    "\n",
    "copy_list[0] = 100\n",
    "\n",
    "print(origin_list)\n",
    "print(copy_list)"
   ]
  },
  {
   "cell_type": "code",
   "execution_count": 75,
   "id": "4ada9104-7832-4e2b-a256-6db6bb94285d",
   "metadata": {},
   "outputs": [
    {
     "name": "stdout",
     "output_type": "stream",
     "text": [
      "[1, 2, [-10, 11]]\n",
      "[100, 2, [-10, 11]]\n"
     ]
    }
   ],
   "source": [
    "o_l = [1, 2, [10, 11]]\n",
    "c_l = o_l[:]\n",
    "\n",
    "c_l[0] = 100\n",
    "c_l[2][0] = -10\n",
    "\n",
    "print(o_l)\n",
    "print(c_l)"
   ]
  },
  {
   "cell_type": "code",
   "execution_count": 77,
   "id": "45ea0b0c-66bf-4440-93b9-b443eaeddd4b",
   "metadata": {},
   "outputs": [
    {
     "name": "stdout",
     "output_type": "stream",
     "text": [
      "[1, 2, [10, 11]]\n",
      "[100, 2, [10, -11]]\n"
     ]
    }
   ],
   "source": [
    "import copy\n",
    "\n",
    "o_l = [1, 2, [10, 11]]\n",
    "c_l = copy.deepcopy(o_l)\n",
    "\n",
    "c_l[0] = 100\n",
    "c_l[2][1] = -11\n",
    "\n",
    "print(o_l)\n",
    "print(c_l)"
   ]
  },
  {
   "cell_type": "markdown",
   "id": "e1bd4882-8d89-42ae-8b44-26e701083063",
   "metadata": {},
   "source": [
    "### list comprehension"
   ]
  },
  {
   "cell_type": "code",
   "execution_count": 78,
   "id": "0de3f840-5c2e-4daa-812d-48052a13a791",
   "metadata": {},
   "outputs": [
    {
     "name": "stdout",
     "output_type": "stream",
     "text": [
      "[1, 2, 3, 4, 5, 6, 7, 8, 9, 10]\n"
     ]
    }
   ],
   "source": [
    "numbers = list(range(1,11))\n",
    "print(numbers)"
   ]
  },
  {
   "cell_type": "code",
   "execution_count": 79,
   "id": "d20714cb-a754-4476-8814-1bfdc5d75cb8",
   "metadata": {},
   "outputs": [
    {
     "name": "stdout",
     "output_type": "stream",
     "text": [
      "[1, 8, 27, 64, 125, 216, 343, 512, 729, 1000]\n"
     ]
    }
   ],
   "source": [
    "result = []\n",
    "\n",
    "for number in numbers:\n",
    "    temp = number ** 3\n",
    "    result.append(temp)\n",
    "\n",
    "print(result)"
   ]
  },
  {
   "cell_type": "code",
   "execution_count": 80,
   "id": "532127d3-16c6-4a91-9782-402f47bddf64",
   "metadata": {},
   "outputs": [
    {
     "name": "stdout",
     "output_type": "stream",
     "text": [
      "[1, 8, 27, 64, 125, 216, 343, 512, 729, 1000]\n"
     ]
    }
   ],
   "source": [
    "result = [number ** 3 for number in numbers] # [계산결과 for 어디서 반복할지]\n",
    "# result = [number1 ** 3, number2 ** 3, number3 ** 3, ...]\n",
    "print(result)"
   ]
  },
  {
   "cell_type": "code",
   "execution_count": 83,
   "id": "dd680b17-8f7a-4581-a5cd-9dd09bb07879",
   "metadata": {},
   "outputs": [
    {
     "name": "stdout",
     "output_type": "stream",
     "text": [
      "[2, 4, 6, 8, 10, 12, 14, 16, 18, 20, 22, 24, 26, 28, 30]\n"
     ]
    }
   ],
   "source": [
    "# 짝수만 고르기\n",
    "numbers = list(range(1, 31))\n",
    "result = []\n",
    "\n",
    "for number in numbers:\n",
    "    if number % 2 == 0:\n",
    "        result.append(number)\n",
    "\n",
    "print(result)"
   ]
  },
  {
   "cell_type": "code",
   "execution_count": 87,
   "id": "6ad67d6c-340b-4a1c-bfc9-59a598b21204",
   "metadata": {},
   "outputs": [
    {
     "name": "stdout",
     "output_type": "stream",
     "text": [
      "[4, 8, 12, 16, 20, 24, 28, 32, 36, 40, 44, 48, 52, 56, 60]\n"
     ]
    }
   ],
   "source": [
    "numbers = list(range(1, 31))\n",
    "result = [number * 2 for number in numbers if number % 2 == 0] # 덩어리 / for 덩어리 / if 덩어리\n",
    "print(result)"
   ]
  },
  {
   "cell_type": "code",
   "execution_count": 106,
   "id": "dbafaa79-711b-4f88-ab58-46ea122a4ea9",
   "metadata": {},
   "outputs": [],
   "source": [
    "# 연습! 모음제거\n",
    "words = 'my name is hong'\n",
    "\n",
    "# => my nm s hng"
   ]
  },
  {
   "cell_type": "code",
   "execution_count": 122,
   "id": "0ef791d4-1dc6-46d7-919f-b6efb7d306c4",
   "metadata": {},
   "outputs": [
    {
     "name": "stdout",
     "output_type": "stream",
     "text": [
      "['m', 'y', ' ', 'n', 'm', ' ', 's', ' ', 'h', 'n', 'g']\n"
     ]
    }
   ],
   "source": [
    "# 1. for / if\n",
    "vowels = ['a', 'e', 'o', 'i', 'u']\n",
    "result = []\n",
    "\n",
    "for word in words:\n",
    "    if word not in vowels:\n",
    "        result.append(word)\n",
    "\n",
    "print(result)"
   ]
  },
  {
   "cell_type": "code",
   "execution_count": 125,
   "id": "565747d1-7775-4ef7-9a5f-63150fc7702f",
   "metadata": {},
   "outputs": [
    {
     "name": "stdout",
     "output_type": "stream",
     "text": [
      "['m', 'y', ' ', 'n', 'm', ' ', 's', ' ', 'h', 'n', 'g']\n",
      "my nm s hng\n"
     ]
    }
   ],
   "source": [
    "# 선생님 코드\n",
    "# vowels = ['a', 'e', 'i', 'o', 'u']\n",
    "vowels = 'aeiou'\n",
    "result = []\n",
    "\n",
    "# 자음 골라내기\n",
    "for char in words:\n",
    "    # 모음인 경우 => 모음이 아닌 경우\n",
    "    # if char not in 'aeiou':\n",
    "    if char not in vowels:\n",
    "        result.append(char)\n",
    "    # 자음인 경우\n",
    "    # else:\n",
    "    #    result.append(char)\n",
    "\n",
    "print(result)\n",
    "print(''.join(result))"
   ]
  },
  {
   "cell_type": "code",
   "execution_count": 112,
   "id": "cefbb85f-37dc-4cc9-9e18-1e1cdf4898a6",
   "metadata": {},
   "outputs": [
    {
     "name": "stdout",
     "output_type": "stream",
     "text": [
      "['m', 'y', ' ', 'n', 'm', ' ', 's', ' ', 'h', 'n', 'g']\n"
     ]
    }
   ],
   "source": [
    "# 2. list comprehension\n",
    "result = [word for word in words if word not in vowel]\n",
    "print(result)"
   ]
  },
  {
   "cell_type": "code",
   "execution_count": 124,
   "id": "69080bd1-b4a3-4e5d-af1e-29071b1b43a4",
   "metadata": {},
   "outputs": [
    {
     "name": "stdout",
     "output_type": "stream",
     "text": [
      "['m', 'y', ' ', 'n', 'm', ' ', 's', ' ', 'h', 'n', 'g']\n",
      "my nm s hng\n"
     ]
    }
   ],
   "source": [
    "# 선생님 코드\n",
    "vowels = 'aeiou'\n",
    "result = [char for char in words if char not in vowels]\n",
    "print(result)\n",
    "print(''.join(result))"
   ]
  },
  {
   "cell_type": "code",
   "execution_count": 127,
   "id": "879f37a1-86a8-466e-97fb-4c7bb825ba66",
   "metadata": {},
   "outputs": [
    {
     "name": "stdout",
     "output_type": "stream",
     "text": [
      "my nm s hng\n"
     ]
    }
   ],
   "source": [
    "# 3. replace 메소드\n",
    "vowels = 'aeiou'\n",
    "\n",
    "# 모음 제거\n",
    "for char in vowels:\n",
    "    words = words.replace(char, '')\n",
    "\n",
    "print(words)"
   ]
  },
  {
   "cell_type": "markdown",
   "id": "cac54a37-4026-4435-b742-6bede2d0a775",
   "metadata": {},
   "source": [
    "## dictionary 메소드"
   ]
  },
  {
   "cell_type": "code",
   "execution_count": 22,
   "id": "61c04557-37c6-4922-b6aa-3efa0f3ba81a",
   "metadata": {},
   "outputs": [],
   "source": [
    "info = {\n",
    "    'name': 'hong',\n",
    "    'location': 'seoul',\n",
    "    'age': 20,\n",
    "    'phone_book':{\n",
    "        'kim': '010-1234-1234',\n",
    "        'park': '010-4321-4321'\n",
    "    }, \n",
    "    'models': ['iphone', 'ipad'], # value에는 dictionary, list 모두 들어갈 수 있음\n",
    "}"
   ]
  },
  {
   "cell_type": "code",
   "execution_count": 9,
   "id": "a378afd6-d5a3-4dc1-94dc-0796776a1317",
   "metadata": {},
   "outputs": [
    {
     "name": "stdout",
     "output_type": "stream",
     "text": [
      "hong\n",
      "20\n",
      "010-4321-4321\n",
      "ipad\n"
     ]
    }
   ],
   "source": [
    "print(info['name'])\n",
    "print(info['age']) # key를 이용해서 접근\n",
    "print(info['phone_book']['park'])\n",
    "print(info['models'][1]) # 다루고 있는 데이터 타입에 따라 접근 방법이 달라짐"
   ]
  },
  {
   "cell_type": "code",
   "execution_count": 11,
   "id": "a43e0343-d2e9-4fc1-a090-cb4178692c17",
   "metadata": {},
   "outputs": [
    {
     "name": "stdout",
     "output_type": "stream",
     "text": [
      "{'name': 'lee', 'location': 'seoul', 'age': 20, 'phone_book': {'kim': '010-1234-1234', 'park': '010-4321-4321'}, 'models': ['iphone', 'ipad']}\n"
     ]
    }
   ],
   "source": [
    "info['name'] = 'lee'\n",
    "print(info)"
   ]
  },
  {
   "cell_type": "code",
   "execution_count": 21,
   "id": "57c9a00c-4714-4408-85e1-f679f1bcf6fe",
   "metadata": {},
   "outputs": [
    {
     "name": "stdout",
     "output_type": "stream",
     "text": [
      "{'name': 'choi', 'age': 20, 'phone_book': {'kim': '010-1234-1234', 'park': '010-4321-4321'}, 'models': ['iphone', 'ipad']}\n"
     ]
    }
   ],
   "source": [
    "info.update(name='choi')\n",
    "print(info)"
   ]
  },
  {
   "cell_type": "code",
   "execution_count": 23,
   "id": "bfadaeb7-18bb-468e-9832-d410986569db",
   "metadata": {},
   "outputs": [
    {
     "name": "stdout",
     "output_type": "stream",
     "text": [
      "{'name': 'hong', 'age': 20, 'phone_book': {'kim': '010-1234-1234', 'park': '010-4321-4321'}, 'models': ['iphone', 'ipad']}\n"
     ]
    }
   ],
   "source": [
    "info.pop('location') # dictionary에서 pop() 불가능 key를 넣어줘야\n",
    "print(info)"
   ]
  },
  {
   "cell_type": "code",
   "execution_count": 20,
   "id": "120a9902-0def-488b-805f-3c57c7c80893",
   "metadata": {},
   "outputs": [
    {
     "name": "stdout",
     "output_type": "stream",
     "text": [
      "choi\n",
      "choi\n"
     ]
    }
   ],
   "source": [
    "print(info.get('name'))\n",
    "print(info['name']) # 똑같은데"
   ]
  },
  {
   "cell_type": "code",
   "execution_count": 17,
   "id": "a14b5db3-64c7-42d8-8680-e344d9e0fa86",
   "metadata": {},
   "outputs": [
    {
     "name": "stdout",
     "output_type": "stream",
     "text": [
      "None\n"
     ]
    }
   ],
   "source": [
    "print(info.get('birth'))"
   ]
  },
  {
   "cell_type": "code",
   "execution_count": 18,
   "id": "125ef939-6ab0-4760-9deb-3185468f00b9",
   "metadata": {},
   "outputs": [
    {
     "ename": "KeyError",
     "evalue": "'birth'",
     "output_type": "error",
     "traceback": [
      "\u001b[1;31m---------------------------------------------------------------------------\u001b[0m",
      "\u001b[1;31mKeyError\u001b[0m                                  Traceback (most recent call last)",
      "Cell \u001b[1;32mIn[18], line 1\u001b[0m\n\u001b[1;32m----> 1\u001b[0m \u001b[38;5;28mprint\u001b[39m(\u001b[43minfo\u001b[49m\u001b[43m[\u001b[49m\u001b[38;5;124;43m'\u001b[39;49m\u001b[38;5;124;43mbirth\u001b[39;49m\u001b[38;5;124;43m'\u001b[39;49m\u001b[43m]\u001b[49m)\n",
      "\u001b[1;31mKeyError\u001b[0m: 'birth'"
     ]
    }
   ],
   "source": [
    "print(info['birth']) # error"
   ]
  },
  {
   "cell_type": "code",
   "execution_count": 26,
   "id": "0d78b73a-e01d-43b0-9f1d-f53219a39736",
   "metadata": {},
   "outputs": [
    {
     "name": "stdout",
     "output_type": "stream",
     "text": [
      "{'A': 4, 'B': 2, 'AB': 4, 'O': 1}\n"
     ]
    }
   ],
   "source": [
    "# 연습문제\n",
    "blood_type = ['A', 'B', 'A', 'B', 'O', 'AB', 'A', 'A', 'AB']\n",
    "a = ''\n",
    "b = ''\n",
    "ab = ''\n",
    "o = ''\n",
    "\n",
    "for blood in blood_type:\n",
    "    if blood == 'A':\n",
    "        a = a + blood\n",
    "    elif blood == 'B':\n",
    "        b = b + blood\n",
    "    elif blood == 'AB':\n",
    "        ab = ab + blood\n",
    "    else:\n",
    "        o = o + blood\n",
    "my_dic = {'A': len(a), 'B': len(b), 'AB': len(ab), 'O': len(o)}\n",
    "\n",
    "print(my_dic)\n",
    "\n",
    "\n",
    "# {'A': 4, 'B' 2, 'AB':2, 'O':1}"
   ]
  },
  {
   "cell_type": "code",
   "execution_count": 27,
   "id": "9c684b0a-f6bf-4937-b60d-b59cdf9f8963",
   "metadata": {},
   "outputs": [
    {
     "name": "stdout",
     "output_type": "stream",
     "text": [
      "{'A': 4, 'B': 2, 'O': 1, 'AB': 4}\n"
     ]
    }
   ],
   "source": [
    "# 연습문제\n",
    "blood_type = ['A', 'B', 'A', 'B', 'O', 'AB', 'A', 'A', 'AB']\n",
    "a = ''\n",
    "b = ''\n",
    "ab = ''\n",
    "o = ''\n",
    "my_dic = {}\n",
    "\n",
    "for blood in blood_type:\n",
    "    if blood == 'A':\n",
    "        a = a + blood\n",
    "        my_dic['A'] = len(a)\n",
    "    elif blood == 'B':\n",
    "        b = b + blood\n",
    "        my_dic['B'] = len(b)\n",
    "    elif blood == 'AB':\n",
    "        ab = ab + blood\n",
    "        my_dic['AB'] = len(ab)\n",
    "    else:\n",
    "        o = o + blood\n",
    "        my_dic['O'] = len(o)\n",
    "\n",
    "print(my_dic)\n",
    "\n",
    "\n",
    "# {'A': 4, 'B' 2, 'AB':2, 'O':1}"
   ]
  },
  {
   "cell_type": "code",
   "execution_count": 29,
   "id": "d53f1231-8ddb-4a96-9bef-101f087cf92f",
   "metadata": {},
   "outputs": [
    {
     "name": "stdout",
     "output_type": "stream",
     "text": [
      "{'A': 4, 'B': 2, 'AB': 2, 'O': 1}\n"
     ]
    }
   ],
   "source": [
    "# 선생님 풀이\n",
    "blood_type = ['A', 'B', 'A', 'B', 'O', 'AB', 'A', 'A', 'AB']\n",
    "\n",
    "result ={\n",
    "    'A': 0,\n",
    "    'B': 0,\n",
    "    'AB': 0,\n",
    "    'O': 0,\n",
    "}\n",
    "\n",
    "for blood in blood_type:\n",
    "    # result['A']\n",
    "    result[blood] += 1\n",
    "\n",
    "print(result)"
   ]
  },
  {
   "cell_type": "code",
   "execution_count": 32,
   "id": "97562247-fe5f-44b4-8ac0-135c1d073765",
   "metadata": {},
   "outputs": [
    {
     "name": "stdout",
     "output_type": "stream",
     "text": [
      "{'서울': 2, '대전': 1, '부산': 1, '대구': 1, 'LA': 1, '파리': 1}\n"
     ]
    }
   ],
   "source": [
    "# 연습문제2 데이터가 정해지지 않은 상태에서\n",
    "locations = ['서울', '서울', '대전', '부산', '대구','LA', '파리'] \n",
    "result = {}\n",
    "\n",
    "for location in locations:\n",
    "    # if location이 result key 목록에 있으면:\n",
    "    #    기존 데이터에 +1\n",
    "    # else: 목록에 없다면\n",
    "    #    새로운 키를 등록하고 기본값 1을 지정\n",
    "\n",
    "    if result.get(location): # None = False\n",
    "    # if location in result.keys():\n",
    "        result[location] += 1\n",
    "    else:\n",
    "        result[location] = 1\n",
    "\n",
    "print(result)"
   ]
  },
  {
   "cell_type": "markdown",
   "id": "64be3349-9359-4168-a794-b1aa6aed507e",
   "metadata": {},
   "source": [
    "### dict comprehension"
   ]
  },
  {
   "cell_type": "code",
   "execution_count": 34,
   "id": "8330bd30-9934-489f-83d4-8810068deb1b",
   "metadata": {},
   "outputs": [
    {
     "name": "stdout",
     "output_type": "stream",
     "text": [
      "{1: 1, 2: 8, 3: 27, 4: 64, 5: 125, 6: 216, 7: 343, 8: 512, 9: 729, 10: 1000}\n"
     ]
    }
   ],
   "source": [
    "# {1: 1, 2: 8, 3: 27, ... , 10: 1000}\n",
    "\n",
    "result = {}\n",
    "numbers = range(1, 11)\n",
    "\n",
    "for number in numbers:\n",
    "    result[number] = number ** 3\n",
    "\n",
    "print(result)"
   ]
  },
  {
   "cell_type": "code",
   "execution_count": 35,
   "id": "104d9b90-8966-4a1c-8b87-f4ab4197369c",
   "metadata": {},
   "outputs": [
    {
     "name": "stdout",
     "output_type": "stream",
     "text": [
      "{1: 1, 2: 8, 3: 27, 4: 64, 5: 125, 6: 216, 7: 343, 8: 512, 9: 729, 10: 1000}\n"
     ]
    }
   ],
   "source": [
    "result = {number: number ** 3 for number in range(1, 11)}\n",
    "print(result)"
   ]
  },
  {
   "cell_type": "code",
   "execution_count": 36,
   "id": "70051ce4-b366-4b9d-8ec1-04fc76e98c23",
   "metadata": {},
   "outputs": [],
   "source": [
    "dust = {\n",
    "    '서울': 50,\n",
    "    '인천': 100,\n",
    "    '수원': 30,\n",
    "    '부산': 0,\n",
    "}"
   ]
  },
  {
   "cell_type": "code",
   "execution_count": 39,
   "id": "dcdcda2b-5e67-47de-a86a-6a5ff132534c",
   "metadata": {},
   "outputs": [
    {
     "name": "stdout",
     "output_type": "stream",
     "text": [
      "서울 50\n",
      "인천 100\n",
      "수원 30\n",
      "부산 0\n",
      "{'수원': 30, '부산': 0}\n"
     ]
    }
   ],
   "source": [
    "result = {}\n",
    "\n",
    "for key, value in dust.items():\n",
    "# for item in dust.items():\n",
    "    # key, value = ('서울', 50)\n",
    "    # item = ('서울', 50)\n",
    "\n",
    "    if value <= 30:\n",
    "        result[key] = value\n",
    "    \n",
    "    # print(key, value)\n",
    "    # pritn(item)\n",
    "print(result)\n"
   ]
  },
  {
   "cell_type": "code",
   "execution_count": 41,
   "id": "78c3f998-3971-4114-92b7-5557f40e5005",
   "metadata": {},
   "outputs": [
    {
     "name": "stdout",
     "output_type": "stream",
     "text": [
      "{'수원': '매우 좋음', '부산': '매우 좋음'}\n"
     ]
    }
   ],
   "source": [
    "# 2. comp\n",
    "result = {k: '매우 좋음' for k, v in dust.items() if v <= 30}\n",
    "print(result)"
   ]
  },
  {
   "cell_type": "markdown",
   "id": "1c24345a-e6fb-47e2-92e7-95bdca5e60ca",
   "metadata": {},
   "source": [
    "## Set 메소드"
   ]
  },
  {
   "cell_type": "code",
   "execution_count": 42,
   "id": "5a7d5c45-88a5-436e-abe0-f1039ea0953d",
   "metadata": {},
   "outputs": [],
   "source": [
    "fruits = {'apple', 'banana', 'melon'}"
   ]
  },
  {
   "cell_type": "code",
   "execution_count": 43,
   "id": "d57c3ea3-aff2-4173-b603-9b9dc1c0d5c9",
   "metadata": {},
   "outputs": [
    {
     "name": "stdout",
     "output_type": "stream",
     "text": [
      "{'apple', 'melon', 'banana'}\n"
     ]
    }
   ],
   "source": [
    "print(fruits) # 순서가 없는 자료구조"
   ]
  },
  {
   "cell_type": "code",
   "execution_count": 44,
   "id": "5ccb53c5-4607-4901-b378-03ac6912c61b",
   "metadata": {},
   "outputs": [
    {
     "name": "stdout",
     "output_type": "stream",
     "text": [
      "{'apple', 'melon', 'banana', 'watermelon'}\n"
     ]
    }
   ],
   "source": [
    "fruits.add('watermelon')\n",
    "print(fruits)"
   ]
  },
  {
   "cell_type": "code",
   "execution_count": 46,
   "id": "7e76bcc2-8189-4a72-a356-488cf29ac141",
   "metadata": {},
   "outputs": [
    {
     "name": "stdout",
     "output_type": "stream",
     "text": [
      "{'apple', 'grape', 'melon', 'orange', 'banana', 'watermelon'}\n"
     ]
    }
   ],
   "source": [
    "fruits.update({'orange', 'grape'})\n",
    "print(fruits)"
   ]
  },
  {
   "cell_type": "code",
   "execution_count": 47,
   "id": "70a3bf75-b1b5-41b3-8b7d-906df769c045",
   "metadata": {},
   "outputs": [
    {
     "name": "stdout",
     "output_type": "stream",
     "text": [
      "{'grape', 'melon', 'orange', 'banana', 'watermelon'}\n"
     ]
    }
   ],
   "source": [
    "fruits.remove('apple')\n",
    "print(fruits)"
   ]
  },
  {
   "cell_type": "code",
   "execution_count": 49,
   "id": "e07b0f6b-946d-4f48-9e31-f492688697e4",
   "metadata": {},
   "outputs": [
    {
     "name": "stdout",
     "output_type": "stream",
     "text": [
      "{'orange', 'banana', 'watermelon'}\n"
     ]
    }
   ],
   "source": [
    "fruits.pop() # 랜덤하게 지워짐\n",
    "print(fruits)"
   ]
  },
  {
   "cell_type": "markdown",
   "id": "08be2429-d01b-40bc-89ab-01e7308becfe",
   "metadata": {},
   "source": [
    "## map, filter, zip\n",
    "\n",
    "- *공통점: lazy한 계산을 함*"
   ]
  },
  {
   "cell_type": "markdown",
   "id": "6c76c739-4637-4aaa-8785-966dfb8c96dd",
   "metadata": {},
   "source": [
    "### map\n",
    "\n",
    "- map(function, iterable)\n",
    "    - iterable => 시퀀스 타입 *반복 가능한 객체*\n",
    "- *list 안 모든 데이터의 일괄 처리*"
   ]
  },
  {
   "cell_type": "code",
   "execution_count": 54,
   "id": "1c1434d9-a6f3-4581-9421-a0958e9861f9",
   "metadata": {},
   "outputs": [
    {
     "name": "stdout",
     "output_type": "stream",
     "text": [
      "['1', '2', '3', '4', '5']\n"
     ]
    }
   ],
   "source": [
    "numbers = [1, 2, 3, 4, 5]\n",
    "# => ['1', '2', '3', '4', '5']\n",
    "\n",
    "result = []\n",
    "for number in numbers:\n",
    "    result.append(str(number))\n",
    "print(result)"
   ]
  },
  {
   "cell_type": "code",
   "execution_count": 60,
   "id": "37828ee2-44c1-4a0a-b659-6fdf67b49bab",
   "metadata": {},
   "outputs": [
    {
     "name": "stdout",
     "output_type": "stream",
     "text": [
      "<map object at 0x00000206EEFAF490>\n",
      "['1', '2', '3', '4', '5']\n",
      "['1', '2', '3', '4', '5']\n"
     ]
    }
   ],
   "source": [
    "result = map(str, numbers)\n",
    "print(result) # 계산은 나중에 할게\n",
    "print(list(result))\n",
    "\n",
    "result2 = list(map(str, numbers))\n",
    "print(result2)"
   ]
  },
  {
   "cell_type": "code",
   "execution_count": 61,
   "id": "cbe2c853-e029-45da-8216-7698cdfec353",
   "metadata": {},
   "outputs": [
    {
     "name": "stdout",
     "output_type": "stream",
     "text": [
      "[1, 8, 27, 64, 125]\n"
     ]
    }
   ],
   "source": [
    "numbers = [1, 2, 3, 4, 5]\n",
    "# => [1, 8, 27, 64, 125]\n",
    "\n",
    "result = []\n",
    "for number in numbers:\n",
    "    result.append(number ** 3)\n",
    "\n",
    "print(result)"
   ]
  },
  {
   "cell_type": "code",
   "execution_count": 64,
   "id": "0dd4f50b-81aa-4275-ae78-8081e8b63d80",
   "metadata": {},
   "outputs": [
    {
     "name": "stdout",
     "output_type": "stream",
     "text": [
      "<map object at 0x00000206EEF9AD10>\n",
      "[1, 8, 27, 64, 125]\n"
     ]
    }
   ],
   "source": [
    "def cube(x):\n",
    "    return x ** 3\n",
    "\n",
    "result = map(cube, numbers)\n",
    "print(result)\n",
    "print(list(result)) "
   ]
  },
  {
   "cell_type": "code",
   "execution_count": 66,
   "id": "24e8bbbf-1037-4b05-9fb9-99fff55aa7b1",
   "metadata": {},
   "outputs": [
    {
     "name": "stdout",
     "output_type": "stream",
     "text": [
      "[1, 3, 5, 7, 9]\n"
     ]
    }
   ],
   "source": [
    "test_input = '1 3 5 7 9'\n",
    "# 1. 띄어쓰기 기준으로 나눔\n",
    "test_input.split()\n",
    "# 2. 각 글자를 숫자로 바꿈\n",
    "map(int, test_input.split())\n",
    "# 3. 리스트에 저장\n",
    "result = list(map(int, test_input.split()))\n",
    "\n",
    "print(result)"
   ]
  },
  {
   "cell_type": "markdown",
   "id": "8ea525b2-4e7c-4310-b8bf-3775c2199044",
   "metadata": {},
   "source": [
    "### filter\n",
    "\n",
    "- filter(function, iterable)\n",
    "- *T or F만 나오는 함수를 써야함 T만 골라내기 때문*"
   ]
  },
  {
   "cell_type": "code",
   "execution_count": 69,
   "id": "e888f108-b414-4b12-b479-9864b1dc1721",
   "metadata": {},
   "outputs": [
    {
     "name": "stdout",
     "output_type": "stream",
     "text": [
      "[1, 3, 5]\n"
     ]
    }
   ],
   "source": [
    "numbers = [1, 2, 3, 4, 5, 6]\n",
    "\n",
    "result = []\n",
    "for number in numbers:\n",
    "    if number % 2 == 1:\n",
    "        result.append(number)\n",
    "print(result)"
   ]
  },
  {
   "cell_type": "code",
   "execution_count": 68,
   "id": "34e9e8e5-caa5-439a-935a-f636a83a9fdf",
   "metadata": {},
   "outputs": [],
   "source": [
    "def is_odd(x):\n",
    "    return x % 2"
   ]
  },
  {
   "cell_type": "code",
   "execution_count": 70,
   "id": "09aab424-67f5-4f48-a43d-2e04d1cc4704",
   "metadata": {},
   "outputs": [
    {
     "name": "stdout",
     "output_type": "stream",
     "text": [
      "<filter object at 0x00000206EEF9B520>\n",
      "[1, 3, 5]\n"
     ]
    }
   ],
   "source": [
    "result = filter(is_odd, numbers)\n",
    "print(result)\n",
    "print(list(result))"
   ]
  },
  {
   "cell_type": "markdown",
   "id": "d10a392e-660b-433d-9a12-2ccb60e2a7a8",
   "metadata": {},
   "source": [
    "### zip"
   ]
  },
  {
   "cell_type": "code",
   "execution_count": 72,
   "id": "029c4b53-5439-432c-8625-ccfeb2778427",
   "metadata": {},
   "outputs": [
    {
     "name": "stdout",
     "output_type": "stream",
     "text": [
      "<zip object at 0x00000206EF4AFF00>\n",
      "[(1, 100), (2, 200), (3, 300)]\n"
     ]
    }
   ],
   "source": [
    "a = [1, 2, 3]\n",
    "b = [100, 200, 300, 400] # 앞에서부터 순서대로 묶으므로 400이 잘림\n",
    "\n",
    "result = zip(a, b) # iterable한 데이터를 담음\n",
    "print(result)\n",
    "print(list(result))"
   ]
  },
  {
   "cell_type": "code",
   "execution_count": null,
   "id": "39cd5ebf-2490-43ba-b484-dc7636d77962",
   "metadata": {},
   "outputs": [],
   "source": []
  },
  {
   "cell_type": "code",
   "execution_count": null,
   "id": "95285770-75bd-4bc7-9f4c-a39ca4e1c7e8",
   "metadata": {},
   "outputs": [],
   "source": []
  }
 ],
 "metadata": {
  "kernelspec": {
   "display_name": "Python 3 (ipykernel)",
   "language": "python",
   "name": "python3"
  },
  "language_info": {
   "codemirror_mode": {
    "name": "ipython",
    "version": 3
   },
   "file_extension": ".py",
   "mimetype": "text/x-python",
   "name": "python",
   "nbconvert_exporter": "python",
   "pygments_lexer": "ipython3",
   "version": "3.13.2"
  }
 },
 "nbformat": 4,
 "nbformat_minor": 5
}
