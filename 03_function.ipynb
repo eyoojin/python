{
 "cells": [
  {
   "cell_type": "markdown",
   "id": "5a49da33-8ca8-4c0a-953e-d1b55eb59127",
   "metadata": {},
   "source": [
    "# 함수(function)"
   ]
  },
  {
   "cell_type": "code",
   "execution_count": 6,
   "id": "829e788f-fa27-4a4d-b390-e4a128923405",
   "metadata": {},
   "outputs": [
    {
     "name": "stdout",
     "output_type": "stream",
     "text": [
      "면적: 1000\n",
      "둘레: 140\n",
      "사각형의 면적은 1000이고 둘레는 140입니다.\n"
     ]
    }
   ],
   "source": [
    "# 사각형의 가로와 세로의 길이를 이용해서 면적과 둘레를 구하는 코드\n",
    "height = 50\n",
    "width = 20\n",
    "\n",
    "# 내가 만든 코드\n",
    "print(f'면적: {height * width}')\n",
    "print(f'둘레: {2 * (height + width)}')\n",
    "\n",
    "# 선생님이 만든 코드\n",
    "area = height * width\n",
    "perimeter = (height + width) * 2 # 이름 짓는 것은 중요하므로 단어가 생각이 안나면 검색해서 짓자\n",
    "\n",
    "print(f'사각형의 면적은 {area}이고 둘레는 {perimeter}입니다.')"
   ]
  },
  {
   "cell_type": "code",
   "execution_count": 9,
   "id": "070bca48-24be-43b8-9fa9-b66622d3b4df",
   "metadata": {},
   "outputs": [
    {
     "name": "stdout",
     "output_type": "stream",
     "text": [
      "사각형의 면적은 2500이고 둘레는 200입니다.\n"
     ]
    }
   ],
   "source": [
    "# 사각형의 가로와 세로의 길이를 이용해서 면적과 둘레를 구하는 코드\n",
    "height2 = 50\n",
    "width2 = 50\n",
    "\n",
    "area2 = height2 * width2\n",
    "perimeter2 = (height2 + width2) * 2 \n",
    "\n",
    "print(f'사각형의 면적은 {area2}이고 둘레는 {perimeter2}입니다.')\n",
    "# 변수에 모두 2를 붙여줘야 하는데 이 과정이 너무 귀찮음\n",
    "# 함수는 코드의 재사용성을 높이기 위해 사용"
   ]
  },
  {
   "cell_type": "markdown",
   "id": "c65107c7-ac7f-4ec7-be54-73881bdefe6a",
   "metadata": {},
   "source": [
    "## 함수의 선언과 호출\n",
    "\n",
    "- 선언\n",
    "```python\n",
    "def func_name(parameter, parameter2, ...):\n",
    "    code1\n",
    "    code2\n",
    "    ...\n",
    "    return value\n",
    "```\n",
    "- 호출\n",
    "`func_name(parameter1, parameter2, ...)` *소괄호가 열림 = 함수가 호출됨*"
   ]
  },
  {
   "cell_type": "code",
   "execution_count": 10,
   "id": "1dfd0f35-70ee-4e77-ba52-9f969b40aad6",
   "metadata": {},
   "outputs": [],
   "source": [
    "def rectangle(height, width):\n",
    "    area = height * width\n",
    "    perimeter = (height + width) * 2\n",
    "\n",
    "    print(f'사각형의 면적은 {area}이고 둘레는 {perimeter}입니다.')"
   ]
  },
  {
   "cell_type": "code",
   "execution_count": 12,
   "id": "1127bf67-501e-446b-9bfa-6e149c14eed8",
   "metadata": {},
   "outputs": [
    {
     "name": "stdout",
     "output_type": "stream",
     "text": [
      "사각형의 면적은 1500이고 둘레는 160입니다.\n",
      "사각형의 면적은 2000이고 둘레는 240입니다.\n"
     ]
    }
   ],
   "source": [
    "rectangle(50, 30)\n",
    "rectangle(20, 100)"
   ]
  },
  {
   "cell_type": "code",
   "execution_count": 14,
   "id": "9cbc081c-95a0-47ef-b877-9a831f97bf1b",
   "metadata": {},
   "outputs": [
    {
     "name": "stdout",
     "output_type": "stream",
     "text": [
      "asdf\n"
     ]
    },
    {
     "data": {
      "text/plain": [
       "'123'"
      ]
     },
     "execution_count": 14,
     "metadata": {},
     "output_type": "execute_result"
    }
   ],
   "source": [
    "# 예시\n",
    "print('asdf') # 앞에 어떤 단어가 나오고 소괄호가 열리면 모두 함수임\n",
    "str(123)"
   ]
  },
  {
   "cell_type": "code",
   "execution_count": 17,
   "id": "997e48a8-d41a-4039-8677-1f28749ef47b",
   "metadata": {},
   "outputs": [
    {
     "data": {
      "text/plain": [
       "['ArithmeticError',\n",
       " 'AssertionError',\n",
       " 'AttributeError',\n",
       " 'BaseException',\n",
       " 'BaseExceptionGroup',\n",
       " 'BlockingIOError',\n",
       " 'BrokenPipeError',\n",
       " 'BufferError',\n",
       " 'BytesWarning',\n",
       " 'ChildProcessError',\n",
       " 'ConnectionAbortedError',\n",
       " 'ConnectionError',\n",
       " 'ConnectionRefusedError',\n",
       " 'ConnectionResetError',\n",
       " 'DeprecationWarning',\n",
       " 'EOFError',\n",
       " 'Ellipsis',\n",
       " 'EncodingWarning',\n",
       " 'EnvironmentError',\n",
       " 'Exception',\n",
       " 'ExceptionGroup',\n",
       " 'False',\n",
       " 'FileExistsError',\n",
       " 'FileNotFoundError',\n",
       " 'FloatingPointError',\n",
       " 'FutureWarning',\n",
       " 'GeneratorExit',\n",
       " 'IOError',\n",
       " 'ImportError',\n",
       " 'ImportWarning',\n",
       " 'IndentationError',\n",
       " 'IndexError',\n",
       " 'InterruptedError',\n",
       " 'IsADirectoryError',\n",
       " 'KeyError',\n",
       " 'KeyboardInterrupt',\n",
       " 'LookupError',\n",
       " 'MemoryError',\n",
       " 'ModuleNotFoundError',\n",
       " 'NameError',\n",
       " 'None',\n",
       " 'NotADirectoryError',\n",
       " 'NotImplemented',\n",
       " 'NotImplementedError',\n",
       " 'OSError',\n",
       " 'OverflowError',\n",
       " 'PendingDeprecationWarning',\n",
       " 'PermissionError',\n",
       " 'ProcessLookupError',\n",
       " 'PythonFinalizationError',\n",
       " 'RecursionError',\n",
       " 'ReferenceError',\n",
       " 'ResourceWarning',\n",
       " 'RuntimeError',\n",
       " 'RuntimeWarning',\n",
       " 'StopAsyncIteration',\n",
       " 'StopIteration',\n",
       " 'SyntaxError',\n",
       " 'SyntaxWarning',\n",
       " 'SystemError',\n",
       " 'SystemExit',\n",
       " 'TabError',\n",
       " 'TimeoutError',\n",
       " 'True',\n",
       " 'TypeError',\n",
       " 'UnboundLocalError',\n",
       " 'UnicodeDecodeError',\n",
       " 'UnicodeEncodeError',\n",
       " 'UnicodeError',\n",
       " 'UnicodeTranslateError',\n",
       " 'UnicodeWarning',\n",
       " 'UserWarning',\n",
       " 'ValueError',\n",
       " 'Warning',\n",
       " 'WindowsError',\n",
       " 'ZeroDivisionError',\n",
       " '_IncompleteInputError',\n",
       " '__IPYTHON__',\n",
       " '__build_class__',\n",
       " '__debug__',\n",
       " '__doc__',\n",
       " '__import__',\n",
       " '__loader__',\n",
       " '__name__',\n",
       " '__package__',\n",
       " '__spec__',\n",
       " 'abs',\n",
       " 'aiter',\n",
       " 'all',\n",
       " 'anext',\n",
       " 'any',\n",
       " 'ascii',\n",
       " 'bin',\n",
       " 'bool',\n",
       " 'breakpoint',\n",
       " 'bytearray',\n",
       " 'bytes',\n",
       " 'callable',\n",
       " 'chr',\n",
       " 'classmethod',\n",
       " 'compile',\n",
       " 'complex',\n",
       " 'copyright',\n",
       " 'credits',\n",
       " 'delattr',\n",
       " 'dict',\n",
       " 'dir',\n",
       " 'display',\n",
       " 'divmod',\n",
       " 'enumerate',\n",
       " 'eval',\n",
       " 'exec',\n",
       " 'execfile',\n",
       " 'filter',\n",
       " 'float',\n",
       " 'format',\n",
       " 'frozenset',\n",
       " 'get_ipython',\n",
       " 'getattr',\n",
       " 'globals',\n",
       " 'hasattr',\n",
       " 'hash',\n",
       " 'help',\n",
       " 'hex',\n",
       " 'id',\n",
       " 'input',\n",
       " 'int',\n",
       " 'isinstance',\n",
       " 'issubclass',\n",
       " 'iter',\n",
       " 'len',\n",
       " 'license',\n",
       " 'list',\n",
       " 'locals',\n",
       " 'map',\n",
       " 'max',\n",
       " 'memoryview',\n",
       " 'min',\n",
       " 'next',\n",
       " 'object',\n",
       " 'oct',\n",
       " 'open',\n",
       " 'ord',\n",
       " 'pow',\n",
       " 'print',\n",
       " 'property',\n",
       " 'range',\n",
       " 'repr',\n",
       " 'reversed',\n",
       " 'round',\n",
       " 'runfile',\n",
       " 'set',\n",
       " 'setattr',\n",
       " 'slice',\n",
       " 'sorted',\n",
       " 'staticmethod',\n",
       " 'str',\n",
       " 'sum',\n",
       " 'super',\n",
       " 'tuple',\n",
       " 'type',\n",
       " 'vars',\n",
       " 'zip']"
      ]
     },
     "execution_count": 17,
     "metadata": {},
     "output_type": "execute_result"
    }
   ],
   "source": [
    "dir(__builtins__) # python이 이미 가지고 있는 함수"
   ]
  },
  {
   "cell_type": "code",
   "execution_count": 19,
   "id": "c2056994-a6a1-4525-9685-2bf8b1485fd4",
   "metadata": {},
   "outputs": [
    {
     "data": {
      "text/plain": [
       "100"
      ]
     },
     "execution_count": 19,
     "metadata": {},
     "output_type": "execute_result"
    }
   ],
   "source": [
    "max(100, 2) # 최대값을 찾아주는 함수"
   ]
  },
  {
   "cell_type": "code",
   "execution_count": 22,
   "id": "318836fe-0c7f-4797-88e2-2ee2af9a9b88",
   "metadata": {},
   "outputs": [],
   "source": [
    "def my_max(a, b): # 직접 만들어보자\n",
    "    if a > b:\n",
    "        print(a)\n",
    "    else:\n",
    "        print(b)"
   ]
  },
  {
   "cell_type": "code",
   "execution_count": 25,
   "id": "7a0b1c31-6e8a-4659-8a0a-7cb9e3dfd064",
   "metadata": {},
   "outputs": [
    {
     "name": "stdout",
     "output_type": "stream",
     "text": [
      "20\n"
     ]
    }
   ],
   "source": [
    "my_max(20, 20)"
   ]
  },
  {
   "cell_type": "code",
   "execution_count": 26,
   "id": "ab97717e-9c32-46ce-af76-da822b1a600e",
   "metadata": {},
   "outputs": [],
   "source": [
    "def my_max(a, b): # 더 세밀하게 비교하려면\n",
    "    if a > b:\n",
    "        print(a)\n",
    "    elif a < b:\n",
    "        print(b)\n",
    "    else:\n",
    "        print('같습니다')"
   ]
  },
  {
   "cell_type": "code",
   "execution_count": 27,
   "id": "5d513757-09f4-4cd1-8966-bb76c0e5c60b",
   "metadata": {},
   "outputs": [
    {
     "name": "stdout",
     "output_type": "stream",
     "text": [
      "5\n",
      "5\n",
      "같습니다\n"
     ]
    }
   ],
   "source": [
    "my_max(1, 5)\n",
    "my_max(5, 1)\n",
    "my_max(5, 5)"
   ]
  },
  {
   "cell_type": "markdown",
   "id": "88dfabfd-c8df-4385-8c4a-5849d6392ac9",
   "metadata": {},
   "source": [
    "## 함수의 return\n",
    "\n",
    "- 함수가 return을 만나면 해당값을 반환하고 함수를 종료\n",
    "- 만약 return이 없는 경우 None *(= null 아무것도 없음)* 을 자동으로 반환 *ex: my_max*\n",
    "- return은 오직 하나의 객체만 반환"
   ]
  },
  {
   "cell_type": "code",
   "execution_count": 32,
   "id": "eee655c6-1f5c-4414-a55c-382392059842",
   "metadata": {},
   "outputs": [
    {
     "name": "stdout",
     "output_type": "stream",
     "text": [
      "2\n",
      "None\n"
     ]
    },
    {
     "ename": "TypeError",
     "evalue": "unsupported operand type(s) for *: 'NoneType' and 'int'",
     "output_type": "error",
     "traceback": [
      "\u001b[1;31m---------------------------------------------------------------------------\u001b[0m",
      "\u001b[1;31mTypeError\u001b[0m                                 Traceback (most recent call last)",
      "Cell \u001b[1;32mIn[32], line 3\u001b[0m\n\u001b[0;32m      1\u001b[0m result \u001b[38;5;241m=\u001b[39m my_max(\u001b[38;5;241m1\u001b[39m, \u001b[38;5;241m2\u001b[39m)\n\u001b[0;32m      2\u001b[0m \u001b[38;5;28mprint\u001b[39m(result)\n\u001b[1;32m----> 3\u001b[0m \u001b[43mresult\u001b[49m\u001b[43m \u001b[49m\u001b[38;5;241;43m*\u001b[39;49m\u001b[43m \u001b[49m\u001b[38;5;241;43m2\u001b[39;49m\n",
      "\u001b[1;31mTypeError\u001b[0m: unsupported operand type(s) for *: 'NoneType' and 'int'"
     ]
    }
   ],
   "source": [
    "result = my_max(1, 2) # 숫자를 단순히 출력만 해줌\n",
    "print(result)\n",
    "result * 2 # error: return 사용시 결과값을 재사용할 수 있게 됨"
   ]
  },
  {
   "cell_type": "code",
   "execution_count": 33,
   "id": "d0225d9c-14a8-4b88-b12f-dfb9e95d0bec",
   "metadata": {},
   "outputs": [],
   "source": [
    "def my_max2(num1, num2): # pass: 구조를 먼저 잡고 코드를 나중에 작성할 때 사용\n",
    "    if num1 > num2:\n",
    "        return num1\n",
    "    else:\n",
    "        return num2        "
   ]
  },
  {
   "cell_type": "code",
   "execution_count": 35,
   "id": "b9e56922-7f68-40eb-a9ad-7720f1b8690e",
   "metadata": {},
   "outputs": [
    {
     "data": {
      "text/plain": [
       "10"
      ]
     },
     "execution_count": 35,
     "metadata": {},
     "output_type": "execute_result"
    }
   ],
   "source": [
    "my_max2(10, 2) # 아래에 [숫자]가 나옴"
   ]
  },
  {
   "cell_type": "code",
   "execution_count": 37,
   "id": "65504432-6229-42af-ad25-90b7440fe7bf",
   "metadata": {},
   "outputs": [
    {
     "name": "stdout",
     "output_type": "stream",
     "text": [
      "2\n"
     ]
    }
   ],
   "source": [
    "result = my_max2(1, 2)\n",
    "print(result)"
   ]
  },
  {
   "cell_type": "code",
   "execution_count": 40,
   "id": "13ef6764-ee9a-40a6-b903-9cdb3b7d412f",
   "metadata": {},
   "outputs": [
    {
     "data": {
      "text/plain": [
       "(20, 10)"
      ]
     },
     "execution_count": 40,
     "metadata": {},
     "output_type": "execute_result"
    }
   ],
   "source": [
    "def my_def(x):\n",
    "    return x * 2, x # 자동으로 return(x * 2, x)로 만들어 준 것\n",
    "\n",
    "my_def(10) # 결과에 tuple이 출력 = 하나의 데이터만 반환할 수 있기 때문에"
   ]
  },
  {
   "cell_type": "code",
   "execution_count": 44,
   "id": "3a35ec5c-6276-4fb3-95a4-89ba1b2ed9aa",
   "metadata": {},
   "outputs": [
    {
     "name": "stdout",
     "output_type": "stream",
     "text": [
      "0\n",
      "1\n",
      "2\n",
      "3\n"
     ]
    },
    {
     "data": {
      "text/plain": [
       "3"
      ]
     },
     "execution_count": 44,
     "metadata": {},
     "output_type": "execute_result"
    }
   ],
   "source": [
    "def my_for(x):\n",
    "    for i in range(x):\n",
    "        print(i)\n",
    "        if i == 3:\n",
    "            return i\n",
    "            \n",
    "my_for(5) # 원래라면 반복문을 5번 반복해야 하는데 return을 만나서 3에서 종료됨"
   ]
  },
  {
   "cell_type": "code",
   "execution_count": 75,
   "id": "194d504c-e80e-447a-b231-680bdcb2f227",
   "metadata": {},
   "outputs": [],
   "source": [
    "# 내가 짠 코드 실행 안됨 ㅜㅜㅜ\n",
    "x = [a, b, c]\n",
    "y = [d, e, f]\n",
    "\n",
    "def my_list_max(x, y):\n",
    "    result1 = a + b + c\n",
    "    result2 = d + e + f\n",
    "    \n",
    "    if result1 > result2:\n",
    "        return x\n",
    "    else:\n",
    "        return y"
   ]
  },
  {
   "cell_type": "code",
   "execution_count": 82,
   "id": "803f3e7e-d0bc-476a-999c-b0774182fabe",
   "metadata": {},
   "outputs": [],
   "source": [
    "# version1\n",
    "def my_list_max(list1, list2):\n",
    "    sum_of_list1 = list1[0] + list1[1] + list1[2] # 한땀한땀\n",
    "    sum_of_list2 = list2[0] + list2[1] + list2[2]\n",
    "\n",
    "    if sum_of_list1 > sum_of_list2:\n",
    "        return list1\n",
    "    else:\n",
    "        return list2"
   ]
  },
  {
   "cell_type": "code",
   "execution_count": 88,
   "id": "3638987e-115a-48f9-aca5-e70ca389fbcf",
   "metadata": {},
   "outputs": [],
   "source": [
    "# version2\n",
    "def my_list_max(list1, list2):\n",
    "    sum_of_list1 = 0 # 초기값 설정\n",
    "    sum_of_list2 = 0\n",
    "\n",
    "    for item in list1:\n",
    "        sum_of_list1 = sum_of_list1 + item # 일일히 적기\n",
    "        \n",
    "    for item in list2:\n",
    "        sum_of_list2 += item\n",
    "\n",
    "    if sum_of_list1 > sum_of_list2:\n",
    "        return list1\n",
    "    else:\n",
    "        return list2"
   ]
  },
  {
   "cell_type": "code",
   "execution_count": 92,
   "id": "9cd4754e-feb7-4894-904b-f610d0934c9b",
   "metadata": {},
   "outputs": [],
   "source": [
    "# version3-1\n",
    "def my_list_max(list1, list2):\n",
    "    sum_of_list1 = sum(list1) # 파이썬에 내장된 함수 활용\n",
    "    sum_of_list2 = sum(list2)\n",
    "    \n",
    "    if sum_of_list1 > sum_of_list2:\n",
    "        return list1\n",
    "    else:\n",
    "        return list2"
   ]
  },
  {
   "cell_type": "code",
   "execution_count": 93,
   "id": "28183e38-957d-4fce-bf61-d07678e6b2ee",
   "metadata": {},
   "outputs": [],
   "source": [
    "# version3-2\n",
    "def my_list_max(list1, list2):\n",
    "    if sum(list1) > sum(list2): # 할당하지 않고 극단적으로 줄이기\n",
    "        return list1\n",
    "    else:\n",
    "        return list2"
   ]
  },
  {
   "cell_type": "code",
   "execution_count": 94,
   "id": "74f23cff-67f1-4bd4-a99f-bedf39e78298",
   "metadata": {},
   "outputs": [
    {
     "data": {
      "text/plain": [
       "[2, 3, 400]"
      ]
     },
     "execution_count": 94,
     "metadata": {},
     "output_type": "execute_result"
    }
   ],
   "source": [
    "my_list_max([1, 2, 3, 100], [2, 3, 400])\n",
    "# => [2, 3, 4]"
   ]
  },
  {
   "cell_type": "markdown",
   "id": "2f1b3cc7-0b00-4acf-ab80-0d41bce1bf6d",
   "metadata": {},
   "source": [
    "### 함수의 인수"
   ]
  },
  {
   "cell_type": "markdown",
   "id": "bfaaee26-1193-4bb6-bf34-83fd840020d1",
   "metadata": {},
   "source": [
    "#### 위치 인수\n",
    "\n",
    "- 기본적으로 함수는 위치를 기준으로 인수를 판단"
   ]
  },
  {
   "cell_type": "code",
   "execution_count": 96,
   "id": "5f69ac42-b5b2-4dc4-8638-354788742d1e",
   "metadata": {},
   "outputs": [],
   "source": [
    "def cylinder(r, h): # 원기둥의 부피\n",
    "    return 3.14 * r ** 2 * h"
   ]
  },
  {
   "cell_type": "code",
   "execution_count": 97,
   "id": "9fe5caa8-6db2-4316-95db-d08377e9bf7e",
   "metadata": {},
   "outputs": [
    {
     "data": {
      "text/plain": [
       "282.6"
      ]
     },
     "execution_count": 97,
     "metadata": {},
     "output_type": "execute_result"
    }
   ],
   "source": [
    "cylinder(3, 10) # r = 3, h = 10"
   ]
  },
  {
   "cell_type": "code",
   "execution_count": 98,
   "id": "ee308128-7543-4dc9-9700-2a247301015c",
   "metadata": {},
   "outputs": [
    {
     "data": {
      "text/plain": [
       "942.0"
      ]
     },
     "execution_count": 98,
     "metadata": {},
     "output_type": "execute_result"
    }
   ],
   "source": [
    "cylinder(10, 3) # r = 10, h = 3"
   ]
  },
  {
   "cell_type": "markdown",
   "id": "f865009a-0e29-4bcc-a298-2922e7376704",
   "metadata": {},
   "source": [
    "#### 기본값\n",
    "\n",
    "```python\n",
    "def func_name(p1=v1):\n",
    "    code1\n",
    "    return value\n",
    "```"
   ]
  },
  {
   "cell_type": "code",
   "execution_count": 99,
   "id": "4ac8c182-08da-416e-948e-5c7a2e9b0be0",
   "metadata": {},
   "outputs": [],
   "source": [
    "def greeting(name):\n",
    "    return f'{name}님 반갑습니다.'"
   ]
  },
  {
   "cell_type": "code",
   "execution_count": 102,
   "id": "b751dabd-3878-4b78-ab13-90fb4ea99218",
   "metadata": {},
   "outputs": [
    {
     "ename": "TypeError",
     "evalue": "greeting() missing 1 required positional argument: 'name'",
     "output_type": "error",
     "traceback": [
      "\u001b[1;31m---------------------------------------------------------------------------\u001b[0m",
      "\u001b[1;31mTypeError\u001b[0m                                 Traceback (most recent call last)",
      "Cell \u001b[1;32mIn[102], line 1\u001b[0m\n\u001b[1;32m----> 1\u001b[0m \u001b[43mgreeting\u001b[49m\u001b[43m(\u001b[49m\u001b[43m)\u001b[49m \u001b[38;5;66;03m# error: name이라는 데이터가 필요한데 missing, positional argument: 위치 인자\u001b[39;00m\n",
      "\u001b[1;31mTypeError\u001b[0m: greeting() missing 1 required positional argument: 'name'"
     ]
    }
   ],
   "source": [
    "greeting() # error: name이라는 데이터가 필요한데 missing, positional argument: 위치 인자"
   ]
  },
  {
   "cell_type": "code",
   "execution_count": 104,
   "id": "63cf76d5-f946-4a09-ab12-27a3c7715609",
   "metadata": {},
   "outputs": [],
   "source": [
    " def greeting(name='익명'):\n",
    "     return f'{name}님 반갑습니다.'"
   ]
  },
  {
   "cell_type": "code",
   "execution_count": 105,
   "id": "92e99198-958d-4bae-91fd-797e69542f0d",
   "metadata": {},
   "outputs": [
    {
     "data": {
      "text/plain": [
       "'익명님 반갑습니다.'"
      ]
     },
     "execution_count": 105,
     "metadata": {},
     "output_type": "execute_result"
    }
   ],
   "source": [
    "greeting() # 값이 들어와도 되고 아니어도 됨"
   ]
  },
  {
   "cell_type": "code",
   "execution_count": 113,
   "id": "b02a2db9-5d0c-41f5-ad7c-ea6f4a74a6a3",
   "metadata": {},
   "outputs": [
    {
     "name": "stdout",
     "output_type": "stream",
     "text": [
      "안녕하세요?반갑습니다!저는 이유진입니다.\n"
     ]
    }
   ],
   "source": [
    "# def print(*objects, sep=' ', end='\\n') # 여러개 적으면 알아서 공백, 알아서 new line\n",
    "print('안녕하세요', '반갑습니다', sep='?', end='!')\n",
    "print('저는 이유진입니다.')"
   ]
  },
  {
   "cell_type": "code",
   "execution_count": 118,
   "id": "aa848fcb-1705-47a5-85e5-cebf7edf23b1",
   "metadata": {},
   "outputs": [
    {
     "ename": "SyntaxError",
     "evalue": "parameter without a default follows parameter with a default (3193648576.py, line 1)",
     "output_type": "error",
     "traceback": [
      "\u001b[1;36m  Cell \u001b[1;32mIn[118], line 1\u001b[1;36m\u001b[0m\n\u001b[1;33m    def greeting(name='익명', age): # error: 기본값 인자는 위치 인자보다 뒤에 나와야\u001b[0m\n\u001b[1;37m                            ^\u001b[0m\n\u001b[1;31mSyntaxError\u001b[0m\u001b[1;31m:\u001b[0m parameter without a default follows parameter with a default\n"
     ]
    }
   ],
   "source": [
    "def greeting(name='익명', age): # error: 기본값 인자는 위치 인자보다 뒤에 나와야\n",
    "    return f'{name}님의 나이는 {age}살입니다.'"
   ]
  },
  {
   "cell_type": "code",
   "execution_count": 119,
   "id": "51b18c48-7685-438e-a366-c28d202252ac",
   "metadata": {},
   "outputs": [],
   "source": [
    "def greeting(age, name='익명'): # 앞에서부터 차곡차곡\n",
    "    return f'{name}님의 나이는 {age}살입니다.'"
   ]
  },
  {
   "cell_type": "code",
   "execution_count": 120,
   "id": "478773f7-d493-4069-bbdf-2108cf68c863",
   "metadata": {},
   "outputs": [
    {
     "data": {
      "text/plain": [
       "'익명님의 나이는 10살입니다.'"
      ]
     },
     "execution_count": 120,
     "metadata": {},
     "output_type": "execute_result"
    }
   ],
   "source": [
    "greeting('길동', 10)\n",
    "greeting(10)"
   ]
  },
  {
   "cell_type": "code",
   "execution_count": null,
   "id": "d62a63d7-76ae-46c6-8245-7577d281fadb",
   "metadata": {},
   "outputs": [],
   "source": [
    "#### 키워드 인수\n",
    "\n",
    "- 함수를 호출(실행)할 때 내가 원하는 위치에 직접적으로 값을 전달"
   ]
  },
  {
   "cell_type": "code",
   "execution_count": 123,
   "id": "e0c11e12-b150-4d41-a14c-e6c5ff598d23",
   "metadata": {},
   "outputs": [],
   "source": [
    "def greeting(age, name='익명'):\n",
    "    return f'{name}님은 {age}살입니다.'"
   ]
  },
  {
   "cell_type": "code",
   "execution_count": 124,
   "id": "d17ffa84-cbff-4f06-a918-a593973701cd",
   "metadata": {},
   "outputs": [
    {
     "data": {
      "text/plain": [
       "'길동님은 10살입니다.'"
      ]
     },
     "execution_count": 124,
     "metadata": {},
     "output_type": "execute_result"
    }
   ],
   "source": [
    "greeting(10, '길동')\n",
    "greeting(10)\n",
    "greeting(name='길동', age=10)"
   ]
  },
  {
   "cell_type": "markdown",
   "id": "1079c673-4834-4b51-a44e-81e8ed33fc1c",
   "metadata": {},
   "source": [
    "#### 가변 인자 리스트\n",
    "\n",
    "*변할 수 있는*\n",
    "```python\n",
    "def func_name(*parms):\n",
    "    code\n",
    "    ...\n",
    "    return value\n",
    "```"
   ]
  },
  {
   "cell_type": "code",
   "execution_count": 125,
   "id": "553657e5-fdb6-427a-ae51-94a6a03c6749",
   "metadata": {},
   "outputs": [
    {
     "name": "stdout",
     "output_type": "stream",
     "text": [
      "1 2 asdf\n"
     ]
    }
   ],
   "source": [
    "print('1', '2', 'asdf') # print문은 인자를 몇개 넣든 실행 가능함"
   ]
  },
  {
   "cell_type": "code",
   "execution_count": 126,
   "id": "59d4583c-af2d-4450-a763-678362871169",
   "metadata": {},
   "outputs": [],
   "source": [
    "def my_print(*words):\n",
    "    print(words)"
   ]
  },
  {
   "cell_type": "code",
   "execution_count": 129,
   "id": "86790396-2717-4a0f-9d7d-59e3bca3e194",
   "metadata": {},
   "outputs": [
    {
     "name": "stdout",
     "output_type": "stream",
     "text": [
      "('my', 'name', 'is')\n"
     ]
    }
   ],
   "source": [
    "my_print('my', 'name', 'is') # tuple이 만들어짐"
   ]
  },
  {
   "cell_type": "code",
   "execution_count": 131,
   "id": "f70904b1-0a5f-4c2b-8bd0-fb0d7a10ef17",
   "metadata": {},
   "outputs": [
    {
     "data": {
      "text/plain": [
       "7"
      ]
     },
     "execution_count": 131,
     "metadata": {},
     "output_type": "execute_result"
    }
   ],
   "source": [
    "max(1, 2, 3, 4, 5, 6, 7)"
   ]
  },
  {
   "cell_type": "code",
   "execution_count": 152,
   "id": "6ef4acc0-7d0f-41ee-975c-0b55982240ca",
   "metadata": {},
   "outputs": [],
   "source": [
    "# 내가 짜봄\n",
    "def my_max(*numbers):\n",
    "    n = 0\n",
    "    \n",
    "    for number in numbers:\n",
    "        if numbers[n] > numbers[n + 1]:\n",
    "            return numbers[n]\n",
    "        elif numbers[n + 1] > numbers[n + 2]:\n",
    "            return numbers[n + 1]\n",
    "        else:\n",
    "            return numbers[n + 2]"
   ]
  },
  {
   "cell_type": "code",
   "execution_count": 153,
   "id": "1a43644a-e891-433f-b1a3-49e8df95d7f4",
   "metadata": {},
   "outputs": [
    {
     "data": {
      "text/plain": [
       "3"
      ]
     },
     "execution_count": 153,
     "metadata": {},
     "output_type": "execute_result"
    }
   ],
   "source": [
    "my_max(1, 2, 3, 4, 5, 6, 7)"
   ]
  },
  {
   "cell_type": "code",
   "execution_count": 154,
   "id": "dd251d3f-d9ac-447b-8a71-6e1007ee2d13",
   "metadata": {},
   "outputs": [],
   "source": [
    "def my_max(*numbers):\n",
    "    # max_num = 0 # 양수만 비교 가능\n",
    "    max_num = numbers[0]\n",
    "\n",
    "    for number in numbers:\n",
    "        if max_num < number:\n",
    "            max_num = number\n",
    "\n",
    "    return max_num"
   ]
  },
  {
   "cell_type": "code",
   "execution_count": 150,
   "id": "56f9eadb-076c-41ce-acbf-d375e0dab56f",
   "metadata": {},
   "outputs": [
    {
     "data": {
      "text/plain": [
       "300"
      ]
     },
     "execution_count": 150,
     "metadata": {},
     "output_type": "execute_result"
    }
   ],
   "source": [
    "my_max(1, 2, 300, 4, 5, 6, 7)"
   ]
  },
  {
   "cell_type": "code",
   "execution_count": 155,
   "id": "3f16477e-7aba-4de9-88b6-35e3d4abda2a",
   "metadata": {},
   "outputs": [
    {
     "data": {
      "text/plain": [
       "-1"
      ]
     },
     "execution_count": 155,
     "metadata": {},
     "output_type": "execute_result"
    }
   ],
   "source": [
    "my_max(-1, -2, -3, -4)"
   ]
  },
  {
   "cell_type": "markdown",
   "id": "d96d6858-4d88-402b-b433-d0d6eeadb429",
   "metadata": {},
   "source": [
    "### 정의되지 않는 키워드 인자 처리하기\n",
    "\n",
    "```python\n",
    "def func_name(**kwargs): # keyword arguments\n",
    "    return value\n",
    "```\n",
    "- *가변인자 리스트와 비슷*\n",
    "- *키워드가 몇개 들어오든지 묶어서 dictionary로 만들어줌*"
   ]
  },
  {
   "cell_type": "code",
   "execution_count": 3,
   "id": "ee583130-0603-464f-868d-a3cee794667f",
   "metadata": {},
   "outputs": [
    {
     "name": "stdout",
     "output_type": "stream",
     "text": [
      "{'name': 'hong', 'age': 10}\n"
     ]
    }
   ],
   "source": [
    "info = {\n",
    "    'name': 'hong',\n",
    "    'age': 10,\n",
    "} # dictionary 직접 만들기\n",
    "print(info)"
   ]
  },
  {
   "cell_type": "code",
   "execution_count": 4,
   "id": "a2346717-da49-4e39-b8e2-6a0494a74b4e",
   "metadata": {},
   "outputs": [
    {
     "name": "stdout",
     "output_type": "stream",
     "text": [
      "{'name': 'kim', 'age': 20}\n"
     ]
    }
   ],
   "source": [
    "info = dict(name='kim', age=20) # dict 함수 활용\n",
    "print(info)"
   ]
  },
  {
   "cell_type": "code",
   "execution_count": 5,
   "id": "412b4398-5d44-45bd-a7a0-ec15bcded0f3",
   "metadata": {},
   "outputs": [
    {
     "name": "stdout",
     "output_type": "stream",
     "text": [
      "{'asdf': '가나다', 'age': 123, 'test': 'asdf'}\n"
     ]
    }
   ],
   "source": [
    "def my_dict(**kwargs):\n",
    "    print(kwargs)\n",
    "\n",
    "my_dict(asdf='가나다', age=123, test='asdf')"
   ]
  },
  {
   "cell_type": "code",
   "execution_count": 6,
   "id": "bdfb44c4-3447-49d4-8459-46b4daa9fac6",
   "metadata": {},
   "outputs": [],
   "source": [
    "def my_func(params1, params2='temp', *numbers, **kwargs):\n",
    "    return 0"
   ]
  },
  {
   "cell_type": "code",
   "execution_count": 7,
   "id": "1e696e4d-8c4d-4794-b8ac-d21d19dc84f0",
   "metadata": {},
   "outputs": [
    {
     "ename": "TypeError",
     "evalue": "my_func() missing 1 required positional argument: 'parmas1'",
     "output_type": "error",
     "traceback": [
      "\u001b[1;31m---------------------------------------------------------------------------\u001b[0m",
      "\u001b[1;31mTypeError\u001b[0m                                 Traceback (most recent call last)",
      "Cell \u001b[1;32mIn[7], line 1\u001b[0m\n\u001b[1;32m----> 1\u001b[0m \u001b[43mmy_func\u001b[49m\u001b[43m(\u001b[49m\u001b[43m)\u001b[49m\n",
      "\u001b[1;31mTypeError\u001b[0m: my_func() missing 1 required positional argument: 'parmas1'"
     ]
    }
   ],
   "source": [
    "my_func() # error: params1 부족"
   ]
  },
  {
   "cell_type": "code",
   "execution_count": 10,
   "id": "e4350238-3d39-4ed3-8539-31623ba6065c",
   "metadata": {},
   "outputs": [
    {
     "data": {
      "text/plain": [
       "0"
      ]
     },
     "execution_count": 10,
     "metadata": {},
     "output_type": "execute_result"
    }
   ],
   "source": [
    "my_func(123)\n",
    "# => params1 = 123, params2 = 'temp'\n",
    "my_func(123, 234)\n",
    "# => params1 = 123, params2 = 234\n",
    "my_func(123, 234, 345, 567, 789, 890)\n",
    "# => parmas1 = 123, params2 = 234, numbers = (345, 567, 789, 890)\n",
    "my_func(123, 234, 345, 567, 789, 890, a=1, b=2, c=3)\n",
    "# => kwargs = {a: 1, b: 2, c: 3}"
   ]
  },
  {
   "cell_type": "markdown",
   "id": "69549954-6667-4172-9d91-13af5ea643fb",
   "metadata": {},
   "source": [
    "### lambda 표현식\n",
    "\n",
    "```python\n",
    "lambda parameter: expression\n",
    "```\n",
    "\n",
    "- *임시함수, 일회용함수, 익명함수*\n",
    "- *장점: 빠르다*\n",
    "- *메모리에 올라가지 않고 한번 실행되면 휘발됨*"
   ]
  },
  {
   "cell_type": "code",
   "execution_count": 11,
   "id": "046005aa-43a2-468d-97bc-10455f69278e",
   "metadata": {},
   "outputs": [],
   "source": [
    "def my_sum(num1, num2):\n",
    "    return num1 + num2"
   ]
  },
  {
   "cell_type": "code",
   "execution_count": 13,
   "id": "a680fe4b-6873-4c44-ab63-b777169104dd",
   "metadata": {},
   "outputs": [
    {
     "data": {
      "text/plain": [
       "102"
      ]
     },
     "execution_count": 13,
     "metadata": {},
     "output_type": "execute_result"
    }
   ],
   "source": [
    "my_sum(100, 2)"
   ]
  },
  {
   "cell_type": "code",
   "execution_count": 17,
   "id": "a0c1a4f4-70d4-4129-83eb-37d809b68aa1",
   "metadata": {},
   "outputs": [
    {
     "data": {
      "text/plain": [
       "3"
      ]
     },
     "execution_count": 17,
     "metadata": {},
     "output_type": "execute_result"
    }
   ],
   "source": [
    "(lambda num1, num2: num1 + num2)(1, 2) # 함수 이름과 return 생략"
   ]
  },
  {
   "cell_type": "markdown",
   "id": "8189f24c-d9f8-4a2b-8985-b0aec181934a",
   "metadata": {},
   "source": [
    "### 타입힌트"
   ]
  },
  {
   "cell_type": "code",
   "execution_count": 22,
   "id": "9d26f675-652d-4797-b320-a4b5a7678530",
   "metadata": {},
   "outputs": [
    {
     "data": {
      "text/plain": [
       "3"
      ]
     },
     "execution_count": 22,
     "metadata": {},
     "output_type": "execute_result"
    }
   ],
   "source": [
    "def something(a: int, b: int) -> int: # (parameter의 타입힌트) -> (return의 타입힌트)\n",
    "    return a + b\n",
    "\n",
    "something(1, 2)"
   ]
  },
  {
   "cell_type": "code",
   "execution_count": 23,
   "id": "38f55a16-6b94-44d6-8ee8-e9548ac0d3c8",
   "metadata": {},
   "outputs": [
    {
     "data": {
      "text/plain": [
       "'asdfqwer'"
      ]
     },
     "execution_count": 23,
     "metadata": {},
     "output_type": "execute_result"
    }
   ],
   "source": [
    "something('asdf', 'qwer') # concatenation 실행됨 = 강제하지는 않음"
   ]
  },
  {
   "cell_type": "markdown",
   "id": "f811ada8-5cb8-4b74-9447-c5b7099cd2f7",
   "metadata": {},
   "source": [
    "### 이름공간(namespace), 스코프(scope)\n",
    "\n",
    "- python에서 사용하는 이름들은 이름공간에 저장되어 있음\n",
    "- LEGB 룰에 따라 접근 *위에서 아래로 갈수록 넓은 범위*\n",
    "1. Local: 정의된 함수 내부\n",
    "2. Enclosed: 상위 함수\n",
    "3. Global: 함수 밖\n",
    "4. Built-in: python이 기본적으로 가지고 있는 함수\n"
   ]
  },
  {
   "cell_type": "code",
   "execution_count": 25,
   "id": "3300bf67-de64-41ae-9a5b-de38fd52760f",
   "metadata": {},
   "outputs": [
    {
     "name": "stdout",
     "output_type": "stream",
     "text": [
      "123\n"
     ]
    }
   ],
   "source": [
    "result = str(123) # str = Built-in\n",
    "print(result)"
   ]
  },
  {
   "cell_type": "code",
   "execution_count": 26,
   "id": "6fbc14db-7a74-4bf5-9190-b8fc308993df",
   "metadata": {},
   "outputs": [],
   "source": [
    "str = 'hello'"
   ]
  },
  {
   "cell_type": "code",
   "execution_count": 27,
   "id": "af5872e2-98ab-4607-8d97-323c5ac0ba56",
   "metadata": {},
   "outputs": [
    {
     "ename": "TypeError",
     "evalue": "'str' object is not callable",
     "output_type": "error",
     "traceback": [
      "\u001b[1;31m---------------------------------------------------------------------------\u001b[0m",
      "\u001b[1;31mTypeError\u001b[0m                                 Traceback (most recent call last)",
      "Cell \u001b[1;32mIn[27], line 1\u001b[0m\n\u001b[1;32m----> 1\u001b[0m result \u001b[38;5;241m=\u001b[39m \u001b[38;5;28;43mstr\u001b[39;49m\u001b[43m(\u001b[49m\u001b[38;5;241;43m123\u001b[39;49m\u001b[43m)\u001b[49m\n\u001b[0;32m      2\u001b[0m \u001b[38;5;28mprint\u001b[39m(result)\n",
      "\u001b[1;31mTypeError\u001b[0m: 'str' object is not callable"
     ]
    }
   ],
   "source": [
    "result = str(123) \n",
    "print(result) # error: str을 위에서 변수로 정의"
   ]
  },
  {
   "cell_type": "code",
   "execution_count": 28,
   "id": "ddb10e20-c39c-4eb0-9776-1934082f68b5",
   "metadata": {},
   "outputs": [],
   "source": [
    "del str # 변수 삭제"
   ]
  },
  {
   "cell_type": "code",
   "execution_count": 32,
   "id": "a4b2a3b7-cb69-4aa7-bbff-84c9766fb5ee",
   "metadata": {},
   "outputs": [
    {
     "data": {
      "text/plain": [
       "'asdf'"
      ]
     },
     "execution_count": 32,
     "metadata": {},
     "output_type": "execute_result"
    }
   ],
   "source": [
    "a = 1\n",
    "\n",
    "def local_scope(a): # 함수 내부\n",
    "    # a = 'asdf'\n",
    "    return a\n",
    "\n",
    "a = '가나다라' \n",
    "\n",
    "local_scope('asdf')"
   ]
  },
  {
   "cell_type": "code",
   "execution_count": 33,
   "id": "e98fe684-7c59-4e2c-9220-bf0c6218743f",
   "metadata": {},
   "outputs": [
    {
     "data": {
      "text/plain": [
       "'가나다라'"
      ]
     },
     "execution_count": 33,
     "metadata": {},
     "output_type": "execute_result"
    }
   ],
   "source": [
    "a = 1\n",
    "\n",
    "def local_scope(b):\n",
    "    # b = 'asdf'\n",
    "    return a\n",
    "\n",
    "a = '가나다라' # a = 1 => a = '가나다라'\n",
    "\n",
    "local_scope('asdf')"
   ]
  },
  {
   "cell_type": "code",
   "execution_count": 38,
   "id": "32254f30-943b-4be6-81d3-b2de5c8949b9",
   "metadata": {},
   "outputs": [
    {
     "name": "stdout",
     "output_type": "stream",
     "text": [
      "1\n",
      "2\n",
      "3\n",
      "4\n",
      "5\n",
      "5\n"
     ]
    }
   ],
   "source": [
    "my_list = [1, 2, 3, 4, 5]\n",
    "\n",
    "for i in my_list:\n",
    "    # i = ... # for문 안쪽의 변수도 변수의 선언임\n",
    "    print(i)\n",
    "print(i) # 맨 마지막에 저장된 i값 = 5"
   ]
  },
  {
   "cell_type": "code",
   "execution_count": 41,
   "id": "6145c711-6ff8-4e4d-aa73-78fdd814f2a8",
   "metadata": {},
   "outputs": [
    {
     "ename": "UnboundLocalError",
     "evalue": "cannot access local variable 'a' where it is not associated with a value",
     "output_type": "error",
     "traceback": [
      "\u001b[1;31m---------------------------------------------------------------------------\u001b[0m",
      "\u001b[1;31mUnboundLocalError\u001b[0m                         Traceback (most recent call last)",
      "Cell \u001b[1;32mIn[41], line 7\u001b[0m\n\u001b[0;32m      4\u001b[0m     a \u001b[38;5;241m=\u001b[39m a \u001b[38;5;241m+\u001b[39m \u001b[38;5;241m1\u001b[39m\n\u001b[0;32m      5\u001b[0m     \u001b[38;5;28;01mreturn\u001b[39;00m a\n\u001b[1;32m----> 7\u001b[0m \u001b[43mglobal_scope\u001b[49m\u001b[43m(\u001b[49m\u001b[43m)\u001b[49m \u001b[38;5;66;03m# error\u001b[39;00m\n",
      "Cell \u001b[1;32mIn[41], line 4\u001b[0m, in \u001b[0;36mglobal_scope\u001b[1;34m()\u001b[0m\n\u001b[0;32m      3\u001b[0m \u001b[38;5;28;01mdef\u001b[39;00m\u001b[38;5;250m \u001b[39m\u001b[38;5;21mglobal_scope\u001b[39m():\n\u001b[1;32m----> 4\u001b[0m     a \u001b[38;5;241m=\u001b[39m \u001b[43ma\u001b[49m \u001b[38;5;241m+\u001b[39m \u001b[38;5;241m1\u001b[39m\n\u001b[0;32m      5\u001b[0m     \u001b[38;5;28;01mreturn\u001b[39;00m a\n",
      "\u001b[1;31mUnboundLocalError\u001b[0m: cannot access local variable 'a' where it is not associated with a value"
     ]
    }
   ],
   "source": [
    "a = 0\n",
    "\n",
    "def global_scope():\n",
    "    a = a + 1\n",
    "    return a\n",
    "\n",
    "global_scope() # error: a를 마음대로 계산할 수 없음"
   ]
  },
  {
   "cell_type": "code",
   "execution_count": null,
   "id": "74f638a6-13a0-46d1-851f-97bf8d3e2e09",
   "metadata": {},
   "outputs": [],
   "source": [
    "a = 0\n",
    "\n",
    "def global_scope():\n",
    "    global a # 밖에 있는 a를 쓸거야\n",
    "    a = a + 1\n",
    "    return a\n",
    "\n",
    "global_scope()"
   ]
  },
  {
   "cell_type": "markdown",
   "id": "3e143a70-2920-4031-81f3-08077010af05",
   "metadata": {},
   "source": [
    "### 재귀\n",
    "\n",
    "- 함수 내부에서 자기 자신을 호출하는 함수\n",
    "```\n",
    "n! = 1 * 2 * 3 * ... * n\n",
    "\n",
    "1! = 1\n",
    "2! = 1 * 2 = 1! * 2\n",
    "3! = 1 * 2 * 3 = 2! * 3\n",
    "n! = (n-1)! * n\n",
    "```\n",
    "- *recursion*\n",
    "- *내부의 내부의 내부의 내부*"
   ]
  },
  {
   "cell_type": "code",
   "execution_count": 42,
   "id": "afde8da8-62cf-4c30-8d20-4ef91888cbcd",
   "metadata": {},
   "outputs": [],
   "source": [
    "def fact(n):\n",
    "    if n == 1:\n",
    "        return 1\n",
    "    else:\n",
    "        return fact(n-1) * n"
   ]
  },
  {
   "cell_type": "code",
   "execution_count": 43,
   "id": "e47367d4-b736-445f-bd70-6086bcc65df5",
   "metadata": {},
   "outputs": [
    {
     "data": {
      "text/plain": [
       "3628800"
      ]
     },
     "execution_count": 43,
     "metadata": {},
     "output_type": "execute_result"
    }
   ],
   "source": [
    "fact(10)"
   ]
  },
  {
   "cell_type": "code",
   "execution_count": null,
   "id": "a3e130c9-5a3e-465a-beec-c4996b86369f",
   "metadata": {},
   "outputs": [],
   "source": [
    "# 함수 이해하기\n",
    "# fact(10 fact(9 fact(8 fact(7  ...  )    )   )   ) # 안에서부터 계산\n",
    "# (: 함수 실행 \n",
    "# ): 함수 종료"
   ]
  },
  {
   "cell_type": "code",
   "execution_count": 47,
   "id": "0025b296-ef1c-44d0-9c3a-0516bd0bff31",
   "metadata": {},
   "outputs": [],
   "source": [
    "# 피보나치 수열\n",
    "def fib(n):\n",
    "    if n == 0 or n == 1:\n",
    "        return 1\n",
    "    else:\n",
    "        return fib(n-2) + fib(n-1)"
   ]
  },
  {
   "cell_type": "code",
   "execution_count": 49,
   "id": "7863b7ea-bdf1-4ddf-ad87-d0a1e817c350",
   "metadata": {},
   "outputs": [
    {
     "data": {
      "text/plain": [
       "89"
      ]
     },
     "execution_count": 49,
     "metadata": {},
     "output_type": "execute_result"
    }
   ],
   "source": [
    "fib(10)"
   ]
  }
 ],
 "metadata": {
  "kernelspec": {
   "display_name": "Python 3 (ipykernel)",
   "language": "python",
   "name": "python3"
  },
  "language_info": {
   "codemirror_mode": {
    "name": "ipython",
    "version": 3
   },
   "file_extension": ".py",
   "mimetype": "text/x-python",
   "name": "python",
   "nbconvert_exporter": "python",
   "pygments_lexer": "ipython3",
   "version": "3.13.2"
  }
 },
 "nbformat": 4,
 "nbformat_minor": 5
}
