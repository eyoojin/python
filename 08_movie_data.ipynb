{
 "cells": [
  {
   "cell_type": "markdown",
   "id": "6ea5ca45-f07f-4873-b402-9585fb6b1fe4",
   "metadata": {},
   "source": [
    "# 영화진흥위원회 데이터 수집"
   ]
  },
  {
   "cell_type": "markdown",
   "id": "de9c2940-4b3a-451a-aa8f-bf61ddad4be8",
   "metadata": {},
   "source": [
    "## setting"
   ]
  },
  {
   "cell_type": "code",
   "execution_count": 79,
   "id": "7f103712-82c7-48f0-8633-7b160156ef50",
   "metadata": {},
   "outputs": [],
   "source": [
    "import requests\n",
    "\n",
    "class URLMaker:\n",
    "    \"\"\"\n",
    "    영화진흥위원회 API URL 생성 클래스\n",
    "    \"\"\"\n",
    "    \n",
    "    url = 'http://www.kobis.or.kr/kobisopenapi/webservice/rest'\n",
    "\n",
    "    def __init__(self, key):\n",
    "        \"\"\"\n",
    "        API key 초기화\n",
    "        \"\"\"\n",
    "        self.key = key\n",
    "\n",
    "    def daily_boxoffice_url(self, targetDt, itemPerPage=10, multiMovieYn='', repNationCd='', wideAreaCd=''):\n",
    "        \"\"\"\n",
    "        일별 박스오피스 URL 생성\n",
    "        \"\"\"\n",
    "        return f'{self.url}/boxoffice/searchDailyBoxOfficeList.json?key={self.key}&targetDt={targetDt}&itemPerPage={itemPerPage}&multiMovieYn={multiMovieYn}&repNationCd={repNationCd}&wideAreaCd={wideAreaCd}'\n",
    "\n",
    "    def weekly_boxoffice_url(self, targetDt, weekGb='0', itemPerPage=10, multiMovieYn='', repNationCd='', wideAreaCd=''):\n",
    "        \"\"\"\n",
    "        주간/주말 박스오피스 URL 생성\n",
    "        weekGb: 0(주간), 1(주말), 2(주중)\n",
    "        \"\"\"\n",
    "        return f'{self.url}/boxoffice/searchWeeklyBoxOfficeList.json?key={self.key}&targetDt={targetDt}&weekGb={weekGb}&itemPerPage={itemPerPage}&multiMovieYn={multiMovieYn}&repNationCd={repNationCd}&wideAreaCd={wideAreaCd}'\n",
    "\n",
    "    def movie_list_url(self, curPage=1, itemPerPage=10, movieNm='', directorNm='', openStartDt='', openEndDt='', \n",
    "                      prdtStartYear='', prdtEndYear='', repNationCd='', movieTypeCd=''):\n",
    "        \"\"\"\n",
    "        영화목록 URL 생성\n",
    "        \"\"\"\n",
    "        return f'{self.url}/movie/searchMovieList.json?key={self.key}&curPage={curPage}&itemPerPage={itemPerPage}&movieNm={movieNm}&directorNm={directorNm}&openStartDt={openStartDt}&openEndDt={openEndDt}&prdtStartYear={prdtStartYear}&prdtEndYear={prdtEndYear}&repNationCd={repNationCd}&movieTypeCd={movieTypeCd}'\n",
    "\n",
    "    def movie_info_url(self, movieCd):\n",
    "        \"\"\"\n",
    "        영화 상세정보 URL 생성\n",
    "        \"\"\"\n",
    "        return f'{self.url}/movie/searchMovieInfo.json?key={self.key}&movieCd={movieCd}'\n",
    "\n",
    "    def people_list_url(self, curPage=1, itemPerPage=10, peopleNm='', filmoNames=''):\n",
    "        \"\"\"\n",
    "        영화인목록 URL 생성\n",
    "        \"\"\"\n",
    "        return f'{self.url}/people/searchPeopleList.json?key={self.key}&curPage={curPage}&itemPerPage={itemPerPage}&peopleNm={peopleNm}&filmoNames={filmoNames}'\n",
    "\n",
    "    def people_info_url(self, peopleCd):\n",
    "        \"\"\"\n",
    "        영화인 상세정보 URL 생성\n",
    "        \"\"\"\n",
    "        return f'{self.url}/people/searchPeopleInfo.json?key={self.key}&peopleCd={peopleCd}'\n",
    "\n",
    "\n",
    "    "
   ]
  },
  {
   "cell_type": "code",
   "execution_count": 80,
   "id": "e78744cd-54ef-43ab-b409-7edd3b44af58",
   "metadata": {},
   "outputs": [],
   "source": [
    "MY_API_KEY = 'd56ce424e919ff32ac17d74f244ea605'\n",
    "url_maker = URLMaker(MY_API_KEY)"
   ]
  },
  {
   "cell_type": "code",
   "execution_count": 81,
   "id": "9c656d45-0037-4072-a0d4-1fe7baad8c81",
   "metadata": {},
   "outputs": [
    {
     "data": {
      "text/plain": [
       "'d56ce424e919ff32ac17d74f244ea605'"
      ]
     },
     "execution_count": 81,
     "metadata": {},
     "output_type": "execute_result"
    }
   ],
   "source": [
    "url_maker.key"
   ]
  },
  {
   "cell_type": "code",
   "execution_count": 82,
   "id": "ff0bfaf0-c9ba-42ff-926d-b45f15d15436",
   "metadata": {},
   "outputs": [
    {
     "name": "stdout",
     "output_type": "stream",
     "text": [
      "http://www.kobis.or.kr/kobisopenapi/webservice/rest/boxoffice/searchDailyBoxOfficeList.json?key=d56ce424e919ff32ac17d74f244ea605&targetDt=20250201&itemPerPage=10&multiMovieYn=&repNationCd=&wideAreaCd=\n"
     ]
    }
   ],
   "source": [
    "daily_url = url_maker.daily_boxoffice_url('20250201')\n",
    "print(daily_url)"
   ]
  },
  {
   "cell_type": "code",
   "execution_count": 83,
   "id": "a5b591bc-8dd1-45a0-ac90-7c6e4bf9df47",
   "metadata": {},
   "outputs": [
    {
     "name": "stdout",
     "output_type": "stream",
     "text": [
      "http://www.kobis.or.kr/kobisopenapi/webservice/rest/boxoffice/searchWeeklyBoxOfficeList.json?key=d56ce424e919ff32ac17d74f244ea605&targetDt=20250201&weekGb=0&itemPerPage=10&multiMovieYn=&repNationCd=&wideAreaCd=\n"
     ]
    }
   ],
   "source": [
    "weekly_url = url_maker.weekly_boxoffice_url('20250201')\n",
    "print(weekly_url)"
   ]
  },
  {
   "cell_type": "code",
   "execution_count": 84,
   "id": "b19dd882-7946-405c-8ea7-4f984a6fe9b7",
   "metadata": {},
   "outputs": [
    {
     "name": "stdout",
     "output_type": "stream",
     "text": [
      "http://www.kobis.or.kr/kobisopenapi/webservice/rest/movie/searchMovieInfo.json?key=d56ce424e919ff32ac17d74f244ea605&movieCd=19950084\n"
     ]
    }
   ],
   "source": [
    "info_url = url_maker.movie_info_url('19950084')\n",
    "print(info_url)"
   ]
  },
  {
   "cell_type": "markdown",
   "id": "846aac9a-0b63-4973-b1a7-c8ec66f0cbbb",
   "metadata": {},
   "source": [
    "## 영화 상세정보 조회\n",
    "\n",
    "- **영화 상세정보 api**를 사용합니다.\n",
    "- 영화 코드(movieCd)를 입력받아 해당 영화의 상세 정보를 조회합니다.\n",
    "- 다음 정보를 순서대로 출력합니다:\n",
    "    - 영화 제목 (제작연도)\n",
    "    - 감독 (첫 번째 감독)\n",
    "    - 주연 배우 (첫 번째, 두 번째 배우)\n",
    "    - 장르 (첫 번째 장르)"
   ]
  },
  {
   "cell_type": "code",
   "execution_count": 85,
   "id": "864ac340-30f1-4212-b598-a470bb838cae",
   "metadata": {},
   "outputs": [
    {
     "name": "stdout",
     "output_type": "stream",
     "text": [
      "http://www.kobis.or.kr/kobisopenapi/webservice/rest/movie/searchMovieInfo.json?key=d56ce424e919ff32ac17d74f244ea605&movieCd=19950084\n"
     ]
    }
   ],
   "source": [
    "info_url = url_maker.movie_info_url('19950084')\n",
    "print(info_url)"
   ]
  },
  {
   "cell_type": "code",
   "execution_count": 86,
   "id": "8bf71ff3-a3d8-4973-a0f8-574fd2d2eef5",
   "metadata": {},
   "outputs": [
    {
     "name": "stdout",
     "output_type": "stream",
     "text": [
      "{'movieInfoResult': {'movieInfo': {'movieCd': '19950084', 'movieNm': '쇼생크 탈출', 'movieNmEn': 'The Showshank Redemption', 'movieNmOg': '', 'showTm': '142', 'prdtYear': '1994', 'openDt': '19950204', 'prdtStatNm': '개봉', 'typeNm': '장편', 'nations': [{'nationNm': '미국'}], 'genres': [{'genreNm': '드라마'}], 'directors': [{'peopleNm': '프랭크 다라본트', 'peopleNmEn': 'Frank Darabont'}], 'actors': [{'peopleNm': '팀 로빈스', 'peopleNmEn': 'Tim Robbins', 'cast': '', 'castEn': ''}, {'peopleNm': '모건 프리먼', 'peopleNmEn': 'Morgan Freeman', 'cast': '', 'castEn': ''}], 'showTypes': [{'showTypeGroupNm': '필름', 'showTypeNm': '필름'}, {'showTypeGroupNm': '2D', 'showTypeNm': '디지털'}], 'companys': [{'companyCd': '20102502', 'companyNm': '캐슬 락 엔터테인먼트', 'companyNmEn': 'Castle Rock Entertainment', 'companyPartNm': '제작사'}, {'companyCd': '20102771', 'companyNm': '콜럼비아 픽쳐스 코포레이션', 'companyNmEn': 'Columbia Pictures Corporation', 'companyPartNm': '제작사'}, {'companyCd': '20122837', 'companyNm': '(주)팝엔터테인먼트', 'companyNmEn': 'Pop Entertainment', 'companyPartNm': '배급사'}, {'companyCd': '20154408', 'companyNm': 'THE 픽쳐스', 'companyNmEn': 'THE PICTURES', 'companyPartNm': '배급사'}, {'companyCd': '20122837', 'companyNm': '(주)팝엔터테인먼트', 'companyNmEn': 'Pop Entertainment', 'companyPartNm': '수입사'}, {'companyCd': '20100827', 'companyNm': '(주)에스와이코마드', 'companyNmEn': 'SYcomad', 'companyPartNm': '수입사'}, {'companyCd': '20100462', 'companyNm': '(주)영상시대', 'companyNmEn': '', 'companyPartNm': '수입사'}], 'audits': [{'auditNo': '95-23', 'watchGradeNm': '고등학생이상관람가'}, {'auditNo': '2016-MF00152 ', 'watchGradeNm': '15세이상관람가'}], 'staffs': [{'peopleNm': '토마스 뉴먼', 'peopleNmEn': 'Thomas Newman', 'staffRoleNm': '음악'}, {'peopleNm': '로저 디킨스', 'peopleNmEn': 'Roger Deakins', 'staffRoleNm': '촬영'}, {'peopleNm': '프랭크 다라본트', 'peopleNmEn': 'Frank Darabont', 'staffRoleNm': '시나리오(각본)'}]}, 'source': '영화진흥위원회'}}\n"
     ]
    }
   ],
   "source": [
    "movie_info = requests.get(info_url)\n",
    "movie_detail = movie_info.json()\n",
    "print(movie_detail)"
   ]
  },
  {
   "cell_type": "code",
   "execution_count": 87,
   "id": "d20b3015-f3a8-42c6-ad26-5a502074e7cc",
   "metadata": {},
   "outputs": [
    {
     "name": "stdout",
     "output_type": "stream",
     "text": [
      "쇼생크 탈출\n"
     ]
    }
   ],
   "source": [
    "print(movie_detail['movieInfoResult']['movieInfo']['movieNm'])"
   ]
  },
  {
   "cell_type": "code",
   "execution_count": 88,
   "id": "311215fa-a953-4b21-8ec2-e4246ef3e37c",
   "metadata": {},
   "outputs": [
    {
     "name": "stdout",
     "output_type": "stream",
     "text": [
      "1994\n"
     ]
    }
   ],
   "source": [
    "print(movie_detail['movieInfoResult']['movieInfo']['prdtYear'])"
   ]
  },
  {
   "cell_type": "code",
   "execution_count": 89,
   "id": "66a0c1a0-7eae-43de-ab74-fd48f5f57ec8",
   "metadata": {},
   "outputs": [
    {
     "name": "stdout",
     "output_type": "stream",
     "text": [
      "프랭크 다라본트\n"
     ]
    }
   ],
   "source": [
    "print(movie_detail['movieInfoResult']['movieInfo']['directors'][0]['peopleNm'])"
   ]
  },
  {
   "cell_type": "code",
   "execution_count": 90,
   "id": "c93cf1b9-f410-47ac-8a2a-82cf2aee0bbd",
   "metadata": {},
   "outputs": [
    {
     "name": "stdout",
     "output_type": "stream",
     "text": [
      "팀 로빈스 ,  모건 프리먼\n"
     ]
    }
   ],
   "source": [
    "print(movie_detail['movieInfoResult']['movieInfo']['actors'][0]['peopleNm'], ', ', movie_detail['movieInfoResult']['movieInfo']['actors'][1]['peopleNm'])"
   ]
  },
  {
   "cell_type": "code",
   "execution_count": 91,
   "id": "08cf409f-f27b-49f9-b8af-c12b40888032",
   "metadata": {},
   "outputs": [
    {
     "name": "stdout",
     "output_type": "stream",
     "text": [
      "드라마\n"
     ]
    }
   ],
   "source": [
    "print(movie_detail['movieInfoResult']['movieInfo']['genres'][0]['genreNm'])"
   ]
  },
  {
   "cell_type": "code",
   "execution_count": 92,
   "id": "d37950ad-45a9-4c24-a4fd-1e5ef7e7563b",
   "metadata": {},
   "outputs": [],
   "source": [
    "def get_movie_detail(movie_cd):\n",
    "   \n",
    "    \n",
    "    info_url = url_maker.movie_info_url(movie_cd)\n",
    "    movie_info = requests.get(info_url)\n",
    "    movie_detail = movie_info.json()\n",
    "    movieinfo = movie_detail['movieInfoResult']['movieInfo']\n",
    "\n",
    "    print(f'{movieinfo['movieNm']} ({movieinfo['prdtYear']})')\n",
    "    print(f'감독: {movieinfo['directors'][0]['peopleNm']}')\n",
    "    print(f'주연: {movieinfo['actors'][0]['peopleNm']}, {movieinfo['actors'][1]['peopleNm']}')\n",
    "    print(f'장르: {movieinfo['genres'][0]['genreNm']}')"
   ]
  },
  {
   "cell_type": "code",
   "execution_count": 93,
   "id": "92ba9da0-bd1d-492c-95e5-c9616db66fcb",
   "metadata": {},
   "outputs": [],
   "source": [
    "def get_movie_detail(movie_cd):\n",
    "   \n",
    "    \n",
    "    info_url = url_maker.movie_info_url(movie_cd)\n",
    "    movie_info = requests.get(info_url)\n",
    "    movie_detail = movie_info.json()\n",
    "    movieinfo = movie_detail['movieInfoResult']['movieInfo']\n",
    "\n",
    "    print(movieinfo)"
   ]
  },
  {
   "cell_type": "code",
   "execution_count": 127,
   "id": "4b257993-df34-4a45-b964-6676b8404b4f",
   "metadata": {},
   "outputs": [
    {
     "name": "stdout",
     "output_type": "stream",
     "text": [
      "{'movieCd': '20241110', 'movieNm': '아이유 콘서트 : 더 위닝', 'movieNmEn': 'IU CONCERT : THE WINNING', 'movieNmOg': '', 'showTm': '123', 'prdtYear': '2024', 'openDt': '20250124', 'prdtStatNm': '개봉', 'typeNm': '장편', 'nations': [{'nationNm': '한국'}], 'genres': [{'genreNm': '공연'}], 'directors': [{'peopleNm': '이예지', 'peopleNmEn': ''}, {'peopleNm': '오윤동', 'peopleNmEn': 'Yoon-Dong OH'}], 'actors': [{'peopleNm': '이지은', 'peopleNmEn': 'IU', 'cast': '', 'castEn': ''}], 'showTypes': [{'showTypeGroupNm': '2D', 'showTypeNm': '디지털'}, {'showTypeGroupNm': '4D', 'showTypeNm': '4D'}, {'showTypeGroupNm': 'IMAX', 'showTypeNm': 'IMAX'}, {'showTypeGroupNm': 'ScreenX', 'showTypeNm': 'ScreenX'}], 'companys': [{'companyCd': '20203082', 'companyNm': '씨제이포디플렉스 주식회사', 'companyNmEn': 'CJ 4DPLEX', 'companyPartNm': '제작사'}, {'companyCd': '20242041', 'companyNm': '스크린엑스 스튜디오', 'companyNmEn': 'ScreenX Studio', 'companyPartNm': '제작사'}, {'companyCd': '20204721', 'companyNm': '씨지브이 아이스콘', 'companyNmEn': 'CGV ICECON', 'companyPartNm': '배급사'}, {'companyCd': '20203082', 'companyNm': '씨제이포디플렉스 주식회사', 'companyNmEn': 'CJ 4DPLEX', 'companyPartNm': '배급사'}], 'audits': [{'auditNo': '2025-MF00002 ', 'watchGradeNm': '전체관람가'}], 'staffs': []}\n"
     ]
    }
   ],
   "source": [
    "get_movie_detail('20241110')"
   ]
  },
  {
   "cell_type": "markdown",
   "id": "ab037f8d-8f27-4668-b3f6-c97bd26302a2",
   "metadata": {},
   "source": [
    "**출력 예시**\n",
    "```\n",
    "쇼생크 탈출 (1994)\n",
    "감독: 프랭크 다라본트\n",
    "주연: 팀 로빈스, 모건 프리먼\n",
    "장르: 드라마\n",
    "```"
   ]
  },
  {
   "cell_type": "markdown",
   "id": "2f3b8d72-c4f8-4f2f-b72b-2fc221bc03dc",
   "metadata": {},
   "source": [
    "## 일별 박스오피스 조회\n",
    "\n",
    "- **일별 박스오피스 api**를 사용합니다.\n",
    "- 입력받은 날짜(YYYYMMDD 형식)의 박스오피스 정보를 조회합니다.\n",
    "- 각 영화의 순위, 영화제목, 해당 일의 관객수를 출력합니다."
   ]
  },
  {
   "cell_type": "code",
   "execution_count": 95,
   "id": "89276279-a5a6-41db-a38e-cc14c3362231",
   "metadata": {},
   "outputs": [
    {
     "name": "stdout",
     "output_type": "stream",
     "text": [
      "http://www.kobis.or.kr/kobisopenapi/webservice/rest/boxoffice/searchDailyBoxOfficeList.json?key=d56ce424e919ff32ac17d74f244ea605&targetDt=20250201&itemPerPage=10&multiMovieYn=&repNationCd=&wideAreaCd=\n"
     ]
    }
   ],
   "source": [
    "daily_url = url_maker.daily_boxoffice_url('20250201')\n",
    "print(daily_url)"
   ]
  },
  {
   "cell_type": "code",
   "execution_count": 96,
   "id": "a45905fe-c918-403a-9bcf-e75253972e8a",
   "metadata": {},
   "outputs": [
    {
     "name": "stdout",
     "output_type": "stream",
     "text": [
      "{'boxOfficeResult': {'boxofficeType': '일별 박스오피스', 'showRange': '20250201~20250201', 'dailyBoxOfficeList': [{'rnum': '1', 'rank': '1', 'rankInten': '0', 'rankOldAndNew': 'OLD', 'movieCd': '20233006', 'movieNm': '히트맨2', 'openDt': '2025-01-22', 'salesAmt': '1663433100', 'salesShare': '39.5', 'salesInten': '525167660', 'salesChange': '46.1', 'salesAcc': '17240257840', 'audiCnt': '177129', 'audiInten': '40686', 'audiChange': '29.8', 'audiAcc': '1831557', 'scrnCnt': '1495', 'showCnt': '6165'}, {'rnum': '2', 'rank': '2', 'rankInten': '0', 'rankOldAndNew': 'OLD', 'movieCd': '20247450', 'movieNm': '검은 수녀들', 'openDt': '2025-01-24', 'salesAmt': '934872220', 'salesShare': '22.2', 'salesInten': '247202440', 'salesChange': '35.9', 'salesAcc': '13206216740', 'audiCnt': '96043', 'audiInten': '14734', 'audiChange': '18.1', 'audiAcc': '1363840', 'scrnCnt': '1192', 'showCnt': '4387'}, {'rnum': '3', 'rank': '3', 'rankInten': '0', 'rankOldAndNew': 'OLD', 'movieCd': '20223819', 'movieNm': '말할 수 없는 비밀', 'openDt': '2025-01-27', 'salesAmt': '612619860', 'salesShare': '14.6', 'salesInten': '255290400', 'salesChange': '71.4', 'salesAcc': '2831121780', 'audiCnt': '63000', 'audiInten': '19506', 'audiChange': '44.8', 'audiAcc': '298293', 'scrnCnt': '846', 'showCnt': '2521'}, {'rnum': '4', 'rank': '4', 'rankInten': '0', 'rankOldAndNew': 'OLD', 'movieCd': '20228796', 'movieNm': '하얼빈', 'openDt': '2024-12-24', 'salesAmt': '221288880', 'salesShare': '5.3', 'salesInten': '34724080', 'salesChange': '18.6', 'salesAcc': '46361411980', 'audiCnt': '23298', 'audiInten': '1383', 'audiChange': '6.3', 'audiAcc': '4847097', 'scrnCnt': '711', 'showCnt': '1390'}, {'rnum': '5', 'rank': '5', 'rankInten': '0', 'rankOldAndNew': 'OLD', 'movieCd': '20244762', 'movieNm': '서브스턴스', 'openDt': '2024-12-11', 'salesAmt': '148098060', 'salesShare': '3.5', 'salesInten': '54128160', 'salesChange': '57.6', 'salesAcc': '3587624760', 'audiCnt': '15031', 'audiInten': '3589', 'audiChange': '31.4', 'audiAcc': '368343', 'scrnCnt': '283', 'showCnt': '433'}, {'rnum': '6', 'rank': '6', 'rankInten': '0', 'rankOldAndNew': 'OLD', 'movieCd': '20051060', 'movieNm': '극장판 포켓몬스터 AG: 뮤와 파동의 용사 루카리오', 'openDt': '2025-01-22', 'salesAmt': '108039420', 'salesShare': '2.6', 'salesInten': '52414900', 'salesChange': '94.2', 'salesAcc': '1196326460', 'audiCnt': '12342', 'audiInten': '5892', 'audiChange': '91.3', 'audiAcc': '134957', 'scrnCnt': '538', 'showCnt': '837'}, {'rnum': '7', 'rank': '7', 'rankInten': '1', 'rankOldAndNew': 'OLD', 'movieCd': '20246361', 'movieNm': '뽀로로 극장판 바닷속 대모험', 'openDt': '2025-01-01', 'salesAmt': '53373900', 'salesShare': '1.3', 'salesInten': '32139000', 'salesChange': '151.3', 'salesAcc': '3295806970', 'audiCnt': '5903', 'audiInten': '3430', 'audiChange': '138.7', 'audiAcc': '382497', 'scrnCnt': '299', 'showCnt': '343'}, {'rnum': '8', 'rank': '8', 'rankInten': '5', 'rankOldAndNew': 'OLD', 'movieCd': '20240855', 'movieNm': '바다 탐험대 옥토넛 어보브 앤 비욘드 : 극지방 대작전', 'openDt': '2025-01-27', 'salesAmt': '42966600', 'salesShare': '1.0', 'salesInten': '27834900', 'salesChange': '184', 'salesAcc': '248705100', 'audiCnt': '4570', 'audiInten': '2905', 'audiChange': '174.5', 'audiAcc': '26386', 'scrnCnt': '204', 'showCnt': '357'}, {'rnum': '9', 'rank': '9', 'rankInten': '1', 'rankOldAndNew': 'OLD', 'movieCd': '20245977', 'movieNm': '극장판 짱구는 못말려: 우리들의 공룡일기', 'openDt': '2024-12-18', 'salesAmt': '35361920', 'salesShare': '0.8', 'salesInten': '16896620', 'salesChange': '91.5', 'salesAcc': '7364269060', 'audiCnt': '3801', 'audiInten': '1692', 'audiChange': '80.2', 'audiAcc': '782887', 'scrnCnt': '173', 'showCnt': '205'}, {'rnum': '10', 'rank': '10', 'rankInten': '-3', 'rankOldAndNew': 'OLD', 'movieCd': '20241110', 'movieNm': '아이유 콘서트 : 더 위닝', 'openDt': '2025-01-24', 'salesAmt': '85348500', 'salesShare': '2.0', 'salesInten': '14361000', 'salesChange': '20.2', 'salesAcc': '1360798000', 'audiCnt': '3156', 'audiInten': '525', 'audiChange': '20', 'audiAcc': '49561', 'scrnCnt': '113', 'showCnt': '316'}]}}\n"
     ]
    }
   ],
   "source": [
    "movie_daily = requests.get(daily_url)\n",
    "daily = movie_daily.json()\n",
    "print(daily)"
   ]
  },
  {
   "cell_type": "code",
   "execution_count": 97,
   "id": "665d568e-27aa-4998-9f9f-83ffaeb470e5",
   "metadata": {},
   "outputs": [
    {
     "name": "stdout",
     "output_type": "stream",
     "text": [
      "히트맨2\n"
     ]
    }
   ],
   "source": [
    "print(daily['boxOfficeResult']['dailyBoxOfficeList'][0]['movieNm'])"
   ]
  },
  {
   "cell_type": "code",
   "execution_count": 98,
   "id": "84d88dce-932b-473b-9d85-a1622dca8beb",
   "metadata": {},
   "outputs": [],
   "source": [
    "def get_daily_boxoffice(target_date):\n",
    "    daily_url = url_maker.daily_boxoffice_url(target_date)\n",
    "    movie_daily = requests.get(daily_url)\n",
    "    daily = movie_daily.json()\n",
    "    md = daily['boxOfficeResult']['dailyBoxOfficeList']\n",
    "\n",
    "    print(f'{target_date} 박스오피스 TOP 10')\n",
    "    for i in range(10):\n",
    "        print(f'{i+1}위: {md[i]['movieNm']} ({md[i]['audiCnt']}명)')\n",
    "        "
   ]
  },
  {
   "cell_type": "code",
   "execution_count": 99,
   "id": "33bd45c9-222e-4be6-a70c-d2d33f5845a5",
   "metadata": {},
   "outputs": [
    {
     "name": "stdout",
     "output_type": "stream",
     "text": [
      "20250201 박스오피스 TOP 10\n",
      "1위: 히트맨2 (177129명)\n",
      "2위: 검은 수녀들 (96043명)\n",
      "3위: 말할 수 없는 비밀 (63000명)\n",
      "4위: 하얼빈 (23298명)\n",
      "5위: 서브스턴스 (15031명)\n",
      "6위: 극장판 포켓몬스터 AG: 뮤와 파동의 용사 루카리오 (12342명)\n",
      "7위: 뽀로로 극장판 바닷속 대모험 (5903명)\n",
      "8위: 바다 탐험대 옥토넛 어보브 앤 비욘드 : 극지방 대작전 (4570명)\n",
      "9위: 극장판 짱구는 못말려: 우리들의 공룡일기 (3801명)\n",
      "10위: 아이유 콘서트 : 더 위닝 (3156명)\n"
     ]
    }
   ],
   "source": [
    "get_daily_boxoffice(\"20250201\")  # YYYYMMDD 형식으로 날짜 입력"
   ]
  },
  {
   "cell_type": "markdown",
   "id": "1967823a-dcdc-4ea6-8eaf-56a31b97f7b7",
   "metadata": {},
   "source": [
    "**출력예시**\n",
    "```\n",
    "20250201 박스오피스 TOP 10\n",
    "1위: 히트맨2 (177129명)\n",
    "2위: 검은 수녀들 (96043명)\n",
    "3위: 말할 수 없는 비밀 (63000명)\n",
    "4위: 하얼빈 (23298명)\n",
    "5위: 서브스턴스 (15031명)\n",
    "6위: 극장판 포켓몬스터 AG: 뮤와 파동의 용사 루카리오 (12342명)\n",
    "7위: 뽀로로 극장판 바닷속 대모험 (5903명)\n",
    "8위: 바다 탐험대 옥토넛 어보브 앤 비욘드 : 극지방 대작전 (4570명)\n",
    "9위: 극장판 짱구는 못말려: 우리들의 공룡일기 (3801명)\n",
    "10위: 아이유 콘서트 : 더 위닝 (3156명)\n",
    "```"
   ]
  },
  {
   "cell_type": "markdown",
   "id": "d3d889a8-6bcb-44a2-884a-4c7c9953f069",
   "metadata": {},
   "source": [
    "## 한국 영화 일별 박스오피스 조회\n",
    "\n",
    "- **일별 박스오피스 api**를 사용합니다.\n",
    "- 입력받은 날짜(YYYYMMDD 형식)의 한국 영화 박스오피스 정보를 조회합니다.\n",
    "- 한국 영화만 조회하기 위해 repNationCd='K' 파라미터를 사용합니다.\n",
    "- 영화가 개봉한 순서대로 정렬하여 제목, 날짜, 순위를 출력합니다.\n"
   ]
  },
  {
   "cell_type": "code",
   "execution_count": 100,
   "id": "21e30c57-d51e-4386-b31a-9c05f60cd5f2",
   "metadata": {},
   "outputs": [
    {
     "name": "stdout",
     "output_type": "stream",
     "text": [
      "{'boxOfficeResult': {'boxofficeType': '일별 박스오피스', 'showRange': '20250201~20250201', 'dailyBoxOfficeList': [{'rnum': '1', 'rank': '1', 'rankInten': '0', 'rankOldAndNew': 'OLD', 'movieCd': '20233006', 'movieNm': '히트맨2', 'openDt': '2025-01-22', 'salesAmt': '1663433100', 'salesShare': '46.0', 'salesInten': '525167660', 'salesChange': '46.1', 'salesAcc': '17240257840', 'audiCnt': '177129', 'audiInten': '40686', 'audiChange': '29.8', 'audiAcc': '1831557', 'scrnCnt': '1495', 'showCnt': '6165'}, {'rnum': '2', 'rank': '2', 'rankInten': '0', 'rankOldAndNew': 'OLD', 'movieCd': '20247450', 'movieNm': '검은 수녀들', 'openDt': '2025-01-24', 'salesAmt': '934872220', 'salesShare': '25.8', 'salesInten': '247202440', 'salesChange': '35.9', 'salesAcc': '13206216740', 'audiCnt': '96043', 'audiInten': '14734', 'audiChange': '18.1', 'audiAcc': '1363840', 'scrnCnt': '1192', 'showCnt': '4387'}, {'rnum': '3', 'rank': '3', 'rankInten': '0', 'rankOldAndNew': 'OLD', 'movieCd': '20223819', 'movieNm': '말할 수 없는 비밀', 'openDt': '2025-01-27', 'salesAmt': '612619860', 'salesShare': '16.9', 'salesInten': '255290400', 'salesChange': '71.4', 'salesAcc': '2831121780', 'audiCnt': '63000', 'audiInten': '19506', 'audiChange': '44.8', 'audiAcc': '298293', 'scrnCnt': '846', 'showCnt': '2521'}, {'rnum': '4', 'rank': '4', 'rankInten': '0', 'rankOldAndNew': 'OLD', 'movieCd': '20228796', 'movieNm': '하얼빈', 'openDt': '2024-12-24', 'salesAmt': '221288880', 'salesShare': '6.1', 'salesInten': '34724080', 'salesChange': '18.6', 'salesAcc': '46361411980', 'audiCnt': '23298', 'audiInten': '1383', 'audiChange': '6.3', 'audiAcc': '4847097', 'scrnCnt': '711', 'showCnt': '1390'}, {'rnum': '5', 'rank': '5', 'rankInten': '1', 'rankOldAndNew': 'OLD', 'movieCd': '20246361', 'movieNm': '뽀로로 극장판 바닷속 대모험', 'openDt': '2025-01-01', 'salesAmt': '53373900', 'salesShare': '1.5', 'salesInten': '32139000', 'salesChange': '151.3', 'salesAcc': '3295806970', 'audiCnt': '5903', 'audiInten': '3430', 'audiChange': '138.7', 'audiAcc': '382497', 'scrnCnt': '299', 'showCnt': '343'}, {'rnum': '6', 'rank': '6', 'rankInten': '-1', 'rankOldAndNew': 'OLD', 'movieCd': '20241110', 'movieNm': '아이유 콘서트 : 더 위닝', 'openDt': '2025-01-24', 'salesAmt': '85348500', 'salesShare': '2.4', 'salesInten': '14361000', 'salesChange': '20.2', 'salesAcc': '1360798000', 'audiCnt': '3156', 'audiInten': '525', 'audiChange': '20', 'audiAcc': '49561', 'scrnCnt': '113', 'showCnt': '316'}, {'rnum': '7', 'rank': '7', 'rankInten': '0', 'rankOldAndNew': 'OLD', 'movieCd': '20224303', 'movieNm': '귀신경찰', 'openDt': '2025-01-24', 'salesAmt': '15917100', 'salesShare': '0.4', 'salesInten': '3800980', 'salesChange': '31.4', 'salesAcc': '406114500', 'audiCnt': '1860', 'audiInten': '371', 'audiChange': '24.9', 'audiAcc': '45716', 'scrnCnt': '160', 'showCnt': '205'}, {'rnum': '8', 'rank': '8', 'rankInten': '0', 'rankOldAndNew': 'OLD', 'movieCd': '20200142', 'movieNm': '소방관', 'openDt': '2024-12-04', 'salesAmt': '13955700', 'salesShare': '0.4', 'salesInten': '2822700', 'salesChange': '25.4', 'salesAcc': '36260079370', 'audiCnt': '1418', 'audiInten': '101', 'audiChange': '7.7', 'audiAcc': '3852421', 'scrnCnt': '134', 'showCnt': '157'}, {'rnum': '9', 'rank': '9', 'rankInten': '0', 'rankOldAndNew': 'OLD', 'movieCd': '20110279', 'movieNm': '마당을 나온 암탉', 'openDt': '2011-07-28', 'salesAmt': '8933860', 'salesShare': '0.2', 'salesInten': '3591660', 'salesChange': '67.2', 'salesAcc': '14792455497', 'audiCnt': '1038', 'audiInten': '394', 'audiChange': '61.2', 'audiAcc': '2216721', 'scrnCnt': '109', 'showCnt': '131'}, {'rnum': '10', 'rank': '10', 'rankInten': '4', 'rankOldAndNew': 'OLD', 'movieCd': '20252147', 'movieNm': '뜻밖의 순간 : 언익스펙티드 저니', 'openDt': ' ', 'salesAmt': '723000', 'salesShare': '0.0', 'salesInten': '438000', 'salesChange': '153.7', 'salesAcc': '9732000', 'audiCnt': '241', 'audiInten': '146', 'audiChange': '153.7', 'audiAcc': '3244', 'scrnCnt': '1', 'showCnt': '2'}]}}\n"
     ]
    }
   ],
   "source": [
    "kdaily_url = url_maker.daily_boxoffice_url('20250201',repNationCd='K')\n",
    "kmovie_daily = requests.get(kdaily_url)\n",
    "kdaily = kmovie_daily.json()\n",
    "print(kdaily)"
   ]
  },
  {
   "cell_type": "code",
   "execution_count": 101,
   "id": "f6dba1a5-c03b-4b6e-9571-83819b2df538",
   "metadata": {},
   "outputs": [
    {
     "name": "stdout",
     "output_type": "stream",
     "text": [
      "{'rnum': '1', 'rank': '1', 'rankInten': '0', 'rankOldAndNew': 'OLD', 'movieCd': '20233006', 'movieNm': '히트맨2', 'openDt': '2025-01-22', 'salesAmt': '1663433100', 'salesShare': '46.0', 'salesInten': '525167660', 'salesChange': '46.1', 'salesAcc': '17240257840', 'audiCnt': '177129', 'audiInten': '40686', 'audiChange': '29.8', 'audiAcc': '1831557', 'scrnCnt': '1495', 'showCnt': '6165'}\n",
      "2025-01-24\n",
      "False\n"
     ]
    }
   ],
   "source": [
    "print(kdaily['boxOfficeResult']['dailyBoxOfficeList'][0])\n",
    "print(kdaily['boxOfficeResult']['dailyBoxOfficeList'][1]['openDt'])\n",
    "\n",
    "print(kdaily['boxOfficeResult']['dailyBoxOfficeList'][0]['openDt'] > kdaily['boxOfficeResult']['dailyBoxOfficeList'][1]['openDt'])"
   ]
  },
  {
   "cell_type": "code",
   "execution_count": 102,
   "id": "2d5df7cf-3c96-4826-b0cc-023cf024fb11",
   "metadata": {},
   "outputs": [
    {
     "name": "stdout",
     "output_type": "stream",
     "text": [
      "[' ', '2011-07-28', '2024-12-04', '2024-12-24', '2025-01-01', '2025-01-22', '2025-01-24', '2025-01-24', '2025-01-24', '2025-01-27']\n"
     ]
    }
   ],
   "source": [
    "temp = []\n",
    "\n",
    "for i in range(10):\n",
    "    temp.append(kdaily['boxOfficeResult']['dailyBoxOfficeList'][i]['openDt'])\n",
    "\n",
    "temp.sort()\n",
    "print(temp)"
   ]
  },
  {
   "cell_type": "code",
   "execution_count": 103,
   "id": "d06d8d6a-f5bb-4b3c-973d-169d2aefd2a4",
   "metadata": {},
   "outputs": [
    {
     "data": {
      "text/plain": [
       "'히트맨2'"
      ]
     },
     "execution_count": 103,
     "metadata": {},
     "output_type": "execute_result"
    }
   ],
   "source": [
    "kdaily_url = url_maker.daily_boxoffice_url('20250201',repNationCd='K')\n",
    "kmovie_daily = requests.get(kdaily_url)\n",
    "kdaily = kmovie_daily.json()\n",
    "kd = kdaily['boxOfficeResult']['dailyBoxOfficeList']\n",
    "\n",
    "kd[0].get('movieNm')"
   ]
  },
  {
   "cell_type": "code",
   "execution_count": 104,
   "id": "e9cde271-d38f-4d0d-818d-e33fca0b070a",
   "metadata": {},
   "outputs": [],
   "source": [
    "def get_movie_details(target_date):\n",
    "    kdaily_url = url_maker.daily_boxoffice_url('20250201',repNationCd='K')\n",
    "    kmovie_daily = requests.get(kdaily_url)\n",
    "    kdaily = kmovie_daily.json()\n",
    "    kd = kdaily['boxOfficeResult']['dailyBoxOfficeList']\n",
    "    \n",
    "    temp = []\n",
    "\n",
    "    for i in range(10):\n",
    "        temp.append(kd[i]['openDt'])\n",
    "    # temp.sort()\n",
    "\n",
    "    temp2 = []\n",
    "    for j in range(10):\n",
    "        temp2.append(kd[j]['movieNm'])\n",
    "\n",
    "    dict_list= dict(zip(temp,temp2))\n",
    "    d = sorted(dict_list.items())\n",
    "\n",
    "    for k in range(10):\n",
    "        print(f'{d[k][1]}')\n",
    "\n",
    "    \n",
    "        \n",
    "\n",
    "\n",
    "                "
   ]
  },
  {
   "cell_type": "code",
   "execution_count": 105,
   "id": "43bd7fa0-bfd1-4e24-a95c-61c2d6e71a45",
   "metadata": {},
   "outputs": [],
   "source": [
    "def get_movie_details(target_date):\n",
    "    kdaily_url = url_maker.daily_boxoffice_url('20250201',repNationCd='K')\n",
    "    kmovie_daily = requests.get(kdaily_url)\n",
    "    kdaily = kmovie_daily.json()\n",
    "    kd = kdaily['boxOfficeResult']['dailyBoxOfficeList']\n",
    "    \n",
    "    for i in range(len(kd) - 1,0,-1):\n",
    "        for j in range(i):\n",
    "            if kd[j]['openDt'] > kd[j+1]['openDt']:\n",
    "                kd[j], kd[j+1] = kd[j+1], kd[j]\n",
    "            elif kd[j]['openDt'] == kd[j+1]['openDt']:\n",
    "                kd[j], kd[j+1] = kd[j], kd[j+1]\n",
    "\n",
    "    print(f'{target_date} 한국 영화 박스오피스 (개봉일 순)')\n",
    "    for j in range(10):\n",
    "        print(f'{kd[j]['movieNm']} ({kd[j]['openDt']}) - {kd[j]['rank']}위')"
   ]
  },
  {
   "cell_type": "code",
   "execution_count": 106,
   "id": "f09e49e9-9e4a-404b-8034-b8cc664cbc8a",
   "metadata": {},
   "outputs": [
    {
     "name": "stdout",
     "output_type": "stream",
     "text": [
      "20250201 한국 영화 박스오피스 (개봉일 순)\n",
      "뜻밖의 순간 : 언익스펙티드 저니 ( ) - 10위\n",
      "마당을 나온 암탉 (2011-07-28) - 9위\n",
      "소방관 (2024-12-04) - 8위\n",
      "하얼빈 (2024-12-24) - 4위\n",
      "뽀로로 극장판 바닷속 대모험 (2025-01-01) - 5위\n",
      "히트맨2 (2025-01-22) - 1위\n",
      "검은 수녀들 (2025-01-24) - 2위\n",
      "아이유 콘서트 : 더 위닝 (2025-01-24) - 6위\n",
      "귀신경찰 (2025-01-24) - 7위\n",
      "말할 수 없는 비밀 (2025-01-27) - 3위\n"
     ]
    }
   ],
   "source": [
    "get_movie_details(\"20250201\")  # YYYYMMDD 형식으로 날짜 입력"
   ]
  },
  {
   "cell_type": "markdown",
   "id": "d60c82b0-150b-4877-88df-58a58d1d23e0",
   "metadata": {},
   "source": [
    "**출력예시**\n",
    "```\n",
    "20250201 한국 영화 박스오피스 (개봉일 순)\n",
    "뜻밖의 순간 : 언익스펙티드 저니 ( ) - 10위\n",
    "마당을 나온 암탉 (2011-07-28) - 9위\n",
    "소방관 (2024-12-04) - 8위\n",
    "하얼빈 (2024-12-24) - 4위\n",
    "뽀로로 극장판 바닷속 대모험 (2025-01-01) - 5위\n",
    "히트맨2 (2025-01-22) - 1위\n",
    "검은 수녀들 (2025-01-24) - 2위\n",
    "아이유 콘서트 : 더 위닝 (2025-01-24) - 6위\n",
    "귀신경찰 (2025-01-24) - 7위\n",
    "말할 수 없는 비밀 (2025-01-27) - 3위\n",
    "```"
   ]
  },
  {
   "cell_type": "markdown",
   "id": "5928c65e-9cc2-4766-a26e-a6184c6397d3",
   "metadata": {},
   "source": [
    "## 1월 전체 주간 박스오피스 데이터 수집\n",
    "\n",
    "- **주간/주말 박스오피스 api**를 사용합니다.\n",
    "- 2025년 1월의 모든 주간(1/5, 1/12, 1/19, 1/26) 데이터를 수집합니다.\n",
    "- 각 영화의 정보는 다음을 포함해야 합니다:\n",
    "    - 영화제목, 개봉일, 누적관객수, 누적매출액\n",
    "- 동일한 영화가 여러 주에 걸쳐 나타날 경우, 가장 최근의 정보만 저장합니다.\n"
   ]
  },
  {
   "cell_type": "code",
   "execution_count": 8,
   "id": "c52dc219-a380-4814-a26e-b4bf4bc2fd79",
   "metadata": {},
   "outputs": [
    {
     "name": "stdout",
     "output_type": "stream",
     "text": [
      "[{'rnum': '1', 'rank': '1', 'rankInten': '0', 'rankOldAndNew': 'NEW', 'movieCd': '20247450', 'movieNm': '검은 수녀들', 'openDt': '2025-01-24', 'salesAmt': '5870106460', 'salesShare': '33.3', 'salesInten': '5870106460', 'salesChange': '100.0', 'salesAcc': '5870106460', 'audiCnt': '606145', 'audiInten': '606145', 'audiChange': '100.0', 'audiAcc': '606145', 'scrnCnt': '1662', 'showCnt': '21820'}, {'rnum': '2', 'rank': '2', 'rankInten': '25', 'rankOldAndNew': 'OLD', 'movieCd': '20233006', 'movieNm': '히트맨2', 'openDt': '2025-01-22', 'salesAmt': '5656681120', 'salesShare': '32.1', 'salesInten': '5628592120', 'salesChange': '20038.4', 'salesAcc': '5686993120', 'audiCnt': '601507', 'audiInten': '598386', 'audiChange': '19172.9', 'audiAcc': '604875', 'scrnCnt': '1410', 'showCnt': '24372'}, {'rnum': '3', 'rank': '3', 'rankInten': '-2', 'rankOldAndNew': 'OLD', 'movieCd': '20228796', 'movieNm': '하얼빈', 'openDt': '2024-12-24', 'salesAmt': '1401488630', 'salesShare': '8.0', 'salesInten': '-1627247790', 'salesChange': '-53.7', 'salesAcc': '44407362460', 'audiCnt': '146517', 'audiInten': '-168789', 'audiChange': '-53.5', 'audiAcc': '4642215', 'scrnCnt': '1040', 'showCnt': '15465'}, {'rnum': '4', 'rank': '4', 'rankInten': '47', 'rankOldAndNew': 'OLD', 'movieCd': '20051060', 'movieNm': '극장판 포켓몬스터 AG: 뮤와 파동의 용사 루카리오', 'openDt': '2025-01-22', 'salesAmt': '562982160', 'salesShare': '3.2', 'salesInten': '555931160', 'salesChange': '7884.4', 'salesAcc': '570033160', 'audiCnt': '63944', 'audiInten': '63303', 'audiChange': '9875.7', 'audiAcc': '64585', 'scrnCnt': '667', 'showCnt': '5885'}, {'rnum': '5', 'rank': '5', 'rankInten': '-1', 'rankOldAndNew': 'OLD', 'movieCd': '20244762', 'movieNm': '서브스턴스', 'openDt': '2024-12-11', 'salesAmt': '469176100', 'salesShare': '2.7', 'salesInten': '-7531040', 'salesChange': '-1.6', 'salesAcc': '2954609400', 'audiCnt': '48329', 'audiInten': '-1059', 'audiChange': '-2.1', 'audiAcc': '302870', 'scrnCnt': '332', 'showCnt': '2874'}, {'rnum': '6', 'rank': '6', 'rankInten': '-4', 'rankOldAndNew': 'OLD', 'movieCd': '20200142', 'movieNm': '소방관', 'openDt': '2024-12-04', 'salesAmt': '325618540', 'salesShare': '1.8', 'salesInten': '-657797660', 'salesChange': '-66.9', 'salesAcc': '36145572270', 'audiCnt': '34415', 'audiInten': '-68750', 'audiChange': '-66.6', 'audiAcc': '3840551', 'scrnCnt': '597', 'showCnt': '6026'}, {'rnum': '7', 'rank': '7', 'rankInten': '0', 'rankOldAndNew': 'NEW', 'movieCd': '20241110', 'movieNm': '아이유 콘서트 : 더 위닝', 'openDt': '2025-01-24', 'salesAmt': '778067000', 'salesShare': '4.4', 'salesInten': '778067000', 'salesChange': '100.0', 'salesAcc': '778067000', 'audiCnt': '28061', 'audiInten': '28061', 'audiChange': '100.0', 'audiAcc': '28061', 'scrnCnt': '100', 'showCnt': '979'}, {'rnum': '8', 'rank': '8', 'rankInten': '-3', 'rankOldAndNew': 'OLD', 'movieCd': '20246361', 'movieNm': '뽀로로 극장판 바닷속 대모험', 'openDt': '2025-01-01', 'salesAmt': '195361140', 'salesShare': '1.1', 'salesInten': '-205590180', 'salesChange': '-51.3', 'salesAcc': '2996015770', 'audiCnt': '23005', 'audiInten': '-25574', 'audiChange': '-52.6', 'audiAcc': '349597', 'scrnCnt': '391', 'showCnt': '2372'}, {'rnum': '9', 'rank': '9', 'rankInten': '-2', 'rankOldAndNew': 'OLD', 'movieCd': '20245977', 'movieNm': '극장판 짱구는 못말려: 우리들의 공룡일기', 'openDt': '2024-12-18', 'salesAmt': '189608040', 'salesShare': '1.1', 'salesInten': '-197570300', 'salesChange': '-51.0', 'salesAcc': '7177275100', 'audiCnt': '20329', 'audiInten': '-21197', 'audiChange': '-51.0', 'audiAcc': '762895', 'scrnCnt': '394', 'showCnt': '2374'}, {'rnum': '10', 'rank': '10', 'rankInten': '30', 'rankOldAndNew': 'OLD', 'movieCd': '20224303', 'movieNm': '귀신경찰', 'openDt': '2025-01-24', 'salesAmt': '177250980', 'salesShare': '1.0', 'salesInten': '167665980', 'salesChange': '1749.3', 'salesAcc': '191035980', 'audiCnt': '20284', 'audiInten': '19219', 'audiChange': '1804.6', 'audiAcc': '21949', 'scrnCnt': '378', 'showCnt': '1905'}]\n"
     ]
    }
   ],
   "source": [
    "weekly_url = url_maker.weekly_boxoffice_url('20250126')\n",
    "movie_weekly = requests.get(weekly_url)\n",
    "weekly = movie_weekly.json()\n",
    "w = weekly['boxOfficeResult']['weeklyBoxOfficeList']\n",
    "print(w)"
   ]
  },
  {
   "cell_type": "code",
   "execution_count": 6,
   "id": "f8dce6a5-1020-4aec-b1f6-ba78eb046a14",
   "metadata": {},
   "outputs": [
    {
     "name": "stdout",
     "output_type": "stream",
     "text": [
      "하얼빈\n",
      "2024-12-24\n",
      "3672922\n",
      "35098771850\n"
     ]
    }
   ],
   "source": [
    "weekly_url = url_maker.weekly_boxoffice_url('20250105')\n",
    "movie_weekly = requests.get(weekly_url)\n",
    "weekly = movie_weekly.json()\n",
    "w = weekly['boxOfficeResult']['weeklyBoxOfficeList']\n",
    "\n",
    "print(w[0]['movieNm'])\n",
    "print(w[0]['openDt'])\n",
    "print(w[0]['audiAcc'])\n",
    "print(w[0]['salesAcc'])"
   ]
  },
  {
   "cell_type": "code",
   "execution_count": null,
   "id": "22c928c4-3975-4c3d-9d94-2d3a1b402903",
   "metadata": {},
   "outputs": [],
   "source": []
  },
  {
   "cell_type": "code",
   "execution_count": 12,
   "id": "2502eac6-0e64-4e8c-ac02-3c832287eee0",
   "metadata": {},
   "outputs": [],
   "source": [
    "def get_weekly_boxoffice():\n",
    "    dic = {}\n",
    "\n",
    "    date = ['20250105', '20250112', '20250119', '20250126']\n",
    "    \n",
    "    for j in date:\n",
    "        weekly_url = url_maker.weekly_boxoffice_url(j)\n",
    "        movie_weekly = requests.get(weekly_url)\n",
    "        weekly = movie_weekly.json()\n",
    "        w = weekly['boxOfficeResult']['weeklyBoxOfficeList']\n",
    "    \n",
    "        for i in range(len(w)):\n",
    "            title = w[i]['movieNm']\n",
    "            opend = w[i]['openDt']\n",
    "            audi = w[i]['audiAcc']\n",
    "            sale = w[i]['salesAcc']\n",
    "\n",
    "            dic[title] = {f'영화제목: {title}, 개봉일: {opend}, 누적관객: {audi}, 누적매출: {sale}'}\n",
    "\n",
    "    print(dic)\n",
    "    \n",
    "    "
   ]
  },
  {
   "cell_type": "code",
   "execution_count": 10,
   "id": "584d68bf-22bc-4227-b566-542fd1e0f678",
   "metadata": {},
   "outputs": [
    {
     "name": "stdout",
     "output_type": "stream",
     "text": [
      "{'하얼빈': {'영화제목: 하얼빈, 개봉일: 2024-12-24, 누적관객: 4642215, 누적매출: 44407362460'}, '소방관': {'영화제목: 소방관, 개봉일: 2024-12-04, 누적관객: 3840551, 누적매출: 36145572270'}, '보고타: 마지막 기회의 땅': {'영화제목: 보고타: 마지막 기회의 땅, 개봉일: 2024-12-31, 누적관객: 396287, 누적매출: 3669720540'}, '수퍼 소닉3': {'영화제목: 수퍼 소닉3, 개봉일: 2025-01-01, 누적관객: 322100, 누적매출: 2950620910'}, '뽀로로 극장판 바닷속 대모험': {'영화제목: 뽀로로 극장판 바닷속 대모험, 개봉일: 2025-01-01, 누적관객: 349597, 누적매출: 2996015770'}, '무파사: 라이온 킹': {'영화제목: 무파사: 라이온 킹, 개봉일: 2024-12-18, 누적관객: 833832, 누적매출: 8188072950'}, '모아나 2': {'영화제목: 모아나 2, 개봉일: 2024-11-27, 누적관객: 3522517, 누적매출: 32533317750'}, '극장판 짱구는 못말려: 우리들의 공룡일기': {'영화제목: 극장판 짱구는 못말려: 우리들의 공룡일기, 개봉일: 2024-12-18, 누적관객: 762895, 누적매출: 7177275100'}, '위키드': {'영화제목: 위키드, 개봉일: 2024-11-20, 누적관객: 2195165, 누적매출: 21677201940'}, '시빌 워: 분열의 시대': {'영화제목: 시빌 워: 분열의 시대, 개봉일: 2024-12-31, 누적관객: 80373, 누적매출: 836845230'}, '동화지만 청불입니다': {'영화제목: 동화지만 청불입니다, 개봉일: 2025-01-08, 누적관객: 157616, 누적매출: 1465916720'}, '서브스턴스': {'영화제목: 서브스턴스, 개봉일: 2024-12-11, 누적관객: 302870, 누적매출: 2954609400'}, '검은 수녀들': {'영화제목: 검은 수녀들, 개봉일: 2025-01-24, 누적관객: 606145, 누적매출: 5870106460'}, '히트맨2': {'영화제목: 히트맨2, 개봉일: 2025-01-22, 누적관객: 604875, 누적매출: 5686993120'}, '극장판 포켓몬스터 AG: 뮤와 파동의 용사 루카리오': {'영화제목: 극장판 포켓몬스터 AG: 뮤와 파동의 용사 루카리오, 개봉일: 2025-01-22, 누적관객: 64585, 누적매출: 570033160'}, '아이유 콘서트 : 더 위닝': {'영화제목: 아이유 콘서트 : 더 위닝, 개봉일: 2025-01-24, 누적관객: 28061, 누적매출: 778067000'}, '귀신경찰': {'영화제목: 귀신경찰, 개봉일: 2025-01-24, 누적관객: 21949, 누적매출: 191035980'}}\n"
     ]
    }
   ],
   "source": [
    "get_weekly_boxoffice()"
   ]
  },
  {
   "cell_type": "markdown",
   "id": "62dc8573-f951-48be-81f2-c57cc7fa354c",
   "metadata": {},
   "source": [
    "**출력예시**\n",
    "```\n",
    "{'하얼빈': {'영화제목': '하얼빈', '개봉일': '2024-12-24', '누적관객': '4642215', '누적매출': '44407362460'}, '소방관': {'영화제목': '소방관', '개봉일': '2024-12-04', '누적관객': '3840551', '누적매출': '36145572270'}, '보고타: 마지막 기회의 땅': {'영화제목': '보고타: 마지막 기회의 땅', '개봉일': '2024-12-31', '누적관객': '396287', '누적매출': '3669720540'}, '수퍼 소닉3': {'영화제목': '수퍼 소닉3', '개봉일': '2025-01-01', '누적관객': '322100', '누적매출': '2950620910'}, '뽀로로 극장판 바닷속 대모험': {'영화제목': '뽀로로 극장판 바닷속 대모험', '개봉일': '2025-01-01', '누적관객': '349597', '누적매출': '2996015770'}, '무파사: 라이온 킹': {'영화제목': '무파사: 라이온 킹', '개봉일': '2024-12-18', '누적관객': '833832', '누적매출': '8188072950'}, '모아나 2': {'영화제목': '모아나 2', '개봉일': '2024-11-27', '누적관객': '3522517', '누적매출': '32533317750'}, '극장판 짱구는 못말려: 우리들의 공룡일기': {'영화제목': '극장판 짱구는 못말려: 우리들의 공룡일기', '개봉일': '2024-12-18', '누적관객': '762895', '누적매출': '7177275100'}, '위키드': {'영화제목': '위키드', '개봉일': '2024-11-20', '누적관객': '2195165', '누적매출': '21677201940'}, '시빌 워: 분열의 시대': {'영화제목': '시빌 워: 분열의 시대', '개봉일': '2024-12-31', '누적관객': '80373', '누적매출': '836845230'}, '동화지만 청불입니다': {'영화제목': '동화지만 청불입니다', '개봉일': '2025-01-08', '누적관객': '157616', '누적매출': '1465916720'}, '서브스턴스': {'영화제목': '서브스턴스', '개봉일': '2024-12-11', '누적관객': '302870', '누적매출': '2954609400'}, '검은 수녀들': {'영화제목': '검은 수녀들', '개봉일': '2025-01-24', '누적관객': '606145', '누적매출': '5870106460'}, '히트맨2': {'영화제목': '히트맨2', '개봉일': '2025-01-22', '누적관객': '604875', '누적매출': '5686993120'}, '극장판 포켓몬스터 AG: 뮤와 파동의 용사 루카리오': {'영화제목': '극장판 포켓몬스터 AG: 뮤와 파동의 용사 루카리오', '개봉일': '2025-01-22', '누적관객': '64585', '누적매출': '570033160'}, '아이유 콘서트 : 더 위닝': {'영화제목': '아이유 콘서트 : 더 위닝', '개봉일': '2025-01-24', '누적관객': '28061', '누적매출': '778067000'}, '귀신경찰': {'영화제목': '귀신경찰', '개봉일': '2025-01-24', '누적관객': '21949', '누적매출': '191035980'}}\n",
    "```"
   ]
  },
  {
   "cell_type": "markdown",
   "id": "66ab8357-9017-4b6f-942b-9530fad12396",
   "metadata": {},
   "source": [
    "## 일별 박스오피스 영화의 상세정보\n",
    "\n",
    "- **일별 박스오피스 api**와 **영화 상세정보 api**를 사용합니다.\n",
    "- 입력받은 날짜의 일별 박스오피스 TOP 10을 조회합니다.\n",
    "- 각 영화의 상세 정보를 추가로 조회하여 다음 정보를 출력합니다:\n",
    "    - 순위\n",
    "    - 영화제목\n",
    "    - 감독\n",
    "    - 주연배우 (최대 3명)"
   ]
  },
  {
   "cell_type": "code",
   "execution_count": 14,
   "id": "51dd61c7-3d0b-418a-a667-1d0408a4a177",
   "metadata": {},
   "outputs": [
    {
     "name": "stdout",
     "output_type": "stream",
     "text": [
      "{'boxOfficeResult': {'boxofficeType': '일별 박스오피스', 'showRange': '20250201~20250201', 'dailyBoxOfficeList': [{'rnum': '1', 'rank': '1', 'rankInten': '0', 'rankOldAndNew': 'OLD', 'movieCd': '20233006', 'movieNm': '히트맨2', 'openDt': '2025-01-22', 'salesAmt': '1663433100', 'salesShare': '39.5', 'salesInten': '525167660', 'salesChange': '46.1', 'salesAcc': '17240257840', 'audiCnt': '177129', 'audiInten': '40686', 'audiChange': '29.8', 'audiAcc': '1831557', 'scrnCnt': '1495', 'showCnt': '6165'}, {'rnum': '2', 'rank': '2', 'rankInten': '0', 'rankOldAndNew': 'OLD', 'movieCd': '20247450', 'movieNm': '검은 수녀들', 'openDt': '2025-01-24', 'salesAmt': '934872220', 'salesShare': '22.2', 'salesInten': '247202440', 'salesChange': '35.9', 'salesAcc': '13206216740', 'audiCnt': '96043', 'audiInten': '14734', 'audiChange': '18.1', 'audiAcc': '1363840', 'scrnCnt': '1192', 'showCnt': '4387'}, {'rnum': '3', 'rank': '3', 'rankInten': '0', 'rankOldAndNew': 'OLD', 'movieCd': '20223819', 'movieNm': '말할 수 없는 비밀', 'openDt': '2025-01-27', 'salesAmt': '612619860', 'salesShare': '14.6', 'salesInten': '255290400', 'salesChange': '71.4', 'salesAcc': '2831121780', 'audiCnt': '63000', 'audiInten': '19506', 'audiChange': '44.8', 'audiAcc': '298293', 'scrnCnt': '846', 'showCnt': '2521'}, {'rnum': '4', 'rank': '4', 'rankInten': '0', 'rankOldAndNew': 'OLD', 'movieCd': '20228796', 'movieNm': '하얼빈', 'openDt': '2024-12-24', 'salesAmt': '221288880', 'salesShare': '5.3', 'salesInten': '34724080', 'salesChange': '18.6', 'salesAcc': '46361411980', 'audiCnt': '23298', 'audiInten': '1383', 'audiChange': '6.3', 'audiAcc': '4847097', 'scrnCnt': '711', 'showCnt': '1390'}, {'rnum': '5', 'rank': '5', 'rankInten': '0', 'rankOldAndNew': 'OLD', 'movieCd': '20244762', 'movieNm': '서브스턴스', 'openDt': '2024-12-11', 'salesAmt': '148098060', 'salesShare': '3.5', 'salesInten': '54128160', 'salesChange': '57.6', 'salesAcc': '3587624760', 'audiCnt': '15031', 'audiInten': '3589', 'audiChange': '31.4', 'audiAcc': '368343', 'scrnCnt': '283', 'showCnt': '433'}, {'rnum': '6', 'rank': '6', 'rankInten': '0', 'rankOldAndNew': 'OLD', 'movieCd': '20051060', 'movieNm': '극장판 포켓몬스터 AG: 뮤와 파동의 용사 루카리오', 'openDt': '2025-01-22', 'salesAmt': '108039420', 'salesShare': '2.6', 'salesInten': '52414900', 'salesChange': '94.2', 'salesAcc': '1196326460', 'audiCnt': '12342', 'audiInten': '5892', 'audiChange': '91.3', 'audiAcc': '134957', 'scrnCnt': '538', 'showCnt': '837'}, {'rnum': '7', 'rank': '7', 'rankInten': '1', 'rankOldAndNew': 'OLD', 'movieCd': '20246361', 'movieNm': '뽀로로 극장판 바닷속 대모험', 'openDt': '2025-01-01', 'salesAmt': '53373900', 'salesShare': '1.3', 'salesInten': '32139000', 'salesChange': '151.3', 'salesAcc': '3295806970', 'audiCnt': '5903', 'audiInten': '3430', 'audiChange': '138.7', 'audiAcc': '382497', 'scrnCnt': '299', 'showCnt': '343'}, {'rnum': '8', 'rank': '8', 'rankInten': '5', 'rankOldAndNew': 'OLD', 'movieCd': '20240855', 'movieNm': '바다 탐험대 옥토넛 어보브 앤 비욘드 : 극지방 대작전', 'openDt': '2025-01-27', 'salesAmt': '42966600', 'salesShare': '1.0', 'salesInten': '27834900', 'salesChange': '184', 'salesAcc': '248705100', 'audiCnt': '4570', 'audiInten': '2905', 'audiChange': '174.5', 'audiAcc': '26386', 'scrnCnt': '204', 'showCnt': '357'}, {'rnum': '9', 'rank': '9', 'rankInten': '1', 'rankOldAndNew': 'OLD', 'movieCd': '20245977', 'movieNm': '극장판 짱구는 못말려: 우리들의 공룡일기', 'openDt': '2024-12-18', 'salesAmt': '35361920', 'salesShare': '0.8', 'salesInten': '16896620', 'salesChange': '91.5', 'salesAcc': '7364269060', 'audiCnt': '3801', 'audiInten': '1692', 'audiChange': '80.2', 'audiAcc': '782887', 'scrnCnt': '173', 'showCnt': '205'}, {'rnum': '10', 'rank': '10', 'rankInten': '-3', 'rankOldAndNew': 'OLD', 'movieCd': '20241110', 'movieNm': '아이유 콘서트 : 더 위닝', 'openDt': '2025-01-24', 'salesAmt': '85348500', 'salesShare': '2.0', 'salesInten': '14361000', 'salesChange': '20.2', 'salesAcc': '1360798000', 'audiCnt': '3156', 'audiInten': '525', 'audiChange': '20', 'audiAcc': '49561', 'scrnCnt': '113', 'showCnt': '316'}]}}\n"
     ]
    }
   ],
   "source": [
    "kdaily_url = url_maker.daily_boxoffice_url('20250201')\n",
    "kmovie_daily = requests.get(kdaily_url)\n",
    "kdaily = kmovie_daily.json()\n",
    "print(kdaily)"
   ]
  },
  {
   "cell_type": "code",
   "execution_count": 167,
   "id": "eeb6ab3a-3547-42a5-9b33-6ff26a3baada",
   "metadata": {},
   "outputs": [],
   "source": [
    "def get_movie_details(target_date):\n",
    "    kdaily_url = url_maker.daily_boxoffice_url('20250201')\n",
    "    kmovie_daily = requests.get(kdaily_url)\n",
    "    kdaily = kmovie_daily.json()\n",
    "    kd = kdaily['boxOfficeResult']['dailyBoxOfficeList']\n",
    "\n",
    "    cd = []\n",
    "    ld = lambda x: '감독 없음' if len(movieinfo['directors']) == 0 else movieinfo['directors'][0].get('peopleNm')\n",
    "    ld2 = lambda y: (movieinfo['actors'][k].get('peopleNm') for k in range(3)) if len(y) > 3 else (movieinfo['actors'][k].get('peopleNm') for k in range(len(movieinfo['actors'])))\n",
    "    \n",
    "    for i in range(10):\n",
    "        cd.append(kd[i]['movieCd'])\n",
    "\n",
    "        for j in cd:\n",
    "            info_url = url_maker.movie_info_url(j)\n",
    "            movie_info = requests.get(info_url)\n",
    "            movie_detail = movie_info.json()\n",
    "            movieinfo = movie_detail['movieInfoResult']['movieInfo']\n",
    "        \n",
    "        print(f'{kd[i]['rank']}위')\n",
    "        print(f'{movieinfo['movieNm']} ({movieinfo['prdtYear']})')\n",
    "        print(f'감독: {ld(movieinfo['directors'])}')     \n",
    "        print(f'주연: {', '.join(ld2(movieinfo['actors']))}')\n",
    "        print('-----')\n",
    "    "
   ]
  },
  {
   "cell_type": "code",
   "execution_count": 168,
   "id": "ff9c8d9e-9d6f-466b-aead-01a67bd665a7",
   "metadata": {},
   "outputs": [
    {
     "name": "stdout",
     "output_type": "stream",
     "text": [
      "1위\n",
      "히트맨2 (2023)\n",
      "감독: 최원섭\n",
      "주연: 권상우, 정준호, 이이경\n",
      "-----\n",
      "2위\n",
      "검은 수녀들 (2024)\n",
      "감독: 권혁재\n",
      "주연: 송혜교, 전여빈, 이진욱\n",
      "-----\n",
      "3위\n",
      "말할 수 없는 비밀 (2021)\n",
      "감독: 서유민\n",
      "주연: 도경수, 원진아, 신예은\n",
      "-----\n",
      "4위\n",
      "하얼빈 (2024)\n",
      "감독: 우민호\n",
      "주연: 현빈, 박정민, 조우진\n",
      "-----\n",
      "5위\n",
      "서브스턴스 (2024)\n",
      "감독: 코랄리 파르쟈\n",
      "주연: 데미 무어, 마가렛 퀄리, 데니스 퀘이드\n",
      "-----\n",
      "6위\n",
      "극장판 포켓몬스터 AG: 뮤와 파동의 용사 루카리오 (2005)\n",
      "감독: 유야마 쿠니히코\n",
      "주연: 마츠모토 리카, 오오타니 이쿠에, 우에다 유지\n",
      "-----\n",
      "7위\n",
      "뽀로로 극장판 바닷속 대모험 (2024)\n",
      "감독: 윤제완\n",
      "주연: 이선, 이미자, 함수정\n",
      "-----\n",
      "8위\n",
      "바다 탐험대 옥토넛 어보브 앤 비욘드 : 극지방 대작전 (2024)\n",
      "감독: 감독 없음\n",
      "주연: 하성용, 정재헌, 엄상현\n",
      "-----\n",
      "9위\n",
      "극장판 짱구는 못말려: 우리들의 공룡일기 (2024)\n",
      "감독: 사사키 시노부\n",
      "주연: 박영남, 강희선, 김환진\n",
      "-----\n",
      "10위\n",
      "아이유 콘서트 : 더 위닝 (2024)\n",
      "감독: 이예지\n",
      "주연: 이지은\n",
      "-----\n"
     ]
    }
   ],
   "source": [
    "get_movie_details(\"20250201\")  # YYYYMMDD 형식으로 날짜 입력"
   ]
  },
  {
   "cell_type": "code",
   "execution_count": null,
   "id": "a4e1646d-1dc3-47d8-b464-0c9f20760cf8",
   "metadata": {},
   "outputs": [],
   "source": [
    "print(f'감독: {movieinfo['directors'][0].get('peopleNm')}')"
   ]
  },
  {
   "cell_type": "markdown",
   "id": "b28eb6ba-70b4-47c7-b760-e404770911b7",
   "metadata": {},
   "source": [
    "**출력예시**\n",
    "\n",
    "```\n",
    "1위\n",
    "히트맨2\n",
    "감독: 최원섭\n",
    "주연: 권상우, 정준호, 이이경\n",
    "----------------------------------------\n",
    "\n",
    "2위\n",
    "검은 수녀들\n",
    "감독: 권혁재\n",
    "주연: 송혜교, 전여빈, 이진욱\n",
    "----------------------------------------\n",
    "\n",
    "3위\n",
    "말할 수 없는 비밀\n",
    "감독: 서유민\n",
    "주연: 도경수, 원진아, 신예은\n",
    "----------------------------------------\n",
    "...\n",
    "```"
   ]
  },
  {
   "cell_type": "markdown",
   "id": "ea367bbf-26d0-4bd3-9600-97287eecf26c",
   "metadata": {},
   "source": [
    "## 배우검색\n",
    "\n",
    "- **영화인목록 api**, **영화인 상세정보 api**, **영화 상세정보 api**를 사용합니다.\n",
    "- 배우 이름을 입력받아 해당 배우의 정보를 검색합니다.\n",
    "- 여러 명의 동명 배우가 있는 경우, 필모그래피가 가장 많은 배우를 선택합니다.\n",
    "- 선택된 배우의 출연작 중 '배우'로 참여한 작품 5개의 정보를 출력합니다:\n",
    "    - 영화 제목\n",
    "    - 개봉일\n",
    "    - 상영시간\n",
    "    - 감독"
   ]
  },
  {
   "cell_type": "code",
   "execution_count": 175,
   "id": "6e07bbfb-af85-41b6-8a2b-10706d14fe6a",
   "metadata": {},
   "outputs": [
    {
     "name": "stdout",
     "output_type": "stream",
     "text": [
      "{'peopleListResult': {'totCnt': 35, 'peopleList': [{'peopleCd': '20291200', 'peopleNm': '박정민', 'peopleNmEn': '', 'repRoleNm': '미술팀', 'filmoNames': '은빛살구|대도시의 사랑법|보호자|한산 리덕스|한산: 용의 출현|마녀(魔女) Part2. The Other One|액션히어로|침입자|목격자|메소드'}, {'peopleCd': '20134442', 'peopleNm': '박정민', 'peopleNmEn': '', 'repRoleNm': 'VFX 아티스트', 'filmoNames': '싱글 인 서울|4분 44초|비공식작전|범죄도시3|앵커|한산 리덕스|한산: 용의 출현|킹메이커|소울메이트|리멤버|비와 당신의 이야기|해치지않아|백두산|속물들|신의 한 수: 귀수편|퍼펙트맨|배심원들|돈|극한직업|명당|공작|흥부: 글로 세상을 바꾼 자|감시자들|스파이|광해, 왕이 된 남자|오싹한 연애|티끌모아 로맨스|커플즈|완득이|위험한 상견례|로맨틱 헤븐|나는 아빠다'}, {'peopleCd': '20336303', 'peopleNm': '박정민', 'peopleNmEn': '', 'repRoleNm': '배급진행', 'filmoNames': '베테랑2|탈출: 프로젝트 사일런스|외계+인 2부|더 문|천박사 퇴마 연구소: 설경의 비밀|헤어질 결심|브로커|카운트|방법: 재차의|발신제한|백두산|클로젯|기묘한 가족'}, {'peopleCd': '20183188', 'peopleNm': '박정민', 'peopleNmEn': '', 'repRoleNm': '촬영팀', 'filmoNames': \"탈출: 프로젝트 사일런스|서울의 봄|천박사 퇴마 연구소: 설경의 비밀|늑대사냥|기생충|버닝|부라더|범죄도시|중독노래방|불한당: 나쁜 놈들의 세상|스플릿|국가대표 2|부산행|곡성|로봇, 소리|그놈이다|란제리살인사건|악의 연대기|약장수|철의 꿈|해무(海霧)|깡철이|연애의 온도|박수건달|내가 고백을 하면|인류 멸망 보고서 '해피 버스 데이'\"}, {'peopleCd': '20396782', 'peopleNm': '박정민', 'peopleNmEn': '', 'repRoleNm': '세트팀', 'filmoNames': '댓글부대'}, {'peopleCd': '20110693', 'peopleNm': '박정민', 'peopleNmEn': 'Park Jeongmin', 'repRoleNm': '배우', 'filmoNames': \"하얼빈|전, 란|휴민트|얼굴|밀수|천박사 퇴마 연구소: 설경의 비밀|헤어질 결심|1승|언프레임드|기적|다만 악에서 구하소서 파이널컷|사냥의 시간|다만 악에서 구하소서|시동|타짜: 원 아이드 잭|사바하|변산|염력|그것만이 내 세상|하루|임금님의 사건수첩|아티스트: 다시 태어나다|더 킹|순정|동주|오피스|태양을 쏴라 무삭제판|태양을 쏴라|유령|들개|피끓는 청춘|감기|전설의 주먹|댄싱퀸|파수꾼|내 사랑|일장춘몽|반장선거|앰부배깅|붉은 손|종말의 바보|그룹 스터디|연애담|세상의 끝|무서운 이야기 3 : 화성에서 온 소녀|신촌좀비만화|무서운 이야기 3 '로드레이지'\"}, {'peopleCd': '20363448', 'peopleNm': '박정민', 'peopleNmEn': '', 'repRoleNm': '촬영팀', 'filmoNames': '범죄도시3|브로커|범죄도시2|오! 문희|다만 악에서 구하소서|아이즈 온 미 : 더 무비'}, {'peopleCd': '20383837', 'peopleNm': '박정민', 'peopleNmEn': '', 'repRoleNm': '애니메이션팀', 'filmoNames': '극장판 윌벤져스 : 수상한 캠핑 대소동'}, {'peopleCd': '20378482', 'peopleNm': '박정민', 'peopleNmEn': '', 'repRoleNm': '붐오퍼레이터', 'filmoNames': '숏버스 감성행'}, {'peopleCd': '20286504', 'peopleNm': '박정민', 'peopleNmEn': '', 'repRoleNm': '폴리', 'filmoNames': '불도저에 탄 소녀|자산어보|프랑스여자|얼굴없는 보스: 못다한 이야기 감독판|얼굴없는 보스|버티고|돌멩이|출국|그날, 바다|악녀|석조저택 살인사건|시간위의 집'}], 'source': '영화진흥위원회'}}\n",
      "http://www.kobis.or.kr/kobisopenapi/webservice/rest/people/searchPeopleInfo.json?key=d56ce424e919ff32ac17d74f244ea605&peopleCd=20291200\n"
     ]
    }
   ],
   "source": [
    "people_url = url_maker.people_list_url(peopleNm='박정민')\n",
    "people_list = requests.get(people_url)\n",
    "pl = people_list.json()\n",
    "print(pl)\n",
    "\n",
    "pdetail_url = url_maker.people_info_url('20291200')\n",
    "print(pdetail_url)\n",
    "\n",
    "info_url = url_maker.movie_info_url('19950084')\n",
    "movie_info = requests.get(info_url)\n",
    "movie_detail = movie_info.json()\n"
   ]
  },
  {
   "cell_type": "code",
   "execution_count": 220,
   "id": "95921101-c245-409c-9370-c551a8fc752d",
   "metadata": {},
   "outputs": [],
   "source": [
    "def analyze_actor_movies(actor_name):\n",
    "    people_url = url_maker.people_list_url(peopleNm=actor_name)\n",
    "    people_list = requests.get(people_url)\n",
    "    pl = people_list.json()\n",
    "    p = pl['peopleListResult']['peopleList']\n",
    "\n",
    "    pdic = {}\n",
    "    \n",
    "    for i in range(len(p)):\n",
    "        if p[i]['repRoleNm'] == '배우':\n",
    "            pdic = p[i]\n",
    "\n",
    "    code = pdic['peopleCd']\n",
    "        \n",
    "\n",
    "    pdetail_url = url_maker.people_info_url(code)\n",
    "    people_info = requests.get(pdetail_url)\n",
    "    pi = people_info.json()\n",
    "\n",
    "    pp = pi['peopleInfoResult']['peopleInfo']['filmos']\n",
    "    \n",
    "    print(f'배우 {actor_name}의 최근 출연작 5개')\n",
    "    \n",
    "    for j in range(5):\n",
    "        pp[j]['movieNm']\n",
    "        mcode = pp[j]['movieCd']\n",
    "        m = url_maker.movie_info_url(mcode)\n",
    "        mm = requests.get(m).json()\n",
    "\n",
    "        movie = mm['movieInfoResult']['movieInfo']\n",
    " \n",
    "    \n",
    "        print(f'제목: {movie['movieNm']}')\n",
    "        print(f'개봉일: {movie['openDt']}')\n",
    "        print(f'상영시간: {movie['showTm']}분')\n",
    "        print(f'감독: {movie['directors'][0]['peopleNm']}') \n",
    "        print('-----')\n",
    "\n",
    "    "
   ]
  },
  {
   "cell_type": "code",
   "execution_count": 221,
   "id": "e9ee8f1e-1d6c-4dad-8a4a-acd876219c90",
   "metadata": {},
   "outputs": [
    {
     "name": "stdout",
     "output_type": "stream",
     "text": [
      "배우 박정민의 최근 출연작 5개\n",
      "제목: 하얼빈\n",
      "개봉일: 20241224\n",
      "상영시간: 113분\n",
      "감독: 우민호\n",
      "-----\n",
      "제목: 얼굴\n",
      "개봉일: \n",
      "상영시간: 분\n",
      "감독: 연상호\n",
      "-----\n",
      "제목: 전, 란\n",
      "개봉일: \n",
      "상영시간: 126분\n",
      "감독: 김상만\n",
      "-----\n",
      "제목: 휴민트\n",
      "개봉일: \n",
      "상영시간: 분\n",
      "감독: 류승완\n",
      "-----\n",
      "제목: 밀수\n",
      "개봉일: 20230726\n",
      "상영시간: 129분\n",
      "감독: 류승완\n",
      "-----\n"
     ]
    }
   ],
   "source": [
    "analyze_actor_movies(\"박정민\")  # 원하는 배우 이름으로 변경 가능"
   ]
  },
  {
   "cell_type": "markdown",
   "id": "2cf6c442-7bb9-4b9d-a35a-12c94d8b530d",
   "metadata": {},
   "source": [
    "**출력예시**\n",
    "\n",
    "```\n",
    "배우 '박정민'의 최근 출연작 5개\n",
    "\n",
    "제목: 하얼빈\n",
    "개봉일: 20241224\n",
    "상영시간: 113분\n",
    "감독: 우민호\n",
    "\n",
    "제목: 얼굴\n",
    "개봉일: \n",
    "상영시간: 분\n",
    "감독: 연상호\n",
    "\n",
    "제목: 전, 란\n",
    "개봉일: \n",
    "상영시간: 126분\n",
    "감독: 김상만\n",
    "\n",
    "제목: 휴민트\n",
    "개봉일: \n",
    "상영시간: 분\n",
    "감독: 류승완\n",
    "\n",
    "제목: 밀수\n",
    "개봉일: 20230726\n",
    "상영시간: 129분\n",
    "감독: 류승완\n",
    "```"
   ]
  },
  {
   "cell_type": "code",
   "execution_count": null,
   "id": "b96e3899-d8a6-4860-9a6f-ecb13bec9883",
   "metadata": {},
   "outputs": [],
   "source": []
  }
 ],
 "metadata": {
  "kernelspec": {
   "display_name": "Python 3 (ipykernel)",
   "language": "python",
   "name": "python3"
  },
  "language_info": {
   "codemirror_mode": {
    "name": "ipython",
    "version": 3
   },
   "file_extension": ".py",
   "mimetype": "text/x-python",
   "name": "python",
   "nbconvert_exporter": "python",
   "pygments_lexer": "ipython3",
   "version": "3.13.2"
  }
 },
 "nbformat": 4,
 "nbformat_minor": 5
}
