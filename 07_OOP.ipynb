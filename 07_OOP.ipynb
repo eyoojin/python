{
 "cells": [
  {
   "cell_type": "markdown",
   "id": "06a29398-3fae-4c6b-bdee-495de30d6c13",
   "metadata": {},
   "source": [
    "# 객체지향 프로그래밍 (OOP)\n",
    "\n",
    "- 클래스(class): 같은 종류의 집단에 속하는 `속성`과 `행동`을 `정의`한 것\n",
    "- 속성(attribute): 클래스/인스턴스가 가지고 있는 데이터/값\n",
    "- 행동(method): 클래스/인스턴스가 가지고 있는 함수/기능 *=함수 but객체 안에 들어있는 경우 method라 부름*\n",
    "- 인스턴스(instance): 클래스를 실제로 메모리상에 할당한 것\n",
    "\n",
    "- *클래스는 데이터와 기능(함수)을 함께 묶는 방법을 제공합니다.*\n",
    "- *python은 객체지향언어*"
   ]
  },
  {
   "cell_type": "code",
   "execution_count": null,
   "id": "4a2c8ef5-6cc9-4060-8a0a-2b4611d15e5a",
   "metadata": {},
   "outputs": [],
   "source": [
    "number = 1 + 2j"
   ]
  },
  {
   "cell_type": "code",
   "execution_count": null,
   "id": "40df2939-595c-4dc1-af5e-9dc1be915ee2",
   "metadata": {},
   "outputs": [],
   "source": [
    "print(type(number))"
   ]
  },
  {
   "cell_type": "code",
   "execution_count": null,
   "id": "75c3b616-746c-4b4a-8a62-bf3a5c5a9b26",
   "metadata": {},
   "outputs": [],
   "source": [
    "print(number.real) # 실수부 # 데이터/값에 접근 = 뒤에 () 안 붙음\n",
    "print(number.imag) # 허수부 imagine"
   ]
  },
  {
   "cell_type": "code",
   "execution_count": null,
   "id": "40cf26f2-63ce-45f3-a3e9-9031cf36ed31",
   "metadata": {},
   "outputs": [],
   "source": [
    "numbers = [1, 2, 3]"
   ]
  },
  {
   "cell_type": "code",
   "execution_count": null,
   "id": "1ce800cf-8fef-4d5b-9452-9427caace2bf",
   "metadata": {},
   "outputs": [],
   "source": [
    "print(type(numbers))"
   ]
  },
  {
   "cell_type": "code",
   "execution_count": null,
   "id": "e6e2c1f6-4028-43b1-b3c8-88d0b29df20e",
   "metadata": {},
   "outputs": [],
   "source": [
    "numbers.reverse() # 정보에 접근하여 함수 실행 = 뒤에 () 붙음\n",
    "print(numbers)"
   ]
  },
  {
   "cell_type": "code",
   "execution_count": null,
   "id": "f3748ee1-fdfc-441d-9ae2-4159d403d3b2",
   "metadata": {},
   "outputs": [],
   "source": [
    "number = '010-1234-1234'\n",
    "power = True\n",
    "phone_book = {\n",
    "    'kim': '010-1111-1111',\n",
    "    'park': '010-2222-2222',\n",
    "}\n",
    "\n",
    "def call(from_num, to_num):\n",
    "    print(f'{from_num}가 {to_num}한테 전화거는 중')\n",
    "\n",
    "call(number, phone_book['kim'])"
   ]
  },
  {
   "cell_type": "code",
   "execution_count": null,
   "id": "be6d821f-d020-4fe3-b503-3bf262d9a3a4",
   "metadata": {},
   "outputs": [],
   "source": [
    "number2 = '010-4321-4321'\n",
    "power2 = True\n",
    "phone_book2 = {\n",
    "    'kim': '010-1111-1111',\n",
    "    'park': '010-2222-2222',\n",
    "}\n",
    "\n",
    "def call(from_num, to_num):\n",
    "    print(f'{from_num}가 {to_num}한테 전화거는 중')\n",
    "\n",
    "call(number2, phone_book2['kim']) # 이 바꾸는 과정이 너무 귀찮다... -> class 사용"
   ]
  },
  {
   "cell_type": "markdown",
   "id": "f1d854aa-74c5-4f88-8b31-0fc012095c81",
   "metadata": {},
   "source": [
    "## class\n",
    "\n",
    "*함수와 똑같은 구조: 선언과 실행*\n",
    "- 클래스 선언/정의\n",
    "```python\n",
    "class ClassName():\n",
    "    attribute1 = value1 # 정보/속성/값을 넣는 공간\n",
    "    attribute2 = value2\n",
    "    ...\n",
    "\n",
    "    def method_name1(self): # 함수 만들기\n",
    "        code\n",
    "\n",
    "    def method_name2(self):\n",
    "        code\n",
    "    ...    \n",
    "```\n",
    "- 인스턴스화 (클래스 실행)\n",
    "```python\n",
    "c = ClassName()\n",
    "```"
   ]
  },
  {
   "cell_type": "code",
   "execution_count": null,
   "id": "9a80186e-bc28-4488-a183-0b74ea85e96d",
   "metadata": {},
   "outputs": [],
   "source": [
    "# 선언(정의)\n",
    "class MyClass():\n",
    "    name = 'kim'\n",
    "\n",
    "    def hello(self):\n",
    "        return 'hihihihi'"
   ]
  },
  {
   "cell_type": "code",
   "execution_count": null,
   "id": "ca4346b2-2244-40d8-a1d0-9854b9e81196",
   "metadata": {},
   "outputs": [],
   "source": [
    "# 인스턴스화\n",
    "m = MyClass()"
   ]
  },
  {
   "cell_type": "code",
   "execution_count": null,
   "id": "13398206-d1ee-4589-922d-dab706b82eda",
   "metadata": {},
   "outputs": [],
   "source": [
    "print(m)\n",
    "print(type(m))"
   ]
  },
  {
   "cell_type": "code",
   "execution_count": null,
   "id": "7ba82e09-0793-4770-a548-8ade463c7040",
   "metadata": {},
   "outputs": [],
   "source": [
    "print(m.name)\n",
    "print(m.hello())"
   ]
  },
  {
   "cell_type": "code",
   "execution_count": null,
   "id": "417514a9-cd82-4ca6-be61-a4ab0833ddca",
   "metadata": {},
   "outputs": [],
   "source": [
    "m2 = MyClass()\n",
    "print(m2.name)\n",
    "print(m2.hello())"
   ]
  },
  {
   "cell_type": "code",
   "execution_count": null,
   "id": "36c7a71e-2850-4e82-815e-35fa3962067b",
   "metadata": {},
   "outputs": [],
   "source": [
    "m2.name = 'park'\n",
    "\n",
    "print(m.name)\n",
    "print(m2.name)"
   ]
  },
  {
   "cell_type": "code",
   "execution_count": null,
   "id": "7d66c26e-4288-429c-a2bc-f05145811fca",
   "metadata": {},
   "outputs": [],
   "source": [
    "class Phone():\n",
    "    power = False\n",
    "    number = '010-0000-0000'\n",
    "    book = {}\n",
    "    model = ''\n",
    "\n",
    "    def on(self): # self = instance 자기 자신\n",
    "        if self.power == False:\n",
    "            self.power = True\n",
    "\n",
    "    def off(self):\n",
    "        if self.power == True:\n",
    "            self.power = False\n",
    "            \n",
    "    def call(self, target):\n",
    "        if self.power == True:\n",
    "            print(f'{self.number}가 {target.number}한테 전화거는중...')\n",
    "        else:\n",
    "            print('핸드폰이 꺼져있습니다.')"
   ]
  },
  {
   "cell_type": "code",
   "execution_count": null,
   "id": "536fcfdb-69c1-4d90-b300-07bc50b4564f",
   "metadata": {},
   "outputs": [],
   "source": [
    "my_phone = Phone()\n",
    "your_phone = Phone()"
   ]
  },
  {
   "cell_type": "code",
   "execution_count": null,
   "id": "f40a7dd0-17da-4f74-9c7f-880a92fd69b6",
   "metadata": {},
   "outputs": [],
   "source": [
    "my_phone.number"
   ]
  },
  {
   "cell_type": "code",
   "execution_count": null,
   "id": "970930ad-71ad-42fb-b03a-2192514ecbe1",
   "metadata": {},
   "outputs": [],
   "source": [
    "your_phone.number"
   ]
  },
  {
   "cell_type": "code",
   "execution_count": null,
   "id": "d734feac-096b-4f83-b067-0caac17fd98f",
   "metadata": {},
   "outputs": [],
   "source": [
    "my_phone.number = '010-1234-1234'\n",
    "print(my_phone.number)"
   ]
  },
  {
   "cell_type": "code",
   "execution_count": null,
   "id": "b07ae4c2-999b-4239-8708-d8e20adac354",
   "metadata": {},
   "outputs": [],
   "source": [
    "my_phone.power"
   ]
  },
  {
   "cell_type": "code",
   "execution_count": null,
   "id": "e991025f-b20d-4a40-af79-45b6f7692976",
   "metadata": {},
   "outputs": [],
   "source": [
    "my_phone.on()"
   ]
  },
  {
   "cell_type": "code",
   "execution_count": null,
   "id": "1b5c50f3-4eaf-40db-9fb1-d46f0b532662",
   "metadata": {},
   "outputs": [],
   "source": [
    "my_phone.power"
   ]
  },
  {
   "cell_type": "code",
   "execution_count": null,
   "id": "86dd461e-b842-42c2-89b1-700153d5d973",
   "metadata": {},
   "outputs": [],
   "source": [
    "your_phone.power"
   ]
  },
  {
   "cell_type": "code",
   "execution_count": null,
   "id": "f624b9de-170d-46cd-aa61-21769445190d",
   "metadata": {},
   "outputs": [],
   "source": [
    "my_phone.call(your_phone) # self 생략 가능"
   ]
  },
  {
   "cell_type": "code",
   "execution_count": null,
   "id": "97c2c32a-6daa-4def-81b3-8d55c9d2a059",
   "metadata": {},
   "outputs": [],
   "source": [
    "your_phone.call(my_phone)"
   ]
  },
  {
   "cell_type": "code",
   "execution_count": null,
   "id": "8f28df36-c25d-4515-8d9e-f98fb6e8c7db",
   "metadata": {},
   "outputs": [],
   "source": [
    "class Person():\n",
    "    name = ''\n",
    "    gender = ''\n",
    "    age = 0\n",
    "    height = 0\n",
    "\n",
    "    def greeting(self):\n",
    "        print(f'안녕하세요. 나는 {self.name}입니다.')\n",
    "\n",
    "    def grow(self):\n",
    "        self.age += 1 "
   ]
  },
  {
   "cell_type": "code",
   "execution_count": null,
   "id": "92fa433c-927b-4af6-ab97-51962c46642a",
   "metadata": {},
   "outputs": [],
   "source": [
    "p1 = Person()\n",
    "p2 = Person()"
   ]
  },
  {
   "cell_type": "code",
   "execution_count": null,
   "id": "0a6516a4-10cc-4790-8581-b5432e1ed95b",
   "metadata": {},
   "outputs": [],
   "source": [
    "print(p1.name, p2.name)"
   ]
  },
  {
   "cell_type": "code",
   "execution_count": null,
   "id": "80736edc-5b05-40ca-86c1-4f77f4dd3401",
   "metadata": {},
   "outputs": [],
   "source": [
    "p1.name = 'hong'\n",
    "p2.name = 'kim'\n",
    "\n",
    "p1.gender = 'F'\n",
    "p2.gender = 'M'\n",
    "\n",
    "p1.age = 20\n",
    "p2.age = 30\n",
    "\n",
    "p1.height = 170\n",
    "p2.height = 180"
   ]
  },
  {
   "cell_type": "code",
   "execution_count": null,
   "id": "55138059-dad6-4859-9bbb-79af019cec07",
   "metadata": {},
   "outputs": [],
   "source": [
    "print(p1.name, p2.name)"
   ]
  },
  {
   "cell_type": "code",
   "execution_count": null,
   "id": "de975bcf-f7ff-4e22-8bc1-fc64c5a12f68",
   "metadata": {},
   "outputs": [],
   "source": [
    "p1.greeting()"
   ]
  },
  {
   "cell_type": "code",
   "execution_count": null,
   "id": "af57c372-78f8-4837-844f-6cb0d5639b87",
   "metadata": {},
   "outputs": [],
   "source": [
    "p2.greeting()"
   ]
  },
  {
   "cell_type": "code",
   "execution_count": null,
   "id": "dfdc0dbf-4f4c-4b8c-8bcc-d1ab771121e4",
   "metadata": {},
   "outputs": [],
   "source": [
    "Person.greeting(p1) # p1을 안 쓰면 누군지 몰라\n",
    "p1.greeting() # 앞에 p1이 있으니까 안 써도 okay"
   ]
  },
  {
   "cell_type": "code",
   "execution_count": null,
   "id": "e1fa48a0-3836-4212-980a-4cf85cd9ff04",
   "metadata": {},
   "outputs": [],
   "source": [
    "p1.grow()"
   ]
  },
  {
   "cell_type": "code",
   "execution_count": null,
   "id": "f8974372-43f9-4512-8210-7596602d71ad",
   "metadata": {},
   "outputs": [],
   "source": [
    "p1.age"
   ]
  },
  {
   "cell_type": "markdown",
   "id": "602bea0b-818c-473d-a28d-57d89e6ae022",
   "metadata": {},
   "source": [
    "## 생성자, 소멸자\n",
    "\n",
    "```python\n",
    "class MyClass():\n",
    "\n",
    "    def __init__(self):\n",
    "        pass\n",
    "\n",
    "    def __del__(self):\n",
    "        pass\n",
    "```"
   ]
  },
  {
   "cell_type": "code",
   "execution_count": null,
   "id": "1112dba2-ef30-40b6-98dd-8323171bcd3c",
   "metadata": {},
   "outputs": [],
   "source": [
    "class Person():\n",
    "    name = ''\n",
    "\n",
    "    def __init__(self, name):\n",
    "        self.name = name\n",
    "        print('생성됨')\n",
    "\n",
    "    def __del__(self):\n",
    "        print('소멸됨')"
   ]
  },
  {
   "cell_type": "code",
   "execution_count": null,
   "id": "f09f1f3d-a05b-4b92-a7af-161cf61e8273",
   "metadata": {},
   "outputs": [],
   "source": [
    "class Person():\n",
    "    name = ''\n",
    "\n",
    "    def __init__(self, n):\n",
    "        self.name = n # self.name과 n은 다름\n",
    "        print('생성됨')"
   ]
  },
  {
   "cell_type": "code",
   "execution_count": null,
   "id": "75d3a8f9-aab1-482a-b772-fd8bb6f03359",
   "metadata": {},
   "outputs": [],
   "source": [
    "p1 = Person() # => Person.__init(p1, ????) # ???? = name이 들어와야하는 공간"
   ]
  },
  {
   "cell_type": "code",
   "execution_count": null,
   "id": "3a4c6806-3a93-4a5a-a240-4a2404293790",
   "metadata": {},
   "outputs": [],
   "source": [
    "p1 = Person('kim') # => Person.__init(p1, 'kim') # 2번 실행하면 소멸됨이 출력\n",
    "p2 = Person('park')"
   ]
  },
  {
   "cell_type": "code",
   "execution_count": null,
   "id": "474ebaa3-db3f-4c03-850b-f081e0eb712f",
   "metadata": {},
   "outputs": [],
   "source": [
    "del p1"
   ]
  },
  {
   "cell_type": "code",
   "execution_count": null,
   "id": "c57b7f60-c89f-480a-8e62-99cd77f6250a",
   "metadata": {},
   "outputs": [],
   "source": [
    "del p2"
   ]
  },
  {
   "cell_type": "code",
   "execution_count": null,
   "id": "8611f90a-d073-4652-80e7-514ed90b0b6c",
   "metadata": {},
   "outputs": [],
   "source": [
    "class Circle():\n",
    "    pi = 3.14\n",
    "    \n",
    "    def __init__(self, r, x=0, y=0):\n",
    "        self.r = r\n",
    "        self.x = x\n",
    "        self.y = y\n",
    "\n",
    "    def info(self):\n",
    "        print(f'반지름: {self.r}, 중심점: ({self.x}, {self.y})')\n",
    "\n",
    "    def area(self):\n",
    "        return self.r ** 2 * self.pi # instance 내부에서 값을 먼저 찾고 위로 올라가 class가 가진 pi 값을 찾음\n",
    "\n",
    "    def round(self):\n",
    "        return self.r * self.pi * 2\n",
    "\n",
    "    def move(self, x, y):\n",
    "        self.x = x\n",
    "        self.y = y"
   ]
  },
  {
   "cell_type": "code",
   "execution_count": null,
   "id": "d48b43a7-26c4-4e52-8285-b2f303cdaf07",
   "metadata": {},
   "outputs": [],
   "source": [
    "c1 = Circle(5) # 기본값 인자 활용\n",
    "c2 = Circle(3, 1, 1)"
   ]
  },
  {
   "cell_type": "code",
   "execution_count": null,
   "id": "1d7f6a3d-f818-4206-ab30-3dd6ab74bee7",
   "metadata": {},
   "outputs": [],
   "source": [
    "c1.info()\n",
    "c2.info()"
   ]
  },
  {
   "cell_type": "code",
   "execution_count": null,
   "id": "8459c5ba-9d8c-47d7-abe3-e698fa4034b5",
   "metadata": {},
   "outputs": [],
   "source": [
    "print(c1.area())\n",
    "print(c2.area())"
   ]
  },
  {
   "cell_type": "code",
   "execution_count": null,
   "id": "5b59fd28-55fd-4723-b85d-352964a269c2",
   "metadata": {},
   "outputs": [],
   "source": [
    "print(c1.round())\n",
    "print(c2.round())"
   ]
  },
  {
   "cell_type": "code",
   "execution_count": null,
   "id": "25f03163-99f7-430f-b851-035915b18b97",
   "metadata": {},
   "outputs": [],
   "source": [
    "c1.move(100,100)\n",
    "c1.info()"
   ]
  },
  {
   "cell_type": "code",
   "execution_count": null,
   "id": "fcfe14a3-b8ec-4d3f-be49-985e87efb7d7",
   "metadata": {},
   "outputs": [],
   "source": [
    "class Point():\n",
    "    def __init__(self, x, y):\n",
    "        self.x = x\n",
    "        self.y = y\n",
    "\n",
    "    def info(self):\n",
    "        print(f'({self.x}, {self.y})')"
   ]
  },
  {
   "cell_type": "code",
   "execution_count": null,
   "id": "ff00742a-7294-4a0f-8693-7726ee442297",
   "metadata": {},
   "outputs": [],
   "source": [
    "p1 = Point(1, 1)\n",
    "p2 = Point(2, 3)"
   ]
  },
  {
   "cell_type": "code",
   "execution_count": null,
   "id": "1722fe5e-51f8-4447-a353-86a3eb89dafd",
   "metadata": {},
   "outputs": [],
   "source": [
    "p1.info()"
   ]
  },
  {
   "cell_type": "code",
   "execution_count": null,
   "id": "5bcd2c08-817d-4029-8b45-539e9a183af4",
   "metadata": {},
   "outputs": [],
   "source": [
    "class Circle():\n",
    "    def __init__(self, r, point):\n",
    "        self.r = r\n",
    "        self.point = point\n",
    "\n",
    "    def info(self):\n",
    "        print(f'반지름: {self.r} 중심점: ({self.point.x}, {self.point.y})')"
   ]
  },
  {
   "cell_type": "code",
   "execution_count": null,
   "id": "ecbe7744-3657-4785-8ce6-549f72d3f365",
   "metadata": {},
   "outputs": [],
   "source": [
    "class Circle():\n",
    "    def __init__(self, r, point):\n",
    "        self.r = r\n",
    "        self.point = point\n",
    "\n",
    "    def info(self):\n",
    "        point = self.point # 뽑아서 써도 됨!\n",
    "        x = point.x\n",
    "        y = point.y\n",
    "        print(f'반지름: {self.r} 중심점: ({x}, {y})')"
   ]
  },
  {
   "cell_type": "code",
   "execution_count": null,
   "id": "192810df-65f7-4cc1-8cfa-1bb523669c21",
   "metadata": {},
   "outputs": [],
   "source": [
    "c1 = Circle(10, p1)\n",
    "c2 = Circle(5, p2)"
   ]
  },
  {
   "cell_type": "code",
   "execution_count": null,
   "id": "684bdd97-c5a2-452b-91eb-313d070c02ab",
   "metadata": {},
   "outputs": [],
   "source": [
    "c1.info()"
   ]
  },
  {
   "cell_type": "code",
   "execution_count": null,
   "id": "e0a2bac0-6618-423e-ba0f-81edd566ca09",
   "metadata": {},
   "outputs": [],
   "source": [
    "['a', 'b', 'c'].pop().capitalize()"
   ]
  },
  {
   "cell_type": "markdown",
   "id": "794ae4f8-7605-49c5-b460-89e57e484ab7",
   "metadata": {},
   "source": [
    "### 클래스 변수 / 인스턴스 변수\n",
    "\n",
    "- 클래스 변수: 클래스 선언 블록 최상단에 위치\n",
    "- 인스턴스 변수: 인스턴스 내부에서 생성한 변수\n",
    "\n",
    "```python\n",
    "class MyClass():\n",
    "    class_variable = '클래스 변수'\n",
    "\n",
    "    def __init__(self):\n",
    "    self.instance_variable = '인스턴스 변수'\n",
    "```\n",
    "\n",
    "- *영역이 차이가 있다. 독립적으로 존재*"
   ]
  },
  {
   "cell_type": "code",
   "execution_count": null,
   "id": "183cd810-97d6-45b6-947f-cd2f84e0254d",
   "metadata": {},
   "outputs": [],
   "source": [
    "class Person():\n",
    "    name = 'hong'\n",
    "    age = 10\n",
    "\n",
    "    def __init__(self, name):\n",
    "        self.name = name    "
   ]
  },
  {
   "cell_type": "code",
   "execution_count": null,
   "id": "42798022-50b6-4eeb-8074-b1e2f406a862",
   "metadata": {},
   "outputs": [],
   "source": [
    "p1 = Person('oh')\n",
    "print(p1.name)\n",
    "print(p1.age)"
   ]
  },
  {
   "cell_type": "markdown",
   "id": "8f8e596c-06e5-40dc-86f2-913366863f00",
   "metadata": {},
   "source": [
    "### 클래스 메소드 / 인스턴스 메소드 / 스태틱 메소드\n",
    "\n",
    "```python\n",
    "class MyClass():\n",
    "\n",
    "    def instance_method(self): # 인스턴스 자기 자신\n",
    "        pass\n",
    "\n",
    "    @classmethod\n",
    "    def class_method(cls): # 클랙스 개체 자체\n",
    "        pass\n",
    "\n",
    "    @staticmethod\n",
    "    def static_method():\n",
    "        pass\n",
    "```"
   ]
  },
  {
   "cell_type": "code",
   "execution_count": null,
   "id": "cbf2ddee-2464-49af-88bd-1c9813a7fb08",
   "metadata": {},
   "outputs": [],
   "source": [
    "class MyClass():\n",
    "\n",
    "    def instance_method(self):\n",
    "        print(self)\n",
    "\n",
    "    @classmethod\n",
    "    def class_method(cls):\n",
    "        print(cls)\n",
    "\n",
    "    @staticmethod\n",
    "    def static_method():\n",
    "        print('static')"
   ]
  },
  {
   "cell_type": "code",
   "execution_count": null,
   "id": "7f0a5215-0920-4f24-a5c8-d177414b3f24",
   "metadata": {},
   "outputs": [],
   "source": [
    "mc = MyClass()\n",
    "\n",
    "mc.instance_method() # => self: 내가 인스턴스화한 자기 자신 그 자체\n",
    "print(mc) "
   ]
  },
  {
   "cell_type": "code",
   "execution_count": null,
   "id": "627b5cbf-f52c-45d2-85ee-7a8bb647b5e9",
   "metadata": {},
   "outputs": [],
   "source": [
    "mc.class_method() # => cls\n",
    "print(MyClass)"
   ]
  },
  {
   "cell_type": "code",
   "execution_count": null,
   "id": "651dda32-9899-46c9-9a15-492c4e2127f1",
   "metadata": {},
   "outputs": [],
   "source": [
    "mc.static_method()"
   ]
  },
  {
   "cell_type": "code",
   "execution_count": null,
   "id": "a90a73c5-3f83-40cc-8a81-26da07187450",
   "metadata": {},
   "outputs": [],
   "source": [
    "class Puppy():\n",
    "    num_of_puppy = 0\n",
    "\n",
    "    def __init__(self, name):\n",
    "        self.name = name\n",
    "        Puppy.num_of_puppy += 1\n",
    "\n",
    "    @classmethod\n",
    "    def info(cls):\n",
    "        print(f'현재 강아지는 {cls.num_of_puppy}마리입니다.')\n",
    "\n",
    "    # @instancemethod\n",
    "    def bark(self):\n",
    "        print(f'멍멍! {self.name}입니다.')\n",
    "\n",
    "    @staticmethod\n",
    "    def bark2():\n",
    "        print('왈왈!')"
   ]
  },
  {
   "cell_type": "code",
   "execution_count": null,
   "id": "647190c8-9c7a-4b76-8d19-ad50d8f86cea",
   "metadata": {},
   "outputs": [],
   "source": [
    "p1 = Puppy('초코')\n",
    "p2 = Puppy('구름')\n",
    "p3 = Puppy('인절미')\n",
    "\n",
    "Puppy.info()"
   ]
  },
  {
   "cell_type": "code",
   "execution_count": null,
   "id": "7412fc0d-9e0d-42ab-8776-08bc0139eb9c",
   "metadata": {},
   "outputs": [],
   "source": [
    "p1.bark()\n",
    "p2.bark()"
   ]
  },
  {
   "cell_type": "code",
   "execution_count": null,
   "id": "6034dfd4-c3ec-4d6f-b745-757dcd80c902",
   "metadata": {},
   "outputs": [],
   "source": [
    "p1.bark2()\n",
    "p2.bark2()"
   ]
  },
  {
   "cell_type": "markdown",
   "id": "a90cc051-c3e3-4bd7-b571-d5c784c85fa0",
   "metadata": {},
   "source": [
    "- 클래스\n",
    "    - 데이터/변수/속성/attribute\n",
    "        - 클래스 변수\n",
    "        - 인스턴스 변수\n",
    "    - 기능/동작/함수/method\n",
    "        - 클래스 변수에 접근하려면 클래스 메소드 사용\n",
    "        - 인스턴스 변수에 접근하려면 인스턴스 메소드 사용\n",
    "        - 둘 다 필요없는 경우 스태틱 메소드 사용"
   ]
  },
  {
   "cell_type": "markdown",
   "id": "363c61ce-a700-4622-bff9-2e3685f08405",
   "metadata": {},
   "source": [
    "## 상속"
   ]
  },
  {
   "cell_type": "code",
   "execution_count": null,
   "id": "8e862236-5565-4dc0-b50e-b0b2a8992f0f",
   "metadata": {},
   "outputs": [],
   "source": [
    "class Person():\n",
    "    ident = ''\n",
    "\n",
    "    def __init__(self, name):\n",
    "        self.name = name\n",
    "\n",
    "    def greeting(self):\n",
    "        print(f'안녕하세요. {self.name}입니다.')"
   ]
  },
  {
   "cell_type": "code",
   "execution_count": null,
   "id": "bc6042e8-b526-4d4b-be36-51f5a7881165",
   "metadata": {},
   "outputs": [],
   "source": [
    "p1 = Person('hong')\n",
    "p2 = Person('kim')"
   ]
  },
  {
   "cell_type": "code",
   "execution_count": null,
   "id": "2d6f2e70-0745-4e84-932b-6caef6c6dcc8",
   "metadata": {},
   "outputs": [],
   "source": [
    "p1.greeting()\n",
    "p2.greeting()"
   ]
  },
  {
   "cell_type": "code",
   "execution_count": null,
   "id": "80089e00-112a-43d4-ac9f-5881089c1a56",
   "metadata": {},
   "outputs": [],
   "source": [
    "p1.ident = '990909-1234567'\n",
    "p1.ident"
   ]
  },
  {
   "cell_type": "code",
   "execution_count": null,
   "id": "88761be6-214d-4eea-93b5-8247b0cbdaa2",
   "metadata": {},
   "outputs": [],
   "source": [
    "class Soldier(Person):\n",
    "    def soldier_greeting(self):\n",
    "        print(f'충성! {self.name}입니다.')\n",
    "        \n",
    "    # ident = ''\n",
    "\n",
    "    # def __init__(self, name):\n",
    "    #    self.name = name\n",
    "\n",
    "    # def greeting(self):\n",
    "    #    print(f'안녕하세요. {self.name}입니다.')"
   ]
  },
  {
   "cell_type": "code",
   "execution_count": null,
   "id": "7d3ee201-e52d-48aa-8b61-771a4ebe154d",
   "metadata": {},
   "outputs": [],
   "source": [
    "s1 = Soldier('굳건이')\n",
    "s1.greeting()\n",
    "s1.soldier_greeting()"
   ]
  },
  {
   "cell_type": "code",
   "execution_count": null,
   "id": "79f9180a-ef54-4b85-a714-ba66f70215b6",
   "metadata": {},
   "outputs": [],
   "source": [
    "class Soldier(Person):\n",
    "    def greeting(self):\n",
    "        print(f'충성! {self.name}입니다.')"
   ]
  },
  {
   "cell_type": "code",
   "execution_count": null,
   "id": "c81a6685-c5f6-4ae0-abc6-05d991b06517",
   "metadata": {},
   "outputs": [],
   "source": [
    "s1 = Soldier('굳건이')\n",
    "s1.greeting() # 내가 만든 게 더 우선순위가 높다"
   ]
  },
  {
   "cell_type": "code",
   "execution_count": null,
   "id": "cff67c22-9bdd-4551-aa77-5abb9bdfa89b",
   "metadata": {},
   "outputs": [],
   "source": [
    "s1.ident = '25-12341234'\n",
    "s1.ident # 변수의 이름은 똑같지만 데이터의 유형은 다를 수 있음"
   ]
  },
  {
   "cell_type": "code",
   "execution_count": null,
   "id": "7dca3af2-34a0-423f-89df-96e53ccad23c",
   "metadata": {},
   "outputs": [],
   "source": [
    "class Person():\n",
    "    def __init__(self, name, age, email, phone):\n",
    "        self.name = name\n",
    "        self.age = age\n",
    "        self.email = email\n",
    "        self.phone = phone\n",
    "\n",
    "class Student(Person):\n",
    "    def __init__(self, name, age, email, phone, student_id):\n",
    "        super().__init__(name, age, email, phone)\n",
    "        self.student_id = student_id"
   ]
  },
  {
   "cell_type": "markdown",
   "id": "ed6fb88a-36ab-4fd1-a73e-23a99588d891",
   "metadata": {},
   "source": [
    "### 다중상속"
   ]
  },
  {
   "cell_type": "code",
   "execution_count": null,
   "id": "47881336-080e-4cbe-8543-84b9b575b584",
   "metadata": {},
   "outputs": [],
   "source": [
    "class Person():\n",
    "    def __init__(self, name):\n",
    "        self.name = name\n",
    "\n",
    "    def breath(self):\n",
    "        print('huha')"
   ]
  },
  {
   "cell_type": "code",
   "execution_count": null,
   "id": "992c5d9c-0979-480a-a9e2-c29242c56adb",
   "metadata": {},
   "outputs": [],
   "source": [
    "class Mom(Person):\n",
    "    gene = 'xx'\n",
    "\n",
    "    def swim(self):\n",
    "        print('uhpu uhpu')"
   ]
  },
  {
   "cell_type": "code",
   "execution_count": null,
   "id": "1909e117-bf35-4031-8ed7-f611b95a8e15",
   "metadata": {},
   "outputs": [],
   "source": [
    "class Dad(Person):\n",
    "    gene = 'xy'\n",
    "\n",
    "    def run(self):\n",
    "        print('dadada')"
   ]
  },
  {
   "cell_type": "code",
   "execution_count": null,
   "id": "af514592-7c73-4eeb-b8ff-e7dc495cd803",
   "metadata": {},
   "outputs": [],
   "source": [
    "class Child(Mom, Dad):\n",
    "    pass"
   ]
  },
  {
   "cell_type": "code",
   "execution_count": null,
   "id": "3e3762d3-03c0-4479-b4c4-39fbac849038",
   "metadata": {},
   "outputs": [],
   "source": [
    "c = Child('gold')\n",
    "c.breath()\n",
    "c.run()\n",
    "c.swim()"
   ]
  },
  {
   "cell_type": "code",
   "execution_count": null,
   "id": "5c808c4e-dfaf-48fd-a602-63741a4c41a9",
   "metadata": {},
   "outputs": [],
   "source": [
    "c.gene # 변수/함수가 겹친다면 먼저 상속받은 변수/함수가 상속"
   ]
  },
  {
   "cell_type": "code",
   "execution_count": null,
   "id": "0f957caf-f475-4252-8174-f392297b71c7",
   "metadata": {},
   "outputs": [],
   "source": [
    "import random\n",
    "\n",
    "# 포켓몬 클래스 정의\n",
    "class Pokemon:\n",
    "    def __init__(self, name, level=5):\n",
    "        self.name = name            # 포켓몬 이름\n",
    "        self.level = level          # 포켓몬 레벨 (기본값 5)\n",
    "        self.hp = level * 10        # 체력은 레벨에 따라 결정 (예: 레벨 5면 체력 50)\n",
    "\n",
    "    def attack(self, opponent):\n",
    "        # 간단한 공격: 데미지는 레벨과 1부터 3 사이의 랜덤 숫자를 곱해 결정합니다.\n",
    "        damage = self.level * random.randint(1, 3)\n",
    "        print(f\"{self.name}이(가) {opponent.name}에게 {damage}의 데미지를 입혔습니다!\")\n",
    "        opponent.hp -= damage\n",
    "\n",
    "    def is_knocked_out(self):\n",
    "        # 체력이 0 이하이면 쓰러진 것으로 간주\n",
    "        return self.hp <= 0\n",
    "\n",
    "    def status(self):\n",
    "        # 현재 상태(이름과 체력)를 출력하는 메서드\n",
    "        print(f\"{self.name} - 체력: {self.hp}\")\n",
    "\n",
    "# 포켓몬 객체 생성 (타입 정보를 제거)\n",
    "kobugi = Pokemon(\"꼬부기\", level=5)\n",
    "pairi = Pokemon(\"파이리\", level=5)\n",
    "\n",
    "# 배틀 시뮬레이션 시작\n",
    "print(\"배틀 시작!\")\n",
    "while True:\n",
    "    # 꼬부기가 파이리를 공격\n",
    "    kobugi.attack(pairi)\n",
    "    if pairi.is_knocked_out():\n",
    "        print(f\"{pairi.name}가 쓰러졌습니다! {kobugi.name} 승리!\")\n",
    "        break\n",
    "\n",
    "    # 파이리가 꼬부기를 공격\n",
    "    pairi.attack(kobugi)\n",
    "    if kobugi.is_knocked_out():\n",
    "        print(f\"{kobugi.name}가 쓰러졌습니다! {pairi.name} 승리!\")\n",
    "        break\n",
    "\n",
    "    # 각 포켓몬의 현재 체력을 출력\n",
    "    kobugi.status()\n",
    "    pairi.status()\n",
    "    print(\"----------\")"
   ]
  },
  {
   "cell_type": "code",
   "execution_count": 3,
   "id": "bfa732d6-ebe5-476a-89f1-8a7e54bd1bc0",
   "metadata": {},
   "outputs": [
    {
     "name": "stdout",
     "output_type": "stream",
     "text": [
      "찬우이(가) 보를 냈습니다.\n",
      "성민이(가) 가위를 냈습니다.\n",
      "성민이(가) 이겼습니다.\n",
      "--------\n",
      "찬우이(가) 보를 냈습니다.\n",
      "성민이(가) 보를 냈습니다.\n",
      "비겼습니다.\n",
      "--------\n",
      "찬우이(가) 보를 냈습니다.\n",
      "성민이(가) 보를 냈습니다.\n",
      "비겼습니다.\n",
      "--------\n",
      "찬우이(가) 가위를 냈습니다.\n",
      "성민이(가) 보를 냈습니다.\n",
      "찬우이(가) 이겼습니다.\n",
      "--------\n",
      "찬우이(가) 보를 냈습니다.\n",
      "성민이(가) 바위를 냈습니다.\n",
      "찬우이(가) 이겼습니다.\n",
      "--------\n",
      "찬우이(가) 가위를 냈습니다.\n",
      "성민이(가) 가위를 냈습니다.\n",
      "비겼습니다.\n",
      "--------\n",
      "찬우이(가) 바위를 냈습니다.\n",
      "성민이(가) 가위를 냈습니다.\n",
      "찬우이(가) 이겼습니다.\n",
      "찬우의 최종 승리!\n"
     ]
    }
   ],
   "source": [
    "import random\n",
    "\n",
    "class Person():\n",
    "    \n",
    "    def __init__(self, name, hp=3):\n",
    "        self.name = name\n",
    "        self.hp = hp\n",
    "\n",
    "    def rsp(self):\n",
    "        my_rsp = random.choice(['가위', '바위', '보'])\n",
    "        print(f'{self.name}이(가) {my_rsp}를 냈습니다.')\n",
    "        return my_rsp\n",
    "\n",
    "    def compare(self,opponent):   \n",
    "        m = self.rsp()\n",
    "        o = opponent.rsp()\n",
    "\n",
    "        if m == o:\n",
    "            print('비겼습니다.')   \n",
    "            \n",
    "        if m == '가위' and o == '바위':\n",
    "            print(f'{opponent.name}이(가) 이겼습니다.')\n",
    "            self.hp -= 1        \n",
    "            \n",
    "        if m == '가위' and o == '보':\n",
    "            print(f'{self.name}이(가) 이겼습니다.')\n",
    "            opponent.hp -= 1\n",
    "            \n",
    "        if m == '바위' and o == '보':\n",
    "            print(f'{opponent.name}이(가) 이겼습니다.')\n",
    "            self.hp -= 1\n",
    "            \n",
    "        if m == '바위' and o == '가위':\n",
    "            print(f'{self.name}이(가) 이겼습니다.')\n",
    "            opponent.hp -= 1\n",
    "            \n",
    "        if m == '보' and o == '가위':\n",
    "            print(f'{opponent.name}이(가) 이겼습니다.')\n",
    "            self.hp -= 1\n",
    "            \n",
    "        if m == '보' and o == '바위':\n",
    "            print(f'{self.name}이(가) 이겼습니다.')\n",
    "            opponent.hp -= 1\n",
    "\n",
    "    def finish(self):\n",
    "        return self.hp <= 0\n",
    "\n",
    "\n",
    "cw = Person('찬우')\n",
    "sm = Person('성민')\n",
    "\n",
    "while True:\n",
    "    cw.compare(sm)\n",
    "    \n",
    "    if cw.finish():\n",
    "        print(f'{sm.name}의 최종 승리!')\n",
    "        break\n",
    "\n",
    "    if sm.finish():\n",
    "        print(f'{cw.name}의 최종 승리!')\n",
    "        break\n",
    "    print('--------')"
   ]
  },
  {
   "cell_type": "code",
   "execution_count": null,
   "id": "0cf71704-d412-41ef-8bd6-13254dff191e",
   "metadata": {},
   "outputs": [],
   "source": []
  },
  {
   "cell_type": "code",
   "execution_count": null,
   "id": "f6eea4d4-88c9-4a1b-8a99-e43a6da91a1a",
   "metadata": {},
   "outputs": [],
   "source": []
  },
  {
   "cell_type": "code",
   "execution_count": null,
   "id": "92f014d5-7425-4c37-a279-f5ea1007c6a0",
   "metadata": {},
   "outputs": [],
   "source": []
  },
  {
   "cell_type": "code",
   "execution_count": null,
   "id": "768f8baf-205b-4384-b5a9-0832e63785a5",
   "metadata": {},
   "outputs": [],
   "source": []
  },
  {
   "cell_type": "code",
   "execution_count": null,
   "id": "162be901-a70b-454e-ab3c-a28355f41b34",
   "metadata": {},
   "outputs": [],
   "source": []
  },
  {
   "cell_type": "code",
   "execution_count": null,
   "id": "1b0191cb-8957-4ee0-bb34-b98d68b7d757",
   "metadata": {},
   "outputs": [],
   "source": []
  },
  {
   "cell_type": "code",
   "execution_count": null,
   "id": "b6d7e901-a53c-41d0-8924-143b0a6b913c",
   "metadata": {},
   "outputs": [],
   "source": []
  },
  {
   "cell_type": "code",
   "execution_count": null,
   "id": "aef4d74a-6ac1-4e29-b967-a01fa6ea43a1",
   "metadata": {},
   "outputs": [],
   "source": []
  },
  {
   "cell_type": "code",
   "execution_count": null,
   "id": "cf05ab5d-d1d1-4130-8d1a-926a71072e29",
   "metadata": {},
   "outputs": [],
   "source": []
  },
  {
   "cell_type": "code",
   "execution_count": null,
   "id": "6698b6ca-869d-4c1f-8380-7279b186e610",
   "metadata": {},
   "outputs": [],
   "source": []
  },
  {
   "cell_type": "code",
   "execution_count": null,
   "id": "0a5d7612-e003-4555-a3ea-caaffb5224fc",
   "metadata": {},
   "outputs": [],
   "source": []
  },
  {
   "cell_type": "code",
   "execution_count": null,
   "id": "76113341-b47e-43d9-aaad-d561d9eb216f",
   "metadata": {},
   "outputs": [],
   "source": []
  },
  {
   "cell_type": "code",
   "execution_count": null,
   "id": "0783afee-d42e-48b7-b9f1-bd29a1fab38f",
   "metadata": {},
   "outputs": [],
   "source": []
  },
  {
   "cell_type": "code",
   "execution_count": null,
   "id": "3d1b65f7-33ce-482e-bd08-4b7054d798e3",
   "metadata": {},
   "outputs": [],
   "source": []
  },
  {
   "cell_type": "code",
   "execution_count": null,
   "id": "55031750-615a-46d8-b111-587bd1f8e55f",
   "metadata": {},
   "outputs": [],
   "source": []
  },
  {
   "cell_type": "code",
   "execution_count": null,
   "id": "96cca999-96db-43c3-bffe-50821c145e0a",
   "metadata": {},
   "outputs": [],
   "source": []
  },
  {
   "cell_type": "code",
   "execution_count": null,
   "id": "78e58a04-7d9c-41a9-b348-3d7055d2cf8a",
   "metadata": {},
   "outputs": [],
   "source": []
  },
  {
   "cell_type": "code",
   "execution_count": null,
   "id": "01f7d1a6-4268-4993-9932-7e173f8d0bfa",
   "metadata": {},
   "outputs": [],
   "source": []
  },
  {
   "cell_type": "code",
   "execution_count": null,
   "id": "159c2dfd-7987-42c9-99cc-591803b34ee9",
   "metadata": {},
   "outputs": [],
   "source": []
  },
  {
   "cell_type": "code",
   "execution_count": null,
   "id": "c8340796-2d91-49dd-90d2-f5bf06ced0a3",
   "metadata": {},
   "outputs": [],
   "source": []
  },
  {
   "cell_type": "code",
   "execution_count": null,
   "id": "1f3e80ab-d28e-410b-b712-fac9b2dfe877",
   "metadata": {},
   "outputs": [],
   "source": []
  },
  {
   "cell_type": "code",
   "execution_count": null,
   "id": "2f75ad2f-ab3d-44aa-8839-b4aadb12ae98",
   "metadata": {},
   "outputs": [],
   "source": []
  },
  {
   "cell_type": "code",
   "execution_count": null,
   "id": "5a79fba4-d774-410a-b03a-2e081a969910",
   "metadata": {},
   "outputs": [],
   "source": []
  },
  {
   "cell_type": "code",
   "execution_count": null,
   "id": "2a6e1262-ae67-4f65-9d3b-651068ac9b4b",
   "metadata": {},
   "outputs": [],
   "source": []
  },
  {
   "cell_type": "code",
   "execution_count": null,
   "id": "5c08a27c-e528-412b-9a4a-e2d931fd62c0",
   "metadata": {},
   "outputs": [],
   "source": []
  },
  {
   "cell_type": "code",
   "execution_count": null,
   "id": "c3531fc7-83d2-4072-8b63-4d5af46c7e19",
   "metadata": {},
   "outputs": [],
   "source": []
  },
  {
   "cell_type": "code",
   "execution_count": null,
   "id": "2b358652-19d1-4735-af94-fecf33bdbb24",
   "metadata": {},
   "outputs": [],
   "source": []
  },
  {
   "cell_type": "code",
   "execution_count": null,
   "id": "9965eb7e-57c3-485f-91df-e518659aaee4",
   "metadata": {},
   "outputs": [],
   "source": []
  },
  {
   "cell_type": "code",
   "execution_count": null,
   "id": "8c9a4f4d-22a5-4b70-bf85-1c1338ab610f",
   "metadata": {},
   "outputs": [],
   "source": []
  },
  {
   "cell_type": "code",
   "execution_count": null,
   "id": "d8b41241-f549-47ec-b5e0-969e2c3a3b77",
   "metadata": {},
   "outputs": [],
   "source": []
  },
  {
   "cell_type": "code",
   "execution_count": null,
   "id": "78c32be5-8732-46b8-b56e-bc27f04c356e",
   "metadata": {},
   "outputs": [],
   "source": []
  },
  {
   "cell_type": "code",
   "execution_count": null,
   "id": "e293f05b-ce96-43e6-8a84-c6400df5ae62",
   "metadata": {},
   "outputs": [],
   "source": []
  },
  {
   "cell_type": "code",
   "execution_count": null,
   "id": "a8aef7e3-41b8-41eb-b22a-10a2c38ae702",
   "metadata": {},
   "outputs": [],
   "source": []
  },
  {
   "cell_type": "code",
   "execution_count": null,
   "id": "7815b32a-7bd5-4b40-baaa-5d34aed00234",
   "metadata": {},
   "outputs": [],
   "source": []
  },
  {
   "cell_type": "code",
   "execution_count": null,
   "id": "d847977e-d8fe-44d8-bc28-b4bec279ecbc",
   "metadata": {},
   "outputs": [],
   "source": []
  },
  {
   "cell_type": "code",
   "execution_count": null,
   "id": "e3be2147-5d40-444a-a416-dd05de62bc9a",
   "metadata": {},
   "outputs": [],
   "source": []
  },
  {
   "cell_type": "code",
   "execution_count": null,
   "id": "ce8ab390-cfc0-491e-a61f-9da6fa553cc6",
   "metadata": {},
   "outputs": [],
   "source": []
  },
  {
   "cell_type": "code",
   "execution_count": null,
   "id": "6cf2cac7-a33b-47cd-a0d1-ee090707a407",
   "metadata": {},
   "outputs": [],
   "source": []
  },
  {
   "cell_type": "code",
   "execution_count": null,
   "id": "9ac035a6-a96f-4a4e-90ec-6f33f926189c",
   "metadata": {},
   "outputs": [],
   "source": []
  },
  {
   "cell_type": "code",
   "execution_count": null,
   "id": "5e7e4ac1-63fc-4b55-976b-06aa5908f879",
   "metadata": {},
   "outputs": [],
   "source": []
  },
  {
   "cell_type": "code",
   "execution_count": null,
   "id": "3f9c60dc-1e6a-4714-9b90-d902229f5c0b",
   "metadata": {},
   "outputs": [],
   "source": []
  },
  {
   "cell_type": "code",
   "execution_count": null,
   "id": "7aca5bd9-371e-436d-bb1a-5816ed2a614a",
   "metadata": {},
   "outputs": [],
   "source": []
  },
  {
   "cell_type": "code",
   "execution_count": null,
   "id": "693a3e78-df35-454a-b31a-113517d173ce",
   "metadata": {},
   "outputs": [],
   "source": []
  },
  {
   "cell_type": "code",
   "execution_count": null,
   "id": "a8852e08-18f8-42ff-b393-f60a2f5bfd32",
   "metadata": {},
   "outputs": [],
   "source": []
  },
  {
   "cell_type": "code",
   "execution_count": null,
   "id": "63f5fd94-cacb-47a7-a303-8dcfe6dbeec6",
   "metadata": {},
   "outputs": [],
   "source": []
  },
  {
   "cell_type": "code",
   "execution_count": null,
   "id": "55ff72be-0e94-422f-91aa-03369dfbc5a3",
   "metadata": {},
   "outputs": [],
   "source": []
  },
  {
   "cell_type": "code",
   "execution_count": null,
   "id": "49f7a46d-2e6c-4040-af4f-358e35098944",
   "metadata": {},
   "outputs": [],
   "source": []
  },
  {
   "cell_type": "code",
   "execution_count": null,
   "id": "ce3630db-7dea-4119-952d-8254e88cb130",
   "metadata": {},
   "outputs": [],
   "source": []
  },
  {
   "cell_type": "code",
   "execution_count": null,
   "id": "82e872fe-768f-427e-aebf-44b163255af0",
   "metadata": {},
   "outputs": [],
   "source": []
  },
  {
   "cell_type": "code",
   "execution_count": null,
   "id": "3dbc155b-7645-4520-a897-5495c47e70c8",
   "metadata": {},
   "outputs": [],
   "source": []
  },
  {
   "cell_type": "code",
   "execution_count": null,
   "id": "44b7f1b8-3ccc-47fb-bd1a-cc9080e4d97f",
   "metadata": {},
   "outputs": [],
   "source": []
  },
  {
   "cell_type": "code",
   "execution_count": null,
   "id": "9f19c8c1-5d06-42a6-8cc4-71771cc2b343",
   "metadata": {},
   "outputs": [],
   "source": []
  },
  {
   "cell_type": "code",
   "execution_count": null,
   "id": "d0d85d0e-92ed-427b-89f0-cefe34749488",
   "metadata": {},
   "outputs": [],
   "source": []
  },
  {
   "cell_type": "code",
   "execution_count": null,
   "id": "a2c9cb00-acc2-417b-bf1d-0fa8ff7849b0",
   "metadata": {},
   "outputs": [],
   "source": []
  },
  {
   "cell_type": "code",
   "execution_count": null,
   "id": "96196aaf-fbd4-4d21-8362-46185dfb671e",
   "metadata": {},
   "outputs": [],
   "source": []
  },
  {
   "cell_type": "code",
   "execution_count": null,
   "id": "99f3e756-ff6a-4d44-9b04-fd2a2ea65e7e",
   "metadata": {},
   "outputs": [],
   "source": []
  },
  {
   "cell_type": "code",
   "execution_count": null,
   "id": "7c6a8029-d16b-4468-afad-c82a29afdc5c",
   "metadata": {},
   "outputs": [],
   "source": []
  },
  {
   "cell_type": "code",
   "execution_count": null,
   "id": "23ed2c3f-918f-4fcb-a3aa-e83aa9ce29ec",
   "metadata": {},
   "outputs": [],
   "source": []
  }
 ],
 "metadata": {
  "kernelspec": {
   "display_name": "Python 3 (ipykernel)",
   "language": "python",
   "name": "python3"
  },
  "language_info": {
   "codemirror_mode": {
    "name": "ipython",
    "version": 3
   },
   "file_extension": ".py",
   "mimetype": "text/x-python",
   "name": "python",
   "nbconvert_exporter": "python",
   "pygments_lexer": "ipython3",
   "version": "3.13.2"
  }
 },
 "nbformat": 4,
 "nbformat_minor": 5
}
