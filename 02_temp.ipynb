{
 "cells": [
  {
   "cell_type": "code",
   "execution_count": null,
   "id": "fd1bb41c-2c73-42fd-b0a8-b4be2be40731",
   "metadata": {},
   "outputs": [],
   "source": [
    "year = int(input())\n",
    "\n",
    "if ((year % 4 == 0) and (year % 100 != 0)) or (year % 400 == 0):\n",
    "    print(f'{year}년은 윤년입니다.')\n",
    "else:\n",
    "    print(f'{year}년은 윤년이 아닙니다.')"
   ]
  },
  {
   "cell_type": "code",
   "execution_count": null,
   "id": "032d1b72-6ab4-4919-8b17-16b887689f5d",
   "metadata": {},
   "outputs": [],
   "source": [
    "weight = int(input('몸무게(kg): '))\n",
    "height = int(input('키(cm): '))\n",
    "BMI = weight / ((height * 0.01) ** 2)\n",
    "print(BMI)\n",
    "\n",
    "if BMI < 18.5:\n",
    "    print('저체중')\n",
    "elif BMI < 25:\n",
    "    print('정상체중')\n",
    "elif BMI < 30:\n",
    "    print('과체중')\n",
    "else:\n",
    "    print('비만')"
   ]
  },
  {
   "cell_type": "code",
   "execution_count": null,
   "id": "5b60a6e7-84af-4bb3-b0f3-8e21ff20557e",
   "metadata": {},
   "outputs": [],
   "source": [
    "weight = float(input('몸무게(kg): '))\n",
    "height = float(input('키(m): '))\n",
    "BMI = weight / (height ** 2)\n",
    "print(BMI)\n",
    "\n",
    "if BMI < 18.5:\n",
    "    status = '저체중'\n",
    "elif BMI < 25:\n",
    "    status = '정상체중'\n",
    "elif BMI < 30:\n",
    "    status = '과체중'\n",
    "else:\n",
    "    status = '비만'\n",
    "print(f'당신의 BMI는 {BMI}이며 {status}입니다.')"
   ]
  },
  {
   "cell_type": "code",
   "execution_count": null,
   "id": "ee985066-33dc-4936-bcbe-eb1aec028175",
   "metadata": {},
   "outputs": [],
   "source": [
    "num = range(0,101)\n",
    "\n",
    "while num != 23:\n",
    "    num = int(input('숫자를 맞혀보세요: ')) # input을 반복해야 하므로 while문 안에 넣어야\n",
    "    if num > 23:\n",
    "        print('더 작은 숫자입니다.')\n",
    "    elif num < 23:\n",
    "        print('더 큰 숫자입니다.')\n",
    "    else:\n",
    "        print('정답입니다!')"
   ]
  },
  {
   "cell_type": "code",
   "execution_count": null,
   "id": "fed71ce6-d8b2-43d6-ae3a-802bf6535ae9",
   "metadata": {},
   "outputs": [],
   "source": [
    "password = 'python123'\n",
    "pw = str()\n",
    "\n",
    "while pw != password:\n",
    "    pw = input('비밀번호를 입력하세요:')\n",
    "    if pw != password:\n",
    "        print('비밀번호가 틀렸습니다. 다시 입력하세요.')\n",
    "    else:\n",
    "        print('접속 승인')"
   ]
  },
  {
   "cell_type": "code",
   "execution_count": null,
   "id": "196cb2e6-5e64-4704-9fa5-0e960ef39a11",
   "metadata": {},
   "outputs": [],
   "source": [
    "password = 'python123'\n",
    "pw = str()\n",
    "\n",
    "while pw != password:\n",
    "    pw = input('비밀번호를 입력하세요:')\n",
    "    if pw != password:\n",
    "        print('비밀번호가 틀렸습니다. 다시 입력하세요.')\n",
    "print('접속 승인')"
   ]
  },
  {
   "cell_type": "code",
   "execution_count": null,
   "id": "0f1238cb-43d4-4e3b-84b9-2b03f70a212e",
   "metadata": {},
   "outputs": [],
   "source": [
    "N = int(input())\n",
    "sum = 0\n",
    "\n",
    "for number in range(1, N + 1):\n",
    "    print(number)\n",
    "    \n",
    "print(f'1부터 {N}까지의 합은 {sum}입니다.')"
   ]
  },
  {
   "cell_type": "code",
   "execution_count": 3,
   "id": "ce48f220-2abf-4d11-8749-2980b323f895",
   "metadata": {},
   "outputs": [
    {
     "name": "stdin",
     "output_type": "stream",
     "text": [
      " 1\n"
     ]
    },
    {
     "name": "stdout",
     "output_type": "stream",
     "text": [
      "1\n",
      "4\n",
      "9\n",
      "16\n",
      "25\n",
      "36\n",
      "49\n",
      "64\n",
      "81\n"
     ]
    }
   ],
   "source": []
  },
  {
   "cell_type": "code",
   "execution_count": null,
   "id": "ac4deac3-e035-4848-8980-fc3946e4bc6d",
   "metadata": {},
   "outputs": [],
   "source": []
  }
 ],
 "metadata": {
  "kernelspec": {
   "display_name": "Python 3 (ipykernel)",
   "language": "python",
   "name": "python3"
  },
  "language_info": {
   "codemirror_mode": {
    "name": "ipython",
    "version": 3
   },
   "file_extension": ".py",
   "mimetype": "text/x-python",
   "name": "python",
   "nbconvert_exporter": "python",
   "pygments_lexer": "ipython3",
   "version": "3.13.2"
  }
 },
 "nbformat": 4,
 "nbformat_minor": 5
}
